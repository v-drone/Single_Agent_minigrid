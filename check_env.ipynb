{
 "cells": [
  {
   "cell_type": "code",
   "execution_count": 12,
   "id": "d284e9a7",
   "metadata": {},
   "outputs": [],
   "source": [
    "import gymnasium as gym\n",
    "import matplotlib.pyplot as plt\n",
    "# from environments.MutilRoadEnv import RouteEnv\n",
    "# from environments.ObsWrapper import FullRGBImgPartialObsWrapper\n",
    "from minigrid.wrappers import RGBImgPartialObsWrapper, ImgObsWrapper\n",
    "from ray.tune.registry import register_env\n",
    "# gym.register(\n",
    "#     id='MiniGrid-RandomPath-v0',\n",
    "#     entry_point='environments.MutilRoadEnv:RouteEnv'\n",
    "# )"
   ]
  },
  {
   "cell_type": "code",
   "execution_count": 4,
   "id": "d87a2f36-db2e-4872-a4af-5919a3225ad1",
   "metadata": {},
   "outputs": [],
   "source": [
    "_ = gym.make(\"MiniGrid-Empty-8x8-v0\", render_mode=\"rgb_array\")"
   ]
  },
  {
   "cell_type": "code",
   "execution_count": 10,
   "id": "195fd40e",
   "metadata": {},
   "outputs": [],
   "source": [
    "_env_config = {\n",
    "        \"size\": 20,\n",
    "        \"roads\": (5, 7),\n",
    "        \"max_steps\": 200,\n",
    "        \"battery\":100,\n",
    "        \"render_mode\": \"human\",\n",
    "        \"agent_pov\": False\n",
    "    }"
   ]
  },
  {
   "cell_type": "code",
   "execution_count": 33,
   "id": "1bd5b9de",
   "metadata": {},
   "outputs": [
    {
     "name": "stdout",
     "output_type": "stream",
     "text": [
      "Discrete(7) Box(0, 255, (70, 70, 3), uint8)\n"
     ]
    }
   ],
   "source": [
    "# Build env\n",
    "def env_creator(env_config):\n",
    "    env = gym.make(\"MiniGrid-Empty-5x5-v0\", render_mode=\"rgb_array\")\n",
    "    # env = RouteEnv(**env_config)\n",
    "    # env = FullRGBImgPartialObsWrapper(env, tile_size=5)\n",
    "    env = RGBImgPartialObsWrapper(env, tile_size=10)\n",
    "#     env = TimeLimit(env, max_episode_steps=1000)\n",
    "    return ImgObsWrapper(env)\n",
    "\n",
    "register_env(\"RandomPath\", env_creator)\n",
    "\n",
    "env = env_creator(_env_config)\n",
    "# env = env_creator(_env_config)\n",
    "obs, _ = env.reset()\n",
    "step = env.step(1)\n",
    "print(env.action_space, env.observation_space)"
   ]
  },
  {
   "cell_type": "code",
   "execution_count": 36,
   "id": "cdb62a87-aa04-43a4-9e1f-c442bdb89248",
   "metadata": {},
   "outputs": [
    {
     "data": {
      "image/png": "[encoded data removed]",
      "text/plain": [
       "<Figure size 432x288 with 1 Axes>"
      ]
     },
     "metadata": {
      "needs_background": "light"
     },
     "output_type": "display_data"
    }
   ],
   "source": [
    "import matplotlib.pyplot as plt\n",
    "\n",
    "obs, _ = env.reset()\n",
    "# 使用matplotlib展示图像\n",
    "plt.imshow(obs)\n",
    "plt.axis('off')\n",
    "plt.show()"
   ]
  },
  {
   "cell_type": "code",
   "execution_count": 10,
   "id": "bf903c1b",
   "metadata": {},
   "outputs": [
    {
     "name": "stdout",
     "output_type": "stream",
     "text": [
      "0 195 False True\n",
      "1 102 False True\n",
      "2 100 False True\n",
      "3 105 False True\n",
      "4 100 False True\n",
      "5 115 False True\n",
      "6 120 False True\n",
      "7 110 False True\n",
      "8 102 False True\n",
      "9 106 False True\n",
      "10 102 False True\n",
      "11 133 False True\n",
      "12 100 False True\n",
      "13 127 False True\n",
      "14 103 False True\n",
      "15 104 False True\n",
      "16 101 False True\n",
      "17 101 False True\n",
      "18 100 False True\n",
      "19 100 False True\n",
      "20 104 False True\n",
      "21 102 False True\n",
      "22 102 False True\n",
      "23 102 False True\n",
      "24 106 False True\n",
      "25 100 False True\n",
      "26 134 False True\n",
      "27 100 False True\n",
      "28 157 False True\n",
      "29 100 False True\n",
      "30 126 False True\n",
      "31 106 False True\n",
      "32 111 False True\n",
      "33 100 False True\n",
      "34 103 False True\n",
      "35 102 False True\n",
      "36 102 False True\n",
      "37 102 False True\n",
      "38 100 False True\n",
      "39 110 False True\n",
      "40 132 False True\n",
      "41 119 False True\n",
      "42 106 False True\n",
      "43 101 False True\n",
      "44 102 False True\n",
      "45 124 False True\n",
      "46 151 False True\n",
      "47 100 False True\n",
      "48 101 False True\n",
      "49 104 False True\n",
      "50 163 False True\n",
      "51 109 False True\n",
      "52 101 False True\n",
      "53 105 False True\n",
      "54 100 False True\n",
      "55 111 False True\n",
      "56 169 False True\n",
      "57 100 False True\n",
      "58 103 False True\n",
      "59 105 False True\n",
      "60 200 False True\n",
      "61 106 False True\n",
      "62 200 False True\n",
      "63 100 False True\n",
      "64 101 False True\n",
      "65 101 False True\n",
      "66 128 False True\n",
      "67 103 False True\n",
      "68 105 False True\n",
      "69 102 False True\n",
      "70 101 False True\n",
      "71 100 False True\n",
      "72 100 False True\n",
      "73 200 False True\n",
      "74 200 False True\n",
      "75 103 False True\n",
      "76 100 False True\n",
      "77 100 False True\n",
      "78 101 False True\n",
      "79 200 False True\n",
      "80 153 False True\n",
      "81 102 False True\n",
      "82 100 False True\n",
      "83 101 False True\n",
      "84 101 False True\n",
      "85 122 False True\n",
      "86 121 False True\n",
      "87 103 False True\n",
      "88 103 False True\n",
      "89 101 False True\n",
      "90 100 False True\n",
      "91 200 False True\n",
      "92 153 False True\n",
      "93 102 False True\n",
      "94 101 False True\n",
      "95 101 False True\n",
      "96 132 False True\n",
      "97 101 False True\n",
      "98 114 False True\n",
      "99 149 False True\n"
     ]
    }
   ],
   "source": [
    "import random\n",
    "for i in range(100):\n",
    "    j = 0\n",
    "    while True:\n",
    "        obs, reward, terminated, truncated, info = env.step(random.randint(0, 2))\n",
    "        j += 1\n",
    "        if terminated or truncated:\n",
    "            print(i, j, terminated, truncated)\n",
    "            if j <= 1:\n",
    "                raise\n",
    "            env.reset()\n",
    "            break"
   ]
  },
  {
   "cell_type": "code",
   "execution_count": 11,
   "id": "34eeeda9",
   "metadata": {},
   "outputs": [],
   "source": [
    "# fig, ax = plt.subplots(dpi=50)\n",
    "# ax.imshow(obs)\n",
    "# ax.axis('off')  # Hide axes\n",
    "# plt.show()"
   ]
  },
  {
   "cell_type": "code",
   "execution_count": 12,
   "id": "6fe1085c",
   "metadata": {},
   "outputs": [],
   "source": [
    "env.render()"
   ]
  },
  {
   "cell_type": "code",
   "execution_count": 13,
   "id": "1590fad7",
   "metadata": {},
   "outputs": [
    {
     "data": {
      "text/plain": [
       "200"
      ]
     },
     "execution_count": 13,
     "metadata": {},
     "output_type": "execute_result"
    }
   ],
   "source": [
    "env.max_steps"
   ]
  },
  {
   "cell_type": "code",
   "execution_count": null,
   "id": "fed44d13",
   "metadata": {},
   "outputs": [],
   "source": []
  }
 ],
 "metadata": {
  "kernelspec": {
   "display_name": "Python [conda env:drone]",
   "language": "python",
   "name": "conda-env-drone-py"
  },
  "language_info": {
   "codemirror_mode": {
    "name": "ipython",
    "version": 3
   },
   "file_extension": ".py",
   "mimetype": "text/x-python",
   "name": "python",
   "nbconvert_exporter": "python",
   "pygments_lexer": "ipython3",
   "version": "3.9.18"
  }
 },
 "nbformat": 4,
 "nbformat_minor": 5
}
