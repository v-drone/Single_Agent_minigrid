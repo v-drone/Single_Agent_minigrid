{
 "cells": [
  {
   "cell_type": "code",
   "execution_count": 9,
   "id": "d284e9a7",
   "metadata": {},
   "outputs": [],
   "source": [
    "import gymnasium as gym\n",
    "import matplotlib.pyplot as plt\n",
    "from environments.MutilRoadEnv import RouteEnv\n",
    "from environments.ObsWrapper import FullRGBImgPartialObsWrapper\n",
    "from minigrid.wrappers import RGBImgPartialObsWrapper, ImgObsWrapper\n",
    "from ray.tune.registry import register_env\n",
    "# gym.register(\n",
    "#     id='MiniGrid-RandomPath-v0',\n",
    "#     entry_point='environments.MutilRoadEnv:RouteEnv'\n",
    "# )"
   ]
  },
  {
   "cell_type": "code",
   "execution_count": 4,
   "id": "d87a2f36-db2e-4872-a4af-5919a3225ad1",
   "metadata": {},
   "outputs": [],
   "source": [
    "_ = gym.make(\"MiniGrid-Empty-8x8-v0\", render_mode=\"rgb_array\")"
   ]
  },
  {
   "cell_type": "code",
   "execution_count": 5,
   "id": "195fd40e",
   "metadata": {},
   "outputs": [],
   "source": [
    "_env_config = {\n",
    "        \"size\": 20,\n",
    "        \"roads\": (5, 7),\n",
    "        \"max_steps\": 200,\n",
    "        \"battery\":100,\n",
    "        \"render_mode\": \"human\",\n",
    "        \"agent_pov\": False\n",
    "    }"
   ]
  },
  {
   "cell_type": "code",
   "execution_count": 11,
   "id": "1bd5b9de",
   "metadata": {},
   "outputs": [
    {
     "name": "stdout",
     "output_type": "stream",
     "text": [
      "Discrete(3) Box(0, 255, (100, 100, 3), uint8)\n"
     ]
    }
   ],
   "source": [
    "# Build env\n",
    "def env_creator(env_config):\n",
    "    # env = gym.make(\"MiniGrid-Empty-5x5-v0\", render_mode=\"rgb_array\")\n",
    "    env = RouteEnv(**env_config)\n",
    "    env = FullRGBImgPartialObsWrapper(env, tile_size=5)\n",
    "    # env = RGBImgPartialObsWrapper(env, tile_size=10)\n",
    "    # env = TimeLimit(env, max_episode_steps=1000)\n",
    "    return ImgObsWrapper(env)\n",
    "\n",
    "register_env(\"RandomPath\", env_creator)\n",
    "\n",
    "env = env_creator(_env_config)\n",
    "# env = env_creator(_env_config)\n",
    "obs, _ = env.reset()\n",
    "step = env.step(1)\n",
    "print(env.action_space, env.observation_space)"
   ]
  },
  {
   "cell_type": "code",
   "execution_count": 12,
   "id": "cdb62a87-aa04-43a4-9e1f-c442bdb89248",
   "metadata": {},
   "outputs": [
    {
     "data": {
      "image/png": "[encoded data removed]",
      "text/plain": [
       "<Figure size 432x288 with 1 Axes>"
      ]
     },
     "metadata": {
      "needs_background": "light"
     },
     "output_type": "display_data"
    }
   ],
   "source": [
    "import matplotlib.pyplot as plt\n",
    "\n",
    "obs, _ = env.reset()\n",
    "# 使用matplotlib展示图像\n",
    "plt.imshow(obs)\n",
    "plt.axis('off')\n",
    "plt.show()"
   ]
  },
  {
   "cell_type": "code",
   "execution_count": 13,
   "id": "bf903c1b",
   "metadata": {},
   "outputs": [
    {
     "name": "stdout",
     "output_type": "stream",
     "text": [
      "0 103 False True\n"
     ]
    },
    {
     "name": "stderr",
     "output_type": "stream",
     "text": [
      "\n",
      "KeyboardInterrupt\n",
      "\n"
     ]
    }
   ],
   "source": [
    "import random\n",
    "for i in range(50):\n",
    "    j = 0\n",
    "    while True:\n",
    "        obs, reward, terminated, truncated, info = env.step(random.randint(0, 2))\n",
    "        j += 1\n",
    "        if terminated or truncated:\n",
    "            print(i, j, terminated, truncated)\n",
    "            if j <= 1:\n",
    "                raise\n",
    "            env.reset()\n",
    "            break"
   ]
  },
  {
   "cell_type": "code",
   "execution_count": 14,
   "id": "34eeeda9",
   "metadata": {},
   "outputs": [],
   "source": [
    "# fig, ax = plt.subplots(dpi=50)\n",
    "# ax.imshow(obs)\n",
    "# ax.axis('off')  # Hide axes\n",
    "# plt.show()"
   ]
  },
  {
   "cell_type": "code",
   "execution_count": 16,
   "id": "6fe1085c",
   "metadata": {},
   "outputs": [
    {
     "data": {
      "image/png": "[encoded data removed]",
      "text/plain": [
       "<Figure size 432x288 with 1 Axes>"
      ]
     },
     "metadata": {
      "needs_background": "light"
     },
     "output_type": "display_data"
    }
   ],
   "source": [
    "import matplotlib.pyplot as plt\n",
    "\n",
    "# 使用matplotlib展示图像\n",
    "plt.imshow(obs)\n",
    "plt.axis('off')\n",
    "plt.show()"
   ]
  },
  {
   "cell_type": "code",
   "execution_count": 13,
   "id": "1590fad7",
   "metadata": {},
   "outputs": [
    {
     "data": {
      "text/plain": [
       "200"
      ]
     },
     "execution_count": 13,
     "metadata": {},
     "output_type": "execute_result"
    }
   ],
   "source": [
    "env.max_steps"
   ]
  },
  {
   "cell_type": "code",
   "execution_count": null,
   "id": "fed44d13",
   "metadata": {},
   "outputs": [],
   "source": []
  }
 ],
 "metadata": {
  "kernelspec": {
   "display_name": "Python [conda env:drone]",
   "language": "python",
   "name": "conda-env-drone-py"
  },
  "language_info": {
   "codemirror_mode": {
    "name": "ipython",
    "version": 3
   },
   "file_extension": ".py",
   "mimetype": "text/x-python",
   "name": "python",
   "nbconvert_exporter": "python",
   "pygments_lexer": "ipython3",
   "version": "3.9.18"
  }
 },
 "nbformat": 4,
 "nbformat_minor": 5
}
