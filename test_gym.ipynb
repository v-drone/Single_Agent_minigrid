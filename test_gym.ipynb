{
 "cells": [
  {
   "cell_type": "code",
   "execution_count": 1,
   "id": "c0652365",
   "metadata": {},
   "outputs": [
    {
     "name": "stderr",
     "output_type": "stream",
     "text": [
      "/home/seventheli/anaconda3/lib/python3.8/site-packages/gluoncv/__init__.py:40: UserWarning: Both `mxnet==1.8.0` and `torch==1.10.1+cu113` are installed. You might encounter increased GPU memory footprint if both framework are used at the same time.\n",
      "  warnings.warn(f'Both `mxnet=={mx.__version__}` and `torch=={torch.__version__}` are installed. '\n"
     ]
    }
   ],
   "source": [
    "import os\n",
    "import random\n",
    "from PIL import Image\n",
    "import numpy as np\n",
    "import mxnet as mx\n",
    "import tqdm\n",
    "import itertools\n",
    "import logging\n",
    "from utils import check_dir\n",
    "from memory import Memory\n",
    "from utils import create_input, translate_state\n",
    "from evaluation_mxnet import evaluate\n",
    "from mxnet import gluon, nd, autograd\n",
    "from environments.SimpleEnv import SimpleEnv"
   ]
  },
  {
   "cell_type": "code",
   "execution_count": 2,
   "id": "fd47f25e",
   "metadata": {},
   "outputs": [],
   "source": [
    "from matplotlib import pyplot as plt\n",
    "import cv2"
   ]
  },
  {
   "cell_type": "code",
   "execution_count": 3,
   "id": "f266ac13",
   "metadata": {},
   "outputs": [],
   "source": [
    "import gym"
   ]
  },
  {
   "cell_type": "code",
   "execution_count": 32,
   "id": "4436599b",
   "metadata": {
    "pycharm": {
     "name": "#%%\n"
    }
   },
   "outputs": [],
   "source": [
    "# training cases\n",
    "order = \"model_test\"\n",
    "model_save = \"./model_save/\"\n",
    "# batch size\n",
    "image_size = 80\n",
    "batch_size = 16\n",
    "# agent view\n",
    "agent_view = 5\n",
    "map_size = 20\n",
    "# action max\n",
    "# learning rate\n",
    "lr = 0.001\n",
    "max_frame = 1000000\n",
    "# start play\n",
    "replay_start = 5000\n",
    "# update step\n",
    "online_update = 10000\n",
    "# freq of 1/n step update the Q-network\n",
    "update_step = 4\n",
    "# skip n-1 raw frames between steps\n",
    "skip_frame = 4 \n",
    "# skip n-1 raw frames between skipped frames\n",
    "internal_skip_frame = 4\n",
    "# each state is formed as a concatination n step frames [f(t-12),f(t-8),f(t-4),f(t)]\n",
    "frame_len = 4\n",
    "# eps\n",
    "no_op_max = 10 / skip_frame\n",
    "# gamma in q-loss calculation\n",
    "gamma = 0.99\n",
    "# memory pool size\n",
    "memory_length = 20000\n",
    "# file to save train log\n",
    "summary = \"./{}_Reward.csv\".format(order)\n",
    "eval_statistics = \"./{}_CSV.csv\".format(order)\n",
    "# the number of step it take to linearly anneal the epsilon to it min value\n",
    "annealing_end = 100000\n",
    "max_frame = 200000000\n",
    "# min level of stochastically of policy (epsilon)-greedy\n",
    "epsilon_min = 0.1\n",
    "# temporary files\n",
    "temporary_model = \"{}/{}.params\".format(model_save, order)\n",
    "temporary_pool = \"{}/{}.pool\".format(model_save, order)"
   ]
  },
  {
   "cell_type": "code",
   "execution_count": 5,
   "id": "abaebb07",
   "metadata": {},
   "outputs": [],
   "source": [
    "logger = logging.getLogger()\n",
    "f_name = \"./data/results_DDQN.log\"\n",
    "fh = logging.handlers.RotatingFileHandler(f_name)\n",
    "fh.setLevel(logging.DEBUG)#no matter what level I set here\n",
    "formatter = logging.Formatter(\"%(asctime)s:%(message)s\")"
   ]
  },
  {
   "cell_type": "code",
   "execution_count": 6,
   "id": "474a434e",
   "metadata": {},
   "outputs": [],
   "source": [
    "if os.path.exists(summary):\n",
    "    os.remove(summary)\n",
    "ctx = mx.gpu()\n",
    "for i in [\"model_save\", \"data_save\"]:\n",
    "    check_dir(i)\n",
    "# create env\n",
    "env_name = \"AssaultNoFrameskip-v4\"\n",
    "env = gym.make(env_name)\n",
    "memory_pool = Memory(memory_length)"
   ]
  },
  {
   "cell_type": "code",
   "execution_count": 7,
   "id": "dd448d9e",
   "metadata": {},
   "outputs": [],
   "source": [
    "# build models\n",
    "from model.simple_stack import SimpleStack\n",
    "online_model = SimpleStack(env.action_space.n)\n",
    "offline_model = SimpleStack(env.action_space.n)\n",
    "online_model.collect_params().initialize(mx.init.MSRAPrelu(), ctx=ctx)\n",
    "offline_model.collect_params().initialize(mx.init.MSRAPrelu(), ctx=ctx)\n",
    "offline_model.collect_params().zero_grad()"
   ]
  },
  {
   "cell_type": "code",
   "execution_count": 8,
   "id": "8d75af3a",
   "metadata": {},
   "outputs": [],
   "source": [
    "\n",
    "annealing = 0\n",
    "total_reward = np.zeros(num_episode)\n",
    "loss_func = gluon.loss.L2Loss()\n",
    "gamma1 = 0.95 # RMSprop gamma1\n",
    "gamma2 = 0.95 # RMSprop gamma2\n",
    "rms_eps = 0.01 # RMSprop epsilon bias\n",
    "trainer = gluon.Trainer(offline_model.collect_params(), 'RMSProp',  \n",
    "                        {'learning_rate': lr, \"epsilon\": rms_eps, \"gamma1\": gamma1, \"gamma2\": gamma2, \"centered\" : True})"
   ]
  },
  {
   "cell_type": "code",
   "execution_count": 9,
   "id": "306d1901",
   "metadata": {},
   "outputs": [],
   "source": [
    "def preprocess(raw_frame, image_size, live, frame_len, current_state = None, initial_state = False):\n",
    "    raw_frame = nd.array(cv2.resize(raw_frame, (image_size,image_size)))\n",
    "    # remove color\n",
    "    # raw_frame = nd.reshape(nd.mean(raw_frame, axis = 2),shape = (raw_frame.shape[0],raw_frame.shape[1],1))\n",
    "    raw_frame = nd.transpose(raw_frame, (2,0,1))\n",
    "    raw_frame = raw_frame.astype(np.float32)/255.\n",
    "    if initial_state == True:\n",
    "        state = raw_frame\n",
    "        for _ in range(frame_len-1):\n",
    "            state = nd.concat(state , raw_frame, dim = 0)\n",
    "    else:\n",
    "        # state = mx.nd.concat(current_state[0][1:,:,:], raw_frame, dim = 0)\n",
    "        state = mx.nd.concat(current_state[0][3:,:,:], raw_frame, dim = 0)\n",
    "    return state, nd.array([live[\"lives\"]])\n",
    "\n",
    "def rew_clipper(rew):\n",
    "    if rew>0.:\n",
    "        return 1.\n",
    "    elif rew<0.:\n",
    "        return -1.\n",
    "    else:\n",
    "        return 0\n",
    "\n",
    "def renderimage(next_frame):\n",
    "    if render_image:\n",
    "        plt.imshow(next_frame);\n",
    "        plt.show()\n",
    "        display.clear_output(wait=True)\n",
    "        time.sleep(.1)"
   ]
  },
  {
   "cell_type": "code",
   "execution_count": 10,
   "id": "6c9d1b09",
   "metadata": {},
   "outputs": [],
   "source": [
    "def replace_parameters(ctx):\n",
    "    offline_model.save_parameters(temporary_model)\n",
    "    online_model.load_parameters(temporary_model, ctx)"
   ]
  },
  {
   "cell_type": "code",
   "execution_count": 11,
   "id": "292b64c0",
   "metadata": {},
   "outputs": [],
   "source": [
    "def save_parameters():\n",
    "    offline_model.save_parameters(\"offline.parameters\")\n",
    "    online_model.save_parameters(\"online.parameters\")"
   ]
  },
  {
   "cell_type": "code",
   "execution_count": 12,
   "id": "7f6d32ca",
   "metadata": {},
   "outputs": [],
   "source": [
    "def load_parameters():\n",
    "    offline_model.load_parameters(\"offline.parameters\")\n",
    "    online_model.load_parameters(\"online.parameters\")"
   ]
  },
  {
   "cell_type": "code",
   "execution_count": 13,
   "id": "a5ff98a2",
   "metadata": {},
   "outputs": [],
   "source": [
    "print_structure = 0\n",
    "frame_counter = 0\n",
    "annealing_count = 0\n",
    "\n",
    "render_image = False"
   ]
  },
  {
   "cell_type": "code",
   "execution_count": 14,
   "id": "8211646d",
   "metadata": {},
   "outputs": [],
   "source": [
    "tot_clipped_reward = []\n",
    "tot_reward = []\n",
    "frame_count_record = []\n",
    "moving_average_clipped = 0.\n",
    "moving_average = 0."
   ]
  },
  {
   "cell_type": "code",
   "execution_count": null,
   "id": "e0e0e73b",
   "metadata": {},
   "outputs": [],
   "source": [
    "batch_state = nd.empty((batch_size,frame_len,image_size,image_size), ctx)\n",
    "batch_state_next = nd.empty((batch_size,frame_len,image_size,image_size), ctx)"
   ]
  },
  {
   "cell_type": "code",
   "execution_count": null,
   "id": "6d5a2ad6",
   "metadata": {},
   "outputs": [],
   "source": [
    "frame_counter = 0\n",
    "epoch = 0"
   ]
  },
  {
   "cell_type": "code",
   "execution_count": 33,
   "id": "7fd4d86b",
   "metadata": {},
   "outputs": [
    {
     "ename": "MXNetError",
     "evalue": "Traceback (most recent call last):\n  File \"../src/operator/nn/concat.cc\", line 67\nMXNetError: Check failed: shape_assign(&(*in_shape)[i], dshape): Incompatible input shape: expected [-1,12,84,84], got [1,12,80,80]",
     "output_type": "error",
     "traceback": [
      "\u001b[0;31m---------------------------------------------------------------------------\u001b[0m",
      "\u001b[0;31mMXNetError\u001b[0m                                Traceback (most recent call last)",
      "\u001b[0;32m<ipython-input-33-50cf6b40e192>\u001b[0m in \u001b[0;36m<module>\u001b[0;34m\u001b[0m\n\u001b[1;32m     64\u001b[0m             \u001b[0;32melse\u001b[0m\u001b[0;34m:\u001b[0m\u001b[0;34m\u001b[0m\u001b[0;34m\u001b[0m\u001b[0m\n\u001b[1;32m     65\u001b[0m                 \u001b[0mbz\u001b[0m \u001b[0;34m=\u001b[0m \u001b[0mlen\u001b[0m\u001b[0;34m(\u001b[0m\u001b[0mmemory_pool\u001b[0m\u001b[0;34m.\u001b[0m\u001b[0mmemory\u001b[0m\u001b[0;34m)\u001b[0m\u001b[0;34m\u001b[0m\u001b[0;34m\u001b[0m\u001b[0m\n\u001b[0;32m---> 66\u001b[0;31m             \u001b[0mtransitions\u001b[0m \u001b[0;34m=\u001b[0m \u001b[0mmemory_pool\u001b[0m\u001b[0;34m.\u001b[0m\u001b[0mnext_batch\u001b[0m\u001b[0;34m(\u001b[0m\u001b[0mbz\u001b[0m\u001b[0;34m)\u001b[0m\u001b[0;34m\u001b[0m\u001b[0;34m\u001b[0m\u001b[0m\n\u001b[0m\u001b[1;32m     67\u001b[0m             \u001b[0mbatch_state\u001b[0m \u001b[0;34m=\u001b[0m \u001b[0mtransitions\u001b[0m\u001b[0;34m[\u001b[0m\u001b[0;34m\"state\"\u001b[0m\u001b[0;34m]\u001b[0m\u001b[0;34m\u001b[0m\u001b[0;34m\u001b[0m\u001b[0m\n\u001b[1;32m     68\u001b[0m             \u001b[0mbatch_state\u001b[0m\u001b[0;34m[\u001b[0m\u001b[0;36m0\u001b[0m\u001b[0;34m]\u001b[0m \u001b[0;34m=\u001b[0m \u001b[0;34m(\u001b[0m\u001b[0mbatch_state\u001b[0m\u001b[0;34m[\u001b[0m\u001b[0;36m0\u001b[0m\u001b[0;34m]\u001b[0m\u001b[0;34m.\u001b[0m\u001b[0mastype\u001b[0m\u001b[0;34m(\u001b[0m\u001b[0;34m'float32'\u001b[0m\u001b[0;34m)\u001b[0m\u001b[0;34m/\u001b[0m\u001b[0;36m255.\u001b[0m\u001b[0;34m)\u001b[0m\u001b[0;34m.\u001b[0m\u001b[0mas_in_context\u001b[0m\u001b[0;34m(\u001b[0m\u001b[0mctx\u001b[0m\u001b[0;34m)\u001b[0m\u001b[0;34m\u001b[0m\u001b[0;34m\u001b[0m\u001b[0m\n",
      "\u001b[0;32m~/Drone/image_based_model/memory.py\u001b[0m in \u001b[0;36mnext_batch\u001b[0;34m(self, bz)\u001b[0m\n\u001b[1;32m     29\u001b[0m         \u001b[0mmemory\u001b[0m \u001b[0;34m=\u001b[0m \u001b[0;34m[\u001b[0m\u001b[0mself\u001b[0m\u001b[0;34m.\u001b[0m\u001b[0mmemory\u001b[0m\u001b[0;34m[\u001b[0m\u001b[0mi\u001b[0m\u001b[0;34m]\u001b[0m \u001b[0;32mfor\u001b[0m \u001b[0mi\u001b[0m \u001b[0;32min\u001b[0m \u001b[0mindex\u001b[0m\u001b[0;34m]\u001b[0m\u001b[0;34m\u001b[0m\u001b[0;34m\u001b[0m\u001b[0m\n\u001b[1;32m     30\u001b[0m         \u001b[0mbatch_state\u001b[0m \u001b[0;34m=\u001b[0m \u001b[0;34m[\u001b[0m\u001b[0mi\u001b[0m\u001b[0;34m[\u001b[0m\u001b[0;34m\"state\"\u001b[0m\u001b[0;34m]\u001b[0m \u001b[0;32mfor\u001b[0m \u001b[0mi\u001b[0m \u001b[0;32min\u001b[0m \u001b[0mmemory\u001b[0m\u001b[0;34m]\u001b[0m\u001b[0;34m\u001b[0m\u001b[0;34m\u001b[0m\u001b[0m\n\u001b[0;32m---> 31\u001b[0;31m         batch_state = [nd.concat(*[nd.expand_dims(i[0], 0) for i in batch_state], dim=0),\n\u001b[0m\u001b[1;32m     32\u001b[0m                        nd.concat(*[nd.expand_dims(i[1], 0) for i in batch_state], dim=0)]\n\u001b[1;32m     33\u001b[0m         \u001b[0mbatch_state_next\u001b[0m \u001b[0;34m=\u001b[0m \u001b[0;34m[\u001b[0m\u001b[0mi\u001b[0m\u001b[0;34m[\u001b[0m\u001b[0;34m\"state_next\"\u001b[0m\u001b[0;34m]\u001b[0m \u001b[0;32mfor\u001b[0m \u001b[0mi\u001b[0m \u001b[0;32min\u001b[0m \u001b[0mmemory\u001b[0m\u001b[0;34m]\u001b[0m\u001b[0;34m\u001b[0m\u001b[0;34m\u001b[0m\u001b[0m\n",
      "\u001b[0;32m~/anaconda3/lib/python3.8/site-packages/mxnet/ndarray/register.py\u001b[0m in \u001b[0;36mconcat\u001b[0;34m(*data, **kwargs)\u001b[0m\n",
      "\u001b[0;32m~/anaconda3/lib/python3.8/site-packages/mxnet/_ctypes/ndarray.py\u001b[0m in \u001b[0;36m_imperative_invoke\u001b[0;34m(handle, ndargs, keys, vals, out, is_np_op, output_is_list)\u001b[0m\n\u001b[1;32m     80\u001b[0m     \u001b[0mout_stypes\u001b[0m \u001b[0;34m=\u001b[0m \u001b[0mctypes\u001b[0m\u001b[0;34m.\u001b[0m\u001b[0mPOINTER\u001b[0m\u001b[0;34m(\u001b[0m\u001b[0mctypes\u001b[0m\u001b[0;34m.\u001b[0m\u001b[0mc_int\u001b[0m\u001b[0;34m)\u001b[0m\u001b[0;34m(\u001b[0m\u001b[0;34m)\u001b[0m\u001b[0;34m\u001b[0m\u001b[0;34m\u001b[0m\u001b[0m\n\u001b[1;32m     81\u001b[0m \u001b[0;34m\u001b[0m\u001b[0m\n\u001b[0;32m---> 82\u001b[0;31m     check_call(_LIB.MXImperativeInvokeEx(\n\u001b[0m\u001b[1;32m     83\u001b[0m         \u001b[0mctypes\u001b[0m\u001b[0;34m.\u001b[0m\u001b[0mc_void_p\u001b[0m\u001b[0;34m(\u001b[0m\u001b[0mhandle\u001b[0m\u001b[0;34m)\u001b[0m\u001b[0;34m,\u001b[0m\u001b[0;34m\u001b[0m\u001b[0;34m\u001b[0m\u001b[0m\n\u001b[1;32m     84\u001b[0m         \u001b[0mctypes\u001b[0m\u001b[0;34m.\u001b[0m\u001b[0mc_int\u001b[0m\u001b[0;34m(\u001b[0m\u001b[0mlen\u001b[0m\u001b[0;34m(\u001b[0m\u001b[0mndargs\u001b[0m\u001b[0;34m)\u001b[0m\u001b[0;34m)\u001b[0m\u001b[0;34m,\u001b[0m\u001b[0;34m\u001b[0m\u001b[0;34m\u001b[0m\u001b[0m\n",
      "\u001b[0;32m~/anaconda3/lib/python3.8/site-packages/mxnet/base.py\u001b[0m in \u001b[0;36mcheck_call\u001b[0;34m(ret)\u001b[0m\n\u001b[1;32m    244\u001b[0m     \"\"\"\n\u001b[1;32m    245\u001b[0m     \u001b[0;32mif\u001b[0m \u001b[0mret\u001b[0m \u001b[0;34m!=\u001b[0m \u001b[0;36m0\u001b[0m\u001b[0;34m:\u001b[0m\u001b[0;34m\u001b[0m\u001b[0;34m\u001b[0m\u001b[0m\n\u001b[0;32m--> 246\u001b[0;31m         \u001b[0;32mraise\u001b[0m \u001b[0mget_last_ffi_error\u001b[0m\u001b[0;34m(\u001b[0m\u001b[0;34m)\u001b[0m\u001b[0;34m\u001b[0m\u001b[0;34m\u001b[0m\u001b[0m\n\u001b[0m\u001b[1;32m    247\u001b[0m \u001b[0;34m\u001b[0m\u001b[0m\n\u001b[1;32m    248\u001b[0m \u001b[0;34m\u001b[0m\u001b[0m\n",
      "\u001b[0;31mMXNetError\u001b[0m: Traceback (most recent call last):\n  File \"../src/operator/nn/concat.cc\", line 67\nMXNetError: Check failed: shape_assign(&(*in_shape)[i], dshape): Incompatible input shape: expected [-1,12,84,84], got [1,12,80,80]"
     ]
    }
   ],
   "source": [
    "while frame_counter < max_frame:\n",
    "    cum_clipped_reward = 0\n",
    "    cum_reward = 0\n",
    "    next_frame = env.reset()\n",
    "    live = {'lives': 5}\n",
    "    state = preprocess(next_frame,image_size, live, frame_len, initial_state=True)\n",
    "    t = 0\n",
    "    done = False\n",
    "    if print_structure == 1:\n",
    "        print(\"Model Structure: \")\n",
    "        print(offline_model)\n",
    "        print_structure += 1\n",
    "    while not done:\n",
    "        previous_state = state\n",
    "        # show the frame\n",
    "        renderimage(next_frame)\n",
    "        if frame_counter > replay_start:\n",
    "            annealing_count += 1\n",
    "        if frame_counter == replay_start:\n",
    "            logging.info('annealing and laerning are started ')\n",
    "        eps = np.maximum(1.-annealing_count/annealing_end, epsilon_min)\n",
    "        effective_eps = eps\n",
    "        if t < no_op_max:\n",
    "            effective_eps = 1.\n",
    "        # epsilon greedy policy\n",
    "        if np.random.random() < effective_eps :\n",
    "            by = \"Random\"\n",
    "            action = np.random.randint(0, (env.action_space.n))\n",
    "        else:\n",
    "            by = \"Model\"\n",
    "            data = [i.reshape([1]+list(i.shape)).as_in_context(ctx) for i in state]\n",
    "            output = offline_model(data)\n",
    "            action = int(nd.argmax(output,axis=1).as_in_context(mx.cpu()).asscalar())\n",
    "            print_structure += 1\n",
    "        # skip frame\n",
    "        rew = 0\n",
    "        for skip in range(skip_frame-1):\n",
    "            next_frame, reward, done, _ = env.step(action)\n",
    "            state = preprocess(next_frame,image_size, _, frame_len, initial_state=True)\n",
    "            renderimage(next_frame)\n",
    "            cum_clipped_reward += rew_clipper(reward)\n",
    "            rew += reward\n",
    "            for internal_skip in range(internal_skip_frame-1):\n",
    "                _ , reward, done,_ = env.step(action)\n",
    "                cum_clipped_reward += rew_clipper(reward)\n",
    "                rew += reward\n",
    "        next_frame_new, reward, done, _ = env.step(action)\n",
    "        renderimage(next_frame)\n",
    "        cum_clipped_reward += rew_clipper(reward)\n",
    "        rew += reward\n",
    "        cum_reward += rew\n",
    "        # reward clipping\n",
    "        reward = rew_clipper(rew)\n",
    "        next_frame = np.maximum(next_frame_new,next_frame)\n",
    "        state = preprocess(next_frame, image_size, _, frame_len, state, False)\n",
    "        _previous_state = [(previous_state[0]*255.).astype('uint8'), previous_state[1]]\n",
