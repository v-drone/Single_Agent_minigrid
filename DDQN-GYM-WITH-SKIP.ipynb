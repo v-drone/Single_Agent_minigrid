{
 "cells": [
  {
   "cell_type": "code",
   "execution_count": 1,
   "metadata": {},
   "outputs": [
    {
     "name": "stderr",
     "output_type": "stream",
     "text": [
      "/home/seventheli/anaconda3/lib/python3.8/site-packages/gluoncv/__init__.py:40: UserWarning: Both `mxnet==1.8.0` and `torch==1.10.1+cu113` are installed. You might encounter increased GPU memory footprint if both framework are used at the same time.\n",
      "  warnings.warn(f'Both `mxnet=={mx.__version__}` and `torch=={torch.__version__}` are installed. '\n"
     ]
    }
   ],
   "source": [
    "import random\n",
    "import gym\n",
    "import time\n",
    "import numpy as np\n",
    "import matplotlib.pyplot as plt\n",
    "import mxnet as mx\n",
    "from mxnet import nd, autograd\n",
    "from mxnet import gluon\n",
    "from IPython import display\n",
    "from memory import Memory\n",
    "from utils import preprocess\n",
    "from model.simple_stack import SimpleStack"
   ]
  },
  {
   "cell_type": "markdown",
   "metadata": {},
   "source": [
    "### Summary of the algorithm\n",
    "#### Update Network\n",
    "* Draw batches of tuples from the replay buffer: $(\\phi,r,a,\\phi')$.\n",
    "* Define the following loss\n",
    "$$\\Large(\\small Q(\\phi,a,\\theta)-r-Q(\\phi',argmax_{a'}Q(\\phi',a',\\theta),\\theta^-)\\Large)^2$$\n",
    "* Where $\\theta^-$ is the parameter of the target network.( Set $Q(\\phi',a',\\theta^-)$ to zero if $\\phi$ is the preprocessed termination state). \n",
    "* Update the $\\theta$\n",
    "* Update the $\\theta^-$ once in a while\n",
    "\n",
    "\n",
    "\n",
    "\n",
    "\n",
    "\n"
   ]
  },
  {
   "cell_type": "markdown",
   "metadata": {
    "collapsed": true
   },
   "source": [
    "## Set the hyper-parameters"
   ]
  },
  {
   "cell_type": "code",
   "execution_count": 2,
   "metadata": {
    "pycharm": {
     "name": "#%%\n"
    }
   },
   "outputs": [],
   "source": [
    "# frame channel\n",
    "channel = 1\n",
    "# The size of the batch to learn the Q-function\n",
    "batch_size = 16\n",
    "# Resize the raw input frame to square frame of size 80 by 80\n",
    "image_size = 84\n",
    "# Skip 4-1 raw frames between steps\n",
    "skip_frame = 4\n",
    "# Skip 4-1 raw frames between skipped frames\n",
    "internal_skip_frame = 4\n",
    "# The size of replay buffer; set it to size of your memory (.5M for 50G available memory)\n",
    "replay_buffer_size = 100000\n",
    "# With Freq of 1/4-step update the Q-network\n",
    "learning_frequency = 4\n",
    "# Each state is formed as a concatenation 4 step frames [f(t-12),f(t-8),f(t-4),f(t)]\n",
    "frame_len = 4\n",
    "# Update the target network each 10000 steps\n",
    "target_update = 10000\n",
    "# Minimum level of stochasticity of policy (epsilon)-greedy\n",
    "epsilon_min = 0.01\n",
    "# The number of step it take to linearly anneal the epsilon to it min value\n",
    "annealing_end = 1000000.\n",
    "# The discount factor\n",
    "gamma = 0.99\n",
    "# Start to back propagated through the network, learning starts\n",
    "replay_start_size = 50000\n",
    "# Run uniform policy for first 30 times step of the beginning of the game\n",
    "no_op_max = 8\n",
    "# Number episode to run the algorithm\n",
    "num_episode = 10000000\n",
    "max_frame = 200000000\n",
    "# RMSprop learning rate\n",
    "lr = 0.00025\n",
    "# RMSprop gamma1\n",
    "gamma1 = 0.95\n",
    "# RMSprop gamma2\n",
    "gamma2 = 0.95\n",
    "# RMSprop epsilon bias\n",
    "rms_eps = 0.01\n",
    "# Enables gpu if available, if not, set it to mx.cpu()\n",
    "ctx = mx.gpu()"
   ]
  },
  {
   "cell_type": "code",
   "execution_count": 3,
   "metadata": {},
   "outputs": [],
   "source": [
    "env_name = 'AssaultNoFrameskip-v4'\n",
    "env = gym.make(env_name)\n",
    "num_action = env.action_space.n\n",
    "manualSeed = 1\n",
    "mx.random.seed(manualSeed)"
   ]
  },
  {
   "cell_type": "code",
   "execution_count": 4,
   "metadata": {},
   "outputs": [],
   "source": [
    "dqn = SimpleStack(env.action_space.n, frame_len, channel=channel)\n",
    "dqn.collect_params().initialize(mx.init.Normal(0.02), ctx=ctx)\n",
    "trainer = gluon.Trainer(dqn.collect_params(), 'RMSProp',\n",
    "                        {'learning_rate': lr, 'gamma1': gamma1, 'gamma2': gamma2, 'epsilon': rms_eps, 'centered': True})\n",
    "dqn.collect_params().zero_grad()"
   ]
  },
  {
   "cell_type": "code",
   "execution_count": 5,
   "metadata": {},
   "outputs": [],
   "source": [
    "target_dqn = SimpleStack(env.action_space.n, frame_len, channel=channel)\n",
    "target_dqn.collect_params().initialize(mx.init.Normal(0.02), ctx=ctx)"
   ]
  },
  {
   "cell_type": "code",
   "execution_count": 6,
   "metadata": {},
   "outputs": [],
   "source": [
    "def rew_clipper(rew_clip):\n",
    "    if rew_clip > 0.:\n",
    "        return 1.\n",
    "    elif rew_clip < 0.:\n",
    "        return -1.\n",
    "    else:\n",
    "        return 0\n",
    "\n",
    "\n",
    "def render_image(frame, render):\n",
    "    if render:\n",
    "        plt.imshow(frame)\n",
    "        plt.show()\n",
    "        display.clear_output(wait=True)\n",
    "        time.sleep(.1)"
   ]
  },
  {
   "cell_type": "code",
   "execution_count": 7,
   "metadata": {},
   "outputs": [],
   "source": [
    "loss_f = mx.gluon.loss.L2Loss(batch_axis=0)\n",
    "# Counts the number of steps so far\n",
    "frame_counter = 0.\n",
    "# Counts the number of annealing steps\n",
    "annealing_count = 0.\n",
    "# Counts the number episodes so far\n",
    "epis_count = 0.\n",
    "# Initialize the replay buffer\n",
    "replay_memory = Memory(replay_buffer_size)\n",
    "tot_clipped_reward = []\n",
    "tot_reward = []\n",
    "frame_count_record = []\n",
    "moving_average_clipped = 0.\n",
    "moving_average = 0."
   ]
  },
  {
   "cell_type": "markdown",
   "metadata": {},
   "source": [
    "### Train the model"
   ]
  },
  {
   "cell_type": "code",
   "execution_count": 8,
   "metadata": {},
   "outputs": [
    {
     "name": "stdout",
     "output_type": "stream",
     "text": [
      "epis[0],eps[1.0000],durat[218],fnum=217, cum_cl_rew = 9, cum_rew = 189.0000,tot_cl = 0.0000 , tot = 0.0000\n",
      "epis[50],eps[1.0000],durat[351],fnum=13313, cum_cl_rew = 9, cum_rew = 189.0000,tot_cl = 0.0000 , tot = 0.0000\n",
      "epis[100],eps[1.0000],durat[299],fnum=26251, cum_cl_rew = 10, cum_rew = 210.0000,tot_cl = 0.0000 , tot = 0.0000\n",
      "epis[150],eps[1.0000],durat[264],fnum=38414, cum_cl_rew = 10, cum_rew = 210.0000,tot_cl = 8.9200 , tot = 187.3200\n",
      "annealing and learning are started \n",
      "epis[200],eps[0.9986],durat[258],fnum=51399, cum_cl_rew = 9, cum_rew = 189.0000,tot_cl = 8.9700 , tot = 188.3700\n",
      "epis[250],eps[0.9854],durat[386],fnum=64586, cum_cl_rew = 10, cum_rew = 210.0000,tot_cl = 8.9400 , tot = 187.7400\n",
      "epis[300],eps[0.9719],durat[242],fnum=78126, cum_cl_rew = 8, cum_rew = 168.0000,tot_cl = 9.2300 , tot = 193.8300\n",
      "epis[350],eps[0.9583],durat[282],fnum=91692, cum_cl_rew = 5, cum_rew = 105.0000,tot_cl = 9.4600 , tot = 198.6600\n",
      "epis[400],eps[0.9454],durat[90],fnum=104649, cum_cl_rew = 4, cum_rew = 84.0000,tot_cl = 9.4100 , tot = 197.6100\n",
      "epis[450],eps[0.9321],durat[228],fnum=117885, cum_cl_rew = 9, cum_rew = 189.0000,tot_cl = 9.2200 , tot = 193.6200\n",
      "epis[500],eps[0.9191],durat[161],fnum=130915, cum_cl_rew = 4, cum_rew = 84.0000,tot_cl = 9.1800 , tot = 192.7800\n",
      "epis[550],eps[0.9060],durat[321],fnum=144026, cum_cl_rew = 8, cum_rew = 168.0000,tot_cl = 9.3600 , tot = 196.5600\n",
      "epis[600],eps[0.8929],durat[410],fnum=157134, cum_cl_rew = 13, cum_rew = 273.0000,tot_cl = 9.1400 , tot = 191.9400\n",
      "epis[650],eps[0.8794],durat[140],fnum=170556, cum_cl_rew = 4, cum_rew = 84.0000,tot_cl = 9.3800 , tot = 196.9800\n",
      "epis[700],eps[0.8669],durat[343],fnum=183101, cum_cl_rew = 13, cum_rew = 273.0000,tot_cl = 9.7100 , tot = 203.9100\n",
      "epis[750],eps[0.8539],durat[294],fnum=196118, cum_cl_rew = 8, cum_rew = 168.0000,tot_cl = 9.9800 , tot = 209.5800\n",
      "epis[800],eps[0.8401],durat[395],fnum=209871, cum_cl_rew = 14, cum_rew = 294.0000,tot_cl = 10.9400 , tot = 229.7400\n",
      "epis[850],eps[0.8277],durat[247],fnum=222275, cum_cl_rew = 16, cum_rew = 336.0000,tot_cl = 10.9500 , tot = 229.9500\n",
      "epis[900],eps[0.8153],durat[169],fnum=234724, cum_cl_rew = 8, cum_rew = 168.0000,tot_cl = 11.0300 , tot = 231.6300\n",
      "epis[950],eps[0.8024],durat[176],fnum=247650, cum_cl_rew = 9, cum_rew = 189.0000,tot_cl = 11.6900 , tot = 245.4900\n",
      "epis[1000],eps[0.7893],durat[240],fnum=260678, cum_cl_rew = 8, cum_rew = 168.0000,tot_cl = 11.6800 , tot = 245.2800\n",
      "epis[1050],eps[0.7770],durat[208],fnum=272992, cum_cl_rew = 8, cum_rew = 168.0000,tot_cl = 11.3200 , tot = 237.7200\n",
      "epis[1100],eps[0.7642],durat[248],fnum=285843, cum_cl_rew = 11, cum_rew = 231.0000,tot_cl = 11.4800 , tot = 241.0800\n",
      "epis[1150],eps[0.7521],durat[259],fnum=297912, cum_cl_rew = 11, cum_rew = 231.0000,tot_cl = 12.1800 , tot = 255.7800\n",
      "epis[1200],eps[0.7393],durat[198],fnum=310670, cum_cl_rew = 9, cum_rew = 189.0000,tot_cl = 12.6600 , tot = 265.8600\n",
      "epis[1250],eps[0.7273],durat[272],fnum=322750, cum_cl_rew = 17, cum_rew = 357.0000,tot_cl = 12.5600 , tot = 263.7600\n",
      "epis[1300],eps[0.7150],durat[277],fnum=334954, cum_cl_rew = 9, cum_rew = 189.0000,tot_cl = 12.8800 , tot = 270.4800\n",
      "epis[1350],eps[0.7033],durat[351],fnum=346714, cum_cl_rew = 17, cum_rew = 357.0000,tot_cl = 12.9400 , tot = 271.7400\n",
      "epis[1400],eps[0.6915],durat[203],fnum=358477, cum_cl_rew = 12, cum_rew = 252.0000,tot_cl = 12.5200 , tot = 262.9200\n",
      "epis[1450],eps[0.6798],durat[186],fnum=370152, cum_cl_rew = 10, cum_rew = 210.0000,tot_cl = 12.7000 , tot = 266.7000\n",
      "epis[1500],eps[0.6678],durat[267],fnum=382215, cum_cl_rew = 18, cum_rew = 378.0000,tot_cl = 13.0400 , tot = 273.8400\n",
      "epis[1550],eps[0.6563],durat[225],fnum=393672, cum_cl_rew = 11, cum_rew = 231.0000,tot_cl = 12.7100 , tot = 266.9100\n",
      "epis[1600],eps[0.6442],durat[169],fnum=405813, cum_cl_rew = 9, cum_rew = 189.0000,tot_cl = 13.5000 , tot = 283.5000\n",
      "epis[1650],eps[0.6319],durat[199],fnum=418081, cum_cl_rew = 13, cum_rew = 273.0000,tot_cl = 14.3100 , tot = 300.5100\n",
      "epis[1700],eps[0.6201],durat[258],fnum=429904, cum_cl_rew = 12, cum_rew = 252.0000,tot_cl = 13.9000 , tot = 291.9000\n",
      "epis[1750],eps[0.6081],durat[319],fnum=441913, cum_cl_rew = 22, cum_rew = 462.0000,tot_cl = 13.6500 , tot = 286.6500\n",
      "epis[1800],eps[0.5963],durat[219],fnum=453669, cum_cl_rew = 22, cum_rew = 462.0000,tot_cl = 14.2600 , tot = 299.3500\n",
      "epis[1850],eps[0.5852],durat[169],fnum=464828, cum_cl_rew = 10, cum_rew = 210.0000,tot_cl = 14.1100 , tot = 296.2000\n",
      "epis[1900],eps[0.5742],durat[136],fnum=475794, cum_cl_rew = 12, cum_rew = 252.0000,tot_cl = 13.0100 , tot = 273.2100\n",
      "epis[1950],eps[0.5624],durat[274],fnum=487616, cum_cl_rew = 22, cum_rew = 462.0000,tot_cl = 14.0500 , tot = 295.0500\n",
      "epis[2000],eps[0.5503],durat[327],fnum=499710, cum_cl_rew = 23, cum_rew = 483.0000,tot_cl = 15.1600 , tot = 318.3600\n",
      "epis[2050],eps[0.5386],durat[242],fnum=511377, cum_cl_rew = 18, cum_rew = 378.0000,tot_cl = 15.3400 , tot = 322.1400\n",
      "epis[2100],eps[0.5271],durat[238],fnum=522864, cum_cl_rew = 17, cum_rew = 357.0000,tot_cl = 15.1300 , tot = 317.7300\n",
      "epis[2150],eps[0.5142],durat[183],fnum=535850, cum_cl_rew = 11, cum_rew = 231.0000,tot_cl = 15.8000 , tot = 331.8000\n",
      "epis[2200],eps[0.5015],durat[282],fnum=548471, cum_cl_rew = 22, cum_rew = 462.0000,tot_cl = 16.1000 , tot = 338.1000\n",
      "epis[2250],eps[0.4892],durat[259],fnum=560777, cum_cl_rew = 12, cum_rew = 252.0000,tot_cl = 16.1300 , tot = 338.7300\n",
      "epis[2300],eps[0.4770],durat[199],fnum=573046, cum_cl_rew = 15, cum_rew = 315.0000,tot_cl = 16.3000 , tot = 342.3000\n",
      "epis[2350],eps[0.4646],durat[146],fnum=585433, cum_cl_rew = 10, cum_rew = 210.0000,tot_cl = 16.5200 , tot = 346.8100\n",
      "epis[2400],eps[0.4526],durat[179],fnum=597397, cum_cl_rew = 15, cum_rew = 315.0000,tot_cl = 17.5000 , tot = 367.3900\n",
      "epis[2450],eps[0.4399],durat[188],fnum=610093, cum_cl_rew = 16, cum_rew = 336.0000,tot_cl = 17.8700 , tot = 375.2700\n",
      "epis[2500],eps[0.4259],durat[242],fnum=624062, cum_cl_rew = 17, cum_rew = 357.0000,tot_cl = 18.3000 , tot = 384.3000\n",
      "epis[2550],eps[0.4128],durat[179],fnum=637237, cum_cl_rew = 13, cum_rew = 273.0000,tot_cl = 18.4200 , tot = 386.8200\n",
      "epis[2600],eps[0.3976],durat[258],fnum=652403, cum_cl_rew = 20, cum_rew = 420.0000,tot_cl = 19.5400 , tot = 410.3400\n",
      "epis[2650],eps[0.3824],durat[459],fnum=667576, cum_cl_rew = 27, cum_rew = 567.0000,tot_cl = 20.7900 , tot = 436.2600\n",
      "epis[2700],eps[0.3677],durat[301],fnum=682324, cum_cl_rew = 21, cum_rew = 441.0000,tot_cl = 21.6700 , tot = 454.7400\n",
      "epis[2750],eps[0.3539],durat[169],fnum=696145, cum_cl_rew = 15, cum_rew = 315.0000,tot_cl = 21.3300 , tot = 447.6000\n",
      "epis[2800],eps[0.3394],durat[317],fnum=710566, cum_cl_rew = 27, cum_rew = 567.0000,tot_cl = 20.5100 , tot = 430.3800\n",
      "epis[2850],eps[0.3253],durat[448],fnum=724684, cum_cl_rew = 30, cum_rew = 630.0000,tot_cl = 20.8400 , tot = 437.6400\n",
      "epis[2900],eps[0.3112],durat[199],fnum=738835, cum_cl_rew = 13, cum_rew = 273.0000,tot_cl = 21.9400 , tot = 460.5200\n",
      "epis[2950],eps[0.2967],durat[317],fnum=753267, cum_cl_rew = 20, cum_rew = 420.0000,tot_cl = 22.6000 , tot = 474.1600\n",
      "epis[3000],eps[0.2815],durat[140],fnum=768476, cum_cl_rew = 9, cum_rew = 189.0000,tot_cl = 22.8300 , tot = 478.9900\n",
      "epis[3050],eps[0.2661],durat[238],fnum=783881, cum_cl_rew = 17, cum_rew = 357.0000,tot_cl = 24.7200 , tot = 517.8000\n",
      "epis[3100],eps[0.2509],durat[289],fnum=799081, cum_cl_rew = 28, cum_rew = 588.0000,tot_cl = 25.7900 , tot = 539.3900\n",
      "epis[3150],eps[0.2365],durat[225],fnum=813524, cum_cl_rew = 24, cum_rew = 504.0000,tot_cl = 25.7300 , tot = 537.8000\n",
      "epis[3200],eps[0.2209],durat[357],fnum=829083, cum_cl_rew = 31, cum_rew = 651.0000,tot_cl = 26.4200 , tot = 551.5200\n",
      "epis[3250],eps[0.2055],durat[417],fnum=844495, cum_cl_rew = 32, cum_rew = 661.0000,tot_cl = 27.5100 , tot = 574.0800\n",
      "epis[3300],eps[0.1895],durat[307],fnum=860488, cum_cl_rew = 31, cum_rew = 651.0000,tot_cl = 29.0400 , tot = 605.4400\n",
      "epis[3350],eps[0.1753],durat[407],fnum=874735, cum_cl_rew = 30, cum_rew = 630.0000,tot_cl = 29.0800 , tot = 606.6100\n",
      "epis[3400],eps[0.1605],durat[328],fnum=889509, cum_cl_rew = 30, cum_rew = 630.0000,tot_cl = 28.9800 , tot = 603.7400\n",
      "epis[3450],eps[0.1459],durat[398],fnum=904122, cum_cl_rew = 37, cum_rew = 755.0000,tot_cl = 29.8300 , tot = 619.3900\n",
      "epis[3500],eps[0.1311],durat[318],fnum=918933, cum_cl_rew = 33, cum_rew = 682.0000,tot_cl = 30.9700 , tot = 641.3500\n"
     ]
    },
    {
     "name": "stdout",
     "output_type": "stream",
     "text": [
      "epis[3550],eps[0.1150],durat[348],fnum=934956, cum_cl_rew = 38, cum_rew = 787.0000,tot_cl = 33.1400 , tot = 684.6100\n",
      "epis[3600],eps[0.0997],durat[274],fnum=950273, cum_cl_rew = 37, cum_rew = 755.0000,tot_cl = 33.3500 , tot = 688.6900\n",
      "epis[3650],eps[0.0846],durat[239],fnum=965417, cum_cl_rew = 24, cum_rew = 504.0000,tot_cl = 33.5500 , tot = 685.3000\n",
      "epis[3700],eps[0.0700],durat[268],fnum=980007, cum_cl_rew = 26, cum_rew = 546.0000,tot_cl = 32.0100 , tot = 652.7400\n",
      "epis[3750],eps[0.0528],durat[348],fnum=997215, cum_cl_rew = 40, cum_rew = 796.0000,tot_cl = 34.0600 , tot = 694.6900\n",
      "epis[3800],eps[0.0342],durat[545],fnum=1015763, cum_cl_rew = 63, cum_rew = 1312.0000,tot_cl = 39.8100 , tot = 803.3400\n",
      "epis[3850],eps[0.0162],durat[357],fnum=1033825, cum_cl_rew = 46, cum_rew = 867.0000,tot_cl = 42.1100 , tot = 849.2200\n",
      "epis[3900],eps[0.0100],durat[252],fnum=1051368, cum_cl_rew = 33, cum_rew = 693.0000,tot_cl = 42.9800 , tot = 869.0300\n",
      "epis[3950],eps[0.0100],durat[245],fnum=1067588, cum_cl_rew = 28, cum_rew = 588.0000,tot_cl = 41.3600 , tot = 841.0600\n",
      "epis[4000],eps[0.0100],durat[396],fnum=1085796, cum_cl_rew = 49, cum_rew = 963.0000,tot_cl = 41.0200 , tot = 836.0100\n",
      "epis[4050],eps[0.0100],durat[300],fnum=1107499, cum_cl_rew = 43, cum_rew = 870.0000,tot_cl = 47.2700 , tot = 956.2600\n",
      "epis[4100],eps[0.0100],durat[268],fnum=1129633, cum_cl_rew = 31, cum_rew = 651.0000,tot_cl = 52.3300 , tot = 1054.1600\n",
      "epis[4150],eps[0.0100],durat[770],fnum=1151016, cum_cl_rew = 86, cum_rew = 1751.0000,tot_cl = 51.3500 , tot = 1036.3300\n",
      "epis[4200],eps[0.0100],durat[327],fnum=1170252, cum_cl_rew = 37, cum_rew = 755.0000,tot_cl = 48.2800 , tot = 965.1500\n",
      "epis[4250],eps[0.0100],durat[396],fnum=1189012, cum_cl_rew = 48, cum_rew = 975.0000,tot_cl = 46.4700 , tot = 925.4900\n",
      "epis[4300],eps[0.0100],durat[337],fnum=1210868, cum_cl_rew = 38, cum_rew = 787.0000,tot_cl = 49.9400 , tot = 1006.6100\n",
      "epis[4350],eps[0.0100],durat[396],fnum=1229376, cum_cl_rew = 36, cum_rew = 745.0000,tot_cl = 50.3500 , tot = 1019.0700\n",
      "epis[4400],eps[0.0100],durat[397],fnum=1248610, cum_cl_rew = 44, cum_rew = 869.0000,tot_cl = 47.9100 , tot = 970.3600\n",
      "epis[4450],eps[0.0100],durat[278],fnum=1268153, cum_cl_rew = 29, cum_rew = 609.0000,tot_cl = 47.4100 , tot = 957.4400\n",
      "epis[4500],eps[0.0100],durat[1026],fnum=1287371, cum_cl_rew = 113, cum_rew = 2296.0000,tot_cl = 46.2600 , tot = 937.2500\n",
      "epis[4550],eps[0.0100],durat[671],fnum=1310569, cum_cl_rew = 84, cum_rew = 1665.0000,tot_cl = 52.9800 , tot = 1075.1800\n",
      "epis[4600],eps[0.0100],durat[308],fnum=1333018, cum_cl_rew = 34, cum_rew = 703.0000,tot_cl = 58.5100 , tot = 1177.3400\n",
      "epis[4650],eps[0.0100],durat[636],fnum=1352633, cum_cl_rew = 89, cum_rew = 1770.0000,tot_cl = 53.4600 , tot = 1071.9500\n",
      "epis[4700],eps[0.0100],durat[553],fnum=1376011, cum_cl_rew = 72, cum_rew = 1435.0000,tot_cl = 54.3900 , tot = 1095.5500\n",
      "epis[4750],eps[0.0100],durat[993],fnum=1401805, cum_cl_rew = 144, cum_rew = 2925.0000,tot_cl = 62.8500 , tot = 1268.4800\n",
      "epis[4800],eps[0.0100],durat[327],fnum=1424856, cum_cl_rew = 42, cum_rew = 827.0000,tot_cl = 64.7600 , tot = 1308.7000\n",
      "epis[4850],eps[0.0100],durat[425],fnum=1449622, cum_cl_rew = 54, cum_rew = 1090.0000,tot_cl = 62.5000 , tot = 1254.8600\n",
      "epis[4900],eps[0.0100],durat[592],fnum=1476100, cum_cl_rew = 80, cum_rew = 1592.0000,tot_cl = 64.8800 , tot = 1295.0500\n",
      "epis[4950],eps[0.0100],durat[445],fnum=1499502, cum_cl_rew = 62, cum_rew = 1258.0000,tot_cl = 65.8300 , tot = 1322.7000\n",
      "epis[5000],eps[0.0100],durat[435],fnum=1524110, cum_cl_rew = 62, cum_rew = 1258.0000,tot_cl = 64.7400 , tot = 1310.7000\n",
      "epis[5050],eps[0.0100],durat[298],fnum=1545398, cum_cl_rew = 32, cum_rew = 672.0000,tot_cl = 60.3800 , tot = 1221.1200\n",
      "epis[5100],eps[0.0100],durat[703],fnum=1566633, cum_cl_rew = 83, cum_rew = 1655.0000,tot_cl = 54.4200 , tot = 1094.7500\n",
      "epis[5150],eps[0.0100],durat[612],fnum=1591076, cum_cl_rew = 77, cum_rew = 1529.0000,tot_cl = 58.0500 , tot = 1169.1100\n"
     ]
    },
    {
     "ename": "KeyboardInterrupt",
     "evalue": "",
     "output_type": "error",
     "traceback": [
      "\u001b[0;31m---------------------------------------------------------------------------\u001b[0m",
      "\u001b[0;31mKeyboardInterrupt\u001b[0m                         Traceback (most recent call last)",
      "\u001b[0;32m<ipython-input-8-52792c53133f>\u001b[0m in \u001b[0;36m<module>\u001b[0;34m\u001b[0m\n\u001b[1;32m     28\u001b[0m         \u001b[0;32melse\u001b[0m\u001b[0;34m:\u001b[0m\u001b[0;34m\u001b[0m\u001b[0;34m\u001b[0m\u001b[0m\n\u001b[1;32m     29\u001b[0m             \u001b[0mdata\u001b[0m \u001b[0;34m=\u001b[0m \u001b[0;34m[\u001b[0m\u001b[0mnd\u001b[0m\u001b[0;34m.\u001b[0m\u001b[0marray\u001b[0m\u001b[0;34m(\u001b[0m\u001b[0mstate\u001b[0m\u001b[0;34m.\u001b[0m\u001b[0mreshape\u001b[0m\u001b[0;34m(\u001b[0m\u001b[0;34m[\u001b[0m\u001b[0;36m1\u001b[0m\u001b[0;34m,\u001b[0m \u001b[0mframe_len\u001b[0m\u001b[0;34m,\u001b[0m \u001b[0mimage_size\u001b[0m\u001b[0;34m,\u001b[0m \u001b[0mimage_size\u001b[0m\u001b[0;34m]\u001b[0m\u001b[0;34m)\u001b[0m\u001b[0;34m,\u001b[0m \u001b[0mctx\u001b[0m\u001b[0;34m)\u001b[0m\u001b[0;34m,\u001b[0m \u001b[0mnd\u001b[0m\u001b[0;34m.\u001b[0m\u001b[0marray\u001b[0m\u001b[0;34m(\u001b[0m\u001b[0;34m[\u001b[0m\u001b[0;36m100\u001b[0m \u001b[0;34m-\u001b[0m \u001b[0mt\u001b[0m\u001b[0;34m]\u001b[0m\u001b[0;34m,\u001b[0m \u001b[0mctx\u001b[0m\u001b[0;34m)\u001b[0m\u001b[0;34m]\u001b[0m\u001b[0;34m\u001b[0m\u001b[0;34m\u001b[0m\u001b[0m\n\u001b[0;32m---> 30\u001b[0;31m             \u001b[0maction\u001b[0m \u001b[0;34m=\u001b[0m \u001b[0mint\u001b[0m\u001b[0;34m(\u001b[0m\u001b[0mnd\u001b[0m\u001b[0;34m.\u001b[0m\u001b[0margmax\u001b[0m\u001b[0;34m(\u001b[0m\u001b[0mdqn\u001b[0m\u001b[0;34m(\u001b[0m\u001b[0;34m*\u001b[0m\u001b[0mdata\u001b[0m\u001b[0;34m)\u001b[0m\u001b[0;34m,\u001b[0m \u001b[0maxis\u001b[0m\u001b[0;34m=\u001b[0m\u001b[0;36m1\u001b[0m\u001b[0;34m)\u001b[0m\u001b[0;34m.\u001b[0m\u001b[0mas_in_context\u001b[0m\u001b[0;34m(\u001b[0m\u001b[0mmx\u001b[0m\u001b[0;34m.\u001b[0m\u001b[0mcpu\u001b[0m\u001b[0;34m(\u001b[0m\u001b[0;34m)\u001b[0m\u001b[0;34m)\u001b[0m\u001b[0;34m.\u001b[0m\u001b[0masscalar\u001b[0m\u001b[0;34m(\u001b[0m\u001b[0;34m)\u001b[0m\u001b[0;34m)\u001b[0m\u001b[0;34m\u001b[0m\u001b[0;34m\u001b[0m\u001b[0m\n\u001b[0m\u001b[1;32m     31\u001b[0m         \u001b[0;31m# Skip frame\u001b[0m\u001b[0;34m\u001b[0m\u001b[0;34m\u001b[0m\u001b[0;34m\u001b[0m\u001b[0m\n\u001b[1;32m     32\u001b[0m         \u001b[0mrew\u001b[0m \u001b[0;34m=\u001b[0m \u001b[0;36m0\u001b[0m\u001b[0;34m\u001b[0m\u001b[0;34m\u001b[0m\u001b[0m\n",
      "\u001b[0;32m~/anaconda3/lib/python3.8/site-packages/mxnet/gluon/block.py\u001b[0m in \u001b[0;36m__call__\u001b[0;34m(self, *args)\u001b[0m\n\u001b[1;32m    680\u001b[0m             \u001b[0mhook\u001b[0m\u001b[0;34m(\u001b[0m\u001b[0mself\u001b[0m\u001b[0;34m,\u001b[0m \u001b[0margs\u001b[0m\u001b[0;34m)\u001b[0m\u001b[0;34m\u001b[0m\u001b[0;34m\u001b[0m\u001b[0m\n\u001b[1;32m    681\u001b[0m \u001b[0;34m\u001b[0m\u001b[0m\n\u001b[0;32m--> 682\u001b[0;31m         \u001b[0mout\u001b[0m \u001b[0;34m=\u001b[0m \u001b[0mself\u001b[0m\u001b[0;34m.\u001b[0m\u001b[0mforward\u001b[0m\u001b[0;34m(\u001b[0m\u001b[0;34m*\u001b[0m\u001b[0margs\u001b[0m\u001b[0;34m)\u001b[0m\u001b[0;34m\u001b[0m\u001b[0;34m\u001b[0m\u001b[0m\n\u001b[0m\u001b[1;32m    683\u001b[0m \u001b[0;34m\u001b[0m\u001b[0m\n\u001b[1;32m    684\u001b[0m         \u001b[0;32mfor\u001b[0m \u001b[0mhook\u001b[0m \u001b[0;32min\u001b[0m \u001b[0mself\u001b[0m\u001b[0;34m.\u001b[0m\u001b[0m_forward_hooks\u001b[0m\u001b[0;34m.\u001b[0m\u001b[0mvalues\u001b[0m\u001b[0;34m(\u001b[0m\u001b[0;34m)\u001b[0m\u001b[0;34m:\u001b[0m\u001b[0;34m\u001b[0m\u001b[0;34m\u001b[0m\u001b[0m\n",
      "\u001b[0;32m~/Drone/image_based_model/model/simple_stack.py\u001b[0m in \u001b[0;36mforward\u001b[0;34m(self, memory, battery, *args)\u001b[0m\n\u001b[1;32m     55\u001b[0m         \u001b[0m_b\u001b[0m\u001b[0;34m,\u001b[0m \u001b[0m_c\u001b[0m\u001b[0;34m,\u001b[0m \u001b[0m_h\u001b[0m\u001b[0;34m,\u001b[0m \u001b[0m_w\u001b[0m \u001b[0;34m=\u001b[0m \u001b[0mmemory\u001b[0m\u001b[0;34m.\u001b[0m\u001b[0mshape\u001b[0m\u001b[0;34m\u001b[0m\u001b[0;34m\u001b[0m\u001b[0m\n\u001b[1;32m     56\u001b[0m         \u001b[0;31m# image part\u001b[0m\u001b[0;34m\u001b[0m\u001b[0;34m\u001b[0m\u001b[0;34m\u001b[0m\u001b[0m\n\u001b[0;32m---> 57\u001b[0;31m         \u001b[0m_features\u001b[0m \u001b[0;34m=\u001b[0m \u001b[0mself\u001b[0m\u001b[0;34m.\u001b[0m\u001b[0mmap\u001b[0m\u001b[0;34m(\u001b[0m\u001b[0mmemory\u001b[0m\u001b[0;34m)\u001b[0m\u001b[0;34m.\u001b[0m\u001b[0mreshape\u001b[0m\u001b[0;34m(\u001b[0m\u001b[0;34m[\u001b[0m\u001b[0m_b\u001b[0m\u001b[0;34m,\u001b[0m \u001b[0mself\u001b[0m\u001b[0;34m.\u001b[0m\u001b[0mframes\u001b[0m\u001b[0;34m,\u001b[0m \u001b[0;34m-\u001b[0m\u001b[0;36m1\u001b[0m\u001b[0;34m]\u001b[0m\u001b[0;34m)\u001b[0m\u001b[0;34m\u001b[0m\u001b[0;34m\u001b[0m\u001b[0m\n\u001b[0m\u001b[1;32m     58\u001b[0m         \u001b[0;31m# # battery part\u001b[0m\u001b[0;34m\u001b[0m\u001b[0;34m\u001b[0m\u001b[0;34m\u001b[0m\u001b[0m\n\u001b[1;32m     59\u001b[0m         \u001b[0;31m# _battery = nd.expand_dims(_battery, axis=1)\u001b[0m\u001b[0;34m\u001b[0m\u001b[0;34m\u001b[0m\u001b[0;34m\u001b[0m\u001b[0m\n",
      "\u001b[0;32m~/anaconda3/lib/python3.8/site-packages/mxnet/gluon/block.py\u001b[0m in \u001b[0;36m__call__\u001b[0;34m(self, *args)\u001b[0m\n\u001b[1;32m    680\u001b[0m             \u001b[0mhook\u001b[0m\u001b[0;34m(\u001b[0m\u001b[0mself\u001b[0m\u001b[0;34m,\u001b[0m \u001b[0margs\u001b[0m\u001b[0;34m)\u001b[0m\u001b[0;34m\u001b[0m\u001b[0;34m\u001b[0m\u001b[0m\n\u001b[1;32m    681\u001b[0m \u001b[0;34m\u001b[0m\u001b[0m\n\u001b[0;32m--> 682\u001b[0;31m         \u001b[0mout\u001b[0m \u001b[0;34m=\u001b[0m \u001b[0mself\u001b[0m\u001b[0;34m.\u001b[0m\u001b[0mforward\u001b[0m\u001b[0;34m(\u001b[0m\u001b[0;34m*\u001b[0m\u001b[0margs\u001b[0m\u001b[0;34m)\u001b[0m\u001b[0;34m\u001b[0m\u001b[0;34m\u001b[0m\u001b[0m\n\u001b[0m\u001b[1;32m    683\u001b[0m \u001b[0;34m\u001b[0m\u001b[0m\n\u001b[1;32m    684\u001b[0m         \u001b[0;32mfor\u001b[0m \u001b[0mhook\u001b[0m \u001b[0;32min\u001b[0m \u001b[0mself\u001b[0m\u001b[0;34m.\u001b[0m\u001b[0m_forward_hooks\u001b[0m\u001b[0;34m.\u001b[0m\u001b[0mvalues\u001b[0m\u001b[0;34m(\u001b[0m\u001b[0;34m)\u001b[0m\u001b[0;34m:\u001b[0m\u001b[0;34m\u001b[0m\u001b[0;34m\u001b[0m\u001b[0m\n",
      "\u001b[0;32m~/anaconda3/lib/python3.8/site-packages/mxnet/gluon/nn/basic_layers.py\u001b[0m in \u001b[0;36mforward\u001b[0;34m(self, x)\u001b[0m\n\u001b[1;32m     53\u001b[0m     \u001b[0;32mdef\u001b[0m \u001b[0mforward\u001b[0m\u001b[0;34m(\u001b[0m\u001b[0mself\u001b[0m\u001b[0;34m,\u001b[0m \u001b[0mx\u001b[0m\u001b[0;34m)\u001b[0m\u001b[0;34m:\u001b[0m\u001b[0;34m\u001b[0m\u001b[0;34m\u001b[0m\u001b[0m\n\u001b[1;32m     54\u001b[0m         \u001b[0;32mfor\u001b[0m \u001b[0mblock\u001b[0m \u001b[0;32min\u001b[0m \u001b[0mself\u001b[0m\u001b[0;34m.\u001b[0m\u001b[0m_children\u001b[0m\u001b[0;34m.\u001b[0m\u001b[0mvalues\u001b[0m\u001b[0;34m(\u001b[0m\u001b[0;34m)\u001b[0m\u001b[0;34m:\u001b[0m\u001b[0;34m\u001b[0m\u001b[0;34m\u001b[0m\u001b[0m\n\u001b[0;32m---> 55\u001b[0;31m             \u001b[0mx\u001b[0m \u001b[0;34m=\u001b[0m \u001b[0mblock\u001b[0m\u001b[0;34m(\u001b[0m\u001b[0mx\u001b[0m\u001b[0;34m)\u001b[0m\u001b[0;34m\u001b[0m\u001b[0;34m\u001b[0m\u001b[0m\n\u001b[0m\u001b[1;32m     56\u001b[0m         \u001b[0;32mreturn\u001b[0m \u001b[0mx\u001b[0m\u001b[0;34m\u001b[0m\u001b[0;34m\u001b[0m\u001b[0m\n\u001b[1;32m     57\u001b[0m \u001b[0;34m\u001b[0m\u001b[0m\n",
      "\u001b[0;32m~/anaconda3/lib/python3.8/site-packages/mxnet/gluon/block.py\u001b[0m in \u001b[0;36m__call__\u001b[0;34m(self, *args)\u001b[0m\n\u001b[1;32m    680\u001b[0m             \u001b[0mhook\u001b[0m\u001b[0;34m(\u001b[0m\u001b[0mself\u001b[0m\u001b[0;34m,\u001b[0m \u001b[0margs\u001b[0m\u001b[0;34m)\u001b[0m\u001b[0;34m\u001b[0m\u001b[0;34m\u001b[0m\u001b[0m\n\u001b[1;32m    681\u001b[0m \u001b[0;34m\u001b[0m\u001b[0m\n\u001b[0;32m--> 682\u001b[0;31m         \u001b[0mout\u001b[0m \u001b[0;34m=\u001b[0m \u001b[0mself\u001b[0m\u001b[0;34m.\u001b[0m\u001b[0mforward\u001b[0m\u001b[0;34m(\u001b[0m\u001b[0;34m*\u001b[0m\u001b[0margs\u001b[0m\u001b[0;34m)\u001b[0m\u001b[0;34m\u001b[0m\u001b[0;34m\u001b[0m\u001b[0m\n\u001b[0m\u001b[1;32m    683\u001b[0m \u001b[0;34m\u001b[0m\u001b[0m\n\u001b[1;32m    684\u001b[0m         \u001b[0;32mfor\u001b[0m \u001b[0mhook\u001b[0m \u001b[0;32min\u001b[0m \u001b[0mself\u001b[0m\u001b[0;34m.\u001b[0m\u001b[0m_forward_hooks\u001b[0m\u001b[0;34m.\u001b[0m\u001b[0mvalues\u001b[0m\u001b[0;34m(\u001b[0m\u001b[0;34m)\u001b[0m\u001b[0;34m:\u001b[0m\u001b[0;34m\u001b[0m\u001b[0;34m\u001b[0m\u001b[0m\n",
      "\u001b[0;32m~/anaconda3/lib/python3.8/site-packages/mxnet/gluon/block.py\u001b[0m in \u001b[0;36mforward\u001b[0;34m(self, x, *args)\u001b[0m\n\u001b[1;32m   1307\u001b[0m                     \u001b[0mparams\u001b[0m \u001b[0;34m=\u001b[0m \u001b[0;34m{\u001b[0m\u001b[0mk\u001b[0m\u001b[0;34m:\u001b[0m \u001b[0mv\u001b[0m\u001b[0;34m.\u001b[0m\u001b[0mdata\u001b[0m\u001b[0;34m(\u001b[0m\u001b[0mctx\u001b[0m\u001b[0;34m)\u001b[0m \u001b[0;32mfor\u001b[0m \u001b[0mk\u001b[0m\u001b[0;34m,\u001b[0m \u001b[0mv\u001b[0m \u001b[0;32min\u001b[0m \u001b[0mself\u001b[0m\u001b[0;34m.\u001b[0m\u001b[0m_reg_params\u001b[0m\u001b[0;34m.\u001b[0m\u001b[0mitems\u001b[0m\u001b[0;34m(\u001b[0m\u001b[0;34m)\u001b[0m\u001b[0;34m}\u001b[0m\u001b[0;34m\u001b[0m\u001b[0;34m\u001b[0m\u001b[0m\n\u001b[1;32m   1308\u001b[0m \u001b[0;34m\u001b[0m\u001b[0m\n\u001b[0;32m-> 1309\u001b[0;31m                 \u001b[0;32mreturn\u001b[0m \u001b[0mself\u001b[0m\u001b[0;34m.\u001b[0m\u001b[0mhybrid_forward\u001b[0m\u001b[0;34m(\u001b[0m\u001b[0mndarray\u001b[0m\u001b[0;34m,\u001b[0m \u001b[0mx\u001b[0m\u001b[0;34m,\u001b[0m \u001b[0;34m*\u001b[0m\u001b[0margs\u001b[0m\u001b[0;34m,\u001b[0m \u001b[0;34m**\u001b[0m\u001b[0mparams\u001b[0m\u001b[0;34m)\u001b[0m\u001b[0;34m\u001b[0m\u001b[0;34m\u001b[0m\u001b[0m\n\u001b[0m\u001b[1;32m   1310\u001b[0m         \u001b[0mparams\u001b[0m \u001b[0;34m=\u001b[0m \u001b[0;34m{\u001b[0m\u001b[0mi\u001b[0m\u001b[0;34m:\u001b[0m \u001b[0mj\u001b[0m\u001b[0;34m.\u001b[0m\u001b[0mvar\u001b[0m\u001b[0;34m(\u001b[0m\u001b[0;34m)\u001b[0m \u001b[0;32mfor\u001b[0m \u001b[0mi\u001b[0m\u001b[0;34m,\u001b[0m \u001b[0mj\u001b[0m \u001b[0;32min\u001b[0m \u001b[0mself\u001b[0m\u001b[0;34m.\u001b[0m\u001b[0m_reg_params\u001b[0m\u001b[0;34m.\u001b[0m\u001b[0mitems\u001b[0m\u001b[0;34m(\u001b[0m\u001b[0;34m)\u001b[0m\u001b[0;34m}\u001b[0m\u001b[0;34m\u001b[0m\u001b[0;34m\u001b[0m\u001b[0m\n\u001b[1;32m   1311\u001b[0m         \u001b[0;32mwith\u001b[0m \u001b[0mself\u001b[0m\u001b[0;34m.\u001b[0m\u001b[0mname_scope\u001b[0m\u001b[0;34m(\u001b[0m\u001b[0;34m)\u001b[0m\u001b[0;34m:\u001b[0m\u001b[0;34m\u001b[0m\u001b[0;34m\u001b[0m\u001b[0m\n",
      "\u001b[0;32m~/anaconda3/lib/python3.8/site-packages/mxnet/gluon/nn/conv_layers.py\u001b[0m in \u001b[0;36mhybrid_forward\u001b[0;34m(self, F, x, weight, bias)\u001b[0m\n\u001b[1;32m    145\u001b[0m             \u001b[0mact\u001b[0m \u001b[0;34m=\u001b[0m \u001b[0mgetattr\u001b[0m\u001b[0;34m(\u001b[0m\u001b[0mF\u001b[0m\u001b[0;34m,\u001b[0m \u001b[0mself\u001b[0m\u001b[0;34m.\u001b[0m\u001b[0m_op_name\u001b[0m\u001b[0;34m)\u001b[0m\u001b[0;34m(\u001b[0m\u001b[0mx\u001b[0m\u001b[0;34m,\u001b[0m \u001b[0mweight\u001b[0m\u001b[0;34m,\u001b[0m \u001b[0mname\u001b[0m\u001b[0;34m=\u001b[0m\u001b[0;34m'fwd'\u001b[0m\u001b[0;34m,\u001b[0m \u001b[0;34m**\u001b[0m\u001b[0mself\u001b[0m\u001b[0;34m.\u001b[0m\u001b[0m_kwargs\u001b[0m\u001b[0;34m)\u001b[0m\u001b[0;34m\u001b[0m\u001b[0;34m\u001b[0m\u001b[0m\n\u001b[1;32m    146\u001b[0m         \u001b[0;32melse\u001b[0m\u001b[0;34m:\u001b[0m\u001b[0;34m\u001b[0m\u001b[0;34m\u001b[0m\u001b[0m\n\u001b[0;32m--> 147\u001b[0;31m             \u001b[0mact\u001b[0m \u001b[0;34m=\u001b[0m \u001b[0mgetattr\u001b[0m\u001b[0;34m(\u001b[0m\u001b[0mF\u001b[0m\u001b[0;34m,\u001b[0m \u001b[0mself\u001b[0m\u001b[0;34m.\u001b[0m\u001b[0m_op_name\u001b[0m\u001b[0;34m)\u001b[0m\u001b[0;34m(\u001b[0m\u001b[0mx\u001b[0m\u001b[0;34m,\u001b[0m \u001b[0mweight\u001b[0m\u001b[0;34m,\u001b[0m \u001b[0mbias\u001b[0m\u001b[0;34m,\u001b[0m \u001b[0mname\u001b[0m\u001b[0;34m=\u001b[0m\u001b[0;34m'fwd'\u001b[0m\u001b[0;34m,\u001b[0m \u001b[0;34m**\u001b[0m\u001b[0mself\u001b[0m\u001b[0;34m.\u001b[0m\u001b[0m_kwargs\u001b[0m\u001b[0;34m)\u001b[0m\u001b[0;34m\u001b[0m\u001b[0;34m\u001b[0m\u001b[0m\n\u001b[0m\u001b[1;32m    148\u001b[0m         \u001b[0;32mif\u001b[0m \u001b[0mself\u001b[0m\u001b[0;34m.\u001b[0m\u001b[0mact\u001b[0m \u001b[0;32mis\u001b[0m \u001b[0;32mnot\u001b[0m \u001b[0;32mNone\u001b[0m\u001b[0;34m:\u001b[0m\u001b[0;34m\u001b[0m\u001b[0;34m\u001b[0m\u001b[0m\n\u001b[1;32m    149\u001b[0m             \u001b[0mact\u001b[0m \u001b[0;34m=\u001b[0m \u001b[0mself\u001b[0m\u001b[0;34m.\u001b[0m\u001b[0mact\u001b[0m\u001b[0;34m(\u001b[0m\u001b[0mact\u001b[0m\u001b[0;34m)\u001b[0m\u001b[0;34m\u001b[0m\u001b[0;34m\u001b[0m\u001b[0m\n",
      "\u001b[0;32m~/anaconda3/lib/python3.8/site-packages/mxnet/ndarray/register.py\u001b[0m in \u001b[0;36mConvolution\u001b[0;34m(data, weight, bias, kernel, stride, dilate, pad, num_filter, num_group, workspace, no_bias, cudnn_tune, cudnn_off, layout, out, name, **kwargs)\u001b[0m\n",
      "\u001b[0;31mKeyboardInterrupt\u001b[0m: "
     ]
    }
   ],
   "source": [
    "# Whether to render Frames and show the game\n",
    "_render = False\n",
    "while epis_count < max_frame:\n",
    "    cum_clipped_reward = 0\n",
    "    cum_reward = 0\n",
    "    next_frame = env.reset()\n",
    "    state, current_frame = preprocess(next_frame, image_size, channel, frame_len, initial_state=True)\n",
    "    t = 0.\n",
    "    done = False\n",
    "    initial_state = True\n",
    "    while not done:\n",
    "        previous_state = state\n",
    "        # show the frame\n",
    "        render_image(next_frame, _render)\n",
    "        sample = random.random()\n",
    "        if frame_counter > replay_start_size:\n",
    "            annealing_count += 1\n",
    "        if frame_counter == replay_start_size:\n",
    "            print('annealing and learning are started ')\n",
    "        eps = np.maximum(1. - annealing_count / annealing_end, epsilon_min)\n",
    "\n",
    "        effective_eps = eps\n",
    "        if t < no_op_max:\n",
    "            effective_eps = 1.\n",
    "        # epsilon greedy policy\n",
    "        if sample < effective_eps:\n",
    "            action = random.randint(0, num_action - 1)\n",
    "        else:\n",
    "            data = [nd.array(state.reshape([1, frame_len * channel, image_size, image_size]), ctx), nd.array([100], ctx)]\n",
    "            action = int(nd.argmax(dqn(*data), axis=1).as_in_context(mx.cpu()).asscalar())\n",
    "            \n",
    "        \n",
    "        # Skip frame\n",
    "        rew = 0\n",
    "        for skip in range(skip_frame - 1):\n",
    "            next_frame, reward, done, _ = env.step(action)\n",
    "            render_image(next_frame, _render)\n",
    "            cum_clipped_reward += rew_clipper(reward)\n",
    "            rew += reward\n",
    "            for internal_skip in range(internal_skip_frame - 1):\n",
    "                _, reward, done, _ = env.step(action)\n",
    "                cum_clipped_reward += rew_clipper(reward)\n",
    "                rew += reward\n",
    "\n",
    "        next_frame_new, reward, done, _ = env.step(action)\n",
    "        render_image(next_frame, _render)\n",
    "        cum_clipped_reward += rew_clipper(reward)\n",
    "        rew += reward\n",
    "        cum_reward += rew\n",
    "\n",
    "        # Reward clipping\n",
    "\n",
    "        reward = rew_clipper(rew)\n",
    "        next_frame = np.maximum(next_frame_new, next_frame)\n",
    "        \n",
    "        \n",
    "        state, current_frame = preprocess(next_frame, image_size, channel, frame_len, current_state=state)\n",
    "        replay_memory.push(previous_state, action, state, reward, done, 100)\n",
    "\n",
    "        # Train\n",
    "        if frame_counter > replay_start_size and frame_counter % learning_frequency == 0:\n",
    "            batch = replay_memory.sample(batch_size, ctx)\n",
    "            batch_state = batch.state\n",
    "            batch_state_next = batch.state_next\n",
    "            batch_battery  = batch.battery\n",
    "            batch_reward = batch.reward\n",
    "            batch_action = batch.action.astype('uint8')\n",
    "            batch_done = batch.finish\n",
    "            with autograd.record():\n",
    "                argmax_Q = nd.argmax(dqn(batch_state_next, batch_battery),axis = 1).astype('uint8')\n",
    "                Q_sp = nd.pick(target_dqn(batch.state_next, batch.battery),argmax_Q,1)\n",
    "                Q_sp = Q_sp*(nd.ones(batch_size,ctx = ctx)-batch_done)\n",
    "                Q_s_array = dqn(batch_state, batch_battery)\n",
    "                Q_s = nd.pick(Q_s_array,batch_action,1)\n",
    "                loss = nd.mean(loss_f(Q_s ,  (batch_reward + gamma *Q_sp)))\n",
    "            loss.backward()\n",
    "            trainer.step(batch_size)\n",
    "        t += 1\n",
    "        frame_counter += 1\n",
    "        # Save the model and update Target model\n",
    "        if frame_counter >replay_start_size and frame_counter % target_update == 0:\n",
    "            check_point = frame_counter / (target_update * 100)\n",
    "            file_name = './data/target_%s_%d' % (env_name, int(check_point))\n",
    "            dqn.save_parameters(file_name)\n",
    "            target_dqn.load_parameters(file_name, ctx)\n",
    "        if done:\n",
    "            if epis_count % 50. == 0. :\n",
    "                print('epis[%d],eps[%.4f],durat[%d],fnum=%d, cum_cl_rew = %d, cum_rew = %.4f,tot_cl = %.4f , tot = %.4f'\\\n",
    "                  %(epis_count,eps,t+1,frame_counter,cum_clipped_reward,cum_reward,moving_average_clipped,moving_average))\n",
    "    epis_count += 1\n",
    "    tot_clipped_reward = np.append(tot_clipped_reward, cum_clipped_reward)\n",
    "    tot_reward = np.append(tot_reward, cum_reward)\n",
    "    frame_count_record = np.append(frame_count_record,frame_counter)\n",
    "    if epis_count > 100.:\n",
    "        moving_average_clipped = np.mean(tot_clipped_reward[int(epis_count)-1-100:int(epis_count)-1])\n",
    "        moving_average = np.mean(tot_reward[int(epis_count)-1-100:int(epis_count)-1])"
   ]
  },
  {
   "cell_type": "code",
   "execution_count": null,
   "metadata": {},
   "outputs": [],
   "source": []
  },
  {
   "cell_type": "markdown",
   "metadata": {},
   "source": [
    "### Plot the overall performace"
   ]
  },
  {
   "cell_type": "code",
   "execution_count": 9,
   "metadata": {
    "scrolled": false
   },
   "outputs": [
    {
     "name": "stdout",
     "output_type": "stream",
     "text": [
      "Running after 5154 number of episodes\n"
     ]
    },
    {
     "data": {
      "image/png": "[encoded data removed]",
      "text/plain": [
       "<Figure size 432x288 with 1 Axes>"
      ]
     },
     "metadata": {
      "needs_background": "light"
     },
     "output_type": "display_data"
    },
    {
     "data": {
      "image/png": "[encoded data removed]",
      "text/plain": [
       "<Figure size 432x288 with 1 Axes>"
      ]
     },
     "metadata": {
      "needs_background": "light"
     },
     "output_type": "display_data"
    }
   ],
   "source": [
    "num_epis_count = epis_count - 0\n",
    "bandwidth = 100  # Moving average bandwidth\n",
    "total_clipped = np.zeros(int(num_epis_count) - bandwidth)\n",
    "total_rew = np.zeros(int(num_epis_count) - bandwidth)\n",
    "for i in range(int(num_epis_count) - bandwidth):\n",
    "    total_clipped[i] = np.sum(tot_clipped_reward[i:i + bandwidth]) / bandwidth\n",
    "    total_rew[i] = np.sum(tot_reward[i:i + bandwidth]) / bandwidth\n",
    "t = np.arange(int(num_epis_count) - bandwidth)\n",
    "fig = plt.figure()\n",
    "belplt = plt.plot(t, total_rew[0:int(num_epis_count) - bandwidth], \"r\", label=\"Return\")\n",
    "plt.legend()  #handles[likplt,belplt])\n",
    "print('Running after %d number of episodes' % epis_count)\n",
    "plt.xlabel(\"Number of episode\")\n",
    "plt.ylabel(\"Average Reward per episode\")\n",
    "plt.show()\n",
    "fig.savefig('Assualt_DDQN.png')\n",
    "fig = plt.figure()\n",
    "likplt = plt.plot(t, total_clipped[0:num_episode - bandwidth], \"b\", label=\"Clipped Return\")\n",
    "plt.legend()  #handles[likplt,belplt])\n",
    "plt.xlabel(\"Number of episode\")\n",
    "plt.ylabel(\"Average clipped Reward per episode\")\n",
    "plt.show()\n",
    "fig.savefig('DDQN_Clipped.png')"
   ]
  },
  {
   "cell_type": "code",
   "execution_count": null,
   "metadata": {},
   "outputs": [],
   "source": []
  }
 ],
 "metadata": {
  "kernelspec": {
   "display_name": "Python 3",
   "language": "python",
   "name": "python3"
  },
  "language_info": {
   "codemirror_mode": {
    "name": "ipython",
    "version": 3
   },
   "file_extension": ".py",
   "mimetype": "text/x-python",
   "name": "python",
   "nbconvert_exporter": "python",
   "pygments_lexer": "ipython3",
   "version": "3.8.8"
  }
 },
 "nbformat": 4,
 "nbformat_minor": 2
}
