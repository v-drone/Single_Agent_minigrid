{
 "cells": [
  {
   "cell_type": "code",
   "execution_count": 1,
   "id": "2fd7a391-5857-465a-b417-d86ea056b3e1",
   "metadata": {},
   "outputs": [],
   "source": [
    "# !git pull"
   ]
  },
  {
   "cell_type": "code",
   "execution_count": 2,
   "id": "911de4b3",
   "metadata": {
    "ExecuteTime": {
     "end_time": "2023-12-04T16:16:06.068881220Z",
     "start_time": "2023-12-04T16:16:06.062256056Z"
    }
   },
   "outputs": [],
   "source": [
    "import os\n",
    "os.environ['RAY_LOG_LEVEL'] = \"DEBUG\""
   ]
  },
  {
   "cell_type": "code",
   "execution_count": 3,
   "id": "4b7f02d3",
   "metadata": {
    "ExecuteTime": {
     "end_time": "2023-12-04T16:16:29.913643754Z",
     "start_time": "2023-12-04T16:16:28.770223424Z"
    }
   },
   "outputs": [
    {
     "name": "stdout",
     "output_type": "stream",
     "text": [
      "pygame 2.5.2 (SDL 2.28.2, Python 3.9.18)\n",
      "Hello from the pygame community. https://www.pygame.org/contribute.html\n"
     ]
    },
    {
     "name": "stderr",
     "output_type": "stream",
     "text": [
      "2024-01-15 11:11:25,590\tWARNING __init__.py:10 -- ApexDQN has/have been moved to `rllib_contrib` and will no longer be maintained by the RLlib team. You can still use it/them normally inside RLlib util Ray 2.8, but from Ray 2.9 on, all `rllib_contrib` algorithms will no longer be part of the core repo, and will therefore have to be installed separately with pinned dependencies for e.g. ray[rllib] and other packages! See https://github.com/ray-project/ray/tree/master/rllib_contrib#rllib-contrib for more information on the RLlib contrib effort.\n"
     ]
    }
   ],
   "source": [
    "import ray\n",
    "import json\n",
    "import pickle\n",
    "import mlflow\n",
    "import tqdm\n",
    "import torch\n",
    "from os import path\n",
    "from utils import check_path, convert_np_arrays, flatten_dict\n",
    "from gymnasium.wrappers import TimeLimit\n",
    "from dynaconf import Dynaconf\n",
    "from ray.rllib.models import ModelCatalog\n",
    "from environments.MutilRoadEnv import RouteEnv\n",
    "from ray.tune.registry import register_env\n",
    "from ray.rllib.algorithms.apex_dqn import ApexDQN, ApexDQNConfig\n",
    "from ray.rllib.algorithms.dqn import DQN, DQNConfig\n",
    "from ray.tune.logger import JsonLogger\n",
    "from algorithms.apex_ddqn import ApexDDQNWithDPBER\n",
    "from replay_buffer.mpber import MultiAgentPrioritizedBlockReplayBuffer\n",
    "from environments.ObsWrapper import FullRGBImgPartialObsWrapper, RGBImgPartialObsWrapper\n",
    "from func_timeout import FunctionTimedOut\n",
    "from mlflow.exceptions import MlflowException\n",
    "from model.image_decoder import CustomCNN\n",
    "from minigrid.wrappers import ImgObsWrapper\n",
    "import gymnasium as gym"
   ]
  },
  {
   "cell_type": "code",
   "execution_count": 4,
   "id": "504b1728",
   "metadata": {
    "ExecuteTime": {
     "end_time": "2023-12-04T16:16:33.588857738Z",
     "start_time": "2023-12-04T16:16:33.586740797Z"
    }
   },
   "outputs": [
    {
     "data": {
      "text/plain": [
       "True"
      ]
     },
     "execution_count": 4,
     "metadata": {},
     "output_type": "execute_result"
    }
   ],
   "source": [
    "torch.cuda.is_available()"
   ]
  },
  {
   "cell_type": "code",
   "execution_count": 5,
   "id": "d5acb8f9",
   "metadata": {
    "ExecuteTime": {
     "end_time": "2023-12-04T16:16:42.620675912Z",
     "start_time": "2023-12-04T16:16:40.500903678Z"
    }
   },
   "outputs": [
    {
     "name": "stderr",
     "output_type": "stream",
     "text": [
      "2024-01-15 11:11:37,550\tINFO worker.py:1664 -- Started a local Ray instance. View the dashboard at \u001b[1m\u001b[32m127.0.0.1:8265 \u001b[39m\u001b[22m\n"
     ]
    },
    {
     "data": {
      "application/vnd.jupyter.widget-view+json": {
       "model_id": "67dbd93464984a189b1cd4c487351ece",
       "version_major": 2,
       "version_minor": 0
      },
      "text/html": [
       "<div class=\"lm-Widget p-Widget lm-Panel p-Panel jp-Cell-outputWrapper\">\n",
       "    <div style=\"margin-left: 50px;display: flex;flex-direction: row;align-items: center\">\n",
       "        <div class=\"jp-RenderedHTMLCommon\" style=\"display: flex; flex-direction: row;\">\n",
       "  <svg viewBox=\"0 0 567 224\" fill=\"none\" xmlns=\"http://www.w3.org/2000/svg\" style=\"height: 3em;\">\n",
       "    <g clip-path=\"url(#clip0_4338_178347)\">\n",
       "        <path d=\"M341.29 165.561H355.29L330.13 129.051C345.63 123.991 354.21 112.051 354.21 94.2307C354.21 71.3707 338.72 58.1807 311.88 58.1807H271V165.561H283.27V131.661H311.8C314.25 131.661 316.71 131.501 319.01 131.351L341.25 165.561H341.29ZM283.29 119.851V70.0007H311.82C331.3 70.0007 342.34 78.2907 342.34 94.5507C342.34 111.271 331.34 119.861 311.82 119.861L283.29 119.851ZM451.4 138.411L463.4 165.561H476.74L428.74 58.1807H416L367.83 165.561H380.83L392.83 138.411H451.4ZM446.19 126.601H398L422 72.1407L446.24 126.601H446.19ZM526.11 128.741L566.91 58.1807H554.35L519.99 114.181L485.17 58.1807H472.44L514.01 129.181V165.541H526.13V128.741H526.11Z\" fill=\"var(--jp-ui-font-color0)\"/>\n",
       "        <path d=\"M82.35 104.44C84.0187 97.8827 87.8248 92.0678 93.1671 87.9146C98.5094 83.7614 105.083 81.5067 111.85 81.5067C118.617 81.5067 125.191 83.7614 130.533 87.9146C135.875 92.0678 139.681 97.8827 141.35 104.44H163.75C164.476 101.562 165.622 98.8057 167.15 96.2605L127.45 56.5605C121.071 60.3522 113.526 61.6823 106.235 60.3005C98.9443 58.9187 92.4094 54.9203 87.8602 49.0574C83.3109 43.1946 81.0609 35.8714 81.5332 28.4656C82.0056 21.0599 85.1679 14.0819 90.4252 8.8446C95.6824 3.60726 102.672 0.471508 110.08 0.0272655C117.487 -0.416977 124.802 1.86091 130.647 6.4324C136.493 11.0039 140.467 17.5539 141.821 24.8501C143.175 32.1463 141.816 39.6859 138 46.0505L177.69 85.7505C182.31 82.9877 187.58 81.4995 192.962 81.4375C198.345 81.3755 203.648 82.742 208.33 85.3976C213.012 88.0532 216.907 91.9029 219.616 96.5544C222.326 101.206 223.753 106.492 223.753 111.875C223.753 117.258 222.326 122.545 219.616 127.197C216.907 131.848 213.012 135.698 208.33 138.353C203.648 141.009 198.345 142.375 192.962 142.313C187.58 142.251 182.31 140.763 177.69 138L138 177.7C141.808 184.071 143.155 191.614 141.79 198.91C140.424 206.205 136.44 212.75 130.585 217.313C124.731 221.875 117.412 224.141 110.004 223.683C102.596 223.226 95.6103 220.077 90.3621 214.828C85.1139 209.58 81.9647 202.595 81.5072 195.187C81.0497 187.779 83.3154 180.459 87.878 174.605C92.4405 168.751 98.9853 164.766 106.281 163.401C113.576 162.035 121.119 163.383 127.49 167.19L167.19 127.49C165.664 124.941 164.518 122.182 163.79 119.3H141.39C139.721 125.858 135.915 131.673 130.573 135.826C125.231 139.98 118.657 142.234 111.89 142.234C105.123 142.234 98.5494 139.98 93.2071 135.826C87.8648 131.673 84.0587 125.858 82.39 119.3H60C58.1878 126.495 53.8086 132.78 47.6863 136.971C41.5641 141.163 34.1211 142.972 26.7579 142.059C19.3947 141.146 12.6191 137.574 7.70605 132.014C2.79302 126.454 0.0813599 119.29 0.0813599 111.87C0.0813599 104.451 2.79302 97.2871 7.70605 91.7272C12.6191 86.1673 19.3947 82.5947 26.7579 81.6817C34.1211 80.7686 41.5641 82.5781 47.6863 86.7696C53.8086 90.9611 58.1878 97.2456 60 104.44H82.35ZM100.86 204.32C103.407 206.868 106.759 208.453 110.345 208.806C113.93 209.159 117.527 208.258 120.522 206.256C123.517 204.254 125.725 201.276 126.771 197.828C127.816 194.38 127.633 190.677 126.253 187.349C124.874 184.021 122.383 181.274 119.205 179.577C116.027 177.88 112.359 177.337 108.826 178.042C105.293 178.746 102.113 180.654 99.8291 183.44C97.5451 186.226 96.2979 189.718 96.3 193.32C96.2985 195.364 96.7006 197.388 97.4831 199.275C98.2656 201.163 99.4132 202.877 100.86 204.32ZM204.32 122.88C206.868 120.333 208.453 116.981 208.806 113.396C209.159 109.811 208.258 106.214 206.256 103.219C204.254 100.223 201.275 98.0151 197.827 96.97C194.38 95.9249 190.676 96.1077 187.348 97.4873C184.02 98.8669 181.274 101.358 179.577 104.536C177.879 107.714 177.337 111.382 178.041 114.915C178.746 118.448 180.653 121.627 183.439 123.911C186.226 126.195 189.717 127.443 193.32 127.44C195.364 127.443 197.388 127.042 199.275 126.259C201.163 125.476 202.878 124.328 204.32 122.88ZM122.88 19.4205C120.333 16.8729 116.981 15.2876 113.395 14.9347C109.81 14.5817 106.213 15.483 103.218 17.4849C100.223 19.4868 98.0146 22.4654 96.9696 25.9131C95.9245 29.3608 96.1073 33.0642 97.4869 36.3922C98.8665 39.7202 101.358 42.4668 104.535 44.1639C107.713 45.861 111.381 46.4036 114.914 45.6992C118.447 44.9949 121.627 43.0871 123.911 40.301C126.195 37.515 127.442 34.0231 127.44 30.4205C127.44 28.3772 127.038 26.3539 126.255 24.4664C125.473 22.5788 124.326 20.8642 122.88 19.4205ZM19.42 100.86C16.8725 103.408 15.2872 106.76 14.9342 110.345C14.5813 113.93 15.4826 117.527 17.4844 120.522C19.4863 123.518 22.4649 125.726 25.9127 126.771C29.3604 127.816 33.0638 127.633 36.3918 126.254C39.7198 124.874 42.4664 122.383 44.1635 119.205C45.8606 116.027 46.4032 112.359 45.6988 108.826C44.9944 105.293 43.0866 102.114 40.3006 99.8296C37.5145 97.5455 34.0227 96.2983 30.42 96.3005C26.2938 96.3018 22.337 97.9421 19.42 100.86ZM100.86 100.86C98.3125 103.408 96.7272 106.76 96.3742 110.345C96.0213 113.93 96.9226 117.527 98.9244 120.522C100.926 123.518 103.905 125.726 107.353 126.771C110.8 127.816 114.504 127.633 117.832 126.254C121.16 124.874 123.906 122.383 125.604 119.205C127.301 116.027 127.843 112.359 127.139 108.826C126.434 105.293 124.527 102.114 121.741 99.8296C118.955 97.5455 115.463 96.2983 111.86 96.3005C109.817 96.299 107.793 96.701 105.905 97.4835C104.018 98.2661 102.303 99.4136 100.86 100.86Z\" fill=\"#00AEEF\"/>\n",
       "    </g>\n",
       "    <defs>\n",
       "        <clipPath id=\"clip0_4338_178347\">\n",
       "            <rect width=\"566.93\" height=\"223.75\" fill=\"white\"/>\n",
       "        </clipPath>\n",
       "    </defs>\n",
       "  </svg>\n",
       "</div>\n",
       "\n",
       "        <table class=\"jp-RenderedHTMLCommon\" style=\"border-collapse: collapse;color: var(--jp-ui-font-color1);font-size: var(--jp-ui-font-size1);\">\n",
       "    <tr>\n",
       "        <td style=\"text-align: left\"><b>Python version:</b></td>\n",
       "        <td style=\"text-align: left\"><b>3.9.18</b></td>\n",
       "    </tr>\n",
       "    <tr>\n",
       "        <td style=\"text-align: left\"><b>Ray version:</b></td>\n",
       "        <td style=\"text-align: left\"><b>2.8.0</b></td>\n",
       "    </tr>\n",
       "    <tr>\n",
       "    <td style=\"text-align: left\"><b>Dashboard:</b></td>\n",
       "    <td style=\"text-align: left\"><b><a href=\"http://127.0.0.1:8265\" target=\"_blank\">http://127.0.0.1:8265</a></b></td>\n",
       "</tr>\n",
       "\n",
       "</table>\n",
       "\n",
       "    </div>\n",
       "</div>\n"
      ],
      "text/plain": [
       "RayContext(dashboard_url='127.0.0.1:8265', python_version='3.9.18', ray_version='2.8.0', ray_commit='105355bd253d6538ed34d331f6a4bdf0e38ace3a', protocol_version=None)"
      ]
     },
     "execution_count": 5,
     "metadata": {},
     "output_type": "execute_result"
    }
   ],
   "source": [
    "# Init Ray\n",
    "ray.init(\n",
    "    num_cpus=20, num_gpus=1,\n",
    "    include_dashboard=True,\n",
    "    _system_config={\"maximum_gcs_destroyed_actor_cached_count\": 200},\n",
    ")\n"
   ]
  },
  {
   "cell_type": "code",
   "execution_count": 7,
   "id": "eb4c98a6",
   "metadata": {},
   "outputs": [
    {
     "name": "stdout",
     "output_type": "stream",
     "text": [
      "log path: ./logs/ \n",
      "check_path: ./checkpoints/\n"
     ]
    }
   ],
   "source": [
    "# Config path\n",
    "log_path = \"./logs/\"\n",
    "checkpoint_path = \"./checkpoints/\"\n",
    "setting = Dynaconf(envvar_prefix=\"DYNACONF\", settings_files=\"./apex.yml\")\n",
    "\n",
    "# Set hyper parameters\n",
    "hyper_parameters = setting.hyper_parameters.to_dict()\n",
    "hyper_parameters[\"logger_config\"] = {\"type\": JsonLogger, \"logdir\": checkpoint_path}\n",
    "print(\"log path: %s \\ncheck_path: %s\" % (log_path, checkpoint_path))"
   ]
  },
  {
   "cell_type": "code",
   "execution_count": 8,
   "id": "cd9853d7",
   "metadata": {},
   "outputs": [],
   "source": [
    "hyper_parameters[\"env_config\"] = {\n",
    "        \"size\": 20,\n",
    "        \"roads\": (5, 7),\n",
    "        \"max_steps\": 1000,\n",
    "        \"battery\":100,\n",
    "        \"render_mode\": \"rgb_array\",\n",
    "        \"agent_pov\": False\n",
    "    }"
   ]
  },
  {
   "cell_type": "code",
   "execution_count": 9,
   "id": "bfb7949d-b576-4280-8fa6-037aecc599a9",
   "metadata": {},
   "outputs": [],
   "source": [
    "# Set MLflow\n",
    "mlflow.set_tracking_uri(setting.mlflow.url)\n",
    "mlflow.set_experiment(experiment_name=setting.mlflow.experiment)\n",
    "mlflow_client = mlflow.tracking.MlflowClient()"
   ]
  },
  {
   "cell_type": "code",
   "execution_count": 23,
   "id": "791082c2-2a67-44ff-9576-e971ef7f2db3",
   "metadata": {},
   "outputs": [
    {
     "name": "stdout",
     "output_type": "stream",
     "text": [
      "Discrete(3) Box(0, 255, (160, 160, 3), uint8)\n"
     ]
    }
   ],
   "source": [
    "# Build env\n",
    "def env_creator(env_config):\n",
    "    env = RouteEnv(**env_config)\n",
    "    env = FullRGBImgPartialObsWrapper(env, tile_size=8)\n",
    "#     env = RGBImgPartialObsWrapper(env, tile_size=10)\n",
    "    env = TimeLimit(env, max_episode_steps=1000)\n",
    "    return ImgObsWrapper(env)\n",
    "\n",
    "register_env(\"RandomRoad\", env_creator)\n",
    "\n",
    "env = env_creator(hyper_parameters[\"env_config\"])\n",
    "obs, _ = env.reset()\n",
    "step = env.step(1)\n",
    "print(env.action_space, env.observation_space)"
   ]
  },
  {
   "cell_type": "code",
   "execution_count": 24,
   "id": "853c0788-a9bf-456f-a5c7-d5827e982245",
   "metadata": {},
   "outputs": [
    {
     "data": {
      "image/png": "[encoded data removed]",
      "text/plain": [
       "<Figure size 640x480 with 1 Axes>"
      ]
     },
     "metadata": {},
     "output_type": "display_data"
    }
   ],
   "source": [
    "import matplotlib.pyplot as plt\n",
    "\n",
    "plt.imshow(obs)\n",
    "plt.axis('off')\n",
    "plt.show()"
   ]
  },
  {
   "cell_type": "code",
   "execution_count": 32,
   "id": "3bf16081",
   "metadata": {},
   "outputs": [
    {
     "data": {
      "text/plain": [
       "CustomCNN(\n",
       "  (conv_layers): Sequential(\n",
       "    (0): SlimConv2d(\n",
       "      (_model): Sequential(\n",
       "        (0): ZeroPad2d((2, 2, 2, 2))\n",
       "        (1): Conv2d(3, 32, kernel_size=(8, 8), stride=(4, 4))\n",
       "        (2): ReLU()\n",
       "      )\n",
       "    )\n",
       "    (1): SlimConv2d(\n",
       "      (_model): Sequential(\n",
       "        (0): ZeroPad2d((1, 1, 1, 1))\n",
       "        (1): Conv2d(32, 64, kernel_size=(4, 4), stride=(2, 2))\n",
       "        (2): ReLU()\n",
       "      )\n",
       "    )\n",
       "    (2): SlimConv2d(\n",
       "      (_model): Sequential(\n",
       "        (0): ZeroPad2d((1, 1, 1, 1))\n",
       "        (1): Conv2d(64, 128, kernel_size=(3, 3), stride=(2, 2))\n",
       "        (2): ReLU()\n",
       "      )\n",
       "    )\n",
       "    (3): SlimConv2d(\n",
       "      (_model): Sequential(\n",
       "        (0): ZeroPad2d((1, 1, 1, 1))\n",
       "        (1): Conv2d(128, 128, kernel_size=(3, 3), stride=(2, 2))\n",
       "        (2): ReLU()\n",
       "      )\n",
       "    )\n",
       "    (4): SlimConv2d(\n",
       "      (_model): Sequential(\n",
       "        (0): Conv2d(128, 512, kernel_size=(2, 2), stride=(1, 1))\n",
       "        (1): ReLU()\n",
       "      )\n",
       "    )\n",
       "  )\n",
       "  (fc_layers): Sequential(\n",
       "    (0): SlimFC(\n",
       "      (_model): Sequential(\n",
       "        (0): Linear(in_features=8192, out_features=512, bias=True)\n",
       "      )\n",
       "    )\n",
       "    (1): SlimFC(\n",
       "      (_model): Sequential(\n",
       "        (0): Linear(in_features=512, out_features=128, bias=True)\n",
       "      )\n",
       "    )\n",
       "    (2): SlimFC(\n",
       "      (_model): Sequential(\n",
       "        (0): Linear(in_features=128, out_features=3, bias=True)\n",
       "      )\n",
       "    )\n",
       "  )\n",
       ")"
      ]
     },
     "execution_count": 32,
     "metadata": {},
     "output_type": "execute_result"
    }
   ],
   "source": [
    "CustomCNN(obs_space=env.observation_space,\n",
    "          action_space=env.action_space,\n",
    "          num_outputs=env.action_space,\n",
    "          model_config={},\n",
    "          name=\"Test\")"
   ]
  },
  {
   "cell_type": "code",
   "execution_count": 26,
   "id": "6bd70086-a1aa-42bc-96c6-608ebba16947",
   "metadata": {},
   "outputs": [],
   "source": [
    "run_name = \"MultiRoad DPBER\"\n",
    "mlflow_run = mlflow.start_run(run_name=run_name,\n",
    "                              tags={\"mlflow.user\": setting.mlflow.user})"
   ]
  },
  {
   "cell_type": "code",
   "execution_count": 27,
   "id": "4d8e9c72",
   "metadata": {},
   "outputs": [],
   "source": [
    "ModelCatalog.register_custom_model(\"CustomCNN\", CustomCNN)\n",
    "\n",
    "hyper_parameters[\"model\"] = {\n",
    "        \"custom_model\": \"CustomCNN\",\n",
    "        \"no_final_linear\": True,\n",
    "        \"fcnet_hiddens\": hyper_parameters[\"hiddens\"],\n",
    "        \"custom_model_config\": {},\n",
    "    }"
   ]
  },
  {
   "cell_type": "code",
   "execution_count": 28,
   "id": "93ea542b-937f-44c5-bd44-d0101614a46a",
   "metadata": {},
   "outputs": [
    {
     "name": "stderr",
     "output_type": "stream",
     "text": [
      "2024-01-15 11:25:58,325\tWARNING deprecation.py:50 -- DeprecationWarning: `algo = Algorithm(env='RandomRoad', ...)` has been deprecated. Use `algo = AlgorithmConfig().environment('RandomRoad').build()` instead. This will raise an error in the future!\n",
      "\u001b[36m(RolloutWorker pid=1109284)\u001b[0m 2024-01-15 11:26:02,206\tWARNING __init__.py:10 -- ApexDQN has/have been moved to `rllib_contrib` and will no longer be maintained by the RLlib team. You can still use it/them normally inside RLlib util Ray 2.8, but from Ray 2.9 on, all `rllib_contrib` algorithms will no longer be part of the core repo, and will therefore have to be installed separately with pinned dependencies for e.g. ray[rllib] and other packages! See https://github.com/ray-project/ray/tree/master/rllib_contrib#rllib-contrib for more information on the RLlib contrib effort.\n"
     ]
    }
   ],
   "source": [
    "# Set BER\n",
    "sub_buffer_size = hyper_parameters[\"rollout_fragment_length\"]\n",
    "replay_buffer_config = {\n",
    "    **hyper_parameters[\"replay_buffer_config\"],\n",
    "    \"type\": MultiAgentPrioritizedBlockReplayBuffer,\n",
    "    \"capacity\": int(hyper_parameters[\"replay_buffer_config\"][\"capacity\"]),\n",
    "    \"obs_space\": env.observation_space,\n",
    "    \"action_space\": env.action_space,\n",
    "    \"sub_buffer_size\": sub_buffer_size,\n",
    "    \"worker_side_prioritization\": False,\n",
    "    \"replay_buffer_shards_colocated_with_driver\": True,\n",
    "    \"rollout_fragment_length\": hyper_parameters[\"rollout_fragment_length\"]\n",
    "}\n",
    "hyper_parameters[\"replay_buffer_config\"] = replay_buffer_config\n",
    "hyper_parameters[\"train_batch_size\"] = int(hyper_parameters[\"train_batch_size\"] / sub_buffer_size)\n",
    "trainer = ApexDDQNWithDPBER(config=hyper_parameters, env=\"RandomRoad\")"
   ]
  },
  {
   "cell_type": "code",
   "execution_count": 29,
   "id": "29a7a3a6-6109-4e03-80ad-3508f7bdb57d",
   "metadata": {},
   "outputs": [],
   "source": [
    "for i in hyper_parameters[\"resources\"]:\n",
    "    hyper_parameters[i] = hyper_parameters[\"resources\"][i]"
   ]
  },
  {
   "cell_type": "code",
   "execution_count": 30,
   "id": "3ce9e8bc-cea0-4425-ae48-196b052fd0a2",
   "metadata": {},
   "outputs": [],
   "source": [
    "# Log parameters\n",
    "mlflow.log_params(hyper_parameters[\"replay_buffer_config\"])\n",
    "to_log = ['double_q', 'dueling', 'noisy', 'adam_epsilon', 'lr', 'n_step', 'num_atoms', 'num_steps_sampled_before_learning_starts',\n",
    "          'rollout_fragment_length', 'target_network_update_freq', 'train_batch_size', 'min_sample_timesteps_per_iteration']\n",
    "mlflow.log_params(\n",
    "    {key: hyper_parameters[key] for key in to_log})"
   ]
  },
  {
   "cell_type": "code",
   "execution_count": 33,
   "id": "fe372b51-0781-451b-bd30-0070f62afc19",
   "metadata": {},
   "outputs": [
    {
     "name": "stderr",
     "output_type": "stream",
     "text": [
      "INFO:botocore.credentials:Found credentials in shared credentials file: ~/.aws/credentials\n"
     ]
    }
   ],
   "source": [
    "# Check path available\n",
    "check_path(log_path)\n",
    "log_path = path.join(log_path, run_name)\n",
    "check_path(log_path)\n",
    "check_path(checkpoint_path)\n",
    "checkpoint_path = path.join(checkpoint_path, run_name)\n",
    "check_path(checkpoint_path)\n",
    "\n",
    "with open(os.path.join(checkpoint_path, \"%s_config.pyl\" % run_name), \"wb\") as f:\n",
    "    pickle.dump(trainer.config.to_dict(), f)\n",
    "\n",
    "checkpoint_path = path.join(checkpoint_path, \"results\")\n",
    "check_path(checkpoint_path)\n",
    "mlflow.log_artifacts(checkpoint_path)"
   ]
  },
  {
   "cell_type": "code",
   "execution_count": 34,
   "id": "ea6ce8c2-67c3-499b-ab4e-56fec7bb0ec8",
   "metadata": {},
   "outputs": [],
   "source": [
    "# Run algorithms\n",
    "keys_to_extract_sam = {\"episode_reward_max\", \"episode_reward_min\", \"episode_reward_mean\"}\n",
    "keys_to_extract_sta = {\"num_agent_steps_sampled\", \"num_agent_steps_trained\", \"episode_reward_mean\"}\n",
    "keys_to_extract_buf = {\"add_batch_time_ms\", \"replay_time_ms\", \"update_priorities_time_ms\"}"
   ]
  },
  {
   "cell_type": "code",
   "execution_count": null,
   "id": "5131c56b",
   "metadata": {},
   "outputs": [
    {
     "name": "stderr",
     "output_type": "stream",
     "text": [
      "  0%|                                                  | 0/1999 [00:00<?, ?it/s]\u001b[36m(MultiAgentPrioritizedBlockReplayBuffer pid=1110354)\u001b[0m 2024-01-15 16:45:05,263\tWARNING multi_agent_prioritized_replay_buffer.py:215 -- Adding batches with column `weights` to this buffer while providing weights as a call argument to the add method results in the column being overwritten.\n"
     ]
    }
   ],
   "source": [
    "for i in tqdm.tqdm(range(1, 2000)):\n",
    "    result = trainer.train()\n",
    "    try:\n",
    "        result = trainer.train()\n",
    "        time_used = result[\"time_total_s\"]\n",
    "    except:\n",
    "        continue\n",
    "    try:\n",
    "        if i >= setting.log.log and i % setting.log.log == 0:\n",
    "            sampler = result.get(\"sampler_results\", {}).copy()\n",
    "            info = result.get(\"info\", {}).copy()\n",
    "            sam = {key: sampler[key] for key in keys_to_extract_sam if key in sampler}\n",
    "            sta = {key: info[key] for key in keys_to_extract_sta if key in info}\n",
    "            buf = flatten_dict(info.get(\"replay_shard_0\", {}))\n",
    "            lea = info.get(\"learner\", {}).get(\"time_usage\", {})\n",
    "            mlflow.log_metrics({**sam, **sta, **buf, **lea}, step=result[\"episodes_total\"])\n",
    "            trainer.save_checkpoint(checkpoint_path)\n",
    "        if i % (setting.log.log * 100) == 0:\n",
    "            mlflow.log_artifacts(log_path)\n",
    "            mlflow.log_artifacts(checkpoint_path)\n",
    "    except FunctionTimedOut:\n",
    "        tqdm.tqdm.write(\"logging failed\")\n",
    "    except MlflowException:\n",
    "        tqdm.tqdm.write(\"logging failed\")\n",
    "    with open(path.join(log_path, str(i) + \".json\"), \"w\") as f:\n",
    "        result[\"config\"] = None\n",
    "        json.dump(convert_np_arrays(result), f)\n",
    "    if time_used >= setting.log.max_time:\n",
    "        break"
   ]
  },
  {
   "cell_type": "code",
   "execution_count": null,
   "id": "54c81f31-ebc3-49b6-84a3-67eaf075e969",
   "metadata": {},
   "outputs": [],
   "source": []
  },
  {
   "cell_type": "code",
   "execution_count": null,
   "id": "989748ec-893c-4724-a789-b7c21e770588",
   "metadata": {},
   "outputs": [],
   "source": []
  }
 ],
 "metadata": {
  "kernelspec": {
   "display_name": "Python [conda env:drone]",
   "language": "python",
   "name": "conda-env-drone-py"
  },
  "language_info": {
   "codemirror_mode": {
    "name": "ipython",
    "version": 3
   },
   "file_extension": ".py",
   "mimetype": "text/x-python",
   "name": "python",
   "nbconvert_exporter": "python",
   "pygments_lexer": "ipython3",
   "version": "3.9.18"
  }
 },
 "nbformat": 4,
 "nbformat_minor": 5
}
