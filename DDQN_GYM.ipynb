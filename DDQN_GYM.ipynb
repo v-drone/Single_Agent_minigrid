{
 "cells": [
  {
   "cell_type": "code",
   "execution_count": 1,
   "metadata": {},
   "outputs": [
    {
     "name": "stderr",
     "output_type": "stream",
     "text": [
      "/home/seventheli/.local/lib/python3.8/site-packages/gluoncv/__init__.py:40: UserWarning: Both `mxnet==1.9.0` and `torch==1.10.0+cu113` are installed. You might encounter increased GPU memory footprint if both framework are used at the same time.\n",
      "  warnings.warn(f'Both `mxnet=={mx.__version__}` and `torch=={torch.__version__}` are installed. '\n"
     ]
    }
   ],
   "source": [
    "import mxnet as mx\n",
    "import random\n",
    "import numpy as np\n",
    "import gym\n",
    "import time\n",
    "import logging\n",
    "import matplotlib.pyplot as plt\n",
    "from memory import Memory\n",
    "from mxnet import nd, autograd\n",
    "from IPython import display\n",
    "from collections import namedtuple\n",
    "from model.simple_stack import SimpleStack"
   ]
  },
  {
   "cell_type": "markdown",
   "metadata": {},
   "source": [
    "#### Update Network\n",
    "* Draw batches of tuples from the replay buffer: $(\\phi,r,a,\\phi')$.\n",
    "* Define the following loss\n",
    "$$\\Large(\\small Q(\\phi,a,\\theta)-r-Q(\\phi',argmax_{a'}Q(\\phi',a',\\theta),\\theta^-)\\Large)^2$$\n",
    "* Where $\\theta^-$ is the parameter of the target network.( Set $Q(\\phi',a',\\theta^-)$ to zero if $\\phi$ is the preprocessed termination state). \n",
    "* Update the $\\theta$\n",
    "* Update the $\\theta^-$ once in a while"
   ]
  },
  {
   "cell_type": "code",
   "execution_count": 16,
   "metadata": {},
   "outputs": [],
   "source": [
    "#Articheture\n",
    "channel = 1\n",
    "batch_size = 4\n",
    "image_size = 84\n",
    "#Trickes\n",
    "# The size of replay buffer; set it to size of your memory (.5M for 50G available memory)\n",
    "replay_buffer_size = 100000\n",
    "# With Freq of 1/4 step update the Q-network\n",
    "learning_frequency = 4\n",
    "# Skip N-1 raw frames between steps\n",
    "skip_frame = 1\n",
    " # Skip N-1 raw frames between skipped frames\n",
    "internal_skip_frame = 1\n",
    "# Each state is formed as a concatination N step frames [f(t-4),f(t-3),f(t-2),f(t)]\n",
    "frame_len = 4\n",
    "# Update the target network each 10000 steps\n",
    "Target_update = 10000\n",
    "# Minimum level of stochasticity of policy (epsilon)-greedy\n",
    "epsilon_min = 0.1\n",
    "# The number of step it take to linearly anneal the epsilon to it min value\n",
    "annealing_end = 1000000.\n",
    "# The discount factor\n",
    "gamma = 0.99\n",
    "# Start to backpropagated through the network, learning starts\n",
    "replay_start_size = 5000\n",
    "# Run uniform policy for first 5 times step of the beginning of the game\n",
    "no_op_max = 10 / skip_frame\n",
    "#otimization\n",
    "num_episode = 10000000  # Number episode to run the algorithm\n",
    "max_frame = 200000000\n",
    "# RMSprop learning rate\n",
    "lr = 0.001\n",
    "# RMSprop gamma1\n",
    "gamma1 = 0.95  \n",
    "# RMSprop gamma2\n",
    "gamma2 = 0.95\n",
    "rms_eps = 0.01\n",
    "# Enables gpu if available, if not, set it to mx.cpu()\n",
    "ctx = mx.gpu()  "
   ]
  },
  {
   "cell_type": "code",
   "execution_count": 3,
   "metadata": {},
   "outputs": [],
   "source": [
    "env_name = 'AssaultNoFrameskip-v4'\n",
    "env = gym.make(env_name)\n",
    "num_action = env.action_space.n\n",
    "manualSeed = 1  # random.randint(1, 10000) # Set the desired seed to reproduce the results\n",
    "mx.random.seed(manualSeed)\n",
    "loss_f = mx.gluon.loss.L2Loss(batch_axis=0)"
   ]
  },
  {
   "cell_type": "code",
   "execution_count": 4,
   "metadata": {},
   "outputs": [],
   "source": [
    "manualSeed = 1 # random.randint(1, 10000) # Set the desired seed to reproduce the results\n",
    "mx.random.seed(manualSeed)"
   ]
  },
  {
   "cell_type": "code",
   "execution_count": 5,
   "metadata": {},
   "outputs": [],
   "source": [
    "offline_model = SimpleStack(env.action_space.n, frame_len, channel=channel)\n",
    "offline_model.collect_params().initialize(mx.init.Normal(0.02), ctx=ctx)\n",
    "offline_model.collect_params().zero_grad()"
   ]
  },
  {
   "cell_type": "code",
   "execution_count": 6,
   "metadata": {},
   "outputs": [],
   "source": [
    "online_model = SimpleStack(env.action_space.n, frame_len, channel=channel)\n",
    "online_model.collect_params().initialize(mx.init.Normal(0.02), ctx=ctx)"
   ]
  },
  {
   "cell_type": "code",
   "execution_count": 7,
   "metadata": {},
   "outputs": [],
   "source": [
    "trainer = mx.gluon.Trainer(offline_model.collect_params(), 'RMSProp',\n",
    "                           {'learning_rate': lr, 'gamma1': gamma1, 'gamma2': gamma2, 'epsilon': rms_eps, 'centered': True})"
   ]
  },
  {
   "cell_type": "code",
   "execution_count": 8,
   "metadata": {},
   "outputs": [],
   "source": [
    "def preprocess(raw_frame, channel_number=4, frame_num=4, currentState = None, initial_state = False):\n",
    "    raw_frame = nd.array(raw_frame,mx.cpu())\n",
    "    raw_frame = nd.reshape(nd.mean(raw_frame, axis = 2),shape = (raw_frame.shape[0],raw_frame.shape[1],1))\n",
    "    raw_frame = mx.image.imresize(raw_frame,  image_size, image_size)\n",
    "    raw_frame = nd.transpose(raw_frame, (2,0,1))\n",
    "    raw_frame = raw_frame.astype('float32')/255.\n",
    "    if initial_state == True:\n",
    "        state = raw_frame\n",
    "        for _ in range(opt.frame_len-1):\n",
    "            state = nd.concat(state , raw_frame, dim = 0)\n",
    "    else:\n",
    "        state = mx.nd.concat(currentState[1:,:,:], raw_frame, dim = 0)\n",
    "    return state, raw_frame\n"
   ]
  },
  {
   "cell_type": "code",
   "execution_count": 9,
   "metadata": {},
   "outputs": [],
   "source": [
    "def rew_clipper(_):\n",
    "    if _ > 0.:\n",
    "        return 1.\n",
    "    elif _ < 0.:\n",
    "        return -1.\n",
    "    else:\n",
    "        return 0"
   ]
  },
  {
   "cell_type": "code",
   "execution_count": 10,
   "metadata": {},
   "outputs": [],
   "source": [
    "def renderimage(next_frame):\n",
    "    if render_image:\n",
    "        plt.imshow(next_frame)\n",
    "        plt.show()\n",
    "        display.clear_output(wait=True)\n",
    "        time.sleep(.1)"
   ]
  },
  {
   "cell_type": "markdown",
   "metadata": {},
   "source": [
    "### Initialize arrays"
   ]
  },
  {
   "cell_type": "code",
   "execution_count": 19,
   "metadata": {},
   "outputs": [],
   "source": [
    "# Counts the number of steps so far\n",
    "frame_counter = 0.\n",
    "# Counts the number of annealing steps\n",
    "annealing_count = 0.\n",
    "# Counts the number episodes so far\n",
    "epis_count = 0.\n",
    "# Initialize the replay buffer\n",
    "replay_memory = Memory(replay_buffer_size, frame_len=frame_len)\n",
    "tot_reward = []\n",
    "tot_clipped_reward = []\n",
    "frame_count_record = []\n",
    "cost = []\n",
    "average_clipped = 0.\n",
    "average = 0."
   ]
  },
  {
   "cell_type": "code",
   "execution_count": 12,
   "metadata": {},
   "outputs": [],
   "source": [
    "render_image = False  # Whether to render Frames and show the game"
   ]
  },
  {
   "cell_type": "markdown",
   "metadata": {},
   "source": [
    "### Train the model"
   ]
  },
  {
   "cell_type": "code",
   "execution_count": null,
   "metadata": {
    "scrolled": false
   },
   "outputs": [
    {
     "name": "stdout",
     "output_type": "stream",
     "text": [
      "time cost=6, epis=0,eps=1.000,durat=2010,fnum=2010, cum_cl_rew = 17.000, cum_rew = 357.000,tot_cl = 0.000 , tot = 0.000\n",
      "annealing and laerning are started \n",
      "time cost=42, epis=10,eps=0.982,durat=2362,fnum=22781, cum_cl_rew = 14.000, cum_rew = 294.000,tot_cl = 0.000 , tot = 0.000\n",
      "time cost=47, epis=20,eps=0.963,durat=1369,fnum=41741, cum_cl_rew = 10.000, cum_rew = 210.000,tot_cl = 0.000 , tot = 0.000\n",
      "time cost=49, epis=30,eps=0.942,durat=1882,fnum=62622, cum_cl_rew = 14.000, cum_rew = 294.000,tot_cl = 0.000 , tot = 0.000\n",
      "time cost=50, epis=40,eps=0.922,durat=1882,fnum=83335, cum_cl_rew = 13.000, cum_rew = 273.000,tot_cl = 0.000 , tot = 0.000\n",
      "time cost=51, epis=50,eps=0.900,durat=1497,fnum=104530, cum_cl_rew = 10.000, cum_rew = 210.000,tot_cl = 0.000 , tot = 0.000\n",
      "time cost=52, epis=60,eps=0.877,durat=2329,fnum=127633, cum_cl_rew = 10.000, cum_rew = 210.000,tot_cl = 0.000 , tot = 0.000\n",
      "time cost=53, epis=70,eps=0.855,durat=2433,fnum=150367, cum_cl_rew = 15.000, cum_rew = 315.000,tot_cl = 0.000 , tot = 0.000\n",
      "time cost=54, epis=80,eps=0.833,durat=2586,fnum=171777, cum_cl_rew = 13.000, cum_rew = 273.000,tot_cl = 0.000 , tot = 0.000\n",
      "time cost=54, epis=90,eps=0.812,durat=1690,fnum=193458, cum_cl_rew = 9.000, cum_rew = 189.000,tot_cl = 0.000 , tot = 0.000\n",
      "time cost=54, epis=100,eps=0.790,durat=1540,fnum=214556, cum_cl_rew = 9.000, cum_rew = 189.000,tot_cl = 0.000 , tot = 0.000\n",
      "time cost=55, epis=110,eps=0.767,durat=2393,fnum=237797, cum_cl_rew = 14.000, cum_rew = 294.000,tot_cl = 14.470 , tot = 303.870\n",
      "time cost=55, epis=120,eps=0.745,durat=2306,fnum=260453, cum_cl_rew = 19.000, cum_rew = 399.000,tot_cl = 14.540 , tot = 305.340\n",
      "time cost=56, epis=130,eps=0.720,durat=1946,fnum=284582, cum_cl_rew = 12.000, cum_rew = 252.000,tot_cl = 14.680 , tot = 308.280\n",
      "time cost=56, epis=140,eps=0.701,durat=2170,fnum=303515, cum_cl_rew = 13.000, cum_rew = 273.000,tot_cl = 14.460 , tot = 303.660\n",
      "time cost=56, epis=150,eps=0.679,durat=2306,fnum=325868, cum_cl_rew = 19.000, cum_rew = 399.000,tot_cl = 14.220 , tot = 298.620\n",
      "time cost=57, epis=160,eps=0.656,durat=2554,fnum=348765, cum_cl_rew = 9.000, cum_rew = 189.000,tot_cl = 14.430 , tot = 303.030\n",
      "time cost=57, epis=170,eps=0.635,durat=1882,fnum=369835, cum_cl_rew = 12.000, cum_rew = 252.000,tot_cl = 14.250 , tot = 299.250\n",
      "time cost=57, epis=180,eps=0.613,durat=2433,fnum=392371, cum_cl_rew = 16.000, cum_rew = 336.000,tot_cl = 14.360 , tot = 301.560\n",
      "time cost=57, epis=190,eps=0.591,durat=2138,fnum=413536, cum_cl_rew = 14.000, cum_rew = 294.000,tot_cl = 14.080 , tot = 295.680\n",
      "time cost=57, epis=200,eps=0.569,durat=1666,fnum=435945, cum_cl_rew = 13.000, cum_rew = 273.000,tot_cl = 14.130 , tot = 296.730\n",
      "time cost=58, epis=210,eps=0.545,durat=2393,fnum=459721, cum_cl_rew = 18.000, cum_rew = 378.000,tot_cl = 14.160 , tot = 297.360\n",
      "time cost=58, epis=220,eps=0.523,durat=2554,fnum=482302, cum_cl_rew = 15.000, cum_rew = 315.000,tot_cl = 13.900 , tot = 291.900\n",
      "time cost=58, epis=230,eps=0.501,durat=1798,fnum=504190, cum_cl_rew = 16.000, cum_rew = 336.000,tot_cl = 13.820 , tot = 290.220\n",
      "time cost=59, epis=240,eps=0.476,durat=2713,fnum=528645, cum_cl_rew = 17.000, cum_rew = 357.000,tot_cl = 14.000 , tot = 294.000\n",
      "time cost=59, epis=250,eps=0.455,durat=2009,fnum=550500, cum_cl_rew = 11.000, cum_rew = 231.000,tot_cl = 14.020 , tot = 294.420\n",
      "time cost=59, epis=260,eps=0.430,durat=2362,fnum=574872, cum_cl_rew = 12.000, cum_rew = 252.000,tot_cl = 13.820 , tot = 290.220\n",
      "time cost=60, epis=270,eps=0.408,durat=2266,fnum=597377, cum_cl_rew = 11.000, cum_rew = 231.000,tot_cl = 13.780 , tot = 289.380\n",
      "time cost=60, epis=280,eps=0.383,durat=1922,fnum=621875, cum_cl_rew = 18.000, cum_rew = 378.000,tot_cl = 13.760 , tot = 288.960\n",
      "time cost=60, epis=290,eps=0.363,durat=2202,fnum=641930, cum_cl_rew = 13.000, cum_rew = 273.000,tot_cl = 13.630 , tot = 286.230\n",
      "time cost=60, epis=300,eps=0.342,durat=1946,fnum=662711, cum_cl_rew = 14.000, cum_rew = 294.000,tot_cl = 13.330 , tot = 279.930\n",
      "time cost=60, epis=310,eps=0.319,durat=3034,fnum=686270, cum_cl_rew = 20.000, cum_rew = 420.000,tot_cl = 13.040 , tot = 273.840\n",
      "time cost=60, epis=320,eps=0.297,durat=2490,fnum=707729, cum_cl_rew = 13.000, cum_rew = 273.000,tot_cl = 13.030 , tot = 273.630\n",
      "time cost=60, epis=330,eps=0.273,durat=2746,fnum=731898, cum_cl_rew = 14.000, cum_rew = 294.000,tot_cl = 12.830 , tot = 269.430\n",
      "time cost=61, epis=340,eps=0.249,durat=2178,fnum=755970, cum_cl_rew = 13.000, cum_rew = 273.000,tot_cl = 12.590 , tot = 264.390\n",
      "time cost=61, epis=350,eps=0.225,durat=3098,fnum=779906, cum_cl_rew = 16.000, cum_rew = 336.000,tot_cl = 12.530 , tot = 263.130\n",
      "time cost=61, epis=360,eps=0.200,durat=2714,fnum=804684, cum_cl_rew = 10.000, cum_rew = 210.000,tot_cl = 12.620 , tot = 265.020\n",
      "time cost=62, epis=370,eps=0.177,durat=2714,fnum=828159, cum_cl_rew = 9.000, cum_rew = 189.000,tot_cl = 12.600 , tot = 264.600\n",
      "time cost=62, epis=380,eps=0.155,durat=1284,fnum=849670, cum_cl_rew = 4.000, cum_rew = 84.000,tot_cl = 12.140 , tot = 254.940\n",
      "time cost=62, epis=390,eps=0.133,durat=2874,fnum=871535, cum_cl_rew = 10.000, cum_rew = 210.000,tot_cl = 12.020 , tot = 252.420\n",
      "time cost=62, epis=400,eps=0.109,durat=2842,fnum=895964, cum_cl_rew = 5.000, cum_rew = 105.000,tot_cl = 12.040 , tot = 252.840\n",
      "time cost=63, epis=410,eps=0.100,durat=2202,fnum=923709, cum_cl_rew = 7.000, cum_rew = 147.000,tot_cl = 11.890 , tot = 249.690\n",
      "time cost=63, epis=420,eps=0.100,durat=2179,fnum=949314, cum_cl_rew = 9.000, cum_rew = 189.000,tot_cl = 11.700 , tot = 245.700\n",
      "time cost=63, epis=430,eps=0.100,durat=2042,fnum=975349, cum_cl_rew = 8.000, cum_rew = 168.000,tot_cl = 11.750 , tot = 246.750\n",
      "time cost=64, epis=440,eps=0.100,durat=2906,fnum=1003670, cum_cl_rew = 10.000, cum_rew = 210.000,tot_cl = 11.870 , tot = 249.270\n",
      "time cost=64, epis=450,eps=0.100,durat=2562,fnum=1028104, cum_cl_rew = 13.000, cum_rew = 273.000,tot_cl = 11.720 , tot = 246.120\n",
      "time cost=64, epis=460,eps=0.100,durat=2041,fnum=1052814, cum_cl_rew = 10.000, cum_rew = 210.000,tot_cl = 11.450 , tot = 240.450\n",
      "time cost=65, epis=470,eps=0.100,durat=3334,fnum=1079982, cum_cl_rew = 12.000, cum_rew = 252.000,tot_cl = 11.360 , tot = 238.560\n",
      "time cost=65, epis=480,eps=0.100,durat=2394,fnum=1104715, cum_cl_rew = 8.000, cum_rew = 168.000,tot_cl = 11.520 , tot = 241.920\n"
     ]
    }
   ],
   "source": [
    "batch_state = nd.empty((batch_size,frame_len,image_size,image_size), ctx)\n",
    "batch_state_next = nd.empty((batch_size,frame_len,image_size,image_size), ctx)\n",
    "batch_reward = nd.empty((batch_size), ctx)\n",
    "batch_action = nd.empty((batch_size), ctx)\n",
    "batch_done = nd.empty((batch_size), ctx)\n",
    "batch_battery = nd.empty((batch_size), ctx)\n",
    "while frame_counter < max_frame:\n",
    "    initial_state = True\n",
    "    cum_clipped_reward = 0\n",
    "    cum_reward = 0\n",
    "    next_frame = env.reset()\n",
    "    state, current_frame = preprocess(next_frame, initial_state=initial_state)\n",
    "    t = 0.\n",
    "    done = False\n",
    "    _t = time.time()\n",
    "    while not done:\n",
    "        mx.nd.waitall()\n",
    "        previous_state = state\n",
    "        # show the frame\n",
    "        renderimage(next_frame)\n",
    "        sample = random.random()\n",
    "        if frame_counter > replay_start_size:\n",
    "            annealing_count += 1\n",
    "        if frame_counter == replay_start_size:\n",
    "            print('annealing and laerning are started ')\n",
    "        eps = np.maximum(1. - annealing_count / annealing_end, epsilon_min)\n",
    "        effective_eps = eps\n",
    "        if t < no_op_max:\n",
    "            effective_eps = 1.\n",
    "        # epsilon greedy policy\n",
    "        if sample < effective_eps:\n",
    "            action = random.randint(0, num_action - 1)\n",
    "        else:\n",
    "            data = [nd.array(state.reshape([1, frame_len, image_size, image_size]), ctx), nd.array([100], ctx)]\n",
    "            action = int(nd.argmax(offline_model(data), axis=1).as_in_context(mx.cpu()).asscalar())\n",
    "        # Skip frame\n",
    "        frame_rewards = 0\n",
    "        for skip in range(skip_frame-1):\n",
    "            next_frame, reward, done, _ = env.step(action)\n",
    "            renderimage(next_frame)\n",
    "            cum_clipped_reward += rew_clipper(reward)\n",
    "            rew += reward\n",
    "            for internal_skip in range(internal_skip_frame-1):\n",
    "                _ , reward, done,_ = env.step(action)\n",
    "                cum_clipped_reward += rew_clipper(reward)\n",
    "                frame_rewards += reward\n",
    "        next_frame, reward, done, extra = env.step(action)\n",
    "        extra = extra[\"lives\"]\n",
    "        renderimage(next_frame)\n",
    "        cum_clipped_reward += rew_clipper(reward)\n",
    "        frame_rewards += reward\n",
    "        cum_reward += frame_rewards\n",
    "        # Reward clipping\n",
    "        reward = rew_clipper(frame_rewards)\n",
    "        replay_memory.push((current_frame * 255.).astype(np.uint8), action, reward, done, extra, initial_state)\n",
    "        state, current_frame = preprocess(next_frame, state)\n",
    "        initial_state = False\n",
    "        # Train\n",
    "        if frame_counter > replay_start_size:\n",
    "            if frame_counter % learning_frequency == 0:\n",
    "                replay_memory.sample(batch_size,batch_state,batch_state_next,batch_reward,batch_action,batch_done, batch_battery)\n",
    "                with autograd.record():\n",
    "                    argmax_Q = nd.argmax(offline_model([batch_state_next, batch_battery]), axis=1).astype('uint8')\n",
    "                    Q_sp = nd.pick(online_model([batch_state_next, batch_battery]), argmax_Q, 1)\n",
    "                    Q_sp = Q_sp * (nd.ones(batch_size, ctx=ctx) - batch_done)\n",
    "                    Q_s_array = offline_model([batch_state, batch_battery])\n",
    "                    Q_s = nd.pick(Q_s_array, batch_action, 1)\n",
    "                    loss = nd.mean(loss_f(Q_s, (batch_reward + gamma * Q_sp)))\n",
    "                loss.backward()\n",
    "                trainer.step(batch_size)\n",
    "        t += 1\n",
    "        frame_counter += 1\n",
    "        # Save the model and update Target model\n",
    "        if frame_counter > replay_start_size:\n",
    "            if frame_counter % Target_update == 0:\n",
    "                check_point = frame_counter / (Target_update * 100)\n",
    "                fdqn = './data/model_%s_%d' % (env_name, int(check_point))\n",
    "                offline_model.save_parameters(fdqn)\n",
    "                online_model.load_parameters(fdqn, ctx)\n",
    "                fnam = './data/clippted_rew_DDQN_%s' % (env_name)\n",
    "                np.save(fnam, tot_clipped_reward)\n",
    "                fnam = './data/tot_rew_DDQN_%s' % (env_name)\n",
    "                np.save(fnam, tot_reward)\n",
    "                fnam = './data/frame_count_DDQN_%s' % (env_name)\n",
    "                np.save(fnam, frame_count_record)\n",
    "\n",
    "        if done:\n",
    "            cost.append(time.time() - _t)\n",
    "            if epis_count % 10 == 0.:\n",
    "                print('time cost=%d, epis=%d,eps=%.3f,durat=%d,fnum=%d, cum_cl_rew = %.3f, cum_rew = %.3f,tot_cl = %.3f , tot = %.3f'\n",
    "                      % (np.mean(cost), epis_count, eps, t, frame_counter, cum_clipped_reward, cum_reward, average_clipped,average))\n",
    "    epis_count += 1\n",
    "    tot_clipped_reward = np.append(tot_clipped_reward, cum_clipped_reward)\n",
    "    tot_reward = np.append(tot_reward, cum_reward)\n",
    "    frame_count_record = np.append(frame_count_record, frame_counter)\n",
    "    \n",
    "    if epis_count > 100.:\n",
    "        average_clipped = np.mean(tot_clipped_reward[int(epis_count) - 1 - 100:int(epis_count) - 1])\n",
    "        average = np.mean(tot_reward[int(epis_count) - 1 - 100:int(epis_count) - 1])\n",
    "from tempfile import TemporaryFile\n",
    "\n",
    "outfile = TemporaryFile()\n",
    "outfile_clip = TemporaryFile()\n",
    "np.save(outfile, moving_average)\n",
    "np.save(outfile_clip, average_clipped)"
   ]
  },
  {
   "cell_type": "markdown",
   "metadata": {},
   "source": [
    "### Plot the overall performace"
   ]
  },
  {
   "cell_type": "code",
   "execution_count": 15,
   "metadata": {},
   "outputs": [
    {
     "name": "stdout",
     "output_type": "stream",
     "text": [
      "Running after 300 number of episodes\n"
     ]
    },
    {
     "data": {
      "image/png": "[encoded data removed]",
      "text/plain": [
       "<Figure size 432x288 with 1 Axes>"
      ]
     },
     "metadata": {
      "needs_background": "light"
     },
     "output_type": "display_data"
    },
    {
     "data": {
      "image/png": "[encoded data removed]",
      "text/plain": [
       "<Figure size 432x288 with 1 Axes>"
      ]
     },
     "metadata": {
      "needs_background": "light"
     },
     "output_type": "display_data"
    }
   ],
   "source": [
    "num_epis_count = epis_count - 0\n",
    "bandwidth = 100  # Moving average bandwidth \n",
    "total_clipped = np.zeros(int(num_epis_count) - bandwidth)\n",
    "total_rew = np.zeros(int(num_epis_count) - bandwidth)\n",
    "for i in range(int(num_epis_count) - bandwidth):\n",
    "    total_clipped[i] = np.sum(tot_clipped_reward[i:i + bandwidth]) / bandwidth\n",
    "    total_rew[i] = np.sum(tot_reward[i:i + bandwidth]) / bandwidth\n",
    "t = np.arange(int(num_epis_count) - bandwidth)\n",
    "fig = plt.figure()\n",
    "belplt = plt.plot(t, total_rew[0:int(num_epis_count) - bandwidth], \"r\", label=\"Return\")\n",
    "plt.legend()  #handles[likplt,belplt])\n",
    "print('Running after %d number of episodes' % epis_count)\n",
    "plt.xlabel(\"Number of episode\")\n",
    "plt.ylabel(\"Average Reward per episode\")\n",
    "plt.show()\n",
    "fig.savefig('Assualt_DDQN.png')\n",
    "fig = plt.figure()\n",
    "likplt = plt.plot(t, total_clipped[0:num_episode - bandwidth], \"b\", label=\"Clipped Return\")\n",
    "plt.legend()  #handles[likplt,belplt])\n",
    "plt.xlabel(\"Number of episode\")\n",
    "plt.ylabel(\"Average clipped Reward per episode\")\n",
    "plt.show()\n",
    "fig.savefig('Assualt_DDQN_Clipped.png')"
   ]
  },
  {
   "cell_type": "code",
   "execution_count": null,
   "metadata": {},
   "outputs": [],
   "source": []
  }
 ],
 "metadata": {
  "kernelspec": {
   "display_name": "Python 3",
   "language": "python",
   "name": "python3"
  },
  "language_info": {
   "codemirror_mode": {
    "name": "ipython",
    "version": 3
   },
   "file_extension": ".py",
   "mimetype": "text/x-python",
   "name": "python",
   "nbconvert_exporter": "python",
   "pygments_lexer": "ipython3",
   "version": "3.8.8"
  }
 },
 "nbformat": 4,
 "nbformat_minor": 2
}