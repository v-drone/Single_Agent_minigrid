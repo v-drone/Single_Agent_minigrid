{
 "cells": [
  {
   "cell_type": "code",
   "execution_count": 1,
   "id": "c0652365",
   "metadata": {},
   "outputs": [],
   "source": [
    "import torch\n",
    "import numpy as np\n",
    "from utils import check_dir\n",
    "from memory import Memory\n",
    "from environments.SimpleEnv import SimpleEnv\n",
    "from utils import create_input, translate_state\n",
    "from evaluation_torch import evaluate\n",
    "from model.simple_stack_torch import SimpleStack\n"
   ]
  },
  {
   "cell_type": "code",
   "execution_count": 2,
   "id": "4436599b",
   "metadata": {
    "pycharm": {
     "name": "#%%\n"
    }
   },
   "outputs": [],
   "source": [
    "# training cases\n",
    "order = \"Torch\"\n",
    "# batch size\n",
    "batch_size = 512\n",
    "# agent view\n",
    "agent_view = 5\n",
    "map_size = 20\n",
    "# action max\n",
    "action_max = 3\n",
    "# learning rate\n",
    "model_save = \"./model_save/\"\n",
    "lr = 0.001\n",
    "num_episode = 1000000\n",
    "# start play\n",
    "replay_start = 10000\n",
    "# update step\n",
    "update_step = 1000\n",
    "# gamma in q-loss calculation\n",
    "gamma = 0.99\n",
    "# memory pool size\n",
    "memory_length = 100000\n",
    "# file to save train log\n",
    "summary = \"./{}_Reward.csv\".format(order)\n",
    "eval_statistics = \"./{}_CSV.csv\".format(order)\n",
    "# the number of step it take to linearly anneal the epsilon to it min value\n",
    "annealing_end = 200000\n",
    "# min level of stochastically of policy (epsilon)-greedy\n",
    "epsilon_min = 0.2\n",
    "# temporary files\n",
    "temporary_model = \"./{}/{}.params\".format(model_save, order)\n",
    "temporary_pool = \"./{}/{}.pool\".format(model_save, order)"
   ]
  },
  {
   "cell_type": "code",
   "execution_count": 3,
   "id": "474a434e",
   "metadata": {},
   "outputs": [],
   "source": [
    "if torch.cuda.is_available():\n",
    "    ctx = torch.device(\"cuda:%s\" %torch.cuda.current_device())\n",
    "else:\n",
    "    ctx = torch.device(\"cpu\")\n",
    "for i in [\"model_save\", \"data_save\"]:\n",
    "    check_dir(i)"
   ]
  },
  {
   "cell_type": "code",
   "execution_count": 4,
   "id": "6728cbc2",
   "metadata": {},
   "outputs": [],
   "source": [
    "# build models\n",
    "online_model = SimpleStack()\n",
    "offline_model = SimpleStack()\n",
    "online_model.to(ctx)\n",
    "offline_model.to(ctx)\n",
    "offline_model.zero_grad(True)"
   ]
  },
  {
   "cell_type": "code",
   "execution_count": 5,
   "id": "8d75af3a",
   "metadata": {},
   "outputs": [],
   "source": [
    "# create env\n",
    "env = SimpleEnv(display=False, agent_view=agent_view, map_size=map_size)\n",
    "env.reset_env()\n",
    "memory_pool = Memory(memory_length)\n",
    "annealing = 0\n",
    "total_reward = np.zeros(num_episode)\n",
    "eval_result = []\n",
    "loss_func = torch.nn.MSELoss()\n",
    "trainer = torch.optim.Adam(offline_model.parameters(), lr=lr)"
   ]
  },
  {
   "cell_type": "code",
   "execution_count": null,
   "id": "09e9205f",
   "metadata": {
    "scrolled": false,
    "pycharm": {
     "is_executing": true
    }
   },
   "outputs": [
    {
     "name": "stdout",
     "output_type": "stream",
     "text": [
      "Model Structure: \n",
      "SimpleStack(\n",
      "  (view): Sequential(\n",
      "    (0): Conv2d(2, 256, kernel_size=(1, 1), stride=(1, 1))\n",
      "    (1): Conv2d(256, 128, kernel_size=(2, 2), stride=(1, 1))\n",
      "    (2): Conv2d(128, 128, kernel_size=(2, 2), stride=(1, 1))\n",
      "  )\n",
      "  (map): Sequential(\n",
      "    (0): Conv2d(3, 256, kernel_size=(1, 1), stride=(1, 1))\n",
      "    (1): Conv2d(256, 256, kernel_size=(3, 3), stride=(1, 1))\n",
      "    (2): Conv2d(256, 128, kernel_size=(3, 3), stride=(1, 1))\n",
      "    (3): Conv2d(128, 128, kernel_size=(3, 3), stride=(1, 1))\n",
      "    (4): Conv2d(128, 128, kernel_size=(3, 3), stride=(1, 1))\n",
      "    (5): Conv2d(128, 128, kernel_size=(3, 3), stride=(1, 1))\n",
      "  )\n",
      "  (decision_making): Sequential(\n",
      "    (0): Linear(in_features=13953, out_features=1024, bias=True)\n",
      "    (1): Sigmoid()\n",
      "    (2): Linear(in_features=1024, out_features=64, bias=True)\n",
      "    (3): Sigmoid()\n",
      "    (4): Linear(in_features=64, out_features=3, bias=True)\n",
      "    (5): Sigmoid()\n",
      "  )\n",
      ")\n",
      "DR: 0.062128(50), 0.054079(all), eps: 0.964525\n",
      "annealing and learning are started\n",
      "DR: 0.049692(50), 0.052626(all), eps: 0.946480\n",
      "DR: 0.049707(50), 0.051900(all), eps: 0.928400\n",
      "DR: 0.051859(50), 0.051892(all), eps: 0.909590\n",
      "DR: 0.030807(50), 0.048389(all), eps: 0.892170\n",
      "DR: 0.051632(50), 0.048165(all), eps: 0.873250\n",
      "DR: 0.053094(50), 0.048772(all), eps: 0.854000\n",
      "DR: 0.052738(50), 0.048673(all), eps: 0.835465\n",
      "DR: 0.041463(50), 0.047968(all), eps: 0.817840\n",
      "DR: 0.042009(50), 0.047116(all), eps: 0.796890\n",
      "DR: 0.036097(50), 0.046222(all), eps: 0.779780\n",
      "DR: 0.048438(50), 0.046125(all), eps: 0.762275\n",
      "DR: 0.050402(50), 0.046422(all), eps: 0.746105\n",
      "DR: 0.051488(50), 0.046449(all), eps: 0.722715\n",
      "DR: 0.059278(50), 0.047226(all), eps: 0.706425\n"
     ]
    }
   ],
   "source": [
    "_print = True\n",
    "_last_dr_50 = 0\n",
    "for epoch in range(num_episode):\n",
    "    env.reset_env()\n",
    "    finish = 0\n",
    "    cum_clipped_dr = 0\n",
    "    if epoch == 51:\n",
    "        print(\"Model Structure: \")\n",
    "        print(offline_model)\n",
    "    if sum(env.step_count) > replay_start and _print:\n",
    "        print('annealing and learning are started')\n",
    "        _print = False\n",
    "    while not finish:\n",
    "        if sum(env.step_count) > replay_start:\n",
    "            annealing += 1\n",
    "        eps = np.maximum(1 - sum(env.step_count) / annealing_end, epsilon_min)\n",
    "        if np.random.random() < eps:\n",
    "            by = \"Random\"\n",
    "            action = np.random.randint(0, action_max)\n",
    "        else:\n",
    "            by = \"Model\"\n",
    "            data = create_input([translate_state(env.map.state())])\n",
    "            data = [torch.FloatTensor(i).to(ctx) for i in data]\n",
    "            action = offline_model.forward(data)\n",
    "            action = int(torch.argmax(action).cpu().numpy())\n",
    "        old, new, reward_get, finish = env.step(action)\n",
    "        memory_pool.add(old, new, action, reward_get, finish)\n",
    "        if finish and epoch > 50:\n",
    "            cum_clipped_dr += env.detect_rate[-1]\n",
    "            dr_50 = float(np.mean(env.detect_rate[-50:]))\n",
    "            dr_all = float(np.mean(env.detect_rate))\n",
    "            if epoch % 50 == 0:\n",
    "                text = \"DR: %f(50), %f(all), eps: %f\" % (dr_50, dr_all, eps)\n",
    "                print(text)\n",
    "                with open(summary, \"a\") as f:\n",
    "                    f.writelines(text + \"\\n\")\n",
    "            if epoch % 100 == 0 and annealing > replay_start:\n",
    "                eval_result.extend(evaluate(ctx, offline_model, env, 5))\n",
    "            # save model and replace online model each update_step\n",
    "            if annealing > replay_start and annealing % update_step == 0:\n",
    "                if dr_50 >= _last_dr_50:\n",
    "                    _last_dr_50 = dr_50\n",
    "                    torch.save(offline_model.state_dict(), temporary_model)\n",
    "                    online_model =torch.load(temporary_model, ctx)\n",
    "    #  train every 2 epoch\n",
    "    if annealing > replay_start and epoch % 2 == 0:\n",
    "        # Sample random mini batch of transitions\n",
    "        if len(memory_pool.memory) > batch_size:\n",
    "            bz = batch_size\n",
    "        else:\n",
    "            bz = len(memory_pool.memory)\n",
    "        for_train = memory_pool.next_batch(bz)\n",
    "        state =  [torch.FloatTensor(i).to(ctx) for i in for_train[\"state\"]]\n",
    "        state_next = [torch.FloatTensor(i).to(ctx) for i in for_train[\"state_next\"]]\n",
    "        finish =torch.FloatTensor(for_train[\"finish\"]).to(ctx)\n",
    "        action = torch.LongTensor(for_train[\"action\"]).to(ctx)\n",
    "        reward = torch.FloatTensor(for_train[\"reward\"]).to(ctx)\n",
    "        q_n  = torch.max(online_model(state_next).detach(), dim=1).values\n",
    "        q_n  = q_n  * (torch.ones(bz).to(ctx) - finish)\n",
    "        q_e = offline_model(state).gather(1, action.unsqueeze(-1)).squeeze()\n",
    "        q_t = reward + gamma * q_n\n",
    "        loss = torch.mean(loss_func(q_e, q_t))\n",
    "        trainer.zero_grad()\n",
    "        loss.backward()\n",
    "        trainer.step()\n",
    "    total_reward[int(epoch) - 1] = cum_clipped_dr"
   ]
  },
  {
   "cell_type": "code",
   "execution_count": null,
   "id": "efc90215",
   "metadata": {
    "pycharm": {
     "is_executing": true
    }
   },
   "outputs": [],
   "source": []
  }
 ],
 "metadata": {
  "kernelspec": {
   "display_name": "Python 3 (ipykernel)",
   "language": "python",
   "name": "python3"
  },
  "language_info": {
   "codemirror_mode": {
    "name": "ipython",
    "version": 3
   },
   "file_extension": ".py",
   "mimetype": "text/x-python",
   "name": "python",
   "nbconvert_exporter": "python",
   "pygments_lexer": "ipython3",
   "version": "3.8.5"
  }
 },
 "nbformat": 4,
 "nbformat_minor": 5
}