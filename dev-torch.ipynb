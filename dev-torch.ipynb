{
 "cells": [
  {
   "cell_type": "code",
   "execution_count": 1,
   "id": "c0652365",
   "metadata": {},
   "outputs": [],
   "source": [
    "import os\n",
    "import numpy as np\n",
    "from utils import check_dir\n",
    "from memory import Memory\n",
    "from environments.SimpleEnv import SimpleEnv\n",
    "from utils import create_input, translate_state\n",
    "from evaluation_torch import evaluate"
   ]
  },
  {
   "cell_type": "code",
   "execution_count": 2,
   "id": "162729d1",
   "metadata": {},
   "outputs": [],
   "source": [
    "import torch"
   ]
  },
  {
   "cell_type": "code",
   "execution_count": 3,
   "id": "cfa4066f",
   "metadata": {},
   "outputs": [],
   "source": [
    "from model.simple_stack_torch import SimpleStack"
   ]
  },
  {
   "cell_type": "code",
   "execution_count": 4,
   "id": "81ad7396",
   "metadata": {},
   "outputs": [],
   "source": [
    "import pycuda.driver as cuda"
   ]
  },
  {
   "cell_type": "code",
   "execution_count": 5,
   "id": "6b72785f",
   "metadata": {},
   "outputs": [
    {
     "name": "stdout",
     "output_type": "stream",
     "text": [
      "NVIDIA GeForce RTX 3080 Ti 0\n"
     ]
    }
   ],
   "source": [
    "cuda.init()\n",
    "print(cuda.Device(0).name(), torch.cuda.current_device())\n",
    "torch.cuda.set_device(torch.cuda.current_device())"
   ]
  },
  {
   "cell_type": "code",
   "execution_count": 6,
   "id": "89eb7222",
   "metadata": {},
   "outputs": [],
   "source": [
    "if torch.cuda.is_available():  \n",
    "    ctx = torch.device(\"cuda:%s\" %torch.cuda.current_device())\n",
    "else:  \n",
    "    ctx = torch.device(\"cpu\")"
   ]
  },
  {
   "cell_type": "code",
   "execution_count": 7,
   "id": "4436599b",
   "metadata": {
    "pycharm": {
     "name": "#%%\n"
    }
   },
   "outputs": [],
   "source": [
    "# training cases\n",
    "order = \"Torch\"\n",
    "# batch size\n",
    "batch_size = 128\n",
    "# agent view\n",
    "agent_view = 5\n",
    "map_size = 20\n",
    "# action max\n",
    "action_max = 3\n",
    "# learning rate\n",
    "model_save = \"./model_save/\"\n",
    "lr = 0.001\n",
    "num_episode = 1000000\n",
    "# start play\n",
    "replay_start = 10000\n",
    "# update step\n",
    "update_step = 1000\n",
    "# gamma in q-loss calculation\n",
    "gamma = 0.99\n",
    "# memory pool size\n",
    "memory_length = 100000\n",
    "# file to save train log\n",
    "summary = \"./{}_Reward.csv\".format(order)\n",
    "eval_statistics = \"./{}_CSV.csv\".format(order)\n",
    "# the number of step it take to linearly anneal the epsilon to it min value\n",
    "annealing_end = 200000\n",
    "# min level of stochastically of policy (epsilon)-greedy\n",
    "epsilon_min = 0.2\n",
    "# temporary files\n",
    "temporary_model = \"./{}/{}.params\".format(model_save, order)\n",
    "temporary_pool = \"./{}/{}.pool\".format(model_save, order)"
   ]
  },
  {
   "cell_type": "code",
   "execution_count": 8,
   "id": "474a434e",
   "metadata": {},
   "outputs": [],
   "source": [
    "for i in [\"model_save\", \"data_save\"]:\n",
    "    check_dir(i)"
   ]
  },
  {
   "cell_type": "code",
   "execution_count": 9,
   "id": "7cc3c3cd",
   "metadata": {},
   "outputs": [],
   "source": [
    "# build models\n",
    "online_model = SimpleStack()\n",
    "offline_model = SimpleStack()"
   ]
  },
  {
   "cell_type": "code",
   "execution_count": 10,
   "id": "7a58e67a",
   "metadata": {},
   "outputs": [
    {
     "data": {
      "text/plain": [
       "SimpleStack(\n",
       "  (view): Sequential(\n",
       "    (0): Conv2d(2, 256, kernel_size=(1, 1), stride=(1, 1), bias=False)\n",
       "    (1): Conv2d(256, 128, kernel_size=(2, 2), stride=(1, 1), bias=False)\n",
       "    (2): Conv2d(128, 128, kernel_size=(2, 2), stride=(1, 1), bias=False)\n",
       "  )\n",
       "  (map): Sequential(\n",
       "    (0): Conv2d(3, 256, kernel_size=(1, 1), stride=(1, 1), bias=False)\n",
       "    (1): Conv2d(256, 256, kernel_size=(3, 3), stride=(1, 1), bias=False)\n",
       "    (2): Conv2d(256, 128, kernel_size=(3, 3), stride=(1, 1), bias=False)\n",
       "    (3): Conv2d(128, 128, kernel_size=(3, 3), stride=(1, 1), bias=False)\n",
       "    (4): Conv2d(128, 128, kernel_size=(3, 3), stride=(1, 1), bias=False)\n",
       "    (5): Conv2d(128, 128, kernel_size=(3, 3), stride=(1, 1), bias=False)\n",
       "  )\n",
       "  (decision_making): Sequential(\n",
       "    (0): Linear(in_features=13953, out_features=1024, bias=True)\n",
       "    (1): Sigmoid()\n",
       "    (2): Linear(in_features=1024, out_features=64, bias=True)\n",
       "    (3): Sigmoid()\n",
       "    (4): Linear(in_features=64, out_features=3, bias=True)\n",
       "    (5): Sigmoid()\n",
       "  )\n",
       ")"
      ]
     },
     "execution_count": 10,
     "metadata": {},
     "output_type": "execute_result"
    }
   ],
   "source": [
    "online_model.to(ctx)\n",
    "offline_model.to(ctx)"
   ]
  },
  {
   "cell_type": "code",
   "execution_count": 11,
   "id": "8d75af3a",
   "metadata": {},
   "outputs": [],
   "source": [
    "# create env\n",
    "env = SimpleEnv(display=False, agent_view=agent_view, map_size=map_size)\n",
    "env.reset_env()\n",
    "memory_pool = Memory(memory_length)\n",
    "annealing = 0\n",
    "total_reward = np.zeros(num_episode)\n",
    "eval_result = []\n",
    "loss_func = torch.nn.MSELoss()\n",
    "trainer = torch.optim.Adam(offline_model.parameters(), lr=lr)"
   ]
  },
  {
   "cell_type": "code",
   "execution_count": null,
   "id": "09e9205f",
   "metadata": {
    "scrolled": false
   },
   "outputs": [
    {
     "name": "stdout",
     "output_type": "stream",
     "text": [
      "Model Structure: \n",
      "SimpleStack(\n",
      "  (view): Sequential(\n",
      "    (0): Conv2d(2, 256, kernel_size=(1, 1), stride=(1, 1), bias=False)\n",
      "    (1): Conv2d(256, 128, kernel_size=(2, 2), stride=(1, 1), bias=False)\n",
      "    (2): Conv2d(128, 128, kernel_size=(2, 2), stride=(1, 1), bias=False)\n",
      "  )\n",
      "  (map): Sequential(\n",
      "    (0): Conv2d(3, 256, kernel_size=(1, 1), stride=(1, 1), bias=False)\n",
      "    (1): Conv2d(256, 256, kernel_size=(3, 3), stride=(1, 1), bias=False)\n",
      "    (2): Conv2d(256, 128, kernel_size=(3, 3), stride=(1, 1), bias=False)\n",
      "    (3): Conv2d(128, 128, kernel_size=(3, 3), stride=(1, 1), bias=False)\n",
      "    (4): Conv2d(128, 128, kernel_size=(3, 3), stride=(1, 1), bias=False)\n",
      "    (5): Conv2d(128, 128, kernel_size=(3, 3), stride=(1, 1), bias=False)\n",
      "  )\n",
      "  (decision_making): Sequential(\n",
      "    (0): Linear(in_features=13953, out_features=1024, bias=True)\n",
      "    (1): Sigmoid()\n",
      "    (2): Linear(in_features=1024, out_features=64, bias=True)\n",
      "    (3): Sigmoid()\n",
      "    (4): Linear(in_features=64, out_features=3, bias=True)\n",
      "    (5): Sigmoid()\n",
      "  )\n",
      ")\n",
      "DR: 0.033994(50), 0.044066(all), eps: 0.965070\n",
      "annealing and learning are started\n",
      "DR: 0.049117(50), 0.045739(all), eps: 0.949125\n",
      "DR: 0.049084(50), 0.046571(all), eps: 0.933075\n",
      "DR: 0.044187(50), 0.046096(all), eps: 0.918235\n",
      "DR: 0.036668(50), 0.044530(all), eps: 0.904395\n",
      "DR: 0.052960(50), 0.045731(all), eps: 0.888205\n",
      "DR: 0.045692(50), 0.045726(all), eps: 0.871940\n",
      "DR: 0.023181(50), 0.042890(all), eps: 0.850635\n",
      "DR: 0.046508(50), 0.043247(all), eps: 0.835260\n",
      "DR: 0.041467(50), 0.042703(all), eps: 0.815290\n",
      "DR: 0.043923(50), 0.042803(all), eps: 0.799335\n",
      "DR: 0.034080(50), 0.041827(all), eps: 0.779680\n",
      "DR: 0.039385(50), 0.041656(all), eps: 0.762235\n",
      "DR: 0.029781(50), 0.040616(all), eps: 0.744535\n",
      "DR: 0.035032(50), 0.040276(all), eps: 0.726455\n",
      "DR: 0.038699(50), 0.039956(all), eps: 0.704590\n",
      "DR: 0.065018(50), 0.041309(all), eps: 0.684735\n",
      "DR: 0.066208(50), 0.042484(all), eps: 0.669080\n",
      "DR: 0.032881(50), 0.042019(all), eps: 0.651260\n",
      "DR: 0.055499(50), 0.042446(all), eps: 0.632840\n",
      "DR: 0.044343(50), 0.042529(all), eps: 0.617115\n",
      "DR: 0.038050(50), 0.042163(all), eps: 0.599655\n",
      "DR: 0.039343(50), 0.042049(all), eps: 0.580395\n",
      "DR: 0.043245(50), 0.042649(all), eps: 0.563455\n",
      "DR: 0.055659(50), 0.043133(all), eps: 0.543175\n",
      "DR: 0.044393(50), 0.043024(all), eps: 0.522530\n",
      "DR: 0.039185(50), 0.042891(all), eps: 0.503555\n",
      "DR: 0.071924(50), 0.043713(all), eps: 0.489980\n",
      "DR: 0.048725(50), 0.043874(all), eps: 0.473200\n"
     ]
    }
   ],
   "source": [
    "_print = True\n",
    "_last_dr_50 = 0\n",
    "for epoch in range(num_episode):\n",
    "    env.reset_env()\n",
    "    finish = 0\n",
    "    cum_clipped_dr = 0\n",
    "    if epoch == 51:\n",
    "        print(\"Model Structure: \")\n",
    "        print(offline_model)\n",
    "    if sum(env.step_count) > replay_start and _print:\n",
    "        print('annealing and learning are started')\n",
    "        _print = False\n",
    "    while not finish:\n",
    "        if sum(env.step_count) > replay_start:\n",
    "            annealing += 1\n",
    "        eps = np.maximum(1 - sum(env.step_count) / annealing_end, epsilon_min)\n",
    "        if np.random.random() < eps:\n",
    "            by = \"Random\"\n",
    "            action = np.random.randint(0, action_max)\n",
    "        else:\n",
    "            by = \"Model\"\n",
    "            data = create_input([translate_state(env.map.state())])\n",
    "            data = [torch.FloatTensor(i).to(ctx) for i in data]\n",
    "            action = offline_model.forward(data)\n",
    "            action = int(torch.argmax(action).cpu().numpy())\n",
    "        old, new, reward_get, finish = env.step(action)\n",
    "        memory_pool.add(old, new, action, reward_get, finish)\n",
    "        if finish and epoch > 50:\n",
    "            cum_clipped_dr += env.detect_rate[-1]\n",
    "            dr_50 = float(np.mean(env.detect_rate[-50:]))\n",
    "            dr_all = float(np.mean(env.detect_rate))\n",
    "            if epoch % 50 == 0:\n",
    "                text = \"DR: %f(50), %f(all), eps: %f\" % (dr_50, dr_all, eps)\n",
    "                print(text)\n",
    "                with open(summary, \"a\") as f:\n",
    "                    f.writelines(text + \"\\n\")\n",
    "            if epoch % 100 == 0 and annealing > replay_start:\n",
    "                eval_result.extend(evaluate(ctx, offline_model, env, 5))\n",
    "            # save model and replace online model each update_step\n",
    "            if annealing > replay_start and annealing % update_step == 0:\n",
    "                if dr_50 >= _last_dr_50:\n",
    "                    _last_dr_50 = dr_50\n",
    "                    online_model.load_state_dict(offline_model.state_dict())\n",
    "                    torch.save(offline_model.state_dict(), temporary_model)\n",
    "    #  train every 2 epoch\n",
    "    if annealing > replay_start and epoch % 2 == 0:\n",
    "        # Sample random mini batch of transitions\n",
    "        if len(memory_pool.memory) > batch_size:\n",
    "            bz = batch_size\n",
    "        else:\n",
    "            bz = len(memory_pool.memory)\n",
    "        for_train = memory_pool.next_batch(bz)\n",
    "        state =  [torch.FloatTensor(i).to(ctx) for i in for_train[\"state\"]]\n",
    "        state_next = [torch.FloatTensor(i).to(ctx) for i in for_train[\"state_next\"]]\n",
    "        finish =torch.FloatTensor(for_train[\"finish\"]).to(ctx)\n",
    "        action = torch.LongTensor(for_train[\"action\"]).to(ctx)\n",
    "        reward = torch.FloatTensor(for_train[\"reward\"]).to(ctx)\n",
    "        q_n  = torch.max(online_model(state_next).detach(), dim=1).values\n",
    "        q_n  = q_n  * (torch.ones(bz).to(ctx) - finish)\n",
    "        q_e = offline_model(state).gather(1, action.unsqueeze(-1)).squeeze()\n",
    "        q_t = reward + gamma * q_n \n",
    "        loss = torch.mean(loss_func(q_e, q_t))\n",
    "        trainer.zero_grad()\n",
    "        loss.backward()\n",
    "        trainer.step()\n",
    "    total_reward[int(epoch) - 1] = cum_clipped_dr"
   ]
  },
  {
   "cell_type": "code",
   "execution_count": null,
   "id": "317c131a",
   "metadata": {},
   "outputs": [],
   "source": []
  }
 ],
 "metadata": {
  "kernelspec": {
   "display_name": "Python 3 (ipykernel)",
   "language": "python",
   "name": "python3"
  },
  "language_info": {
   "codemirror_mode": {
    "name": "ipython",
    "version": 3
   },
   "file_extension": ".py",
   "mimetype": "text/x-python",
   "name": "python",
   "nbconvert_exporter": "python",
   "pygments_lexer": "ipython3",
   "version": "3.8.5"
  }
 },
 "nbformat": 4,
 "nbformat_minor": 5
}
