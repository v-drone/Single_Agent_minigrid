{
 "cells": [
  {
   "cell_type": "code",
   "execution_count": 1,
   "id": "911de4b3",
   "metadata": {},
   "outputs": [],
   "source": [
    "import os\n",
    "os.environ['RAY_LOG_LEVEL'] = \"DEBUG\""
   ]
  },
  {
   "cell_type": "code",
   "execution_count": 2,
   "id": "4b7f02d3",
   "metadata": {},
   "outputs": [
    {
     "name": "stdout",
     "output_type": "stream",
     "text": [
      "pygame 2.5.2 (SDL 2.28.2, Python 3.9.18)\n",
      "Hello from the pygame community. https://www.pygame.org/contribute.html\n"
     ]
    },
    {
     "name": "stderr",
     "output_type": "stream",
     "text": [
      "2023-11-22 11:00:37,828\tWARNING __init__.py:10 -- ApexDQN has/have been moved to `rllib_contrib` and will no longer be maintained by the RLlib team. You can still use it/them normally inside RLlib util Ray 2.8, but from Ray 2.9 on, all `rllib_contrib` algorithms will no longer be part of the core repo, and will therefore have to be installed separately with pinned dependencies for e.g. ray[rllib] and other packages! See https://github.com/ray-project/ray/tree/master/rllib_contrib#rllib-contrib for more information on the RLlib contrib effort.\n"
     ]
    }
   ],
   "source": [
    "import ray\n",
    "import torch\n",
    "from gymnasium.wrappers import TimeLimit\n",
    "from dynaconf import Dynaconf\n",
    "from ray.rllib.models import ModelCatalog\n",
    "from environments.MutilRoadEnv import RouteEnv\n",
    "from ray.tune.registry import register_env\n",
    "from ray.rllib.algorithms.apex_dqn import ApexDQN, ApexDQNConfig\n",
    "from ray.rllib.algorithms.dqn import DQN, DQNConfig\n",
    "from ray.tune.logger import JsonLogger\n",
    "from environments.ObsWrapper import FullRGBImgPartialObsWrapper\n",
    "from model.image_decoder import CustomCNN\n",
    "from minigrid.wrappers import ImgObsWrapper\n",
    "import gymnasium as gym"
   ]
  },
  {
   "cell_type": "code",
   "execution_count": 3,
   "id": "504b1728",
   "metadata": {},
   "outputs": [
    {
     "data": {
      "text/plain": [
       "True"
      ]
     },
     "execution_count": 3,
     "metadata": {},
     "output_type": "execute_result"
    }
   ],
   "source": [
    "torch.cuda.is_available()"
   ]
  },
  {
   "cell_type": "code",
   "execution_count": 4,
   "id": "d5acb8f9",
   "metadata": {},
   "outputs": [
    {
     "name": "stderr",
     "output_type": "stream",
     "text": [
      "2023-11-22 11:00:39,797\tINFO worker.py:1664 -- Started a local Ray instance. View the dashboard at \u001b[1m\u001b[32m127.0.0.1:8265 \u001b[39m\u001b[22m\n"
     ]
    },
    {
     "data": {
      "application/vnd.jupyter.widget-view+json": {
       "model_id": "11bc216e13ef4fe398c7c31126d29431",
       "version_major": 2,
       "version_minor": 0
      },
      "text/html": [
       "<div class=\"lm-Widget p-Widget lm-Panel p-Panel jp-Cell-outputWrapper\">\n",
       "    <div style=\"margin-left: 50px;display: flex;flex-direction: row;align-items: center\">\n",
       "        <div class=\"jp-RenderedHTMLCommon\" style=\"display: flex; flex-direction: row;\">\n",
       "  <svg viewBox=\"0 0 567 224\" fill=\"none\" xmlns=\"http://www.w3.org/2000/svg\" style=\"height: 3em;\">\n",
       "    <g clip-path=\"url(#clip0_4338_178347)\">\n",
       "        <path d=\"M341.29 165.561H355.29L330.13 129.051C345.63 123.991 354.21 112.051 354.21 94.2307C354.21 71.3707 338.72 58.1807 311.88 58.1807H271V165.561H283.27V131.661H311.8C314.25 131.661 316.71 131.501 319.01 131.351L341.25 165.561H341.29ZM283.29 119.851V70.0007H311.82C331.3 70.0007 342.34 78.2907 342.34 94.5507C342.34 111.271 331.34 119.861 311.82 119.861L283.29 119.851ZM451.4 138.411L463.4 165.561H476.74L428.74 58.1807H416L367.83 165.561H380.83L392.83 138.411H451.4ZM446.19 126.601H398L422 72.1407L446.24 126.601H446.19ZM526.11 128.741L566.91 58.1807H554.35L519.99 114.181L485.17 58.1807H472.44L514.01 129.181V165.541H526.13V128.741H526.11Z\" fill=\"var(--jp-ui-font-color0)\"/>\n",
       "        <path d=\"M82.35 104.44C84.0187 97.8827 87.8248 92.0678 93.1671 87.9146C98.5094 83.7614 105.083 81.5067 111.85 81.5067C118.617 81.5067 125.191 83.7614 130.533 87.9146C135.875 92.0678 139.681 97.8827 141.35 104.44H163.75C164.476 101.562 165.622 98.8057 167.15 96.2605L127.45 56.5605C121.071 60.3522 113.526 61.6823 106.235 60.3005C98.9443 58.9187 92.4094 54.9203 87.8602 49.0574C83.3109 43.1946 81.0609 35.8714 81.5332 28.4656C82.0056 21.0599 85.1679 14.0819 90.4252 8.8446C95.6824 3.60726 102.672 0.471508 110.08 0.0272655C117.487 -0.416977 124.802 1.86091 130.647 6.4324C136.493 11.0039 140.467 17.5539 141.821 24.8501C143.175 32.1463 141.816 39.6859 138 46.0505L177.69 85.7505C182.31 82.9877 187.58 81.4995 192.962 81.4375C198.345 81.3755 203.648 82.742 208.33 85.3976C213.012 88.0532 216.907 91.9029 219.616 96.5544C222.326 101.206 223.753 106.492 223.753 111.875C223.753 117.258 222.326 122.545 219.616 127.197C216.907 131.848 213.012 135.698 208.33 138.353C203.648 141.009 198.345 142.375 192.962 142.313C187.58 142.251 182.31 140.763 177.69 138L138 177.7C141.808 184.071 143.155 191.614 141.79 198.91C140.424 206.205 136.44 212.75 130.585 217.313C124.731 221.875 117.412 224.141 110.004 223.683C102.596 223.226 95.6103 220.077 90.3621 214.828C85.1139 209.58 81.9647 202.595 81.5072 195.187C81.0497 187.779 83.3154 180.459 87.878 174.605C92.4405 168.751 98.9853 164.766 106.281 163.401C113.576 162.035 121.119 163.383 127.49 167.19L167.19 127.49C165.664 124.941 164.518 122.182 163.79 119.3H141.39C139.721 125.858 135.915 131.673 130.573 135.826C125.231 139.98 118.657 142.234 111.89 142.234C105.123 142.234 98.5494 139.98 93.2071 135.826C87.8648 131.673 84.0587 125.858 82.39 119.3H60C58.1878 126.495 53.8086 132.78 47.6863 136.971C41.5641 141.163 34.1211 142.972 26.7579 142.059C19.3947 141.146 12.6191 137.574 7.70605 132.014C2.79302 126.454 0.0813599 119.29 0.0813599 111.87C0.0813599 104.451 2.79302 97.2871 7.70605 91.7272C12.6191 86.1673 19.3947 82.5947 26.7579 81.6817C34.1211 80.7686 41.5641 82.5781 47.6863 86.7696C53.8086 90.9611 58.1878 97.2456 60 104.44H82.35ZM100.86 204.32C103.407 206.868 106.759 208.453 110.345 208.806C113.93 209.159 117.527 208.258 120.522 206.256C123.517 204.254 125.725 201.276 126.771 197.828C127.816 194.38 127.633 190.677 126.253 187.349C124.874 184.021 122.383 181.274 119.205 179.577C116.027 177.88 112.359 177.337 108.826 178.042C105.293 178.746 102.113 180.654 99.8291 183.44C97.5451 186.226 96.2979 189.718 96.3 193.32C96.2985 195.364 96.7006 197.388 97.4831 199.275C98.2656 201.163 99.4132 202.877 100.86 204.32ZM204.32 122.88C206.868 120.333 208.453 116.981 208.806 113.396C209.159 109.811 208.258 106.214 206.256 103.219C204.254 100.223 201.275 98.0151 197.827 96.97C194.38 95.9249 190.676 96.1077 187.348 97.4873C184.02 98.8669 181.274 101.358 179.577 104.536C177.879 107.714 177.337 111.382 178.041 114.915C178.746 118.448 180.653 121.627 183.439 123.911C186.226 126.195 189.717 127.443 193.32 127.44C195.364 127.443 197.388 127.042 199.275 126.259C201.163 125.476 202.878 124.328 204.32 122.88ZM122.88 19.4205C120.333 16.8729 116.981 15.2876 113.395 14.9347C109.81 14.5817 106.213 15.483 103.218 17.4849C100.223 19.4868 98.0146 22.4654 96.9696 25.9131C95.9245 29.3608 96.1073 33.0642 97.4869 36.3922C98.8665 39.7202 101.358 42.4668 104.535 44.1639C107.713 45.861 111.381 46.4036 114.914 45.6992C118.447 44.9949 121.627 43.0871 123.911 40.301C126.195 37.515 127.442 34.0231 127.44 30.4205C127.44 28.3772 127.038 26.3539 126.255 24.4664C125.473 22.5788 124.326 20.8642 122.88 19.4205ZM19.42 100.86C16.8725 103.408 15.2872 106.76 14.9342 110.345C14.5813 113.93 15.4826 117.527 17.4844 120.522C19.4863 123.518 22.4649 125.726 25.9127 126.771C29.3604 127.816 33.0638 127.633 36.3918 126.254C39.7198 124.874 42.4664 122.383 44.1635 119.205C45.8606 116.027 46.4032 112.359 45.6988 108.826C44.9944 105.293 43.0866 102.114 40.3006 99.8296C37.5145 97.5455 34.0227 96.2983 30.42 96.3005C26.2938 96.3018 22.337 97.9421 19.42 100.86ZM100.86 100.86C98.3125 103.408 96.7272 106.76 96.3742 110.345C96.0213 113.93 96.9226 117.527 98.9244 120.522C100.926 123.518 103.905 125.726 107.353 126.771C110.8 127.816 114.504 127.633 117.832 126.254C121.16 124.874 123.906 122.383 125.604 119.205C127.301 116.027 127.843 112.359 127.139 108.826C126.434 105.293 124.527 102.114 121.741 99.8296C118.955 97.5455 115.463 96.2983 111.86 96.3005C109.817 96.299 107.793 96.701 105.905 97.4835C104.018 98.2661 102.303 99.4136 100.86 100.86Z\" fill=\"#00AEEF\"/>\n",
       "    </g>\n",
       "    <defs>\n",
       "        <clipPath id=\"clip0_4338_178347\">\n",
       "            <rect width=\"566.93\" height=\"223.75\" fill=\"white\"/>\n",
       "        </clipPath>\n",
       "    </defs>\n",
       "  </svg>\n",
       "</div>\n",
       "\n",
       "        <table class=\"jp-RenderedHTMLCommon\" style=\"border-collapse: collapse;color: var(--jp-ui-font-color1);font-size: var(--jp-ui-font-size1);\">\n",
       "    <tr>\n",
       "        <td style=\"text-align: left\"><b>Python version:</b></td>\n",
       "        <td style=\"text-align: left\"><b>3.9.18</b></td>\n",
       "    </tr>\n",
       "    <tr>\n",
       "        <td style=\"text-align: left\"><b>Ray version:</b></td>\n",
       "        <td style=\"text-align: left\"><b>2.8.0</b></td>\n",
       "    </tr>\n",
       "    <tr>\n",
       "    <td style=\"text-align: left\"><b>Dashboard:</b></td>\n",
       "    <td style=\"text-align: left\"><b><a href=\"http://127.0.0.1:8265\" target=\"_blank\">http://127.0.0.1:8265</a></b></td>\n",
       "</tr>\n",
       "\n",
       "</table>\n",
       "\n",
       "    </div>\n",
       "</div>\n"
      ],
      "text/plain": [
       "RayContext(dashboard_url='127.0.0.1:8265', python_version='3.9.18', ray_version='2.8.0', ray_commit='105355bd253d6538ed34d331f6a4bdf0e38ace3a', protocol_version=None)"
      ]
     },
     "execution_count": 4,
     "metadata": {},
     "output_type": "execute_result"
    }
   ],
   "source": [
    "# Init Ray\n",
    "ray.init(\n",
    "    num_cpus=14, num_gpus=1,\n",
    "    include_dashboard=True,\n",
    "    _system_config={\"maximum_gcs_destroyed_actor_cached_count\": 200},\n",
    ")\n"
   ]
  },
  {
   "cell_type": "code",
   "execution_count": 5,
   "id": "eb4c98a6",
   "metadata": {},
   "outputs": [
    {
     "name": "stdout",
     "output_type": "stream",
     "text": [
      "log path: ./logs/ \n",
      "check_path: ./checkpoints\n"
     ]
    }
   ],
   "source": [
    "# Config path\n",
    "log_path = \"./logs/\"\n",
    "checkpoint_path = \"./checkpoints\"\n",
    "sub_buffer_size = 16\n",
    "setting = Dynaconf(envvar_prefix=\"DYNACONF\", settings_files=\"./drone.yml\")\n",
    "\n",
    "# Set hyper parameters\n",
    "hyper_parameters = setting.hyper_parameters.to_dict()\n",
    "hyper_parameters[\"logger_config\"] = {\"type\": JsonLogger, \"logdir\": checkpoint_path}\n",
    "print(\"log path: %s \\ncheck_path: %s\" % (log_path, checkpoint_path))"
   ]
  },
  {
   "cell_type": "code",
   "execution_count": 6,
   "id": "03ef235c",
   "metadata": {},
   "outputs": [
    {
     "data": {
      "text/plain": [
       "{'type': 'MultiAgentPrioritizedReplayBuffer', 'capacity': 100000}"
      ]
     },
     "execution_count": 6,
     "metadata": {},
     "output_type": "execute_result"
    }
   ],
   "source": [
    "hyper_parameters[\"replay_buffer_config\"]"
   ]
  },
  {
   "cell_type": "code",
   "execution_count": 7,
   "id": "cd9853d7",
   "metadata": {},
   "outputs": [],
   "source": [
    "hyper_parameters[\"train_batch_size\"] = int(hyper_parameters[\"train_batch_size\"] / sub_buffer_size)\n",
    "hyper_parameters[\"env_config\"] = {\n",
    "        \"size\": 20,\n",
    "        \"roads\": (5, 7),\n",
    "        \"max_steps\": 1000,\n",
    "        \"battery\":100,\n",
    "        \"render_mode\": \"rgb_array\",\n",
    "        \"agent_pov\": False\n",
    "    }"
   ]
  },
  {
   "cell_type": "code",
   "execution_count": 8,
   "id": "dca64e6f",
   "metadata": {},
   "outputs": [
    {
     "name": "stdout",
     "output_type": "stream",
     "text": [
      "Discrete(3) Box(0, 255, (100, 100, 3), uint8)\n"
     ]
    }
   ],
   "source": [
    "# Build env\n",
    "def env_creator(env_config):\n",
    "    env = RouteEnv(**env_config)\n",
    "    env = FullRGBImgPartialObsWrapper(env, tile_size=5)\n",
    "#     env = TimeLimit(env, max_episode_steps=1000)\n",
    "    return ImgObsWrapper(env)\n",
    "\n",
    "register_env(\"RandomPath\", env_creator)\n",
    "\n",
    "env = env_creator(hyper_parameters[\"env_config\"])\n",
    "obs, _ = env.reset()\n",
    "step = env.step(1)\n",
    "print(env.action_space, env.observation_space)"
   ]
  },
  {
   "cell_type": "code",
   "execution_count": 9,
   "id": "4d8e9c72",
   "metadata": {},
   "outputs": [],
   "source": [
    "ModelCatalog.register_custom_model(\"CustomCNN\", CustomCNN)\n",
    "\n",
    "hyper_parameters[\"model\"] = {\n",
    "        \"custom_model\": \"CustomCNN\",\n",
    "        \"no_final_linear\": True,\n",
    "        \"fcnet_hiddens\": hyper_parameters[\"hiddens\"],\n",
    "        \"custom_model_config\": {},\n",
    "    }"
   ]
  },
  {
   "cell_type": "code",
   "execution_count": 10,
   "id": "479c7e73",
   "metadata": {},
   "outputs": [],
   "source": [
    "config = DQNConfig().environment(\"RandomPath\").resources(num_gpus=1)"
   ]
  },
  {
   "cell_type": "code",
   "execution_count": 11,
   "id": "dc0d024e",
   "metadata": {},
   "outputs": [
    {
     "data": {
      "text/plain": [
       "<ray.rllib.algorithms.dqn.dqn.DQNConfig at 0x7f49c8d50dc0>"
      ]
     },
     "execution_count": 11,
     "metadata": {},
     "output_type": "execute_result"
    }
   ],
   "source": [
    "config.update_from_dict(hyper_parameters)"
   ]
  },
  {
   "cell_type": "code",
   "execution_count": 12,
   "id": "ff88e72a",
   "metadata": {},
   "outputs": [
    {
     "name": "stderr",
     "output_type": "stream",
     "text": [
      "2023-11-22 11:00:40,416\tWARNING deprecation.py:50 -- DeprecationWarning: `rllib/algorithms/simple_q/` has been deprecated. Use `rllib_contrib/simple_q/` instead. This will raise an error in the future!\n",
      "/home/seventheli/miniconda3/envs/drone/lib/python3.9/site-packages/ray/rllib/utils/from_config.py:197: RayDeprecationWarning: This API is deprecated and may be removed in future Ray releases. You could suppress this warning by setting env variable PYTHONWARNINGS=\"ignore::DeprecationWarning\"\n",
      "The `JsonLogger interface is deprecated in favor of the `ray.tune.json.JsonLoggerCallback` interface and will be removed in Ray 2.7.\n",
      "  object_ = constructor(*ctor_args, **ctor_kwargs)\n"
     ]
    }
   ],
   "source": [
    "trainer = config.build()"
   ]
  },
  {
   "cell_type": "code",
   "execution_count": 13,
   "id": "5131c56b",
   "metadata": {},
   "outputs": [
    {
     "name": "stderr",
     "output_type": "stream",
     "text": [
      "2023-11-22 11:00:42,499\tWARNING multi_agent_prioritized_replay_buffer.py:215 -- Adding batches with column `weights` to this buffer while providing weights as a call argument to the add method results in the column being overwritten.\n"
     ]
    },
    {
     "name": "stdout",
     "output_type": "stream",
     "text": [
      "-9.727974683544302\n"
     ]
    },
    {
     "name": "stderr",
     "output_type": "stream",
     "text": [
      "2023-11-22 11:01:16,919\tWARNING deprecation.py:50 -- DeprecationWarning: `ray.rllib.execution.train_ops.multi_gpu_train_one_step` has been deprecated. This will raise an error in the future!\n"
     ]
    },
    {
     "name": "stdout",
     "output_type": "stream",
     "text": [
      "-10.093999999999996\n",
      "-9.942299999999996\n",
      "-8.990799999999997\n",
      "-8.853599999999998\n",
      "-8.282999999999998\n",
      "-8.691299999999995\n",
      "-8.144199999999994\n",
      "-7.618099999999995\n",
      "-7.2602999999999955\n",
      "-6.4119999999999955\n",
      "-6.713899999999995\n",
      "-6.554299999999996\n",
      "-6.328299999999995\n",
      "-6.1950999999999965\n",
      "-6.814399999999998\n",
      "-6.304899999999998\n",
      "-6.668699999999998\n",
      "-6.789999999999997\n",
      "-8.446599999999997\n",
      "-9.022699999999997\n",
      "-8.729699999999996\n",
      "-10.277699999999983\n",
      "-8.413999999999994\n",
      "-8.371299999999996\n",
      "-8.343099999999987\n",
      "-7.665299999999995\n",
      "-9.006499999999994\n",
      "-8.524399999999988\n",
      "-7.87459999999999\n",
      "-8.995799999999992\n",
      "-7.374699999999991\n",
      "-8.962699999999986\n",
      "-10.150499999999987\n",
      "-7.024299999999995\n",
      "-6.9961999999999955\n",
      "-8.551099999999993\n",
      "-7.687999999999993\n",
      "-9.154799999999986\n",
      "-8.421299999999981\n",
      "-7.203199999999992\n",
      "-5.311799999999998\n",
      "-7.073099999999994\n",
      "-7.274299999999988\n",
      "-6.169199999999995\n",
      "-5.286699999999996\n",
      "-5.593399999999995\n",
      "-8.896199999999986\n",
      "-8.81509999999999\n",
      "-7.4473999999999885\n",
      "-8.537499999999989\n",
      "-8.359899999999989\n",
      "-6.847699999999993\n",
      "-6.967599999999993\n",
      "-8.153499999999998\n",
      "-8.116399999999993\n",
      "-7.259699999999993\n",
      "-6.818199999999995\n",
      "-7.220499999999995\n",
      "-5.688499999999998\n",
      "-5.905799999999991\n",
      "-7.1586999999999925\n",
      "-5.882899999999998\n",
      "-6.345199999999988\n",
      "-7.452299999999991\n",
      "-6.480599999999996\n",
      "-6.300399999999992\n",
      "-7.5884999999999865\n",
      "-6.392999999999992\n",
      "-6.761099999999994\n",
      "-7.697799999999993\n",
      "-7.641699999999993\n",
      "-6.847899999999993\n",
      "-5.603599999999995\n",
      "-6.764999999999989\n",
      "-7.82579999999999\n",
      "-8.410899999999993\n",
      "-7.857599999999992\n",
      "-7.593299999999991\n",
      "-10.611699999999983\n",
      "-9.05229999999999\n",
      "-7.669599999999989\n",
      "-6.072599999999995\n",
      "-5.7303999999999915\n",
      "-6.86739999999999\n",
      "-6.301399999999997\n",
      "-5.717199999999994\n",
      "-5.569899999999995\n",
      "-8.565299999999985\n",
      "-8.31539999999999\n",
      "-7.667699999999992\n",
      "-5.292399999999994\n",
      "-6.284199999999994\n",
      "-7.17179999999999\n",
      "-6.991699999999993\n",
      "-6.793599999999994\n",
      "-6.516699999999994\n",
      "-9.296699999999992\n",
      "-7.523199999999995\n",
      "-7.149199999999996\n"
     ]
    }
   ],
   "source": [
    "for i in range(100):\n",
    "    _ = trainer.train()\n",
    "    print(_[\"sampler_results\"][\"episode_reward_mean\"])"
   ]
  },
  {
   "cell_type": "code",
   "execution_count": null,
   "id": "db7467cf",
   "metadata": {},
   "outputs": [],
   "source": []
  }
 ],
 "metadata": {
  "kernelspec": {
   "display_name": "Python [conda env:drone]",
   "language": "python",
   "name": "conda-env-drone-py"
  },
  "language_info": {
   "codemirror_mode": {
    "name": "ipython",
    "version": 3
   },
   "file_extension": ".py",
   "mimetype": "text/x-python",
   "name": "python",
   "nbconvert_exporter": "python",
   "pygments_lexer": "ipython3",
   "version": "3.9.18"
  }
 },
 "nbformat": 4,
 "nbformat_minor": 5
}
