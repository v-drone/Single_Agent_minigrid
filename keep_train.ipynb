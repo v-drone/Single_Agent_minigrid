{
 "cells": [
  {
   "cell_type": "code",
   "execution_count": 1,
   "id": "c0652365",
   "metadata": {},
   "outputs": [],
   "source": [
    "import os\n",
    "import numpy as np\n",
    "import mxnet as mx\n",
    "from model.simple_stack import SimpleStack\n",
    "from utils import check_dir\n",
    "from memory import Memory\n",
    "from environments.SimpleEnv import SimpleEnv\n",
    "from utils import create_input, translate_state\n",
    "from evaluation_mxnet import evaluate\n",
    "from mxnet import gluon, nd, autograd"
   ]
  },
  {
   "cell_type": "code",
   "execution_count": 2,
   "id": "4436599b",
   "metadata": {
    "pycharm": {
     "name": "#%%\n"
    }
   },
   "outputs": [],
   "source": [
    "# training cases\n",
    "order = \"MXNET\"\n",
    "# batch size\n",
    "batch_size = 512\n",
    "# agent view\n",
    "agent_view = 7\n",
    "map_size = 20\n",
    "# action max\n",
    "action_max = 3\n",
    "# learning rate\n",
    "model_save = \"./model_save/\"\n",
    "lr = 0.001\n",
    "num_episode = 1000000\n",
    "# start play\n",
    "replay_start = 10000\n",
    "# update step\n",
    "update_step = 1000\n",
    "# gamma in q-loss calculation\n",
    "gamma = 0.99\n",
    "# memory pool size\n",
    "memory_length = 100000\n",
    "# file to save train log\n",
    "summary = \"./{}_Reward.csv\".format(order)\n",
    "eval_statistics = \"./{}_CSV.csv\".format(order)\n",
    "# the number of step it take to linearly anneal the epsilon to it min value\n",
    "annealing_end = 200000\n",
    "# min level of stochastically of policy (epsilon)-greedy\n",
    "epsilon_min = 0.2\n",
    "# temporary files\n",
    "temporary_model = \"./{}/{}.params\".format(model_save, order)\n",
    "temporary_pool = \"./{}/{}.pool\".format(model_save, order)"
   ]
  },
  {
   "cell_type": "code",
   "execution_count": 3,
   "id": "474a434e",
   "metadata": {},
   "outputs": [],
   "source": [
    "ctx = mx.gpu()\n",
    "for i in [\"model_save\", \"data_save\"]:\n",
    "    check_dir(i)"
   ]
  },
  {
   "cell_type": "code",
   "execution_count": 4,
   "id": "dd448d9e",
   "metadata": {},
   "outputs": [
    {
     "name": "stderr",
     "output_type": "stream",
     "text": [
      "[00:08:29] ../src/base.cc:80: cuDNN lib mismatch: linked-against version 8101 != compiled-against version 8100.  Set MXNET_CUDNN_LIB_CHECKING=0 to quiet this warning.\n"
     ]
    }
   ],
   "source": [
    "# build models\n",
    "online_model = SimpleStack()\n",
    "offline_model = SimpleStack()\n",
    "online_model.load_parameters(temporary_model, ctx=ctx)\n",
    "offline_model.load_parameters(temporary_model, ctx=ctx)"
   ]
  },
  {
   "cell_type": "code",
   "execution_count": 6,
   "id": "0f1ba920",
   "metadata": {},
   "outputs": [],
   "source": [
    "import pickle\n",
    "if os.path.exists(\"./pool\"):\n",
    "    with open(\"./pool\", \"rb\") as f:\n",
    "        memory_pool = pickle.load(f)\n",
    "else:\n",
    "    memory_pool = Memory(memory_length)"
   ]
  },
  {
   "cell_type": "code",
   "execution_count": 7,
   "id": "d9a24ce3",
   "metadata": {},
   "outputs": [],
   "source": [
    "import pickle\n",
    "if os.path.exists(\"./env\"):\n",
    "    with open(\"./env\", \"rb\") as f:\n",
    "        env = pickle.load(f)\n",
    "else:\n",
    "    env = SimpleEnv(display=False, agent_view=agent_view, map_size=map_size)"
   ]
  },
  {
   "cell_type": "code",
   "execution_count": 8,
   "id": "8d75af3a",
   "metadata": {},
   "outputs": [],
   "source": [
    "# create env\n",
    "env.reset_env()\n",
    "annealing = 100000\n",
    "total_reward = np.zeros(num_episode)\n",
    "eval_result = []\n",
    "loss_func = gluon.loss.L2Loss()\n",
    "trainer = gluon.Trainer(offline_model.collect_params(), 'adam', {'learning_rate': lr})"
   ]
  },
  {
   "cell_type": "code",
   "execution_count": null,
   "id": "09e9205f",
   "metadata": {
    "scrolled": false
   },
   "outputs": [
    {
     "name": "stderr",
     "output_type": "stream",
     "text": [
      "[00:10:22] ../src/operator/nn/./cudnn/./cudnn_algoreg-inl.h:97: Running performance tests to find the best convolution algorithm, this can take a while... (set the environment variable MXNET_CUDNN_AUTOTUNE_DEFAULT to 0 to disable)\n"
     ]
    },
    {
     "name": "stdout",
     "output_type": "stream",
     "text": [
      "Model Structure: \n",
      "SimpleStack(\n",
      "  (view): Sequential(\n",
      "    (0): Conv2D(2 -> 256, kernel_size=(1, 1), stride=(1, 1), bias=False)\n",
      "    (1): Conv2D(256 -> 128, kernel_size=(2, 2), stride=(1, 1), bias=False)\n",
      "    (2): Conv2D(128 -> 128, kernel_size=(2, 2), stride=(1, 1), bias=False)\n",
      "  )\n",
      "  (map): Sequential(\n",
      "    (0): Conv2D(3 -> 256, kernel_size=(1, 1), stride=(1, 1), bias=False)\n",
      "    (1): Conv2D(256 -> 256, kernel_size=(3, 3), stride=(1, 1), bias=False)\n",
      "    (2): Conv2D(256 -> 128, kernel_size=(3, 3), stride=(1, 1), bias=False)\n",
      "    (3): Conv2D(128 -> 128, kernel_size=(3, 3), stride=(1, 1), bias=False)\n",
      "    (4): Conv2D(128 -> 128, kernel_size=(3, 3), stride=(1, 1), bias=False)\n",
      "    (5): Conv2D(128 -> 128, kernel_size=(3, 3), stride=(1, 1), bias=False)\n",
      "  )\n",
      "  (decision_making): Sequential(\n",
      "    (0): Dense(16001 -> 1024, Activation(sigmoid))\n",
      "    (1): Dense(1024 -> 64, Activation(sigmoid))\n",
      "    (2): Dense(64 -> 3, Activation(sigmoid))\n",
      "  )\n",
      ")\n",
      "DR: 0.046381(50), 0.055554(all), eps: 0.950000\n",
      "annealing and learning are started\n",
      "DR: 0.058440(50), 0.078565(all), eps: 0.922660\n",
      "DR: 0.089743(50), 0.081278(all), eps: 0.897660\n",
      "DR: 0.142160(50), 0.103079(all), eps: 0.870520\n",
      "DR: 0.108098(50), 0.103885(all), eps: 0.845520\n"
     ]
    }
   ],
   "source": [
    "_print = True\n",
    "_last_dr_50 = 0\n",
    "for epoch in range(num_episode):\n",
    "    env.reset_env()\n",
    "    finish = 0\n",
    "    cum_clipped_dr = 0\n",
    "    if epoch == 51:\n",
    "        print(\"Model Structure: \")\n",
    "        print(offline_model)\n",
    "    if sum(env.step_count) > replay_start and _print:\n",
    "        print('annealing and learning are started')\n",
    "        _print = False\n",
    "    while not finish:\n",
    "        if sum(env.step_count) > replay_start:\n",
    "            annealing += 1\n",
    "        eps = np.maximum(1 - sum(env.step_count) / annealing_end, epsilon_min)\n",
    "        if np.random.random() < eps:\n",
    "            by = \"Random\"\n",
    "            action = np.random.randint(0, action_max)\n",
    "        else:\n",
    "            by = \"Model\"\n",
    "            data = create_input([translate_state(env.map.state())])\n",
    "            data = [nd.array(i, ctx=ctx) for i in data]\n",
    "            action = offline_model(data)\n",
    "            action = int(nd.argmax(action, axis=1).asnumpy()[0])\n",
    "        old, new, reward_get, finish = env.step(action)\n",
    "        memory_pool.add(old, new, action, reward_get, finish)\n",
    "        if finish and epoch > 50:\n",
    "            cum_clipped_dr += env.detect_rate[-1]\n",
    "            dr_50 = float(np.mean(env.detect_rate[-50:]))\n",
    "            dr_all = float(np.mean(env.detect_rate))\n",
    "            if epoch % 50 == 0:\n",
    "                text = \"DR: %f(50), %f(all), eps: %f\" % (dr_50, dr_all, eps)\n",
    "                print(text)\n",
    "                with open(summary, \"a\") as f:\n",
    "                    f.writelines(text + \"\\n\")\n",
    "            if epoch % 100 == 0 and annealing > replay_start:\n",
    "                eval_result.extend(evaluate(ctx, offline_model, env, 5))\n",
    "            # save model and replace online model each update_step\n",
    "            if annealing > replay_start and annealing % update_step == 0:\n",
    "                if dr_50 >= _last_dr_50:\n",
    "                    _last_dr_50 = dr_50\n",
    "                    offline_model.save_parameters(temporary_model)\n",
    "                    online_model.load_parameters(temporary_model, ctx)\n",
    "    #  train every 2 epoch\n",
    "    if annealing > replay_start and epoch % 2 == 0:\n",
    "        # Sample random mini batch of transitions\n",
    "        if len(memory_pool.memory) > batch_size:\n",
    "            bz = batch_size\n",
    "        else:\n",
    "            bz = len(memory_pool.memory)\n",
    "        for_train = memory_pool.next_batch(bz)\n",
    "        state =  [nd.array(i, ctx=ctx) for i in for_train[\"state\"]]\n",
    "        state_next = [nd.array(i, ctx=ctx) for i in for_train[\"state_next\"]]\n",
    "        finish = nd.array(for_train[\"finish\"], ctx=ctx)\n",
    "        action = nd.array(for_train[\"action\"], ctx=ctx)\n",
    "        reward = nd.array(for_train[\"reward\"], ctx=ctx)\n",
    "        with autograd.record(train_mode=True):\n",
    "            q_sp = nd.max(online_model(state_next), axis=1)\n",
    "            q_sp = q_sp * (nd.ones(bz, ctx=ctx) - finish)\n",
    "            q_s_array = offline_model(state)\n",
    "            q_s = nd.pick(q_s_array, action, 1)\n",
    "            loss = nd.mean(loss_func(q_s, (reward + gamma * q_sp)))\n",
    "        loss.backward()\n",
    "        trainer.step(bz)\n",
    "    total_reward[int(epoch) - 1] = cum_clipped_dr"
   ]
  },
  {
   "cell_type": "code",
   "execution_count": null,
   "id": "80843368",
   "metadata": {},
   "outputs": [],
   "source": [
    "import pickle"
   ]
  },
  {
   "cell_type": "code",
   "execution_count": null,
   "id": "3f5634b3",
   "metadata": {},
   "outputs": [],
   "source": [
    "with open(\"./pool\", \"wb\") as f:\n",
    "    pickle.dump(memory_pool, f)"
   ]
  },
  {
   "cell_type": "code",
   "execution_count": null,
   "id": "360fe27f",
   "metadata": {},
   "outputs": [],
   "source": [
    "with open(\"./env\", \"wb\") as f:\n",
    "    pickle.dump(env, f)"
   ]
  },
  {
   "cell_type": "code",
   "execution_count": null,
   "id": "d6e69e5f",
   "metadata": {},
   "outputs": [],
   "source": []
  }
 ],
 "metadata": {
  "kernelspec": {
   "display_name": "Python 3 (ipykernel)",
   "language": "python",
   "name": "python3"
  },
  "language_info": {
   "codemirror_mode": {
    "name": "ipython",
    "version": 3
   },
   "file_extension": ".py",
   "mimetype": "text/x-python",
   "name": "python",
   "nbconvert_exporter": "python",
   "pygments_lexer": "ipython3",
   "version": "3.8.5"
  }
 },
 "nbformat": 4,
 "nbformat_minor": 5
}
