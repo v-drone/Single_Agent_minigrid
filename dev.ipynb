{
 "cells": [
  {
   "cell_type": "code",
   "execution_count": 1,
   "id": "59533ac3",
   "metadata": {},
   "outputs": [],
   "source": [
    "import os\n",
    "import numpy as np\n",
    "import mxnet as mx\n",
    "from model.simple_stack import SimpleStack\n",
    "from utils import check_dir\n",
    "from memory import Memory\n",
    "from algorithm.DQN import DQN\n",
    "from environments.SimpleEnv import SimpleEnv\n",
    "from utils import copy_params\n",
    "from evaluation import evaluate"
   ]
  },
  {
   "cell_type": "code",
   "execution_count": 2,
   "id": "90587f6b",
   "metadata": {},
   "outputs": [],
   "source": [
    "# training cases\n",
    "order = \"TEST\"\n",
    "# agent view\n",
    "agent_view = 7\n",
    "map_size = 10\n",
    "# action max\n",
    "action_max = 3\n",
    "# learning rate\n",
    "model_save = \"./model_save/\"\n",
    "lr = 0.005\n",
    "num_episode = 1000000\n",
    "# start play\n",
    "replay_start = 10000\n",
    "# update step\n",
    "update_step = 1000\n",
    "# gamma in q-loss calculation\n",
    "gamma = 0.99\n",
    "# memory pool size\n",
    "memory_length = 100000\n",
    "# file to save train log\n",
    "summary = \"./{}_Reward.csv\".format(order)\n",
    "eval_statistics = \"./{}_CSV.csv\".format(order)\n",
    "# the number of step it take to linearly anneal the epsilon to it min value\n",
    "annealing_end = 200000\n",
    "# min level of stochastically of policy (epsilon)-greedy\n",
    "epsilon_min = 0.2\n",
    "# temporary files\n",
    "temporary_model = \"./{}/{}.params\".format(model_save, order)\n",
    "temporary_pool = \"./{}/{}.pool\".format(model_save, order)"
   ]
  },
  {
   "cell_type": "code",
   "execution_count": 3,
   "id": "ed239fc5",
   "metadata": {},
   "outputs": [],
   "source": [
    "if os.path.exists(summary):\n",
    "    os.remove(summary)\n",
    "ctx = mx.gpu()\n",
    "for i in [\"model_save\", \"data_save\"]:\n",
    "    check_dir(i)"
   ]
  },
  {
   "cell_type": "code",
   "execution_count": 4,
   "id": "2603120f",
   "metadata": {},
   "outputs": [
    {
     "name": "stderr",
     "output_type": "stream",
     "text": [
      "[22:45:53] ../src/base.cc:80: cuDNN lib mismatch: linked-against version 8101 != compiled-against version 8100.  Set MXNET_CUDNN_LIB_CHECKING=0 to quiet this warning.\n"
     ]
    }
   ],
   "source": [
    "# build models\n",
    "online_model = SimpleStack(agent_view, map_size)\n",
    "offline_model = SimpleStack(agent_view, map_size)\n",
    "online_model.collect_params().initialize(mx.init.Normal(0.02), ctx=ctx)\n",
    "offline_model.collect_params().initialize(mx.init.Normal(0.02), ctx=ctx)\n",
    "offline_model.collect_params().zero_grad()"
   ]
  },
  {
   "cell_type": "code",
   "execution_count": 5,
   "id": "6e03a482",
   "metadata": {},
   "outputs": [
    {
     "data": {
      "text/plain": [
       "SimpleStack(\n",
       "  (view_decode): Sequential(\n",
       "    (0): Dense(None -> 2048, linear)\n",
       "    (1): Dense(None -> 64, linear)\n",
       "    (2): Dense(None -> 64, linear)\n",
       "    (3): LeakyReLU(0.1)\n",
       "  )\n",
       "  (map_decode): Sequential(\n",
       "    (0): Dense(None -> 1024, linear)\n",
       "    (1): Dense(None -> 128, linear)\n",
       "    (2): LeakyReLU(0.1)\n",
       "  )\n",
       "  (decision_making): Sequential(\n",
       "    (0): Dense(None -> 2048, linear)\n",
       "    (1): Dense(None -> 512, linear)\n",
       "    (2): Dense(None -> 512, linear)\n",
       "    (3): Dense(None -> 64, linear)\n",
       "    (4): Dense(None -> 3, Activation(relu))\n",
       "  )\n",
       ")"
      ]
     },
     "execution_count": 5,
     "metadata": {},
     "output_type": "execute_result"
    }
   ],
   "source": [
    "offline_model"
   ]
  },
  {
   "cell_type": "code",
   "execution_count": 6,
   "id": "150433e7",
   "metadata": {},
   "outputs": [],
   "source": [
    "# create env\n",
    "env = SimpleEnv(display=False)\n",
    "env.reset_env()\n",
    "memory_pool = Memory(memory_length, ctx=ctx)"
   ]
  },
  {
   "cell_type": "code",
   "execution_count": 7,
   "id": "4ee3254a",
   "metadata": {},
   "outputs": [],
   "source": [
    "_epoch = 0"
   ]
  },
  {
   "cell_type": "code",
   "execution_count": 8,
   "id": "d9377793",
   "metadata": {},
   "outputs": [],
   "source": [
    "_print = False"
   ]
  },
  {
   "cell_type": "code",
   "execution_count": null,
   "id": "77f5d40c",
   "metadata": {},
   "outputs": [
    {
     "name": "stdout",
     "output_type": "stream",
     "text": [
      "Model Structure: \n",
      "SimpleStack(\n",
      "  (view_decode): Sequential(\n",
      "    (0): Dense(588 -> 2048, linear)\n",
      "    (1): Dense(2048 -> 64, linear)\n",
      "    (2): Dense(64 -> 64, linear)\n",
      "    (3): LeakyReLU(0.1)\n",
      "  )\n",
      "  (map_decode): Sequential(\n",
      "    (0): Dense(4800 -> 1024, linear)\n",
      "    (1): Dense(1024 -> 128, linear)\n",
      "    (2): LeakyReLU(0.1)\n",
      "  )\n",
      "  (decision_making): Sequential(\n",
      "    (0): Dense(196 -> 2048, linear)\n",
      "    (1): Dense(2048 -> 512, linear)\n",
      "    (2): Dense(512 -> 512, linear)\n",
      "    (3): Dense(512 -> 64, linear)\n",
      "    (4): Dense(64 -> 3, Activation(relu))\n",
      "  )\n",
      ")\n",
      "DR: 0.055418(50), 0.065120(all), eps: 0.950000\n",
      "annealing and learning are started\n",
      "DR: 0.059361(50), 0.063213(all), eps: 0.925000\n"
     ]
    }
   ],
   "source": [
    "# workflow\n",
    "algorithm = DQN([online_model, offline_model], ctx, lr, gamma, memory_pool,\n",
    "                action_max, temporary_model, bz=512)\n",
    "annealing = 0\n",
    "total_reward = np.zeros(num_episode)\n",
    "eval_result = []\n",
    "for epoch in range(_epoch, num_episode):\n",
    "    _epoch += 1\n",
    "    env.reset_env()\n",
    "    finish = 0\n",
    "    cum_clipped_dr = 0\n",
    "    if epoch == 100:\n",
    "        print(\"Model Structure: \")\n",
    "        print(offline_model)\n",
    "    if sum(env.step_count) > replay_start and _print == False:\n",
    "        print('annealing and learning are started')\n",
    "        _print = True\n",
    "    while not finish:\n",
    "        if sum(env.step_count) > replay_start:\n",
    "            annealing += 1\n",
    "        eps = np.maximum(1 - sum(env.step_count) / annealing_end, epsilon_min)\n",
    "        action, by = algorithm.get_action(env.map.state(), eps)\n",
    "        old, new, reward_get, finish = env.step(action)\n",
    "        memory_pool.add(old, new, action, reward_get, finish)\n",
    "        if finish and epoch > 50:\n",
    "            cum_clipped_dr += env.detect_rate[-1]\n",
    "            dr_50 = float(np.mean(env.detect_rate[-50:]))\n",
    "            dr_all = float(np.mean(env.detect_rate))\n",
    "            if epoch % 50 == 0:\n",
    "                text = \"DR: %f(50), %f(all), eps: %f\" % (dr_50, dr_all, eps)\n",
    "                print(text)\n",
    "                with open(summary, \"a\") as f:\n",
    "                    f.writelines(text + \"\\n\")\n",
    "            if epoch % 100 == 0 and annealing > replay_start:\n",
    "                eval_result.extend(evaluate(offline_model, 5, ctx))\n",
    "        # save model and replace online model each update_step\n",
    "        if annealing > replay_start and annealing % update_step == 0:\n",
    "            copy_params(offline_model, online_model)\n",
    "            offline_model.save_parameters(temporary_model)\n",
    "    #  train every 2 epoch\n",
    "    if annealing > replay_start and epoch % 2 == 0:\n",
    "        algorithm.train()\n",
    "    total_reward[int(epoch) - 1] = cum_clipped_dr\n"
   ]
  },
  {
   "cell_type": "code",
   "execution_count": null,
   "id": "a1a2fb62",
   "metadata": {},
   "outputs": [],
   "source": []
  }
 ],
 "metadata": {
  "kernelspec": {
   "display_name": "Python 3 (ipykernel)",
   "language": "python",
   "name": "python3"
  },
  "language_info": {
   "codemirror_mode": {
    "name": "ipython",
    "version": 3
   },
   "file_extension": ".py",
   "mimetype": "text/x-python",
   "name": "python",
   "nbconvert_exporter": "python",
   "pygments_lexer": "ipython3",
   "version": "3.8.5"
  }
 },
 "nbformat": 4,
 "nbformat_minor": 5
}
