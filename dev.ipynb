{
 "cells": [
  {
   "cell_type": "code",
   "execution_count": 1,
   "id": "c0652365",
   "metadata": {},
   "outputs": [],
   "source": [
    "import os\n",
    "import numpy as np\n",
    "import mxnet as mx\n",
    "from model.simple_stack import SimpleStack\n",
    "from utils import check_dir\n",
    "from memory import Memory\n",
    "from environments.SimpleEnv import SimpleEnv\n",
    "from utils import create_input, translate_state\n",
    "from evaluation import evaluate\n",
    "from mxnet import gluon, nd, autograd"
   ]
  },
  {
   "cell_type": "code",
   "execution_count": 2,
   "id": "4436599b",
   "metadata": {},
   "outputs": [],
   "source": [
    "# training cases\n",
    "order = \"TEST\"\n",
    "# batch size\n",
    "batch_size = 512\n",
    "# agent view\n",
    "agent_view = 7\n",
    "map_size = 10\n",
    "# action max\n",
    "action_max = 3\n",
    "# learning rate\n",
    "model_save = \"./model_save/\"\n",
    "lr = 0.001\n",
    "num_episode = 1000000\n",
    "# start play\n",
    "replay_start = 10000\n",
    "# update step\n",
    "update_step = 1000\n",
    "# gamma in q-loss calculation\n",
    "gamma = 0.99\n",
    "# memory pool size\n",
    "memory_length = 100000\n",
    "# file to save train log\n",
    "summary = \"./{}_Reward.csv\".format(order)\n",
    "eval_statistics = \"./{}_CSV.csv\".format(order)\n",
    "# the number of step it take to linearly anneal the epsilon to it min value\n",
    "annealing_end = 200000\n",
    "# min level of stochastically of policy (epsilon)-greedy\n",
    "epsilon_min = 0.2\n",
    "# temporary files\n",
    "temporary_model = \"./{}/{}.params\".format(model_save, order)\n",
    "temporary_pool = \"./{}/{}.pool\".format(model_save, order)"
   ]
  },
  {
   "cell_type": "code",
   "execution_count": 3,
   "id": "474a434e",
   "metadata": {},
   "outputs": [],
   "source": [
    "if os.path.exists(summary):\n",
    "    os.remove(summary)\n",
    "ctx = mx.gpu()\n",
    "for i in [\"model_save\", \"data_save\"]:\n",
    "    check_dir(i)"
   ]
  },
  {
   "cell_type": "code",
   "execution_count": 4,
   "id": "dd448d9e",
   "metadata": {},
   "outputs": [
    {
     "name": "stderr",
     "output_type": "stream",
     "text": [
      "[05:08:45] ../src/base.cc:80: cuDNN lib mismatch: linked-against version 8101 != compiled-against version 8100.  Set MXNET_CUDNN_LIB_CHECKING=0 to quiet this warning.\n"
     ]
    }
   ],
   "source": [
    "# build models\n",
    "online_model = SimpleStack(agent_view, map_size)\n",
    "offline_model = SimpleStack(agent_view, map_size)\n",
    "online_model.collect_params().initialize(mx.init.MSRAPrelu(), ctx=ctx)\n",
    "offline_model.collect_params().initialize(mx.init.MSRAPrelu(), ctx=ctx)\n",
    "offline_model.collect_params().zero_grad()"
   ]
  },
  {
   "cell_type": "code",
   "execution_count": 5,
   "id": "8d75af3a",
   "metadata": {},
   "outputs": [],
   "source": [
    "# create env\n",
    "env = SimpleEnv(display=False, agent_view=agent_view)\n",
    "env.reset_env()\n",
    "memory_pool = Memory(memory_length, ctx=ctx)\n",
    "annealing = 0\n",
    "total_reward = np.zeros(num_episode)\n",
    "eval_result = []\n",
    "loss_func = gluon.loss.L2Loss()\n",
    "trainer = gluon.Trainer(offline_model.collect_params(), 'adam', {'learning_rate': lr})"
   ]
  },
  {
   "cell_type": "code",
   "execution_count": 6,
   "id": "0092a356",
   "metadata": {},
   "outputs": [],
   "source": [
    "_epoch = 0"
   ]
  },
  {
   "cell_type": "code",
   "execution_count": null,
   "id": "09e9205f",
   "metadata": {
    "scrolled": false
   },
   "outputs": [
    {
     "name": "stderr",
     "output_type": "stream",
     "text": [
      "[05:08:48] ../src/operator/nn/./cudnn/./cudnn_algoreg-inl.h:97: Running performance tests to find the best convolution algorithm, this can take a while... (set the environment variable MXNET_CUDNN_AUTOTUNE_DEFAULT to 0 to disable)\n"
     ]
    },
    {
     "name": "stdout",
     "output_type": "stream",
     "text": [
      "Model Structure: \n",
      "SimpleStack(\n",
      "  (view_decode): Sequential(\n",
      "    (0): Conv2D(2 -> 512, kernel_size=(1, 1), stride=(1, 1), bias=False)\n",
      "    (1): Conv2D(512 -> 256, kernel_size=(2, 2), stride=(1, 1), bias=False)\n",
      "    (2): Conv2D(256 -> 256, kernel_size=(2, 2), stride=(1, 1), bias=False)\n",
      "  )\n",
      "  (map_decode): Sequential(\n",
      "    (0): Conv2D(3 -> 512, kernel_size=(1, 1), stride=(1, 1), bias=False)\n",
      "    (1): Conv2D(512 -> 256, kernel_size=(3, 3), stride=(1, 1), bias=False)\n",
      "    (2): Conv2D(256 -> 256, kernel_size=(3, 3), stride=(1, 1), bias=False)\n",
      "    (3): Conv2D(256 -> 256, kernel_size=(3, 3), stride=(1, 1), bias=False)\n",
      "  )\n",
      "  (decision_making): Sequential(\n",
      "    (0): Dense(22785 -> 1024, Activation(sigmoid))\n",
      "    (1): Dense(1024 -> 64, Activation(sigmoid))\n",
      "    (2): Dense(64 -> 3, Activation(sigmoid))\n",
      "  )\n",
      ")\n",
      "DR: 0.120101(50), 0.117787(all), eps: 0.950000\n",
      "annealing and learning are started\n",
      "DR: 0.085869(50), 0.107218(all), eps: 0.925000\n",
      "DR: 0.085061(50), 0.101706(all), eps: 0.900000\n",
      "DR: 0.091000(50), 0.099573(all), eps: 0.875000\n",
      "DR: 0.177081(50), 0.112448(all), eps: 0.850000\n",
      "DR: 0.188929(50), 0.123343(all), eps: 0.825000\n",
      "DR: 0.222889(50), 0.135755(all), eps: 0.800000\n",
      "DR: 0.160000(50), 0.138443(all), eps: 0.775000\n",
      "DR: 0.218495(50), 0.146432(all), eps: 0.750000\n",
      "DR: 0.234152(50), 0.154392(all), eps: 0.725000\n",
      "DR: 0.252828(50), 0.162582(all), eps: 0.700000\n",
      "DR: 0.243576(50), 0.168802(all), eps: 0.675000\n",
      "DR: 0.234980(50), 0.173523(all), eps: 0.650000\n",
      "DR: 0.230889(50), 0.177342(all), eps: 0.625000\n",
      "DR: 0.282313(50), 0.183895(all), eps: 0.600000\n",
      "DR: 0.304313(50), 0.190970(all), eps: 0.575000\n",
      "DR: 0.318263(50), 0.198034(all), eps: 0.550000\n",
      "DR: 0.284485(50), 0.202579(all), eps: 0.525000\n",
      "DR: 0.340798(50), 0.209483(all), eps: 0.500000\n",
      "DR: 0.335131(50), 0.215461(all), eps: 0.475000\n",
      "DR: 0.315677(50), 0.220012(all), eps: 0.450000\n",
      "DR: 0.366929(50), 0.226394(all), eps: 0.425000\n",
      "DR: 0.389838(50), 0.233198(all), eps: 0.400000\n",
      "DR: 0.385040(50), 0.239267(all), eps: 0.375000\n",
      "DR: 0.418152(50), 0.246142(all), eps: 0.350000\n",
      "DR: 0.387606(50), 0.251378(all), eps: 0.325000\n",
      "DR: 0.381000(50), 0.256004(all), eps: 0.300000\n",
      "DR: 0.406535(50), 0.261191(all), eps: 0.275000\n",
      "DR: 0.263606(50), 0.261271(all), eps: 0.250000\n",
      "DR: 0.258465(50), 0.261181(all), eps: 0.225000\n",
      "DR: 0.230980(50), 0.260238(all), eps: 0.200000\n",
      "DR: 0.334273(50), 0.262480(all), eps: 0.200000\n",
      "DR: 0.353404(50), 0.265152(all), eps: 0.200000\n",
      "DR: 0.327707(50), 0.266939(all), eps: 0.200000\n",
      "DR: 0.433879(50), 0.271573(all), eps: 0.200000\n",
      "DR: 0.396586(50), 0.274950(all), eps: 0.200000\n",
      "DR: 0.436667(50), 0.279204(all), eps: 0.200000\n",
      "DR: 0.339859(50), 0.280758(all), eps: 0.200000\n",
      "DR: 0.299798(50), 0.281234(all), eps: 0.200000\n",
      "DR: 0.385535(50), 0.283777(all), eps: 0.200000\n"
     ]
    }
   ],
   "source": [
    "_print = True\n",
    "for epoch in range(num_episode):\n",
    "    env.reset_env()\n",
    "    finish = 0\n",
    "    cum_clipped_dr = 0\n",
    "    if epoch == 51:\n",
    "        print(\"Model Structure: \")\n",
    "        print(offline_model)\n",
    "    if sum(env.step_count) > replay_start and _print:\n",
    "        print('annealing and learning are started')\n",
    "        _print = False\n",
    "    while not finish:\n",
    "        if sum(env.step_count) > replay_start:\n",
    "            annealing += 1\n",
    "        eps = np.maximum(1 - sum(env.step_count) / annealing_end, epsilon_min)\n",
    "        if np.random.random() < eps:\n",
    "            by = \"Random\"\n",
    "            action = np.random.randint(0, action_max)\n",
    "        else:\n",
    "            by = \"Model\"\n",
    "            data = create_input([translate_state(env.map.state())], ctx)\n",
    "            action = offline_model(data)\n",
    "            action = int(nd.argmax(action, axis=1).asnumpy()[0])\n",
    "        old, new, reward_get, finish = env.step(action)\n",
    "        memory_pool.add(old, new, action, reward_get, finish)\n",
    "        if finish and epoch > 50:\n",
    "            cum_clipped_dr += env.detect_rate[-1]\n",
    "            dr_50 = float(np.mean(env.detect_rate[-50:]))\n",
    "            dr_all = float(np.mean(env.detect_rate))\n",
    "            if epoch % 50 == 0:\n",
    "                text = \"DR: %f(50), %f(all), eps: %f\" % (dr_50, dr_all, eps)\n",
    "                print(text)\n",
    "                with open(summary, \"a\") as f:\n",
    "                    f.writelines(text + \"\\n\")\n",
    "            if epoch % 100 == 0 and annealing > replay_start:\n",
    "                eval_result.extend(evaluate(ctx, offline_model, agent_view, 5))\n",
    "        # save model and replace online model each update_step\n",
    "        if annealing > replay_start and annealing % update_step == 0:\n",
    "            offline_model.save_parameters(temporary_model)\n",
    "            online_model.load_parameters(temporary_model, ctx)\n",
    "    #  train every 2 epoch\n",
    "    if annealing > replay_start and epoch % 2 == 0:\n",
    "        # Sample random mini batch of transitions\n",
    "        if len(memory_pool.memory) > batch_size:\n",
    "            bz = batch_size\n",
    "        else:\n",
    "            bz = len(memory_pool.memory)\n",
    "        for_train = memory_pool.next_batch(bz)\n",
    "        with autograd.record(train_mode=True):\n",
    "            q_sp = nd.max(online_model(for_train[\"state_next\"]), axis=1)\n",
    "            q_sp = q_sp * (nd.ones(bz, ctx=ctx) - for_train[\"finish\"])\n",
    "            q_s_array = offline_model(for_train[\"state\"])\n",
    "            q_s = nd.pick(q_s_array, for_train[\"action\"], 1)\n",
    "            loss = nd.mean(loss_func(q_s, (for_train[\"reward\"] + gamma * q_sp)))\n",
    "        loss.backward()\n",
    "        trainer.step(bz)\n",
    "    total_reward[int(epoch) - 1] = cum_clipped_dr"
   ]
  },
  {
   "cell_type": "code",
   "execution_count": null,
   "id": "488040fe",
   "metadata": {},
   "outputs": [],
   "source": [
    "view, whole_map, attitude = data\n",
    "view = offline_model.view_decode(view)\n",
    "whole_map = offline_model.map_decode(whole_map)\n",
    "# relative angle, distance to goal, distance sensor result\n",
    "all_features = [view.flatten(), whole_map.flatten(), attitude]\n",
    "all_features = nd.concat(*all_features)\n",
    "result = offline_model.decision_making(all_features)"
   ]
  },
  {
   "cell_type": "code",
   "execution_count": null,
   "id": "2954fc69",
   "metadata": {},
   "outputs": [],
   "source": [
    "env.map.state()"
   ]
  },
  {
   "cell_type": "code",
   "execution_count": null,
   "id": "6dad16c8",
   "metadata": {},
   "outputs": [],
   "source": []
  }
 ],
 "metadata": {
  "kernelspec": {
   "display_name": "Python 3 (ipykernel)",
   "language": "python",
   "name": "python3"
  },
  "language_info": {
   "codemirror_mode": {
    "name": "ipython",
    "version": 3
   },
   "file_extension": ".py",
   "mimetype": "text/x-python",
   "name": "python",
   "nbconvert_exporter": "python",
   "pygments_lexer": "ipython3",
   "version": "3.8.5"
  }
 },
 "nbformat": 4,
 "nbformat_minor": 5
}
