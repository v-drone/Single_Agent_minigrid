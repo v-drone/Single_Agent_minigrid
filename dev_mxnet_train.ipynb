{
 "cells": [
  {
   "cell_type": "code",
   "execution_count": 1,
   "id": "c0652365",
   "metadata": {},
   "outputs": [],
   "source": [
    "import os\n",
    "from PIL import Image\n",
    "import numpy as np\n",
    "import mxnet as mx\n",
    "import tqdm\n",
    "from utils import check_dir\n",
    "from memory import Memory\n",
    "from utils import create_input, translate_state\n",
    "from evaluation_mxnet import evaluate\n",
    "from mxnet import gluon, nd, autograd\n",
    "from environments.SimpleEnv import SimpleEnv"
   ]
  },
  {
   "cell_type": "code",
   "execution_count": 2,
   "id": "4436599b",
   "metadata": {
    "pycharm": {
     "name": "#%%\n"
    }
   },
   "outputs": [],
   "source": [
    "# training cases\n",
    "order = \"model_test\"\n",
    "# batch size\n",
    "batch_size = 32\n",
    "# agent view\n",
    "agent_view = 5\n",
    "map_size = 20\n",
    "# action max\n",
    "action_max = 3\n",
    "# learning rate\n",
    "model_save = \"./model_save/\"\n",
    "lr = 0.001\n",
    "num_episode = 1000000\n",
    "# start play\n",
    "replay_start = 10000\n",
    "# update step\n",
    "update_step = 1000\n",
    "# gamma in q-loss calculation\n",
    "gamma = 0.99\n",
    "# memory pool size\n",
    "memory_length = 100000\n",
    "# file to save train log\n",
    "summary = \"./{}_Reward.csv\".format(order)\n",
    "eval_statistics = \"./{}_CSV.csv\".format(order)\n",
    "# the number of step it take to linearly anneal the epsilon to it min value\n",
    "annealing_end = 200000\n",
    "# min level of stochastically of policy (epsilon)-greedy\n",
    "epsilon_min = 0.2\n",
    "# temporary files\n",
    "temporary_model = \"./{}/{}.params\".format(model_save, order)\n",
    "temporary_pool = \"./{}/{}.pool\".format(model_save, order)"
   ]
  },
  {
   "cell_type": "code",
   "execution_count": 3,
   "id": "474a434e",
   "metadata": {},
   "outputs": [],
   "source": [
    "if os.path.exists(summary):\n",
    "    os.remove(summary)\n",
    "ctx = mx.gpu()\n",
    "for i in [\"model_save\", \"data_save\"]:\n",
    "    check_dir(i)"
   ]
  },
  {
   "cell_type": "code",
   "execution_count": 4,
   "id": "dd448d9e",
   "metadata": {},
   "outputs": [],
   "source": [
    "# build models\n",
    "from model.simple_stack import SimpleStack\n",
    "online_model = SimpleStack()\n",
    "offline_model = SimpleStack()\n",
    "online_model.collect_params().initialize(mx.init.MSRAPrelu(), ctx=ctx)\n",
    "offline_model.collect_params().initialize(mx.init.MSRAPrelu(), ctx=ctx)\n",
    "offline_model.collect_params().zero_grad()"
   ]
  },
  {
   "cell_type": "code",
   "execution_count": 5,
   "id": "8d75af3a",
   "metadata": {},
   "outputs": [],
   "source": [
    "# create env\n",
    "env = SimpleEnv(display=False, agent_view=agent_view, map_size=map_size)\n",
    "memory_pool = Memory(memory_length)\n",
    "annealing = 0\n",
    "total_reward = np.zeros(num_episode)\n",
    "loss_func = gluon.loss.L2Loss()\n",
    "trainer = gluon.Trainer(offline_model.collect_params(), 'adam', {'learning_rate': lr})"
   ]
  },
  {
   "cell_type": "code",
   "execution_count": 6,
   "id": "e4b80d0b",
   "metadata": {},
   "outputs": [],
   "source": [
    "_print = True\n",
    "_best = 0\n",
    "_all = 0\n",
    "_update = 0"
   ]
  },
  {
   "cell_type": "code",
   "execution_count": 7,
   "id": "09e9205f",
   "metadata": {
    "scrolled": false
   },
   "outputs": [
    {
     "name": "stdout",
     "output_type": "stream",
     "text": [
      "Model Structure: \n",
      "SimpleStack(\n",
      "  (view): MapBlock(\n",
      "    (0): Conv2D(9 -> 32, kernel_size=(3, 3), stride=(1, 1), bias=False)\n",
      "    (1): Conv2D(32 -> 128, kernel_size=(3, 3), stride=(1, 1), bias=False)\n",
      "    (2): Conv2D(128 -> 128, kernel_size=(3, 3), stride=(1, 1), bias=False)\n",
      "    (3): Conv2D(128 -> 128, kernel_size=(3, 3), stride=(1, 1), bias=False)\n",
      "    (4): Conv2D(128 -> 128, kernel_size=(3, 3), stride=(1, 1), bias=False)\n",
      "    (5): Conv2D(128 -> 128, kernel_size=(3, 3), stride=(1, 1), bias=False)\n",
      "    (6): Conv2D(128 -> 128, kernel_size=(3, 3), stride=(1, 1), bias=False)\n",
      "  )\n",
      "  (map): MapBlock(\n",
      "    (0): Conv2D(9 -> 32, kernel_size=(3, 3), stride=(1, 1), bias=False)\n",
      "    (1): Conv2D(32 -> 128, kernel_size=(3, 3), stride=(1, 1), bias=False)\n",
      "    (2): Conv2D(128 -> 128, kernel_size=(3, 3), stride=(1, 1), bias=False)\n",
      "    (3): Conv2D(128 -> 128, kernel_size=(3, 3), stride=(1, 1), bias=False)\n",
      "    (4): Conv2D(128 -> 128, kernel_size=(3, 3), stride=(1, 1), bias=False)\n",
      "    (5): Conv2D(128 -> 128, kernel_size=(3, 3), stride=(1, 1), bias=False)\n",
      "    (6): Conv2D(128 -> 128, kernel_size=(3, 3), stride=(1, 1), bias=False)\n",
      "  )\n",
      "  (memory): MapBlock(\n",
      "    (0): Conv2D(1 -> 32, kernel_size=(3, 3), stride=(1, 1), bias=False)\n",
      "    (1): Conv2D(32 -> 128, kernel_size=(3, 3), stride=(1, 1), bias=False)\n",
      "    (2): Conv2D(128 -> 128, kernel_size=(3, 3), stride=(1, 1), bias=False)\n",
      "    (3): Conv2D(128 -> 128, kernel_size=(3, 3), stride=(1, 1), bias=False)\n",
      "    (4): Conv2D(128 -> 128, kernel_size=(3, 3), stride=(1, 1), bias=False)\n",
      "    (5): Conv2D(128 -> 128, kernel_size=(3, 3), stride=(1, 1), bias=False)\n",
      "    (6): Conv2D(128 -> 128, kernel_size=(3, 3), stride=(1, 1), bias=False)\n",
      "  )\n",
      "  (embedding): Sequential(\n",
      "    (0): Dense(13824 -> 1024, linear)\n",
      "    (1): ELU(\n",
      "    \n",
      "    )\n",
      "    (2): Dense(1024 -> 64, linear)\n",
      "    (3): ELU(\n",
      "    \n",
      "    )\n",
      "  )\n",
      "  (out): Sequential(\n",
      "    (0): Dense(65 -> 3, linear)\n",
      "    (1): ELU(\n",
      "    \n",
      "    )\n",
      "  )\n",
      ")\n",
      "annealing and learning are started\n",
      "ir = - stay time / 200\n",
      "er = detect rate (0~1)\n",
      "DR: 0.065074(50), 0.067059(all), AR: -0.012197(50), -0.011335(all) eps: 0.925000\n",
      "DR: 0.057563(50), 0.064697(all), AR: -0.012103(50), -0.011526(all) eps: 0.900000\n",
      "DR: 0.079965(50), 0.067738(all), AR: -0.009945(50), -0.011211(all) eps: 0.875000\n",
      "DR: 0.072776(50), 0.068575(all), AR: -0.008409(50), -0.010746(all) eps: 0.850000\n",
      "DR: 0.099237(50), 0.072943(all), AR: -0.007384(50), -0.010267(all) eps: 0.825000\n",
      "DR: 0.074899(50), 0.073187(all), AR: -0.008086(50), -0.009995(all) eps: 0.800000\n",
      "DR: 0.112064(50), 0.077497(all), AR: -0.006388(50), -0.009595(all) eps: 0.775000\n",
      "DR: 0.100280(50), 0.079771(all), AR: -0.006812(50), -0.009317(all) eps: 0.750000\n",
      "DR: 0.119799(50), 0.083403(all), AR: -0.005745(50), -0.008993(all) eps: 0.725000\n",
      "DR: 0.091595(50), 0.084084(all), AR: -0.006941(50), -0.008822(all) eps: 0.700000\n",
      "DR: 0.125551(50), 0.087269(all), AR: -0.006559(50), -0.008649(all) eps: 0.675000\n",
      "DR: 0.098761(50), 0.088089(all), AR: -0.006565(50), -0.008500(all) eps: 0.650000\n",
      "DR: 0.126213(50), 0.090627(all), AR: -0.005971(50), -0.008332(all) eps: 0.625000\n",
      "DR: 0.125362(50), 0.092795(all), AR: -0.006959(50), -0.008246(all) eps: 0.600000\n",
      "DR: 0.112548(50), 0.093956(all), AR: -0.005976(50), -0.008113(all) eps: 0.575000\n",
      "DR: 0.125197(50), 0.095690(all), AR: -0.005783(50), -0.007983(all) eps: 0.550000\n",
      "DR: 0.140549(50), 0.098048(all), AR: -0.005508(50), -0.007853(all) eps: 0.525000\n",
      "DR: 0.127784(50), 0.099533(all), AR: -0.006589(50), -0.007790(all) eps: 0.500000\n",
      "DR: 0.132294(50), 0.101092(all), AR: -0.006212(50), -0.007715(all) eps: 0.475000\n",
      "DR: 0.145093(50), 0.103090(all), AR: -0.006022(50), -0.007638(all) eps: 0.450000\n",
      "DR: 0.131431(50), 0.104321(all), AR: -0.006313(50), -0.007581(all) eps: 0.425000\n",
      "DR: 0.126432(50), 0.105242(all), AR: -0.008911(50), -0.007636(all) eps: 0.400000\n",
      "DR: 0.136471(50), 0.106490(all), AR: -0.006176(50), -0.007578(all) eps: 0.375000\n",
      "DR: 0.136916(50), 0.107659(all), AR: -0.009517(50), -0.007652(all) eps: 0.350000\n",
      "DR: 0.113848(50), 0.107888(all), AR: -0.009817(50), -0.007732(all) eps: 0.325000\n"
     ]
    },
    {
     "ename": "KeyboardInterrupt",
     "evalue": "",
     "output_type": "error",
     "traceback": [
      "\u001b[0;31m---------------------------------------------------------------------------\u001b[0m",
      "\u001b[0;31mKeyboardInterrupt\u001b[0m                         Traceback (most recent call last)",
      "\u001b[0;32m<ipython-input-7-65bc505d469c>\u001b[0m in \u001b[0;36m<module>\u001b[0;34m\u001b[0m\n\u001b[1;32m     22\u001b[0m             \u001b[0mby\u001b[0m \u001b[0;34m=\u001b[0m \u001b[0;34m\"Model\"\u001b[0m\u001b[0;34m\u001b[0m\u001b[0;34m\u001b[0m\u001b[0m\n\u001b[1;32m     23\u001b[0m             \u001b[0mdata\u001b[0m \u001b[0;34m=\u001b[0m \u001b[0mcreate_input\u001b[0m\u001b[0;34m(\u001b[0m\u001b[0;34m[\u001b[0m\u001b[0mtranslate_state\u001b[0m\u001b[0;34m(\u001b[0m\u001b[0menv\u001b[0m\u001b[0;34m.\u001b[0m\u001b[0mmap\u001b[0m\u001b[0;34m.\u001b[0m\u001b[0mstate\u001b[0m\u001b[0;34m(\u001b[0m\u001b[0;34m)\u001b[0m\u001b[0;34m)\u001b[0m\u001b[0;34m]\u001b[0m\u001b[0;34m)\u001b[0m\u001b[0;34m\u001b[0m\u001b[0;34m\u001b[0m\u001b[0m\n\u001b[0;32m---> 24\u001b[0;31m             \u001b[0mdata\u001b[0m \u001b[0;34m=\u001b[0m \u001b[0;34m[\u001b[0m\u001b[0mnd\u001b[0m\u001b[0;34m.\u001b[0m\u001b[0marray\u001b[0m\u001b[0;34m(\u001b[0m\u001b[0mi\u001b[0m\u001b[0;34m,\u001b[0m \u001b[0mctx\u001b[0m\u001b[0;34m=\u001b[0m\u001b[0mctx\u001b[0m\u001b[0;34m)\u001b[0m \u001b[0;32mfor\u001b[0m \u001b[0mi\u001b[0m \u001b[0;32min\u001b[0m \u001b[0mdata\u001b[0m\u001b[0;34m]\u001b[0m\u001b[0;34m\u001b[0m\u001b[0;34m\u001b[0m\u001b[0m\n\u001b[0m\u001b[1;32m     25\u001b[0m             \u001b[0mview\u001b[0m\u001b[0;34m,\u001b[0m \u001b[0mgrid_data\u001b[0m\u001b[0;34m,\u001b[0m \u001b[0mgrid_memory\u001b[0m\u001b[0;34m,\u001b[0m \u001b[0mbattery\u001b[0m \u001b[0;34m=\u001b[0m \u001b[0mdata\u001b[0m\u001b[0;34m\u001b[0m\u001b[0;34m\u001b[0m\u001b[0m\n\u001b[1;32m     26\u001b[0m             \u001b[0maction\u001b[0m \u001b[0;34m=\u001b[0m \u001b[0moffline_model\u001b[0m\u001b[0;34m(\u001b[0m\u001b[0mview\u001b[0m\u001b[0;34m,\u001b[0m \u001b[0mgrid_data\u001b[0m\u001b[0;34m,\u001b[0m \u001b[0mgrid_memory\u001b[0m\u001b[0;34m,\u001b[0m \u001b[0mbattery\u001b[0m\u001b[0;34m)\u001b[0m\u001b[0;34m\u001b[0m\u001b[0;34m\u001b[0m\u001b[0m\n",
      "\u001b[0;32m<ipython-input-7-65bc505d469c>\u001b[0m in \u001b[0;36m<listcomp>\u001b[0;34m(.0)\u001b[0m\n\u001b[1;32m     22\u001b[0m             \u001b[0mby\u001b[0m \u001b[0;34m=\u001b[0m \u001b[0;34m\"Model\"\u001b[0m\u001b[0;34m\u001b[0m\u001b[0;34m\u001b[0m\u001b[0m\n\u001b[1;32m     23\u001b[0m             \u001b[0mdata\u001b[0m \u001b[0;34m=\u001b[0m \u001b[0mcreate_input\u001b[0m\u001b[0;34m(\u001b[0m\u001b[0;34m[\u001b[0m\u001b[0mtranslate_state\u001b[0m\u001b[0;34m(\u001b[0m\u001b[0menv\u001b[0m\u001b[0;34m.\u001b[0m\u001b[0mmap\u001b[0m\u001b[0;34m.\u001b[0m\u001b[0mstate\u001b[0m\u001b[0;34m(\u001b[0m\u001b[0;34m)\u001b[0m\u001b[0;34m)\u001b[0m\u001b[0;34m]\u001b[0m\u001b[0;34m)\u001b[0m\u001b[0;34m\u001b[0m\u001b[0;34m\u001b[0m\u001b[0m\n\u001b[0;32m---> 24\u001b[0;31m             \u001b[0mdata\u001b[0m \u001b[0;34m=\u001b[0m \u001b[0;34m[\u001b[0m\u001b[0mnd\u001b[0m\u001b[0;34m.\u001b[0m\u001b[0marray\u001b[0m\u001b[0;34m(\u001b[0m\u001b[0mi\u001b[0m\u001b[0;34m,\u001b[0m \u001b[0mctx\u001b[0m\u001b[0;34m=\u001b[0m\u001b[0mctx\u001b[0m\u001b[0;34m)\u001b[0m \u001b[0;32mfor\u001b[0m \u001b[0mi\u001b[0m \u001b[0;32min\u001b[0m \u001b[0mdata\u001b[0m\u001b[0;34m]\u001b[0m\u001b[0;34m\u001b[0m\u001b[0;34m\u001b[0m\u001b[0m\n\u001b[0m\u001b[1;32m     25\u001b[0m             \u001b[0mview\u001b[0m\u001b[0;34m,\u001b[0m \u001b[0mgrid_data\u001b[0m\u001b[0;34m,\u001b[0m \u001b[0mgrid_memory\u001b[0m\u001b[0;34m,\u001b[0m \u001b[0mbattery\u001b[0m \u001b[0;34m=\u001b[0m \u001b[0mdata\u001b[0m\u001b[0;34m\u001b[0m\u001b[0;34m\u001b[0m\u001b[0m\n\u001b[1;32m     26\u001b[0m             \u001b[0maction\u001b[0m \u001b[0;34m=\u001b[0m \u001b[0moffline_model\u001b[0m\u001b[0;34m(\u001b[0m\u001b[0mview\u001b[0m\u001b[0;34m,\u001b[0m \u001b[0mgrid_data\u001b[0m\u001b[0;34m,\u001b[0m \u001b[0mgrid_memory\u001b[0m\u001b[0;34m,\u001b[0m \u001b[0mbattery\u001b[0m\u001b[0;34m)\u001b[0m\u001b[0;34m\u001b[0m\u001b[0;34m\u001b[0m\u001b[0m\n",
      "\u001b[0;32m~/.local/lib/python3.8/site-packages/mxnet/ndarray/utils.py\u001b[0m in \u001b[0;36marray\u001b[0;34m(source_array, ctx, dtype)\u001b[0m\n\u001b[1;32m    144\u001b[0m         \u001b[0;32mreturn\u001b[0m \u001b[0m_sparse_array\u001b[0m\u001b[0;34m(\u001b[0m\u001b[0msource_array\u001b[0m\u001b[0;34m,\u001b[0m \u001b[0mctx\u001b[0m\u001b[0;34m=\u001b[0m\u001b[0mctx\u001b[0m\u001b[0;34m,\u001b[0m \u001b[0mdtype\u001b[0m\u001b[0;34m=\u001b[0m\u001b[0mdtype\u001b[0m\u001b[0;34m)\u001b[0m\u001b[0;34m\u001b[0m\u001b[0;34m\u001b[0m\u001b[0m\n\u001b[1;32m    145\u001b[0m     \u001b[0;32melse\u001b[0m\u001b[0;34m:\u001b[0m\u001b[0;34m\u001b[0m\u001b[0;34m\u001b[0m\u001b[0m\n\u001b[0;32m--> 146\u001b[0;31m         \u001b[0;32mreturn\u001b[0m \u001b[0m_array\u001b[0m\u001b[0;34m(\u001b[0m\u001b[0msource_array\u001b[0m\u001b[0;34m,\u001b[0m \u001b[0mctx\u001b[0m\u001b[0;34m=\u001b[0m\u001b[0mctx\u001b[0m\u001b[0;34m,\u001b[0m \u001b[0mdtype\u001b[0m\u001b[0;34m=\u001b[0m\u001b[0mdtype\u001b[0m\u001b[0;34m)\u001b[0m\u001b[0;34m\u001b[0m\u001b[0;34m\u001b[0m\u001b[0m\n\u001b[0m\u001b[1;32m    147\u001b[0m \u001b[0;34m\u001b[0m\u001b[0m\n\u001b[1;32m    148\u001b[0m \u001b[0;34m\u001b[0m\u001b[0m\n",
      "\u001b[0;32m~/.local/lib/python3.8/site-packages/mxnet/ndarray/ndarray.py\u001b[0m in \u001b[0;36marray\u001b[0;34m(source_array, ctx, dtype)\u001b[0m\n\u001b[1;32m   3375\u001b[0m     \u001b[0;32melse\u001b[0m\u001b[0;34m:\u001b[0m\u001b[0;34m\u001b[0m\u001b[0;34m\u001b[0m\u001b[0m\n\u001b[1;32m   3376\u001b[0m         \u001b[0marr\u001b[0m \u001b[0;34m=\u001b[0m \u001b[0mempty\u001b[0m\u001b[0;34m(\u001b[0m\u001b[0msource_array\u001b[0m\u001b[0;34m.\u001b[0m\u001b[0mshape\u001b[0m\u001b[0;34m,\u001b[0m \u001b[0mctx\u001b[0m\u001b[0;34m,\u001b[0m \u001b[0mdtype\u001b[0m\u001b[0;34m)\u001b[0m\u001b[0;34m\u001b[0m\u001b[0;34m\u001b[0m\u001b[0m\n\u001b[0;32m-> 3377\u001b[0;31m         \u001b[0marr\u001b[0m\u001b[0;34m[\u001b[0m\u001b[0;34m:\u001b[0m\u001b[0;34m]\u001b[0m \u001b[0;34m=\u001b[0m \u001b[0msource_array\u001b[0m\u001b[0;34m\u001b[0m\u001b[0;34m\u001b[0m\u001b[0m\n\u001b[0m\u001b[1;32m   3378\u001b[0m         \u001b[0;32mreturn\u001b[0m \u001b[0marr\u001b[0m\u001b[0;34m\u001b[0m\u001b[0;34m\u001b[0m\u001b[0m\n\u001b[1;32m   3379\u001b[0m \u001b[0;34m\u001b[0m\u001b[0m\n",
      "\u001b[0;32m~/.local/lib/python3.8/site-packages/mxnet/ndarray/ndarray.py\u001b[0m in \u001b[0;36m__setitem__\u001b[0;34m(self, key, value)\u001b[0m\n\u001b[1;32m    544\u001b[0m             \u001b[0mindexing_dispatch_code\u001b[0m \u001b[0;34m=\u001b[0m \u001b[0mget_indexing_dispatch_code\u001b[0m\u001b[0;34m(\u001b[0m\u001b[0mslc_key\u001b[0m\u001b[0;34m)\u001b[0m\u001b[0;34m\u001b[0m\u001b[0;34m\u001b[0m\u001b[0m\n\u001b[1;32m    545\u001b[0m             \u001b[0;32mif\u001b[0m \u001b[0mindexing_dispatch_code\u001b[0m \u001b[0;34m==\u001b[0m \u001b[0m_NDARRAY_BASIC_INDEXING\u001b[0m\u001b[0;34m:\u001b[0m\u001b[0;34m\u001b[0m\u001b[0;34m\u001b[0m\u001b[0m\n\u001b[0;32m--> 546\u001b[0;31m                 \u001b[0mself\u001b[0m\u001b[0;34m.\u001b[0m\u001b[0m_set_nd_basic_indexing\u001b[0m\u001b[0;34m(\u001b[0m\u001b[0mkey\u001b[0m\u001b[0;34m,\u001b[0m \u001b[0mvalue\u001b[0m\u001b[0;34m)\u001b[0m\u001b[0;34m\u001b[0m\u001b[0;34m\u001b[0m\u001b[0m\n\u001b[0m\u001b[1;32m    547\u001b[0m             \u001b[0;32melif\u001b[0m \u001b[0mindexing_dispatch_code\u001b[0m \u001b[0;34m==\u001b[0m \u001b[0m_NDARRAY_ADVANCED_INDEXING\u001b[0m\u001b[0;34m:\u001b[0m\u001b[0;34m\u001b[0m\u001b[0;34m\u001b[0m\u001b[0m\n\u001b[1;32m    548\u001b[0m                 \u001b[0mself\u001b[0m\u001b[0;34m.\u001b[0m\u001b[0m_set_nd_advanced_indexing\u001b[0m\u001b[0;34m(\u001b[0m\u001b[0mkey\u001b[0m\u001b[0;34m,\u001b[0m \u001b[0mvalue\u001b[0m\u001b[0;34m)\u001b[0m\u001b[0;34m\u001b[0m\u001b[0;34m\u001b[0m\u001b[0m\n",
      "\u001b[0;32m~/.local/lib/python3.8/site-packages/mxnet/ndarray/ndarray.py\u001b[0m in \u001b[0;36m_set_nd_basic_indexing\u001b[0;34m(self, key, value)\u001b[0m\n\u001b[1;32m    956\u001b[0m         )\n\u001b[1;32m    957\u001b[0m         can_assign_directly = (\n\u001b[0;32m--> 958\u001b[0;31m             \u001b[0;34m(\u001b[0m\u001b[0mindexed_shape\u001b[0m \u001b[0;34m==\u001b[0m \u001b[0mself\u001b[0m\u001b[0;34m.\u001b[0m\u001b[0mshape\u001b[0m\u001b[0;34m)\u001b[0m \u001b[0;32mand\u001b[0m \u001b[0mall\u001b[0m\u001b[0;34m(\u001b[0m\u001b[0ms\u001b[0m \u001b[0;34m>\u001b[0m \u001b[0;36m0\u001b[0m \u001b[0;32mfor\u001b[0m \u001b[0ms\u001b[0m \u001b[0;32min\u001b[0m \u001b[0mstep\u001b[0m\u001b[0;34m)\u001b[0m\u001b[0;34m\u001b[0m\u001b[0;34m\u001b[0m\u001b[0m\n\u001b[0m\u001b[1;32m    959\u001b[0m         )\n\u001b[1;32m    960\u001b[0m         begin, end, step = self._basic_indexing_key_to_begin_end_step(\n",
      "\u001b[0;32m~/.local/lib/python3.8/site-packages/mxnet/ndarray/ndarray.py\u001b[0m in \u001b[0;36mshape\u001b[0;34m(self)\u001b[0m\n\u001b[1;32m   2407\u001b[0m         \u001b[0;32melse\u001b[0m\u001b[0;34m:\u001b[0m\u001b[0;34m\u001b[0m\u001b[0;34m\u001b[0m\u001b[0m\n\u001b[1;32m   2408\u001b[0m             \u001b[0mpdata\u001b[0m \u001b[0;34m=\u001b[0m \u001b[0mctypes\u001b[0m\u001b[0;34m.\u001b[0m\u001b[0mPOINTER\u001b[0m\u001b[0;34m(\u001b[0m\u001b[0mmx_int\u001b[0m\u001b[0;34m)\u001b[0m\u001b[0;34m(\u001b[0m\u001b[0;34m)\u001b[0m\u001b[0;34m\u001b[0m\u001b[0;34m\u001b[0m\u001b[0m\n\u001b[0;32m-> 2409\u001b[0;31m             check_call(_LIB.MXNDArrayGetShapeEx(\n\u001b[0m\u001b[1;32m   2410\u001b[0m                 self.handle, ctypes.byref(ndim), ctypes.byref(pdata)))\n\u001b[1;32m   2411\u001b[0m         \u001b[0;32mif\u001b[0m \u001b[0mndim\u001b[0m\u001b[0;34m.\u001b[0m\u001b[0mvalue\u001b[0m \u001b[0;34m==\u001b[0m \u001b[0;34m-\u001b[0m\u001b[0;36m1\u001b[0m\u001b[0;34m:\u001b[0m\u001b[0;34m\u001b[0m\u001b[0;34m\u001b[0m\u001b[0m\n",
      "\u001b[0;32m~/.local/lib/python3.8/site-packages/mxnet/base.py\u001b[0m in \u001b[0;36mcheck_call\u001b[0;34m(ret)\u001b[0m\n\u001b[1;32m    232\u001b[0m \u001b[0;34m\u001b[0m\u001b[0m\n\u001b[1;32m    233\u001b[0m \u001b[0;34m\u001b[0m\u001b[0m\n\u001b[0;32m--> 234\u001b[0;31m \u001b[0;32mdef\u001b[0m \u001b[0mcheck_call\u001b[0m\u001b[0;34m(\u001b[0m\u001b[0mret\u001b[0m\u001b[0;34m)\u001b[0m\u001b[0;34m:\u001b[0m\u001b[0;34m\u001b[0m\u001b[0;34m\u001b[0m\u001b[0m\n\u001b[0m\u001b[1;32m    235\u001b[0m     \"\"\"Check the return value of C API call.\n\u001b[1;32m    236\u001b[0m \u001b[0;34m\u001b[0m\u001b[0m\n",
      "\u001b[0;31mKeyboardInterrupt\u001b[0m: "
     ]
    }
   ],
   "source": [
    "for epoch in range(num_episode):\n",
    "    env.reset_env()\n",
    "    finish = 0\n",
    "    cum_clipped_dr = 0\n",
    "    if epoch == 51:\n",
    "        print(\"Model Structure: \")\n",
    "        print(offline_model)\n",
    "    if sum(env.step_count) > replay_start and _print:\n",
    "        print('annealing and learning are started')\n",
    "        print(env.sr)\n",
    "        print(env.lr)\n",
    "        _print = False\n",
    "    while not finish:\n",
    "        _all += 1\n",
    "        if sum(env.step_count) > replay_start:\n",
    "            annealing += 1\n",
    "        eps = np.maximum(1 - sum(env.step_count) / annealing_end, epsilon_min)\n",
    "        if np.random.random() < eps:\n",
    "            by = \"Random\"\n",
    "            action = np.random.randint(0, action_max)\n",
    "        else:\n",
    "            by = \"Model\"\n",
    "            data = create_input([translate_state(env.map.state())])\n",
    "            data = [nd.array(i, ctx=ctx) for i in data]\n",
    "            view, grid_data, grid_memory, battery = data\n",
    "            action = offline_model(view, grid_data, grid_memory, battery)\n",
    "            action = int(nd.argmax(action, axis=1).asnumpy()[0])\n",
    "        old, new, reward_get, finish = env.step(action)\n",
    "        memory_pool.add(old, new, action, reward_get, finish)\n",
    "        if finish and epoch > 50:\n",
    "            cum_clipped_dr += sum(env.detect_rate[-1]) / 2\n",
    "            dr_50 = float(np.mean(env.detect_rate[-50:]))\n",
    "            dr_all = float(np.mean(env.detect_rate))\n",
    "            ar_50 = float(np.mean(env.rewards[-50:]))\n",
    "            ar_all = float(np.mean(env.rewards))\n",
    "            if epoch % 50 == 0 and _print == False:\n",
    "                text = \"DR: %f(50), %f(all), AR: %f(50), %f(all) eps: %f\" % (dr_50, dr_all, ar_50, ar_all, eps)\n",
    "                print(text)\n",
    "                with open(summary, \"a\") as f:\n",
    "                    f.writelines(text + \"\\n\")\n",
    "            # save model and replace online model each update_step\n",
    "            if annealing > replay_start and annealing % update_step == 0:\n",
    "                offline_model.save_parameters(temporary_model)\n",
    "                online_model.load_parameters(temporary_model, ctx)\n",
    "                if _best < dr_all:\n",
    "                    _best = dr_all\n",
    "                    offline_model.save_parameters(temporary_model+ \".best\")\n",
    "    #  train every 2 epoch\n",
    "    if annealing > replay_start and epoch % 2 == 0:\n",
    "        _update += 1\n",
    "        # Sample random mini batch of transitions\n",
    "        if len(memory_pool.memory) > batch_size:\n",
    "            bz = batch_size\n",
    "        else:\n",
    "            bz = len(memory_pool.memory)\n",
    "        for_train = memory_pool.next_batch(bz)\n",
    "        with autograd.record(train_mode=True):\n",
    "            _state =[nd.array(i, ctx=ctx) for i in for_train[\"state\"]]\n",
    "            _state_next = [nd.array(i, ctx=ctx) for i in for_train[\"state_next\"]]\n",
    "            _finish = nd.array(for_train[\"finish\"], ctx=ctx)\n",
    "            _action = nd.array(for_train[\"action\"], ctx=ctx)\n",
    "            _reward = nd.array(for_train[\"reward\"], ctx=ctx)\n",
    "            _q_sp = nd.max(online_model(*_state_next), axis=1)\n",
    "            _q_sp = _q_sp * (nd.ones(bz, ctx=ctx) - _finish)\n",
    "            _q_s_array = offline_model(*_state)\n",
    "            _q_s = nd.pick(_q_s_array, _action, 1)\n",
    "            loss = nd.mean(loss_func(_q_s, (_reward + gamma * _q_sp)))\n",
    "        loss.backward()\n",
    "        trainer.step(bz)\n",
    "    total_reward[int(epoch) - 1] = cum_clipped_dr"
   ]
  },
  {
   "cell_type": "code",
   "execution_count": null,
   "id": "ee61d5e0",
   "metadata": {},
   "outputs": [],
   "source": [
    "battery = nd.expand_dims(battery, axis=1)\n",
    "view = self.view(view)\n",
    "grid_data = self.map(grid_data)\n",
    "grid_memory = self.memory(grid_memory)\n",
    "embedding = nd.concat(view.flatten(), grid_data.flatten(), grid_memory.flatten())"
   ]
  },
  {
   "cell_type": "code",
   "execution_count": null,
   "id": "e3c73586",
   "metadata": {},
   "outputs": [],
   "source": []
  },
  {
   "cell_type": "code",
   "execution_count": null,
   "id": "5fcb54e3",
   "metadata": {},
   "outputs": [],
   "source": [
    "_ = env.map.grid.copy()\n",
    "agent_obs = env.map.get_agent_obs_locations()\n",
    "_.grid = [None if i is not None and i.type == \"box\" and i.cur_pos not in agent_obs else i for i in _.grid]\n",
    "Image.fromarray(_.render(10, env.map.agent_pos, env.map.agent_dir), \"RGB\")"
   ]
  },
  {
   "cell_type": "code",
   "execution_count": null,
   "id": "44b4c996",
   "metadata": {},
   "outputs": [],
   "source": [
    "import seaborn"
   ]
  },
  {
   "cell_type": "code",
   "execution_count": null,
   "id": "86ad9f04",
   "metadata": {},
   "outputs": [],
   "source": [
    "y = []\n",
    "for i in tqdm.tqdm(range(1, len(env.detect_rate))):\n",
    "    y.append(np.mean(env.detect_rate[:i]))\n",
    "seaborn.lineplot(x=range(len(y)), y=y)"
   ]
  },
  {
   "cell_type": "code",
   "execution_count": null,
   "id": "56925e45",
   "metadata": {},
   "outputs": [],
   "source": [
    "y = []\n",
    "for i in tqdm.tqdm(range(1, len(env.rewards))):\n",
    "    y.append(np.mean(env.rewards[:i]))\n",
    "seaborn.lineplot(x=range(len(y)), y=y)"
   ]
  },
  {
   "cell_type": "code",
   "execution_count": null,
   "id": "6b9a6baf",
   "metadata": {},
   "outputs": [],
   "source": []
  }
 ],
 "metadata": {
  "kernelspec": {
   "display_name": "Python 3",
   "language": "python",
   "name": "python3"
  },
  "language_info": {
   "codemirror_mode": {
    "name": "ipython",
    "version": 3
   },
   "file_extension": ".py",
   "mimetype": "text/x-python",
   "name": "python",
   "nbconvert_exporter": "python",
   "pygments_lexer": "ipython3",
   "version": "3.8.8"
  }
 },
 "nbformat": 4,
 "nbformat_minor": 5
}
