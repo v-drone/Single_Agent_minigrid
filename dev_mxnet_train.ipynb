{
 "cells": [
  {
   "cell_type": "code",
   "execution_count": 1,
   "id": "c0652365",
   "metadata": {},
   "outputs": [],
   "source": [
    "import os\n",
    "from PIL import Image\n",
    "import numpy as np\n",
    "import mxnet as mx\n",
    "import tqdm\n",
    "from utils import check_dir\n",
    "from memory import Memory\n",
    "from utils import create_input, translate_state\n",
    "from evaluation_mxnet import evaluate\n",
    "from mxnet import gluon, nd, autograd\n",
    "from environments.SimpleEnv import SimpleEnv"
   ]
  },
  {
   "cell_type": "code",
   "execution_count": 2,
   "id": "4436599b",
   "metadata": {
    "pycharm": {
     "name": "#%%\n"
    }
   },
   "outputs": [],
   "source": [
    "# training cases\n",
    "order = \"model_test\"\n",
    "# batch size\n",
    "batch_size = 256\n",
    "# agent view\n",
    "agent_view = 5\n",
    "map_size = 20\n",
    "# action max\n",
    "action_max = 3\n",
    "# learning rate\n",
    "model_save = \"./model_save/\"\n",
    "lr = 0.01\n",
    "num_episode = 1000000\n",
    "# start play\n",
    "replay_start = 10000\n",
    "# update step\n",
    "update_step = 1000\n",
    "# gamma in q-loss calculation\n",
    "gamma = 0.99\n",
    "# memory pool size\n",
    "memory_length = 100000\n",
    "# file to save train log\n",
    "summary = \"./{}_Reward.csv\".format(order)\n",
    "eval_statistics = \"./{}_CSV.csv\".format(order)\n",
    "# the number of step it take to linearly anneal the epsilon to it min value\n",
    "annealing_end = 200000\n",
    "# min level of stochastically of policy (epsilon)-greedy\n",
    "epsilon_min = 0.2\n",
    "# temporary files\n",
    "temporary_model = \"./{}/{}.params\".format(model_save, order)\n",
    "temporary_pool = \"./{}/{}.pool\".format(model_save, order)"
   ]
  },
  {
   "cell_type": "code",
   "execution_count": 3,
   "id": "474a434e",
   "metadata": {},
   "outputs": [],
   "source": [
    "if os.path.exists(summary):\n",
    "    os.remove(summary)\n",
    "ctx = mx.gpu()\n",
    "for i in [\"model_save\", \"data_save\"]:\n",
    "    check_dir(i)"
   ]
  },
  {
   "cell_type": "code",
   "execution_count": 4,
   "id": "dd448d9e",
   "metadata": {},
   "outputs": [],
   "source": [
    "# build models\n",
    "from model.simple_stack import SimpleStack\n",
    "online_model = SimpleStack()\n",
    "offline_model = SimpleStack()\n",
    "online_model.collect_params().initialize(mx.init.MSRAPrelu(), ctx=ctx)\n",
    "offline_model.collect_params().initialize(mx.init.MSRAPrelu(), ctx=ctx)\n",
    "offline_model.collect_params().zero_grad()"
   ]
  },
  {
   "cell_type": "code",
   "execution_count": 5,
   "id": "8d75af3a",
   "metadata": {},
   "outputs": [],
   "source": [
    "# create env\n",
    "env = SimpleEnv(display=False, agent_view=agent_view, map_size=map_size)\n",
    "memory_pool = Memory(memory_length)\n",
    "annealing = 0\n",
    "total_reward = np.zeros(num_episode)\n",
    "loss_func = gluon.loss.L2Loss()\n",
    "trainer = gluon.Trainer(offline_model.collect_params(), 'adam', {'learning_rate': lr})"
   ]
  },
  {
   "cell_type": "code",
   "execution_count": 6,
   "id": "3026f972",
   "metadata": {},
   "outputs": [],
   "source": [
    "_print = True\n",
    "best = 0\n",
    "_all = 0\n",
    "_update = 0"
   ]
  },
  {
   "cell_type": "code",
   "execution_count": null,
   "id": "09e9205f",
   "metadata": {
    "scrolled": false
   },
   "outputs": [
    {
     "name": "stdout",
     "output_type": "stream",
     "text": [
      "Model Structure: \n",
      "SimpleStack(\n",
      "  (view): ViewBlock(\n",
      "    (0): ConvBlock(\n",
      "      (0): Conv2D(2 -> 64, kernel_size=(1, 1), stride=(1, 1), bias=False)\n",
      "      (1): BatchNorm(axis=1, eps=1e-05, momentum=0.9, fix_gamma=False, use_global_stats=False, in_channels=64)\n",
      "      (2): Activation(tanh)\n",
      "    )\n",
      "    (1): ConvBlock(\n",
      "      (0): Conv2D(64 -> 128, kernel_size=(2, 2), stride=(1, 1), bias=False)\n",
      "      (1): BatchNorm(axis=1, eps=1e-05, momentum=0.9, fix_gamma=False, use_global_stats=False, in_channels=128)\n",
      "      (2): Activation(tanh)\n",
      "    )\n",
      "    (2): ConvBlock(\n",
      "      (0): Conv2D(128 -> 128, kernel_size=(2, 2), stride=(1, 1), bias=False)\n",
      "      (1): BatchNorm(axis=1, eps=1e-05, momentum=0.9, fix_gamma=False, use_global_stats=False, in_channels=128)\n",
      "      (2): Activation(tanh)\n",
      "    )\n",
      "    (3): Dense(1152 -> 128, Activation(tanh))\n",
      "  )\n",
      "  (map): MapBlock(\n",
      "    (0): Conv2D(7 -> 32, kernel_size=(1, 1), stride=(1, 1), bias=False)\n",
      "    (1): AvgPool2D(size=(2, 2), stride=(2, 2), padding=(0, 0), ceil_mode=False, global_pool=False, pool_type=avg, layout=NCHW)\n",
      "    (2): ConvBlock(\n",
      "      (0): Conv2D(32 -> 64, kernel_size=(2, 2), stride=(1, 1), bias=False)\n",
      "      (1): BatchNorm(axis=1, eps=1e-05, momentum=0.9, fix_gamma=False, use_global_stats=False, in_channels=64)\n",
      "      (2): Activation(tanh)\n",
      "    )\n",
      "    (3): ConvBlock(\n",
      "      (0): Conv2D(64 -> 128, kernel_size=(2, 2), stride=(1, 1), bias=False)\n",
      "      (1): BatchNorm(axis=1, eps=1e-05, momentum=0.9, fix_gamma=False, use_global_stats=False, in_channels=128)\n",
      "      (2): Activation(tanh)\n",
      "    )\n",
      "    (4): ConvBlock(\n",
      "      (0): Conv2D(128 -> 128, kernel_size=(2, 2), stride=(1, 1), bias=False)\n",
      "      (1): BatchNorm(axis=1, eps=1e-05, momentum=0.9, fix_gamma=False, use_global_stats=False, in_channels=128)\n",
      "      (2): Activation(tanh)\n",
      "    )\n",
      "    (5): ConvBlock(\n",
      "      (0): Conv2D(128 -> 128, kernel_size=(2, 2), stride=(1, 1), bias=False)\n",
      "      (1): BatchNorm(axis=1, eps=1e-05, momentum=0.9, fix_gamma=False, use_global_stats=False, in_channels=128)\n",
      "      (2): Activation(tanh)\n",
      "    )\n",
      "    (6): Dense(4608 -> 128, Activation(tanh))\n",
      "  )\n",
      "  (memory): MemoryBlock(\n",
      "    (0): Conv2D(1 -> 32, kernel_size=(1, 1), stride=(1, 1), bias=False)\n",
      "    (1): AvgPool2D(size=(2, 2), stride=(2, 2), padding=(0, 0), ceil_mode=False, global_pool=False, pool_type=avg, layout=NCHW)\n",
      "    (2): ConvBlock(\n",
      "      (0): Conv2D(32 -> 64, kernel_size=(2, 2), stride=(1, 1), bias=False)\n",
      "      (1): BatchNorm(axis=1, eps=1e-05, momentum=0.9, fix_gamma=False, use_global_stats=False, in_channels=64)\n",
      "      (2): Activation(tanh)\n",
      "    )\n",
      "    (3): ConvBlock(\n",
      "      (0): Conv2D(64 -> 128, kernel_size=(2, 2), stride=(1, 1), bias=False)\n",
      "      (1): BatchNorm(axis=1, eps=1e-05, momentum=0.9, fix_gamma=False, use_global_stats=False, in_channels=128)\n",
      "      (2): Activation(tanh)\n",
      "    )\n",
      "    (4): ConvBlock(\n",
      "      (0): Conv2D(128 -> 128, kernel_size=(2, 2), stride=(1, 1), bias=False)\n",
      "      (1): BatchNorm(axis=1, eps=1e-05, momentum=0.9, fix_gamma=False, use_global_stats=False, in_channels=128)\n",
      "      (2): Activation(tanh)\n",
      "    )\n",
      "    (5): ConvBlock(\n",
      "      (0): Conv2D(128 -> 128, kernel_size=(2, 2), stride=(1, 1), bias=False)\n",
      "      (1): BatchNorm(axis=1, eps=1e-05, momentum=0.9, fix_gamma=False, use_global_stats=False, in_channels=128)\n",
      "      (2): Activation(tanh)\n",
      "    )\n",
      "    (6): Dense(4608 -> 128, Activation(tanh))\n",
      "  )\n",
      "  (decision_making): Sequential(\n",
      "    (0): Dense(385 -> 32, linear)\n",
      "    (1): Dense(32 -> 3, Activation(tanh))\n",
      "  )\n",
      ")\n",
      "DR: 0.073785(50), 0.072184(all), AR: -0.068002(50), -0.067470(all) eps: 0.950000\n",
      "annealing and learning are started\n",
      "DR: 0.081277(50), 0.075195(all), AR: -0.067097(50), -0.067347(all) eps: 0.925000\n",
      "DR: 0.048167(50), 0.068472(all), AR: -0.072314(50), -0.068582(all) eps: 0.900000\n",
      "DR: 0.076949(50), 0.070160(all), AR: -0.067671(50), -0.068401(all) eps: 0.875000\n",
      "DR: 0.083735(50), 0.072415(all), AR: -0.070345(50), -0.068724(all) eps: 0.850000\n",
      "DR: 0.085606(50), 0.074294(all), AR: -0.071616(50), -0.069136(all) eps: 0.825000\n",
      "DR: 0.093244(50), 0.076657(all), AR: -0.063970(50), -0.068492(all) eps: 0.800000\n",
      "DR: 0.092406(50), 0.078403(all), AR: -0.061444(50), -0.067710(all) eps: 0.775000\n",
      "DR: 0.110233(50), 0.081580(all), AR: -0.061586(50), -0.067099(all) eps: 0.750000\n",
      "DR: 0.097128(50), 0.082991(all), AR: -0.071213(50), -0.067472(all) eps: 0.725000\n",
      "DR: 0.094363(50), 0.083937(all), AR: -0.066192(50), -0.067366(all) eps: 0.700000\n",
      "DR: 0.112822(50), 0.086155(all), AR: -0.062134(50), -0.066964(all) eps: 0.675000\n",
      "DR: 0.110326(50), 0.087879(all), AR: -0.062485(50), -0.066644(all) eps: 0.650000\n",
      "DR: 0.099547(50), 0.088656(all), AR: -0.064841(50), -0.066524(all) eps: 0.625000\n",
      "DR: 0.115152(50), 0.090310(all), AR: -0.066476(50), -0.066521(all) eps: 0.600000\n",
      "DR: 0.098420(50), 0.090787(all), AR: -0.068660(50), -0.066647(all) eps: 0.575000\n",
      "DR: 0.113856(50), 0.092067(all), AR: -0.062477(50), -0.066416(all) eps: 0.550000\n",
      "DR: 0.132374(50), 0.094186(all), AR: -0.065754(50), -0.066381(all) eps: 0.525000\n",
      "DR: 0.152383(50), 0.097093(all), AR: -0.062772(50), -0.066201(all) eps: 0.500000\n",
      "DR: 0.106888(50), 0.097559(all), AR: -0.068353(50), -0.066303(all) eps: 0.475000\n",
      "DR: 0.143524(50), 0.099646(all), AR: -0.065667(50), -0.066274(all) eps: 0.450000\n",
      "DR: 0.110125(50), 0.100101(all), AR: -0.069561(50), -0.066417(all) eps: 0.425000\n",
      "DR: 0.123288(50), 0.101067(all), AR: -0.074101(50), -0.066737(all) eps: 0.400000\n",
      "DR: 0.112694(50), 0.101532(all), AR: -0.069643(50), -0.066853(all) eps: 0.375000\n",
      "DR: 0.136207(50), 0.102864(all), AR: -0.077742(50), -0.067271(all) eps: 0.350000\n",
      "DR: 0.129120(50), 0.103836(all), AR: -0.071767(50), -0.067438(all) eps: 0.325000\n"
     ]
    }
   ],
   "source": [
    "for epoch in range(num_episode):\n",
    "    env.reset_env()\n",
    "    finish = 0\n",
    "    cum_clipped_dr = 0\n",
    "    if epoch == 51:\n",
    "        print(\"Model Structure: \")\n",
    "        print(offline_model)\n",
    "    if sum(env.step_count) > replay_start and _print:\n",
    "        print('annealing and learning are started')\n",
    "        _print = False\n",
    "    while not finish:\n",
    "        _all += 1\n",
    "        if sum(env.step_count) > replay_start:\n",
    "            annealing += 1\n",
    "        eps = np.maximum(1 - sum(env.step_count) / annealing_end, epsilon_min)\n",
    "        if np.random.random() < eps:\n",
    "            by = \"Random\"\n",
    "            action = np.random.randint(0, action_max)\n",
    "        else:\n",
    "            by = \"Model\"\n",
    "            data = create_input([translate_state(env.map.state())])\n",
    "            data = [nd.array(i, ctx=ctx) for i in data]\n",
    "            action = offline_model(data)\n",
    "            action = int(nd.argmax(action, axis=1).asnumpy()[0])\n",
    "        old, new, reward_get, finish = env.step(action)\n",
    "        memory_pool.add(old, new, action, reward_get, finish)\n",
    "        if finish and epoch > 50:\n",
    "            cum_clipped_dr += sum(env.detect_rate[-1]) / 2\n",
    "            dr_50 = float(np.mean(env.detect_rate[-50:]))\n",
    "            dr_all = float(np.mean(env.detect_rate))\n",
    "            ar_50 = float(np.mean(env.rewards[-50:]))\n",
    "            ar_all = float(np.mean(env.rewards))\n",
    "            if epoch % 50 == 0:\n",
    "                text = \"DR: %f(50), %f(all), AR: %f(50), %f(all) eps: %f\" % (dr_50, dr_all, ar_50, ar_all, eps)\n",
    "                print(text)\n",
    "                with open(summary, \"a\") as f:\n",
    "                    f.writelines(text + \"\\n\")\n",
    "            # save model and replace online model each update_step\n",
    "            if annealing > replay_start and annealing % update_step == 0:\n",
    "                offline_model.save_parameters(temporary_model)\n",
    "                online_model.load_parameters(temporary_model, ctx)\n",
    "                if best < dr_all:\n",
    "                    best = dr_all\n",
    "                    offline_model.save_parameters(temporary_model+ \".best\")\n",
    "    #  train every 2 epoch\n",
    "    if annealing > replay_start and epoch % 2 == 0:\n",
    "        _update += 1\n",
    "        # Sample random mini batch of transitions\n",
    "        if len(memory_pool.memory) > batch_size:\n",
    "            bz = batch_size\n",
    "        else:\n",
    "            bz = len(memory_pool.memory)\n",
    "        for_train = memory_pool.next_batch(bz)\n",
    "        with autograd.record(train_mode=True):\n",
    "            _state =[nd.array(i, ctx=ctx) for i in for_train[\"state\"]]\n",
    "            _state_next = [nd.array(i, ctx=ctx) for i in for_train[\"state_next\"]]\n",
    "            _finish = nd.array(for_train[\"finish\"], ctx=ctx)\n",
    "            _action = nd.array(for_train[\"action\"], ctx=ctx)\n",
    "            _reward = nd.array(for_train[\"reward\"], ctx=ctx)\n",
    "            q_sp = nd.max(online_model(_state_next), axis=1)\n",
    "            q_sp = q_sp * (nd.ones(bz, ctx=ctx) - _finish)\n",
    "            q_s_array = offline_model(_state)\n",
    "            q_s = nd.pick(q_s_array, _action, 1)\n",
    "            loss = nd.mean(loss_func(q_s, (_reward + gamma * q_sp)))\n",
    "        loss.backward()\n",
    "        trainer.step(bz)\n",
    "    total_reward[int(epoch) - 1] = cum_clipped_dr"
   ]
  },
  {
   "cell_type": "code",
   "execution_count": null,
   "id": "2425bae6",
   "metadata": {},
   "outputs": [],
   "source": []
  },
  {
   "cell_type": "code",
   "execution_count": null,
   "id": "45da585d",
   "metadata": {},
   "outputs": [],
   "source": []
  },
  {
   "cell_type": "code",
   "execution_count": null,
   "id": "2af958b8",
   "metadata": {},
   "outputs": [],
   "source": []
  },
  {
   "cell_type": "code",
   "execution_count": null,
   "id": "30b2b461",
   "metadata": {},
   "outputs": [],
   "source": []
  },
  {
   "cell_type": "code",
   "execution_count": null,
   "id": "fe29e65a",
   "metadata": {},
   "outputs": [],
   "source": []
  },
  {
   "cell_type": "code",
   "execution_count": null,
   "id": "51a4504b",
   "metadata": {},
   "outputs": [],
   "source": []
  },
  {
   "cell_type": "code",
   "execution_count": 33,
   "id": "8454e3f5",
   "metadata": {},
   "outputs": [],
   "source": [
    "_ = env.map.grid.copy()"
   ]
  },
  {
   "cell_type": "code",
   "execution_count": 35,
   "id": "1cc44107",
   "metadata": {},
   "outputs": [],
   "source": [
    "_.grid = [None if i is not None and i.type == \"box\" else i for i in _.grid]"
   ]
  },
  {
   "cell_type": "code",
   "execution_count": 36,
   "id": "ec83e220",
   "metadata": {},
   "outputs": [
    {
     "data": {
      "image/png": "[encoded data removed]",
      "text/plain": [
       "<PIL.Image.Image image mode=RGB size=200x200 at 0x7F58144E04C0>"
      ]
     },
     "execution_count": 36,
     "metadata": {},
     "output_type": "execute_result"
    }
   ],
   "source": [
    "Image.fromarray(_.render(10,env.map.agent_pos,env.map.agent_dir), 'RGB')"
   ]
  },
  {
   "cell_type": "code",
   "execution_count": null,
   "id": "2a55179b",
   "metadata": {},
   "outputs": [],
   "source": []
  },
  {
   "cell_type": "code",
   "execution_count": null,
   "id": "44b4c996",
   "metadata": {},
   "outputs": [],
   "source": [
    "import seaborn"
   ]
  },
  {
   "cell_type": "code",
   "execution_count": null,
   "id": "1936a1ac",
   "metadata": {},
   "outputs": [],
   "source": [
    "y = []\n",
    "for i in tqdm.tqdm(range(1, len(env.detect_rate))):\n",
    "    y.append(np.mean(env.detect_rate[:i]))\n",
    "seaborn.lineplot(x=range(len(y)), y=y)"
   ]
  },
  {
   "cell_type": "code",
   "execution_count": null,
   "id": "cf67ae5b",
   "metadata": {},
   "outputs": [],
   "source": [
    "y = []\n",
    "for i in tqdm.tqdm(range(1, len(env.rewards))):\n",
    "    y.append(np.mean(env.rewards[:i]))\n",
    "seaborn.lineplot(x=range(len(y)), y=y)"
   ]
  },
  {
   "cell_type": "code",
   "execution_count": null,
   "id": "ab79a570",
   "metadata": {},
   "outputs": [],
   "source": [
    "nd.mean(loss_func(q_s, (_reward + gamma * q_sp)))"
   ]
  },
  {
   "cell_type": "code",
   "execution_count": null,
   "id": "4b778adf",
   "metadata": {},
   "outputs": [],
   "source": []
  }
 ],
 "metadata": {
  "kernelspec": {
   "display_name": "Python 3",
   "language": "python",
   "name": "python3"
  },
  "language_info": {
   "codemirror_mode": {
    "name": "ipython",
    "version": 3
   },
   "file_extension": ".py",
   "mimetype": "text/x-python",
   "name": "python",
   "nbconvert_exporter": "python",
   "pygments_lexer": "ipython3",
   "version": "3.8.8"
  }
 },
 "nbformat": 4,
 "nbformat_minor": 5
}
