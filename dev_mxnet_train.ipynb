{
 "cells": [
  {
   "cell_type": "code",
   "execution_count": 1,
   "id": "c0652365",
   "metadata": {},
   "outputs": [],
   "source": [
    "import os\n",
    "import numpy as np\n",
    "import mxnet as mx\n",
    "import tqdm\n",
    "from utils import check_dir\n",
    "from memory import Memory\n",
    "from utils import create_input, translate_state\n",
    "from evaluation_mxnet import evaluate\n",
    "from mxnet import gluon, nd, autograd\n",
    "from environments.SimpleEnv import SimpleEnv"
   ]
  },
  {
   "cell_type": "code",
   "execution_count": 2,
   "id": "4436599b",
   "metadata": {
    "pycharm": {
     "name": "#%%\n"
    }
   },
   "outputs": [],
   "source": [
    "# training cases\n",
    "order = \"model_test\"\n",
    "# batch size\n",
    "batch_size = 1024\n",
    "# agent view\n",
    "agent_view = 5\n",
    "map_size = 20\n",
    "# action max\n",
    "action_max = 3\n",
    "# learning rate\n",
    "model_save = \"./model_save/\"\n",
    "lr = 0.001\n",
    "num_episode = 1000000\n",
    "# start play\n",
    "replay_start = 10000\n",
    "# update step\n",
    "update_step = 1000\n",
    "# gamma in q-loss calculation\n",
    "gamma = 0.99\n",
    "# memory pool size\n",
    "memory_length = 100000\n",
    "# file to save train log\n",
    "summary = \"./{}_Reward.csv\".format(order)\n",
    "eval_statistics = \"./{}_CSV.csv\".format(order)\n",
    "# the number of step it take to linearly anneal the epsilon to it min value\n",
    "annealing_end = 200000\n",
    "# min level of stochastically of policy (epsilon)-greedy\n",
    "epsilon_min = 0.2\n",
    "# temporary files\n",
    "temporary_model = \"./{}/{}.params\".format(model_save, order)\n",
    "temporary_pool = \"./{}/{}.pool\".format(model_save, order)"
   ]
  },
  {
   "cell_type": "code",
   "execution_count": 3,
   "id": "474a434e",
   "metadata": {},
   "outputs": [],
   "source": [
    "if os.path.exists(summary):\n",
    "    os.remove(summary)\n",
    "ctx = mx.gpu()\n",
    "for i in [\"model_save\", \"data_save\"]:\n",
    "    check_dir(i)"
   ]
  },
  {
   "cell_type": "code",
   "execution_count": 4,
   "id": "dd448d9e",
   "metadata": {},
   "outputs": [],
   "source": [
    "# build models\n",
    "from model.simple_stack import SimpleStack\n",
    "online_model = SimpleStack()\n",
    "offline_model = SimpleStack()\n",
    "online_model.collect_params().initialize(mx.init.MSRAPrelu(), ctx=ctx)\n",
    "offline_model.collect_params().initialize(mx.init.MSRAPrelu(), ctx=ctx)\n",
    "offline_model.collect_params().zero_grad()"
   ]
  },
  {
   "cell_type": "code",
   "execution_count": 5,
   "id": "8d75af3a",
   "metadata": {},
   "outputs": [],
   "source": [
    "# create env\n",
    "env = SimpleEnv(display=False, agent_view=agent_view, map_size=map_size)\n",
    "memory_pool = Memory(memory_length)\n",
    "annealing = 0\n",
    "total_reward = np.zeros(num_episode)\n",
    "loss_func = gluon.loss.L2Loss()\n",
    "trainer = gluon.Trainer(offline_model.collect_params(), 'adam', {'learning_rate': lr})"
   ]
  },
  {
   "cell_type": "code",
   "execution_count": null,
   "id": "fac3a10e",
   "metadata": {},
   "outputs": [],
   "source": [
    "_print = True\n",
    "best = 0\n",
    "_all = 0\n",
    "_update = 0"
   ]
  },
  {
   "cell_type": "code",
   "execution_count": 11,
   "id": "09e9205f",
   "metadata": {
    "scrolled": false
   },
   "outputs": [
    {
     "name": "stdout",
     "output_type": "stream",
     "text": [
      "Model Structure: \n",
      "SimpleStack(\n",
      "  (view): ViewBlock(\n",
      "    (0): Conv2D(2 -> 64, kernel_size=(1, 1), stride=(1, 1), bias=False)\n",
      "    (1): Conv2D(64 -> 128, kernel_size=(2, 2), stride=(1, 1), bias=False)\n",
      "    (2): Conv2D(128 -> 128, kernel_size=(2, 2), stride=(1, 1), bias=False)\n",
      "  )\n",
      "  (map): MapBlock(\n",
      "    (0): Conv2D(1 -> 64, kernel_size=(1, 1), stride=(1, 1), bias=False)\n",
      "    (1): AvgPool2D(size=(2, 2), stride=(2, 2), padding=(0, 0), ceil_mode=False, global_pool=False, pool_type=avg, layout=NCHW)\n",
      "    (2): Conv2D(64 -> 64, kernel_size=(2, 2), stride=(1, 1), bias=False)\n",
      "    (3): Conv2D(64 -> 128, kernel_size=(2, 2), stride=(1, 1), bias=False)\n",
      "    (4): Conv2D(128 -> 128, kernel_size=(2, 2), stride=(1, 1), bias=False)\n",
      "  )\n",
      "  (memory): MemoryBlock(\n",
      "    (0): Conv2D(1 -> 64, kernel_size=(1, 1), stride=(1, 1), bias=False)\n",
      "    (1): AvgPool2D(size=(2, 2), stride=(2, 2), padding=(0, 0), ceil_mode=False, global_pool=False, pool_type=avg, layout=NCHW)\n",
      "    (2): Conv2D(64 -> 64, kernel_size=(2, 2), stride=(1, 1), bias=False)\n",
      "    (3): Conv2D(64 -> 128, kernel_size=(2, 2), stride=(1, 1), bias=False)\n",
      "    (4): Conv2D(128 -> 128, kernel_size=(2, 2), stride=(1, 1), bias=False)\n",
      "  )\n",
      "  (decision_making): Sequential(\n",
      "    (0): Dense(13697 -> 64, linear)\n",
      "    (1): Dense(64 -> 3, linear)\n",
      "    (2): LeakyReLU(0.1)\n",
      "  )\n",
      ")\n",
      "DR: 0.191134(50), 0.150608(all), AR: -0.011045(50), -0.009411(all) eps: 0.200000\n"
     ]
    },
    {
     "ename": "KeyboardInterrupt",
     "evalue": "",
     "output_type": "error",
     "traceback": [
      "\u001b[0;31m---------------------------------------------------------------------------\u001b[0m",
      "\u001b[0;31mKeyboardInterrupt\u001b[0m                         Traceback (most recent call last)",
      "\u001b[0;32m<ipython-input-11-0faad05e4d96>\u001b[0m in \u001b[0;36m<module>\u001b[0;34m\u001b[0m\n\u001b[1;32m     20\u001b[0m             \u001b[0mby\u001b[0m \u001b[0;34m=\u001b[0m \u001b[0;34m\"Model\"\u001b[0m\u001b[0;34m\u001b[0m\u001b[0;34m\u001b[0m\u001b[0m\n\u001b[1;32m     21\u001b[0m             \u001b[0mdata\u001b[0m \u001b[0;34m=\u001b[0m \u001b[0mcreate_input\u001b[0m\u001b[0;34m(\u001b[0m\u001b[0;34m[\u001b[0m\u001b[0mtranslate_state\u001b[0m\u001b[0;34m(\u001b[0m\u001b[0menv\u001b[0m\u001b[0;34m.\u001b[0m\u001b[0mmap\u001b[0m\u001b[0;34m.\u001b[0m\u001b[0mstate\u001b[0m\u001b[0;34m(\u001b[0m\u001b[0;34m)\u001b[0m\u001b[0;34m)\u001b[0m\u001b[0;34m]\u001b[0m\u001b[0;34m)\u001b[0m\u001b[0;34m\u001b[0m\u001b[0;34m\u001b[0m\u001b[0m\n\u001b[0;32m---> 22\u001b[0;31m             \u001b[0mdata\u001b[0m \u001b[0;34m=\u001b[0m \u001b[0;34m[\u001b[0m\u001b[0mnd\u001b[0m\u001b[0;34m.\u001b[0m\u001b[0marray\u001b[0m\u001b[0;34m(\u001b[0m\u001b[0mi\u001b[0m\u001b[0;34m,\u001b[0m \u001b[0mctx\u001b[0m\u001b[0;34m=\u001b[0m\u001b[0mctx\u001b[0m\u001b[0;34m)\u001b[0m \u001b[0;32mfor\u001b[0m \u001b[0mi\u001b[0m \u001b[0;32min\u001b[0m \u001b[0mdata\u001b[0m\u001b[0;34m]\u001b[0m\u001b[0;34m\u001b[0m\u001b[0;34m\u001b[0m\u001b[0m\n\u001b[0m\u001b[1;32m     23\u001b[0m             \u001b[0maction\u001b[0m \u001b[0;34m=\u001b[0m \u001b[0moffline_model\u001b[0m\u001b[0;34m(\u001b[0m\u001b[0mdata\u001b[0m\u001b[0;34m)\u001b[0m\u001b[0;34m\u001b[0m\u001b[0;34m\u001b[0m\u001b[0m\n\u001b[1;32m     24\u001b[0m             \u001b[0maction\u001b[0m \u001b[0;34m=\u001b[0m \u001b[0mint\u001b[0m\u001b[0;34m(\u001b[0m\u001b[0mnd\u001b[0m\u001b[0;34m.\u001b[0m\u001b[0margmax\u001b[0m\u001b[0;34m(\u001b[0m\u001b[0maction\u001b[0m\u001b[0;34m,\u001b[0m \u001b[0maxis\u001b[0m\u001b[0;34m=\u001b[0m\u001b[0;36m1\u001b[0m\u001b[0;34m)\u001b[0m\u001b[0;34m.\u001b[0m\u001b[0masnumpy\u001b[0m\u001b[0;34m(\u001b[0m\u001b[0;34m)\u001b[0m\u001b[0;34m[\u001b[0m\u001b[0;36m0\u001b[0m\u001b[0;34m]\u001b[0m\u001b[0;34m)\u001b[0m\u001b[0;34m\u001b[0m\u001b[0;34m\u001b[0m\u001b[0m\n",
      "\u001b[0;32m<ipython-input-11-0faad05e4d96>\u001b[0m in \u001b[0;36m<listcomp>\u001b[0;34m(.0)\u001b[0m\n\u001b[1;32m     20\u001b[0m             \u001b[0mby\u001b[0m \u001b[0;34m=\u001b[0m \u001b[0;34m\"Model\"\u001b[0m\u001b[0;34m\u001b[0m\u001b[0;34m\u001b[0m\u001b[0m\n\u001b[1;32m     21\u001b[0m             \u001b[0mdata\u001b[0m \u001b[0;34m=\u001b[0m \u001b[0mcreate_input\u001b[0m\u001b[0;34m(\u001b[0m\u001b[0;34m[\u001b[0m\u001b[0mtranslate_state\u001b[0m\u001b[0;34m(\u001b[0m\u001b[0menv\u001b[0m\u001b[0;34m.\u001b[0m\u001b[0mmap\u001b[0m\u001b[0;34m.\u001b[0m\u001b[0mstate\u001b[0m\u001b[0;34m(\u001b[0m\u001b[0;34m)\u001b[0m\u001b[0;34m)\u001b[0m\u001b[0;34m]\u001b[0m\u001b[0;34m)\u001b[0m\u001b[0;34m\u001b[0m\u001b[0;34m\u001b[0m\u001b[0m\n\u001b[0;32m---> 22\u001b[0;31m             \u001b[0mdata\u001b[0m \u001b[0;34m=\u001b[0m \u001b[0;34m[\u001b[0m\u001b[0mnd\u001b[0m\u001b[0;34m.\u001b[0m\u001b[0marray\u001b[0m\u001b[0;34m(\u001b[0m\u001b[0mi\u001b[0m\u001b[0;34m,\u001b[0m \u001b[0mctx\u001b[0m\u001b[0;34m=\u001b[0m\u001b[0mctx\u001b[0m\u001b[0;34m)\u001b[0m \u001b[0;32mfor\u001b[0m \u001b[0mi\u001b[0m \u001b[0;32min\u001b[0m \u001b[0mdata\u001b[0m\u001b[0;34m]\u001b[0m\u001b[0;34m\u001b[0m\u001b[0;34m\u001b[0m\u001b[0m\n\u001b[0m\u001b[1;32m     23\u001b[0m             \u001b[0maction\u001b[0m \u001b[0;34m=\u001b[0m \u001b[0moffline_model\u001b[0m\u001b[0;34m(\u001b[0m\u001b[0mdata\u001b[0m\u001b[0;34m)\u001b[0m\u001b[0;34m\u001b[0m\u001b[0;34m\u001b[0m\u001b[0m\n\u001b[1;32m     24\u001b[0m             \u001b[0maction\u001b[0m \u001b[0;34m=\u001b[0m \u001b[0mint\u001b[0m\u001b[0;34m(\u001b[0m\u001b[0mnd\u001b[0m\u001b[0;34m.\u001b[0m\u001b[0margmax\u001b[0m\u001b[0;34m(\u001b[0m\u001b[0maction\u001b[0m\u001b[0;34m,\u001b[0m \u001b[0maxis\u001b[0m\u001b[0;34m=\u001b[0m\u001b[0;36m1\u001b[0m\u001b[0;34m)\u001b[0m\u001b[0;34m.\u001b[0m\u001b[0masnumpy\u001b[0m\u001b[0;34m(\u001b[0m\u001b[0;34m)\u001b[0m\u001b[0;34m[\u001b[0m\u001b[0;36m0\u001b[0m\u001b[0;34m]\u001b[0m\u001b[0;34m)\u001b[0m\u001b[0;34m\u001b[0m\u001b[0;34m\u001b[0m\u001b[0m\n",
      "\u001b[0;32m~/.local/lib/python3.8/site-packages/mxnet/ndarray/utils.py\u001b[0m in \u001b[0;36marray\u001b[0;34m(source_array, ctx, dtype)\u001b[0m\n\u001b[1;32m    144\u001b[0m         \u001b[0;32mreturn\u001b[0m \u001b[0m_sparse_array\u001b[0m\u001b[0;34m(\u001b[0m\u001b[0msource_array\u001b[0m\u001b[0;34m,\u001b[0m \u001b[0mctx\u001b[0m\u001b[0;34m=\u001b[0m\u001b[0mctx\u001b[0m\u001b[0;34m,\u001b[0m \u001b[0mdtype\u001b[0m\u001b[0;34m=\u001b[0m\u001b[0mdtype\u001b[0m\u001b[0;34m)\u001b[0m\u001b[0;34m\u001b[0m\u001b[0;34m\u001b[0m\u001b[0m\n\u001b[1;32m    145\u001b[0m     \u001b[0;32melse\u001b[0m\u001b[0;34m:\u001b[0m\u001b[0;34m\u001b[0m\u001b[0;34m\u001b[0m\u001b[0m\n\u001b[0;32m--> 146\u001b[0;31m         \u001b[0;32mreturn\u001b[0m \u001b[0m_array\u001b[0m\u001b[0;34m(\u001b[0m\u001b[0msource_array\u001b[0m\u001b[0;34m,\u001b[0m \u001b[0mctx\u001b[0m\u001b[0;34m=\u001b[0m\u001b[0mctx\u001b[0m\u001b[0;34m,\u001b[0m \u001b[0mdtype\u001b[0m\u001b[0;34m=\u001b[0m\u001b[0mdtype\u001b[0m\u001b[0;34m)\u001b[0m\u001b[0;34m\u001b[0m\u001b[0;34m\u001b[0m\u001b[0m\n\u001b[0m\u001b[1;32m    147\u001b[0m \u001b[0;34m\u001b[0m\u001b[0m\n\u001b[1;32m    148\u001b[0m \u001b[0;34m\u001b[0m\u001b[0m\n",
      "\u001b[0;32m~/.local/lib/python3.8/site-packages/mxnet/ndarray/ndarray.py\u001b[0m in \u001b[0;36marray\u001b[0;34m(source_array, ctx, dtype)\u001b[0m\n\u001b[1;32m   3375\u001b[0m     \u001b[0;32melse\u001b[0m\u001b[0;34m:\u001b[0m\u001b[0;34m\u001b[0m\u001b[0;34m\u001b[0m\u001b[0m\n\u001b[1;32m   3376\u001b[0m         \u001b[0marr\u001b[0m \u001b[0;34m=\u001b[0m \u001b[0mempty\u001b[0m\u001b[0;34m(\u001b[0m\u001b[0msource_array\u001b[0m\u001b[0;34m.\u001b[0m\u001b[0mshape\u001b[0m\u001b[0;34m,\u001b[0m \u001b[0mctx\u001b[0m\u001b[0;34m,\u001b[0m \u001b[0mdtype\u001b[0m\u001b[0;34m)\u001b[0m\u001b[0;34m\u001b[0m\u001b[0;34m\u001b[0m\u001b[0m\n\u001b[0;32m-> 3377\u001b[0;31m         \u001b[0marr\u001b[0m\u001b[0;34m[\u001b[0m\u001b[0;34m:\u001b[0m\u001b[0;34m]\u001b[0m \u001b[0;34m=\u001b[0m \u001b[0msource_array\u001b[0m\u001b[0;34m\u001b[0m\u001b[0;34m\u001b[0m\u001b[0m\n\u001b[0m\u001b[1;32m   3378\u001b[0m         \u001b[0;32mreturn\u001b[0m \u001b[0marr\u001b[0m\u001b[0;34m\u001b[0m\u001b[0;34m\u001b[0m\u001b[0m\n\u001b[1;32m   3379\u001b[0m \u001b[0;34m\u001b[0m\u001b[0m\n",
      "\u001b[0;32m~/.local/lib/python3.8/site-packages/mxnet/ndarray/ndarray.py\u001b[0m in \u001b[0;36m__setitem__\u001b[0;34m(self, key, value)\u001b[0m\n\u001b[1;32m    544\u001b[0m             \u001b[0mindexing_dispatch_code\u001b[0m \u001b[0;34m=\u001b[0m \u001b[0mget_indexing_dispatch_code\u001b[0m\u001b[0;34m(\u001b[0m\u001b[0mslc_key\u001b[0m\u001b[0;34m)\u001b[0m\u001b[0;34m\u001b[0m\u001b[0;34m\u001b[0m\u001b[0m\n\u001b[1;32m    545\u001b[0m             \u001b[0;32mif\u001b[0m \u001b[0mindexing_dispatch_code\u001b[0m \u001b[0;34m==\u001b[0m \u001b[0m_NDARRAY_BASIC_INDEXING\u001b[0m\u001b[0;34m:\u001b[0m\u001b[0;34m\u001b[0m\u001b[0;34m\u001b[0m\u001b[0m\n\u001b[0;32m--> 546\u001b[0;31m                 \u001b[0mself\u001b[0m\u001b[0;34m.\u001b[0m\u001b[0m_set_nd_basic_indexing\u001b[0m\u001b[0;34m(\u001b[0m\u001b[0mkey\u001b[0m\u001b[0;34m,\u001b[0m \u001b[0mvalue\u001b[0m\u001b[0;34m)\u001b[0m\u001b[0;34m\u001b[0m\u001b[0;34m\u001b[0m\u001b[0m\n\u001b[0m\u001b[1;32m    547\u001b[0m             \u001b[0;32melif\u001b[0m \u001b[0mindexing_dispatch_code\u001b[0m \u001b[0;34m==\u001b[0m \u001b[0m_NDARRAY_ADVANCED_INDEXING\u001b[0m\u001b[0;34m:\u001b[0m\u001b[0;34m\u001b[0m\u001b[0;34m\u001b[0m\u001b[0m\n\u001b[1;32m    548\u001b[0m                 \u001b[0mself\u001b[0m\u001b[0;34m.\u001b[0m\u001b[0m_set_nd_advanced_indexing\u001b[0m\u001b[0;34m(\u001b[0m\u001b[0mkey\u001b[0m\u001b[0;34m,\u001b[0m \u001b[0mvalue\u001b[0m\u001b[0;34m)\u001b[0m\u001b[0;34m\u001b[0m\u001b[0;34m\u001b[0m\u001b[0m\n",
      "\u001b[0;31mKeyboardInterrupt\u001b[0m: "
     ]
    }
   ],
   "source": [
    "for epoch in range(num_episode):\n",
    "    env.reset_env()\n",
    "    finish = 0\n",
    "    cum_clipped_dr = 0\n",
    "    if epoch == 51:\n",
    "        print(\"Model Structure: \")\n",
    "        print(offline_model)\n",
    "    if sum(env.step_count) > replay_start and _print:\n",
    "        print('annealing and learning are started')\n",
    "        _print = False\n",
    "    while not finish:\n",
    "        _all += 1\n",
    "        if sum(env.step_count) > replay_start:\n",
    "            annealing += 1\n",
    "        eps = np.maximum(1 - sum(env.step_count) / annealing_end, epsilon_min)\n",
    "        if np.random.random() < eps:\n",
    "            by = \"Random\"\n",
    "            action = np.random.randint(0, action_max)\n",
    "        else:\n",
    "            by = \"Model\"\n",
    "            data = create_input([translate_state(env.map.state())])\n",
    "            data = [nd.array(i, ctx=ctx) for i in data]\n",
    "            action = offline_model(data)\n",
    "            action = int(nd.argmax(action, axis=1).asnumpy()[0])\n",
    "        old, new, reward_get, finish = env.step(action)\n",
    "        memory_pool.add(old, new, action, reward_get, finish)\n",
    "        if finish and epoch > 50:\n",
    "            cum_clipped_dr += sum(env.detect_rate[-1]) / 2\n",
    "            dr_50 = float(np.mean(env.detect_rate[-50:]))\n",
    "            dr_all = float(np.mean(env.detect_rate))\n",
    "            ar_50 = float(np.mean(env.rewards[-50:]))\n",
    "            ar_all = float(np.mean(env.rewards))\n",
    "            if epoch % 50 == 0:\n",
    "                text = \"DR: %f(50), %f(all), AR: %f(50), %f(all) eps: %f\" % (dr_50, dr_all, ar_50, ar_all, eps)\n",
    "                print(text)\n",
    "                with open(summary, \"a\") as f:\n",
    "                    f.writelines(text + \"\\n\")\n",
    "            # save model and replace online model each update_step\n",
    "            if annealing > replay_start and annealing % update_step == 0:\n",
    "                offline_model.save_parameters(temporary_model)\n",
    "                online_model.load_parameters(temporary_model, ctx)\n",
    "                if best < dr_all:\n",
    "                    best = dr_all\n",
    "                    offline_model.save_parameters(temporary_model+ \".best\")\n",
    "    #  train every 2 epoch\n",
    "    if annealing > replay_start and epoch % 2 == 0:\n",
    "        _update += 1\n",
    "        # Sample random mini batch of transitions\n",
    "        if len(memory_pool.memory) > batch_size:\n",
    "            bz = batch_size\n",
    "        else:\n",
    "            bz = len(memory_pool.memory)\n",
    "        for_train = memory_pool.next_batch(bz)\n",
    "        with autograd.record(train_mode=True):\n",
    "            _state =[nd.array(i, ctx=ctx) for i in for_train[\"state\"]]\n",
    "            _state_next = [nd.array(i, ctx=ctx) for i in for_train[\"state_next\"]]\n",
    "            _finish = nd.array(for_train[\"finish\"], ctx=ctx)\n",
    "            _action = nd.array(for_train[\"action\"], ctx=ctx)\n",
    "            _reward = nd.array(for_train[\"reward\"], ctx=ctx)\n",
    "            q_sp = nd.max(online_model(_state_next), axis=1)\n",
    "            q_sp = q_sp * (nd.ones(bz, ctx=ctx) - _finish)\n",
    "            q_s_array = offline_model(_state)\n",
    "            q_s = nd.pick(q_s_array, _action, 1)\n",
    "            loss = nd.mean(loss_func(q_s, (_reward + gamma * q_sp)))\n",
    "        loss.backward()\n",
    "        trainer.step(bz)\n",
    "    total_reward[int(epoch) - 1] = cum_clipped_dr"
   ]
  },
  {
   "cell_type": "code",
   "execution_count": 8,
   "id": "44b4c996",
   "metadata": {},
   "outputs": [],
   "source": [
    "import seaborn"
   ]
  },
  {
   "cell_type": "code",
   "execution_count": 9,
   "id": "4edbc6aa",
   "metadata": {},
   "outputs": [
    {
     "name": "stderr",
     "output_type": "stream",
     "text": [
      "100%|██████████| 4058/4058 [00:06<00:00, 628.72it/s] \n"
     ]
    },
    {
     "data": {
      "text/plain": [
       "<AxesSubplot:>"
      ]
     },
     "execution_count": 9,
     "metadata": {},
     "output_type": "execute_result"
    },
    {
     "data": {
      "image/png": "[encoded data removed]",
      "text/plain": [
       "<Figure size 432x288 with 1 Axes>"
      ]
     },
     "metadata": {
      "needs_background": "light"
     },
     "output_type": "display_data"
    }
   ],
   "source": [
    "y = []\n",
    "for i in tqdm.tqdm(range(1, len(env.detect_rate))):\n",
    "    y.append(np.mean(env.detect_rate[:i]))\n",
    "seaborn.lineplot(x=range(len(y)), y=y)"
   ]
  },
  {
   "cell_type": "code",
   "execution_count": 10,
   "id": "5bfbdf0b",
   "metadata": {},
   "outputs": [
    {
     "name": "stderr",
     "output_type": "stream",
     "text": [
      "100%|██████████| 4058/4058 [00:00<00:00, 4125.75it/s] \n"
     ]
    },
    {
     "data": {
      "text/plain": [
       "<AxesSubplot:>"
      ]
     },
     "execution_count": 10,
     "metadata": {},
     "output_type": "execute_result"
    },
    {
     "data": {
      "image/png": "[encoded data removed]",
      "text/plain": [
       "<Figure size 432x288 with 1 Axes>"
      ]
     },
     "metadata": {
      "needs_background": "light"
     },
     "output_type": "display_data"
    }
   ],
   "source": [
    "y = []\n",
    "for i in tqdm.tqdm(range(1, len(env.rewards))):\n",
    "    y.append(np.mean(env.rewards[:i]))\n",
    "seaborn.lineplot(x=range(len(y)), y=y)"
   ]
  },
  {
   "cell_type": "code",
   "execution_count": null,
   "id": "11151d12",
   "metadata": {},
   "outputs": [],
   "source": []
  },
  {
   "cell_type": "code",
   "execution_count": null,
   "id": "8b1c2034",
   "metadata": {},
   "outputs": [],
   "source": []
  },
  {
   "cell_type": "code",
   "execution_count": 18,
   "id": "8d239e1e",
   "metadata": {},
   "outputs": [
    {
     "data": {
      "text/plain": [
       "array([[58., 58., 58., 58., 58., 58., 58., 58., 58., 58., 58., 58., 58.,\n",
       "        58., 58., 58., 58., 58., 58., 58.],\n",
       "       [58., 58., 58., 58., 58., 58., 58., 58., 58., 58., 58., 58., 58.,\n",
       "        58., 58., 58., 58., 58., 58., 58.],\n",
       "       [58., 58., 58., 58., 58., 58., 58., 58., 58., 58., 58., 58., 58.,\n",
       "        58., 58., 58., 58., 58., 58., 58.],\n",
       "       [58., 58., 58., 58., 58., 58., 58., 58., 58., 58., 58., 58., 58.,\n",
       "        58., 58., 58., 58., 58., 58., 58.],\n",
       "       [58., 58., 58., 58., 58., 58., 58., 58., 58., 58., 58., 58., 58.,\n",
       "        58., 58., 58., 58., 58., 58., 58.],\n",
       "       [58., 58., 58., 58., 58., 58., 58., 58., 58., 58., 58., 58., 58.,\n",
       "        58., 58., 58., 58., 58., 58., 58.],\n",
       "       [58., 58., 58., 58., 58., 58., 58., 58., 58., 58., 58., 58., 58.,\n",
       "        58., 58., 58., 58., 58., 58., 58.],\n",
       "       [58., 58., 58., 58., 58., 58., 58., 58., 58., 58., 58., 58., 58.,\n",
       "        58., 58., 58., 58., 58., 58., 58.],\n",
       "       [58., 58., 58., 58., 58., 58., 58., 58., 58., 58., 58., 58., 58.,\n",
       "        58., 58., 58., 58., 58., 58., 58.],\n",
       "       [58., 58., 58., 58., 58., 58., 58., 58., 58., 58., 58., 58., 58.,\n",
       "        58., 58., 58., 58., 58., 58., 58.],\n",
       "       [58., 58., 58., 58., 58., 58., 58., 58., 58., 58., 58., 58., 58.,\n",
       "        58., 58., 58., 58., 58., 58., 58.],\n",
       "       [58., 58., 58., 58., 58., 58., 58., 58., 58., 58., 58., 58., 58.,\n",
       "        58., 58., 58., 58., 58., 58., 58.],\n",
       "       [58., 58., 58., 58., 58., 58., 58., 58., 58., 58., 58., 58., 58.,\n",
       "        58., 58., 58., 58., 58., 58., 58.],\n",
       "       [58., 58., 58., 58., 58., 58., 58., 58., 58., 58., 58., 58., 58.,\n",
       "        58., 58., 58., 58., 58., 58., 58.],\n",
       "       [58., 58., 58., 58., 58., 58., 58., 58., 58., 58., 58., 58., 58.,\n",
       "        58., 58., 58., 58., 58., 58., 58.],\n",
       "       [58., 58., 58., 58., 58., 58., 58., 58., 58., 58., 58., 58., 58.,\n",
       "        58., 58., 58., 58., 58., 58., 58.],\n",
       "       [58., 58., 58., 58.,  9., 58., 58., 58., 58., 58., 58., 58., 58.,\n",
       "        58., 58., 58., 58., 58., 58., 58.],\n",
       "       [58., 58., 58., 58.,  2., 58., 58., 58., 58., 58., 58., 58., 58.,\n",
       "        58., 58., 58., 58., 58., 58., 58.],\n",
       "       [58., 58., 58., 58.,  0., 58., 58., 58., 58., 58., 58., 58., 58.,\n",
       "        58., 58., 58., 58., 58., 58., 58.],\n",
       "       [58., 58., 58., 58., 58., 58., 58., 58., 58., 58., 58., 58., 58.,\n",
       "        58., 58., 58., 58., 58., 58., 58.]])"
      ]
     },
     "execution_count": 18,
     "metadata": {},
     "output_type": "execute_result"
    }
   ],
   "source": [
    "env.map.memory"
   ]
  },
  {
   "cell_type": "code",
   "execution_count": null,
   "id": "a1807c29",
   "metadata": {},
   "outputs": [],
   "source": []
  }
 ],
 "metadata": {
  "kernelspec": {
   "display_name": "Python 3",
   "language": "python",
   "name": "python3"
  },
  "language_info": {
   "codemirror_mode": {
    "name": "ipython",
    "version": 3
   },
   "file_extension": ".py",
   "mimetype": "text/x-python",
   "name": "python",
   "nbconvert_exporter": "python",
   "pygments_lexer": "ipython3",
   "version": "3.8.8"
  }
 },
 "nbformat": 4,
 "nbformat_minor": 5
}
