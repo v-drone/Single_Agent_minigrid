{
 "cells": [
  {
   "cell_type": "code",
   "execution_count": 1,
   "id": "c0652365",
   "metadata": {},
   "outputs": [],
   "source": [
    "import os\n",
    "from PIL import Image\n",
    "import numpy as np\n",
    "import mxnet as mx\n",
    "import tqdm\n",
    "from utils import check_dir\n",
    "from memory import Memory\n",
    "from utils import create_input, translate_state\n",
    "from evaluation_mxnet import evaluate\n",
    "from mxnet import gluon, nd, autograd\n",
    "from environments.SimpleEnv import SimpleEnv"
   ]
  },
  {
   "cell_type": "code",
   "execution_count": 2,
   "id": "4436599b",
   "metadata": {
    "pycharm": {
     "name": "#%%\n"
    }
   },
   "outputs": [],
   "source": [
    "# training cases\n",
    "order = \"model_test\"\n",
    "# batch size\n",
    "batch_size = 128\n",
    "# agent view\n",
    "agent_view = 5\n",
    "map_size = 20\n",
    "# action max\n",
    "action_max = 3\n",
    "# learning rate\n",
    "model_save = \"./model_save/\"\n",
    "lr = 0.01\n",
    "num_episode = 1000000\n",
    "# start play\n",
    "replay_start = 10000\n",
    "# update step\n",
    "update_step = 1000\n",
    "# gamma in q-loss calculation\n",
    "gamma = 0.99\n",
    "# memory pool size\n",
    "memory_length = 100000\n",
    "# file to save train log\n",
    "summary = \"./{}_Reward.csv\".format(order)\n",
    "eval_statistics = \"./{}_CSV.csv\".format(order)\n",
    "# the number of step it take to linearly anneal the epsilon to it min value\n",
    "annealing_end = 200000\n",
    "# min level of stochastically of policy (epsilon)-greedy\n",
    "epsilon_min = 0.2\n",
    "# temporary files\n",
    "temporary_model = \"./{}/{}.params\".format(model_save, order)\n",
    "temporary_pool = \"./{}/{}.pool\".format(model_save, order)"
   ]
  },
  {
   "cell_type": "code",
   "execution_count": 3,
   "id": "474a434e",
   "metadata": {},
   "outputs": [],
   "source": [
    "if os.path.exists(summary):\n",
    "    os.remove(summary)\n",
    "ctx = mx.gpu()\n",
    "for i in [\"model_save\", \"data_save\"]:\n",
    "    check_dir(i)"
   ]
  },
  {
   "cell_type": "code",
   "execution_count": 4,
   "id": "dd448d9e",
   "metadata": {},
   "outputs": [],
   "source": [
    "# build models\n",
    "from model.simple_stack import SimpleStack\n",
    "online_model = SimpleStack()\n",
    "offline_model = SimpleStack()\n",
    "online_model.collect_params().initialize(mx.init.MSRAPrelu(), ctx=ctx)\n",
    "offline_model.collect_params().initialize(mx.init.MSRAPrelu(), ctx=ctx)\n",
    "offline_model.collect_params().zero_grad()"
   ]
  },
  {
   "cell_type": "code",
   "execution_count": 5,
   "id": "8d75af3a",
   "metadata": {},
   "outputs": [],
   "source": [
    "# create env\n",
    "env = SimpleEnv(display=False, agent_view=agent_view, map_size=map_size)\n",
    "memory_pool = Memory(memory_length)\n",
    "annealing = 0\n",
    "total_reward = np.zeros(num_episode)\n",
    "loss_func = gluon.loss.L2Loss()\n",
    "trainer = gluon.Trainer(offline_model.collect_params(), 'adam', {'learning_rate': lr})"
   ]
  },
  {
   "cell_type": "code",
   "execution_count": 6,
   "id": "e4b80d0b",
   "metadata": {},
   "outputs": [],
   "source": [
    "_print = True\n",
    "_best = 0\n",
    "_all = 0\n",
    "_update = 0"
   ]
  },
  {
   "cell_type": "code",
   "execution_count": null,
   "id": "09e9205f",
   "metadata": {
    "scrolled": false
   },
   "outputs": [
    {
     "name": "stdout",
     "output_type": "stream",
     "text": [
      "Model Structure: \n",
      "SimpleStack(\n",
      "  (map): MapBlock(\n",
      "    (0): Conv2D(9 -> 32, kernel_size=(1, 1), stride=(1, 1), bias=False)\n",
      "    (1): AvgPool2D(size=(2, 2), stride=(2, 2), padding=(0, 0), ceil_mode=False, global_pool=False, pool_type=avg, layout=NCHW)\n",
      "    (2): Conv2D(32 -> 64, kernel_size=(2, 2), stride=(1, 1), bias=False)\n",
      "    (3): AvgPool2D(size=(2, 2), stride=(2, 2), padding=(0, 0), ceil_mode=False, global_pool=False, pool_type=avg, layout=NCHW)\n",
      "    (4): Conv2D(64 -> 128, kernel_size=(2, 2), stride=(1, 1), bias=False)\n",
      "  )\n",
      "  (memory): MemoryBlock(\n",
      "    (0): Conv2D(1 -> 32, kernel_size=(1, 1), stride=(1, 1), bias=False)\n",
      "    (1): AvgPool2D(size=(2, 2), stride=(2, 2), padding=(0, 0), ceil_mode=False, global_pool=False, pool_type=avg, layout=NCHW)\n",
      "    (2): Conv2D(32 -> 64, kernel_size=(2, 2), stride=(1, 1), bias=False)\n",
      "    (3): AvgPool2D(size=(2, 2), stride=(2, 2), padding=(0, 0), ceil_mode=False, global_pool=False, pool_type=avg, layout=NCHW)\n",
      "    (4): Conv2D(64 -> 128, kernel_size=(2, 2), stride=(1, 1), bias=False)\n",
      "  )\n",
      "  (decision_making): Sequential(\n",
      "    (0): Dense(2304 -> 3, Activation(sigmoid))\n",
      "  )\n",
      ")\n",
      "annealing and learning are started\n",
      "ir = - stay time / 200\n",
      "er = detect rate (0~1)\n",
      "DR: 0.066991(50), 0.069826(all), AR: -0.012839(50), -0.012991(all) eps: 0.925000\n",
      "DR: 0.061771(50), 0.067822(all), AR: -0.012954(50), -0.012982(all) eps: 0.900000\n",
      "DR: 0.104305(50), 0.075090(all), AR: -0.008141(50), -0.012017(all) eps: 0.875000\n",
      "DR: 0.087050(50), 0.077076(all), AR: -0.008560(50), -0.011443(all) eps: 0.850000\n",
      "DR: 0.076128(50), 0.076941(all), AR: -0.008593(50), -0.011037(all) eps: 0.825000\n",
      "DR: 0.085117(50), 0.077961(all), AR: -0.007670(50), -0.010617(all) eps: 0.800000\n",
      "DR: 0.114567(50), 0.082019(all), AR: -0.007031(50), -0.010220(all) eps: 0.775000\n",
      "DR: 0.113212(50), 0.085132(all), AR: -0.006797(50), -0.009878(all) eps: 0.750000\n",
      "DR: 0.104807(50), 0.086918(all), AR: -0.006494(50), -0.009571(all) eps: 0.725000\n",
      "DR: 0.116309(50), 0.089363(all), AR: -0.007184(50), -0.009372(all) eps: 0.700000\n",
      "DR: 0.114640(50), 0.091304(all), AR: -0.005944(50), -0.009109(all) eps: 0.675000\n",
      "DR: 0.091270(50), 0.091302(all), AR: -0.007439(50), -0.008990(all) eps: 0.650000\n",
      "DR: 0.112378(50), 0.092705(all), AR: -0.005111(50), -0.008732(all) eps: 0.625000\n",
      "DR: 0.120272(50), 0.094426(all), AR: -0.005532(50), -0.008532(all) eps: 0.600000\n",
      "DR: 0.135815(50), 0.096858(all), AR: -0.006126(50), -0.008391(all) eps: 0.575000\n",
      "DR: 0.130664(50), 0.098734(all), AR: -0.005644(50), -0.008238(all) eps: 0.550000\n",
      "DR: 0.145996(50), 0.101219(all), AR: -0.006488(50), -0.008146(all) eps: 0.525000\n",
      "DR: 0.111082(50), 0.101711(all), AR: -0.008133(50), -0.008146(all) eps: 0.500000\n",
      "DR: 0.121750(50), 0.102664(all), AR: -0.005366(50), -0.008013(all) eps: 0.475000\n",
      "DR: 0.133707(50), 0.104074(all), AR: -0.005381(50), -0.007894(all) eps: 0.450000\n",
      "DR: 0.115861(50), 0.104586(all), AR: -0.006735(50), -0.007843(all) eps: 0.425000\n",
      "DR: 0.124765(50), 0.105426(all), AR: -0.007709(50), -0.007838(all) eps: 0.400000\n",
      "DR: 0.116096(50), 0.105853(all), AR: -0.009058(50), -0.007887(all) eps: 0.375085\n",
      "DR: 0.137855(50), 0.107083(all), AR: -0.007575(50), -0.007875(all) eps: 0.350085\n",
      "DR: 0.131177(50), 0.107974(all), AR: -0.010062(50), -0.007956(all) eps: 0.325310\n",
      "DR: 0.092308(50), 0.107415(all), AR: -0.012832(50), -0.008130(all) eps: 0.300310\n",
      "DR: 0.130953(50), 0.108226(all), AR: -0.012365(50), -0.008276(all) eps: 0.275310\n",
      "DR: 0.129093(50), 0.108922(all), AR: -0.011508(50), -0.008383(all) eps: 0.250740\n",
      "DR: 0.105356(50), 0.108807(all), AR: -0.016629(50), -0.008649(all) eps: 0.225740\n",
      "DR: 0.100415(50), 0.108545(all), AR: -0.017613(50), -0.008929(all) eps: 0.200740\n",
      "DR: 0.145193(50), 0.109654(all), AR: -0.016611(50), -0.009162(all) eps: 0.200000\n",
      "DR: 0.130348(50), 0.110263(all), AR: -0.025726(50), -0.009649(all) eps: 0.200000\n",
      "DR: 0.127379(50), 0.110751(all), AR: -0.025112(50), -0.010090(all) eps: 0.200000\n",
      "DR: 0.101643(50), 0.110499(all), AR: -0.021637(50), -0.010411(all) eps: 0.200000\n",
      "DR: 0.083663(50), 0.109774(all), AR: -0.019574(50), -0.010658(all) eps: 0.200000\n",
      "DR: 0.155019(50), 0.110964(all), AR: -0.015433(50), -0.010784(all) eps: 0.200000\n",
      "DR: 0.138366(50), 0.111666(all), AR: -0.020446(50), -0.011031(all) eps: 0.200000\n",
      "DR: 0.132544(50), 0.112188(all), AR: -0.025811(50), -0.011401(all) eps: 0.200000\n",
      "DR: 0.105532(50), 0.112025(all), AR: -0.020105(50), -0.011613(all) eps: 0.200000\n",
      "DR: 0.103995(50), 0.111834(all), AR: -0.020255(50), -0.011819(all) eps: 0.200000\n",
      "DR: 0.106436(50), 0.111709(all), AR: -0.021491(50), -0.012043(all) eps: 0.200000\n"
     ]
    }
   ],
   "source": [
    "for epoch in range(num_episode):\n",
    "    env.reset_env()\n",
    "    finish = 0\n",
    "    cum_clipped_dr = 0\n",
    "    if epoch == 51:\n",
    "        print(\"Model Structure: \")\n",
    "        print(offline_model)\n",
    "    if sum(env.step_count) > replay_start and _print:\n",
    "        print('annealing and learning are started')\n",
    "        print(env.sr)\n",
    "        print(env.lr)\n",
    "        _print = False\n",
    "    while not finish:\n",
    "        _all += 1\n",
    "        if sum(env.step_count) > replay_start:\n",
    "            annealing += 1\n",
    "        eps = np.maximum(1 - sum(env.step_count) / annealing_end, epsilon_min)\n",
    "        if np.random.random() < eps:\n",
    "            by = \"Random\"\n",
    "            action = np.random.randint(0, action_max)\n",
    "        else:\n",
    "            by = \"Model\"\n",
    "            data = create_input([translate_state(env.map.state())])\n",
    "            data = [nd.array(i, ctx=ctx) for i in data]\n",
    "            action = offline_model(data)\n",
    "            action = int(nd.argmax(action, axis=1).asnumpy()[0])\n",
    "        old, new, reward_get, finish = env.step(action)\n",
    "        memory_pool.add(old, new, action, reward_get, finish)\n",
    "        if finish and epoch > 50:\n",
    "            cum_clipped_dr += sum(env.detect_rate[-1]) / 2\n",
    "            dr_50 = float(np.mean(env.detect_rate[-50:]))\n",
    "            dr_all = float(np.mean(env.detect_rate))\n",
    "            ar_50 = float(np.mean(env.rewards[-50:]))\n",
    "            ar_all = float(np.mean(env.rewards))\n",
    "            if epoch % 50 == 0 and _print == False:\n",
    "                text = \"DR: %f(50), %f(all), AR: %f(50), %f(all) eps: %f\" % (dr_50, dr_all, ar_50, ar_all, eps)\n",
    "                print(text)\n",
    "                with open(summary, \"a\") as f:\n",
    "                    f.writelines(text + \"\\n\")\n",
    "            # save model and replace online model each update_step\n",
    "            if annealing > replay_start and annealing % update_step == 0:\n",
    "                offline_model.save_parameters(temporary_model)\n",
    "                online_model.load_parameters(temporary_model, ctx)\n",
    "                if _best < dr_all:\n",
    "                    _best = dr_all\n",
    "                    offline_model.save_parameters(temporary_model+ \".best\")\n",
    "    #  train every 2 epoch\n",
    "    if annealing > replay_start and epoch % 2 == 0:\n",
    "        _update += 1\n",
    "        # Sample random mini batch of transitions\n",
    "        if len(memory_pool.memory) > batch_size:\n",
    "            bz = batch_size\n",
    "        else:\n",
    "            bz = len(memory_pool.memory)\n",
    "        for_train = memory_pool.next_batch(bz)\n",
    "        with autograd.record(train_mode=True):\n",
    "            _state =[nd.array(i, ctx=ctx) for i in for_train[\"state\"]]\n",
    "            _state_next = [nd.array(i, ctx=ctx) for i in for_train[\"state_next\"]]\n",
    "            _finish = nd.array(for_train[\"finish\"], ctx=ctx)\n",
    "            _action = nd.array(for_train[\"action\"], ctx=ctx)\n",
    "            _reward = nd.array(for_train[\"reward\"], ctx=ctx)\n",
    "            q_sp = nd.max(online_model(_state_next), axis=1)\n",
    "            q_sp = q_sp * (nd.ones(bz, ctx=ctx) - _finish)\n",
    "            q_s_array = offline_model(_state)\n",
    "            q_s = nd.pick(q_s_array, _action, 1)\n",
    "            loss = nd.mean(loss_func(q_s, (_reward + gamma * q_sp)))\n",
    "        loss.backward()\n",
    "        trainer.step(bz)\n",
    "    total_reward[int(epoch) - 1] = cum_clipped_dr"
   ]
  },
  {
   "cell_type": "code",
   "execution_count": null,
   "id": "5fcb54e3",
   "metadata": {},
   "outputs": [],
   "source": [
    "_ = env.map.grid.copy()\n",
    "agent_obs = env.map.get_agent_obs_locations()\n",
    "_.grid = [None if i is not None and i.type == \"box\" and i.cur_pos not in agent_obs else i for i in _.grid]\n",
    "Image.fromarray(_.render(10, env.map.agent_pos, env.map.agent_dir), \"RGB\")"
   ]
  },
  {
   "cell_type": "code",
   "execution_count": null,
   "id": "44b4c996",
   "metadata": {},
   "outputs": [],
   "source": [
    "import seaborn"
   ]
  },
  {
   "cell_type": "code",
   "execution_count": null,
   "id": "86ad9f04",
   "metadata": {},
   "outputs": [],
   "source": [
    "y = []\n",
    "for i in tqdm.tqdm(range(1, len(env.detect_rate))):\n",
    "    y.append(np.mean(env.detect_rate[:i]))\n",
    "seaborn.lineplot(x=range(len(y)), y=y)"
   ]
  },
  {
   "cell_type": "code",
   "execution_count": null,
   "id": "56925e45",
   "metadata": {},
   "outputs": [],
   "source": [
    "y = []\n",
    "for i in tqdm.tqdm(range(1, len(env.rewards))):\n",
    "    y.append(np.mean(env.rewards[:i]))\n",
    "seaborn.lineplot(x=range(len(y)), y=y)"
   ]
  },
  {
   "cell_type": "code",
   "execution_count": null,
   "id": "6b9a6baf",
   "metadata": {},
   "outputs": [],
   "source": []
  }
 ],
 "metadata": {
  "kernelspec": {
   "display_name": "Python 3",
   "language": "python",
   "name": "python3"
  },
  "language_info": {
   "codemirror_mode": {
    "name": "ipython",
    "version": 3
   },
   "file_extension": ".py",
   "mimetype": "text/x-python",
   "name": "python",
   "nbconvert_exporter": "python",
   "pygments_lexer": "ipython3",
   "version": "3.8.8"
  }
 },
 "nbformat": 4,
 "nbformat_minor": 5
}
