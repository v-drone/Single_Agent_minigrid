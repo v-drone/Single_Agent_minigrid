{
 "cells": [
  {
   "cell_type": "code",
   "execution_count": 1,
   "id": "c0652365",
   "metadata": {},
   "outputs": [],
   "source": [
    "import os\n",
    "from PIL import Image\n",
    "import numpy as np\n",
    "import mxnet as mx\n",
    "import tqdm\n",
    "from utils import check_dir\n",
    "from memory import Memory\n",
    "from utils import create_input, translate_state\n",
    "from evaluation_mxnet import evaluate\n",
    "from mxnet import gluon, nd, autograd\n",
    "from environments.SimpleEnv import SimpleEnv"
   ]
  },
  {
   "cell_type": "code",
   "execution_count": 2,
   "id": "4436599b",
   "metadata": {
    "pycharm": {
     "name": "#%%\n"
    }
   },
   "outputs": [],
   "source": [
    "# training cases\n",
    "order = \"model_test\"\n",
    "# batch size\n",
    "batch_size = 128\n",
    "# agent view\n",
    "agent_view = 5\n",
    "map_size = 20\n",
    "# action max\n",
    "action_max = 3\n",
    "# learning rate\n",
    "model_save = \"./model_save/\"\n",
    "lr = 0.001\n",
    "num_episode = 1000000\n",
    "# start play\n",
    "replay_start = 10000\n",
    "# update step\n",
    "update_step = 1000\n",
    "# gamma in q-loss calculation\n",
    "gamma = 0.99\n",
    "# memory pool size\n",
    "memory_length = 100000\n",
    "# file to save train log\n",
    "summary = \"./{}_Reward.csv\".format(order)\n",
    "eval_statistics = \"./{}_CSV.csv\".format(order)\n",
    "# the number of step it take to linearly anneal the epsilon to it min value\n",
    "annealing_end = 200000\n",
    "# min level of stochastically of policy (epsilon)-greedy\n",
    "epsilon_min = 0.2\n",
    "# temporary files\n",
    "temporary_model = \"./{}/{}.params\".format(model_save, order)\n",
    "temporary_pool = \"./{}/{}.pool\".format(model_save, order)"
   ]
  },
  {
   "cell_type": "code",
   "execution_count": 3,
   "id": "474a434e",
   "metadata": {},
   "outputs": [],
   "source": [
    "if os.path.exists(summary):\n",
    "    os.remove(summary)\n",
    "ctx = mx.gpu()\n",
    "for i in [\"model_save\", \"data_save\"]:\n",
    "    check_dir(i)"
   ]
  },
  {
   "cell_type": "code",
   "execution_count": 4,
   "id": "dd448d9e",
   "metadata": {},
   "outputs": [],
   "source": [
    "# build models\n",
    "from model.simple_stack import SimpleStack\n",
    "online_model = SimpleStack()\n",
    "offline_model = SimpleStack()\n",
    "online_model.collect_params().initialize(mx.init.MSRAPrelu(), ctx=ctx)\n",
    "offline_model.collect_params().initialize(mx.init.MSRAPrelu(), ctx=ctx)\n",
    "offline_model.collect_params().zero_grad()"
   ]
  },
  {
   "cell_type": "code",
   "execution_count": 5,
   "id": "8d75af3a",
   "metadata": {},
   "outputs": [],
   "source": [
    "# create env\n",
    "env = SimpleEnv(display=False, agent_view=agent_view, map_size=map_size)\n",
    "memory_pool = Memory(memory_length)\n",
    "annealing = 0\n",
    "total_reward = np.zeros(num_episode)\n",
    "loss_func = gluon.loss.L2Loss()\n",
    "trainer = gluon.Trainer(offline_model.collect_params(), 'adam', {'learning_rate': lr, \"wd\":1e-8})"
   ]
  },
  {
   "cell_type": "code",
   "execution_count": 6,
   "id": "e4b80d0b",
   "metadata": {},
   "outputs": [],
   "source": [
    "_print = True\n",
    "_best = 0\n",
    "_all = 0\n",
    "_update = 0"
   ]
  },
  {
   "cell_type": "code",
   "execution_count": 7,
   "id": "09e9205f",
   "metadata": {
    "scrolled": false
   },
   "outputs": [
    {
     "name": "stdout",
     "output_type": "stream",
     "text": [
      "Model Structure: \n",
      "SimpleStack(\n",
      "  (view): MapBlock(\n",
      "    (0): Conv2D(9 -> 32, kernel_size=(3, 3), stride=(1, 1), bias=False)\n",
      "    (1): Conv2D(32 -> 128, kernel_size=(3, 3), stride=(1, 1), bias=False)\n",
      "    (2): Conv2D(128 -> 128, kernel_size=(3, 3), stride=(1, 1), bias=False)\n",
      "    (3): Conv2D(128 -> 128, kernel_size=(3, 3), stride=(1, 1), bias=False)\n",
      "    (4): Conv2D(128 -> 128, kernel_size=(3, 3), stride=(1, 1), bias=False)\n",
      "  )\n",
      "  (map): MapBlock(\n",
      "    (0): Conv2D(9 -> 32, kernel_size=(3, 3), stride=(1, 1), bias=False)\n",
      "    (1): Conv2D(32 -> 128, kernel_size=(3, 3), stride=(1, 1), bias=False)\n",
      "    (2): Conv2D(128 -> 128, kernel_size=(3, 3), stride=(1, 1), bias=False)\n",
      "    (3): Conv2D(128 -> 128, kernel_size=(3, 3), stride=(1, 1), bias=False)\n",
      "    (4): Conv2D(128 -> 128, kernel_size=(3, 3), stride=(1, 1), bias=False)\n",
      "  )\n",
      "  (memory): MapBlock(\n",
      "    (0): Conv2D(9 -> 32, kernel_size=(3, 3), stride=(1, 1), bias=False)\n",
      "    (1): Conv2D(32 -> 128, kernel_size=(3, 3), stride=(1, 1), bias=False)\n",
      "    (2): Conv2D(128 -> 128, kernel_size=(3, 3), stride=(1, 1), bias=False)\n",
      "    (3): Conv2D(128 -> 128, kernel_size=(3, 3), stride=(1, 1), bias=False)\n",
      "    (4): Conv2D(128 -> 128, kernel_size=(3, 3), stride=(1, 1), bias=False)\n",
      "  )\n",
      "  (embedding): Sequential(\n",
      "    (0): Conv2D(384 -> 128, kernel_size=(2, 2), stride=(1, 1), bias=False)\n",
      "    (1): Conv2D(128 -> 128, kernel_size=(2, 2), stride=(1, 1), bias=False)\n",
      "    (2): Conv2D(128 -> 128, kernel_size=(2, 2), stride=(1, 1), bias=False)\n",
      "    (3): Conv2D(128 -> 128, kernel_size=(2, 2), stride=(1, 1), bias=False)\n",
      "  )\n",
      "  (out): Sequential(\n",
      "    (0): Dense(4609 -> 512, Activation(softrelu))\n",
      "    (1): Dense(512 -> 3, Activation(softrelu))\n",
      "  )\n",
      ")\n",
      "annealing and learning are started\n",
      "ir = - stay time / 200\n",
      "er = detect rate (0~1)\n",
      "DR: 0.050129(50), 0.065515(all), AR: -0.010664(50), -0.011586(all) eps: 0.925000\n",
      "DR: 0.112116(50), 0.077107(all), AR: -0.010874(50), -0.011409(all) eps: 0.900000\n",
      "DR: 0.112818(50), 0.084221(all), AR: -0.010600(50), -0.011248(all) eps: 0.875000\n",
      "DR: 0.091746(50), 0.085471(all), AR: -0.012227(50), -0.011410(all) eps: 0.850000\n",
      "DR: 0.079407(50), 0.084607(all), AR: -0.010700(50), -0.011309(all) eps: 0.825000\n",
      "DR: 0.092876(50), 0.085638(all), AR: -0.009480(50), -0.011081(all) eps: 0.800000\n",
      "DR: 0.083651(50), 0.085418(all), AR: -0.010189(50), -0.010982(all) eps: 0.775000\n",
      "DR: 0.123957(50), 0.089264(all), AR: -0.008899(50), -0.010774(all) eps: 0.750000\n",
      "DR: 0.092630(50), 0.089569(all), AR: -0.008573(50), -0.010575(all) eps: 0.725000\n",
      "DR: 0.092791(50), 0.089837(all), AR: -0.011985(50), -0.010692(all) eps: 0.700000\n",
      "DR: 0.069850(50), 0.088302(all), AR: -0.012760(50), -0.010851(all) eps: 0.675000\n",
      "DR: 0.091975(50), 0.088564(all), AR: -0.012908(50), -0.010998(all) eps: 0.650000\n",
      "DR: 0.087300(50), 0.088480(all), AR: -0.012469(50), -0.011096(all) eps: 0.625000\n",
      "DR: 0.080706(50), 0.087995(all), AR: -0.012611(50), -0.011190(all) eps: 0.600000\n",
      "DR: 0.096822(50), 0.088513(all), AR: -0.012427(50), -0.011263(all) eps: 0.575000\n",
      "DR: 0.081987(50), 0.088151(all), AR: -0.013221(50), -0.011371(all) eps: 0.550000\n",
      "DR: 0.097058(50), 0.088620(all), AR: -0.014200(50), -0.011520(all) eps: 0.525000\n",
      "DR: 0.099618(50), 0.089169(all), AR: -0.016909(50), -0.011789(all) eps: 0.500000\n",
      "DR: 0.114960(50), 0.090396(all), AR: -0.015858(50), -0.011983(all) eps: 0.475000\n",
      "DR: 0.063275(50), 0.089164(all), AR: -0.019198(50), -0.012311(all) eps: 0.450000\n",
      "DR: 0.065404(50), 0.088132(all), AR: -0.020665(50), -0.012674(all) eps: 0.425000\n",
      "DR: 0.122660(50), 0.089570(all), AR: -0.019415(50), -0.012954(all) eps: 0.400000\n",
      "DR: 0.087547(50), 0.089489(all), AR: -0.022211(50), -0.013324(all) eps: 0.375000\n",
      "DR: 0.078263(50), 0.089057(all), AR: -0.024759(50), -0.013764(all) eps: 0.350000\n",
      "DR: 0.032067(50), 0.086948(all), AR: -0.032643(50), -0.014462(all) eps: 0.325000\n",
      "DR: 0.129009(50), 0.088449(all), AR: -0.023449(50), -0.014783(all) eps: 0.300010\n",
      "DR: 0.048094(50), 0.087059(all), AR: -0.034216(50), -0.015453(all) eps: 0.275010\n",
      "DR: 0.106475(50), 0.087705(all), AR: -0.028215(50), -0.015878(all) eps: 0.250010\n",
      "DR: 0.065661(50), 0.086995(all), AR: -0.027333(50), -0.016247(all) eps: 0.225010\n",
      "DR: 0.053817(50), 0.085959(all), AR: -0.036563(50), -0.016882(all) eps: 0.200010\n",
      "DR: 0.081103(50), 0.085812(all), AR: -0.029813(50), -0.017273(all) eps: 0.200000\n",
      "DR: 0.073759(50), 0.085457(all), AR: -0.042426(50), -0.018013(all) eps: 0.200000\n"
     ]
    },
    {
     "ename": "KeyboardInterrupt",
     "evalue": "",
     "output_type": "error",
     "traceback": [
      "\u001b[0;31m---------------------------------------------------------------------------\u001b[0m",
      "\u001b[0;31mKeyboardInterrupt\u001b[0m                         Traceback (most recent call last)",
      "\u001b[0;32m<ipython-input-7-19a967402774>\u001b[0m in \u001b[0;36m<module>\u001b[0;34m\u001b[0m\n\u001b[1;32m     26\u001b[0m             \u001b[0maction\u001b[0m \u001b[0;34m=\u001b[0m \u001b[0moffline_model\u001b[0m\u001b[0;34m(\u001b[0m\u001b[0mview\u001b[0m\u001b[0;34m,\u001b[0m \u001b[0mgrid_data\u001b[0m\u001b[0;34m,\u001b[0m \u001b[0mgrid_memory\u001b[0m\u001b[0;34m,\u001b[0m \u001b[0mbattery\u001b[0m\u001b[0;34m)\u001b[0m\u001b[0;34m\u001b[0m\u001b[0;34m\u001b[0m\u001b[0m\n\u001b[1;32m     27\u001b[0m             \u001b[0maction\u001b[0m \u001b[0;34m=\u001b[0m \u001b[0mint\u001b[0m\u001b[0;34m(\u001b[0m\u001b[0mnd\u001b[0m\u001b[0;34m.\u001b[0m\u001b[0margmax\u001b[0m\u001b[0;34m(\u001b[0m\u001b[0maction\u001b[0m\u001b[0;34m,\u001b[0m \u001b[0maxis\u001b[0m\u001b[0;34m=\u001b[0m\u001b[0;36m1\u001b[0m\u001b[0;34m)\u001b[0m\u001b[0;34m.\u001b[0m\u001b[0masnumpy\u001b[0m\u001b[0;34m(\u001b[0m\u001b[0;34m)\u001b[0m\u001b[0;34m[\u001b[0m\u001b[0;36m0\u001b[0m\u001b[0;34m]\u001b[0m\u001b[0;34m)\u001b[0m\u001b[0;34m\u001b[0m\u001b[0;34m\u001b[0m\u001b[0m\n\u001b[0;32m---> 28\u001b[0;31m         \u001b[0mold\u001b[0m\u001b[0;34m,\u001b[0m \u001b[0mnew\u001b[0m\u001b[0;34m,\u001b[0m \u001b[0mreward_get\u001b[0m\u001b[0;34m,\u001b[0m \u001b[0mfinish\u001b[0m \u001b[0;34m=\u001b[0m \u001b[0menv\u001b[0m\u001b[0;34m.\u001b[0m\u001b[0mstep\u001b[0m\u001b[0;34m(\u001b[0m\u001b[0maction\u001b[0m\u001b[0;34m)\u001b[0m\u001b[0;34m\u001b[0m\u001b[0;34m\u001b[0m\u001b[0m\n\u001b[0m\u001b[1;32m     29\u001b[0m         \u001b[0mmemory_pool\u001b[0m\u001b[0;34m.\u001b[0m\u001b[0madd\u001b[0m\u001b[0;34m(\u001b[0m\u001b[0mold\u001b[0m\u001b[0;34m,\u001b[0m \u001b[0mnew\u001b[0m\u001b[0;34m,\u001b[0m \u001b[0maction\u001b[0m\u001b[0;34m,\u001b[0m \u001b[0mreward_get\u001b[0m\u001b[0;34m,\u001b[0m \u001b[0mfinish\u001b[0m\u001b[0;34m)\u001b[0m\u001b[0;34m\u001b[0m\u001b[0;34m\u001b[0m\u001b[0m\n\u001b[1;32m     30\u001b[0m         \u001b[0;32mif\u001b[0m \u001b[0mfinish\u001b[0m \u001b[0;32mand\u001b[0m \u001b[0mepoch\u001b[0m \u001b[0;34m>\u001b[0m \u001b[0;36m50\u001b[0m\u001b[0;34m:\u001b[0m\u001b[0;34m\u001b[0m\u001b[0;34m\u001b[0m\u001b[0m\n",
      "\u001b[0;32m~/Drone/grid_based_model/environments/SimpleEnv.py\u001b[0m in \u001b[0;36mstep\u001b[0;34m(self, action)\u001b[0m\n\u001b[1;32m     41\u001b[0m         \u001b[0;31m# right = 2\u001b[0m\u001b[0;34m\u001b[0m\u001b[0;34m\u001b[0m\u001b[0;34m\u001b[0m\u001b[0m\n\u001b[1;32m     42\u001b[0m         \u001b[0mself\u001b[0m\u001b[0;34m.\u001b[0m\u001b[0mold\u001b[0m \u001b[0;34m=\u001b[0m \u001b[0mself\u001b[0m\u001b[0;34m.\u001b[0m\u001b[0mmap\u001b[0m\u001b[0;34m.\u001b[0m\u001b[0mstate\u001b[0m\u001b[0;34m(\u001b[0m\u001b[0;34m)\u001b[0m\u001b[0;34m\u001b[0m\u001b[0;34m\u001b[0m\u001b[0m\n\u001b[0;32m---> 43\u001b[0;31m         \u001b[0mself\u001b[0m\u001b[0;34m.\u001b[0m\u001b[0mnew\u001b[0m\u001b[0;34m,\u001b[0m \u001b[0mdone\u001b[0m \u001b[0;34m=\u001b[0m \u001b[0mself\u001b[0m\u001b[0;34m.\u001b[0m\u001b[0mmap\u001b[0m\u001b[0;34m.\u001b[0m\u001b[0mstep\u001b[0m\u001b[0;34m(\u001b[0m\u001b[0maction\u001b[0m\u001b[0;34m)\u001b[0m\u001b[0;34m\u001b[0m\u001b[0;34m\u001b[0m\u001b[0m\n\u001b[0m\u001b[1;32m     44\u001b[0m         \u001b[0mreward\u001b[0m \u001b[0;34m=\u001b[0m \u001b[0mself\u001b[0m\u001b[0;34m.\u001b[0m\u001b[0mshort_term_reward\u001b[0m\u001b[0;34m(\u001b[0m\u001b[0;34m)\u001b[0m\u001b[0;34m\u001b[0m\u001b[0;34m\u001b[0m\u001b[0m\n\u001b[1;32m     45\u001b[0m         \u001b[0;32mif\u001b[0m \u001b[0mself\u001b[0m\u001b[0;34m.\u001b[0m\u001b[0mdisplay\u001b[0m \u001b[0;32mis\u001b[0m \u001b[0;32mTrue\u001b[0m\u001b[0;34m:\u001b[0m\u001b[0;34m\u001b[0m\u001b[0;34m\u001b[0m\u001b[0m\n",
      "\u001b[0;32m~/Drone/grid_based_model/gym_minigrid/envs/search.py\u001b[0m in \u001b[0;36mstep\u001b[0;34m(self, action, battery_cost)\u001b[0m\n\u001b[1;32m     93\u001b[0m         \u001b[0;32mif\u001b[0m \u001b[0mself\u001b[0m\u001b[0;34m.\u001b[0m\u001b[0m_check_finish\u001b[0m\u001b[0;34m(\u001b[0m\u001b[0;34m)\u001b[0m\u001b[0;34m:\u001b[0m\u001b[0;34m\u001b[0m\u001b[0;34m\u001b[0m\u001b[0m\n\u001b[1;32m     94\u001b[0m             \u001b[0mdone\u001b[0m \u001b[0;34m=\u001b[0m \u001b[0;32mTrue\u001b[0m\u001b[0;34m\u001b[0m\u001b[0;34m\u001b[0m\u001b[0m\n\u001b[0;32m---> 95\u001b[0;31m         \u001b[0;32mreturn\u001b[0m \u001b[0mself\u001b[0m\u001b[0;34m.\u001b[0m\u001b[0mstate\u001b[0m\u001b[0;34m(\u001b[0m\u001b[0;34m)\u001b[0m\u001b[0;34m,\u001b[0m \u001b[0mdone\u001b[0m\u001b[0;34m\u001b[0m\u001b[0;34m\u001b[0m\u001b[0m\n\u001b[0m\u001b[1;32m     96\u001b[0m \u001b[0;34m\u001b[0m\u001b[0m\n\u001b[1;32m     97\u001b[0m     \u001b[0;32mdef\u001b[0m \u001b[0mcheck_history\u001b[0m\u001b[0;34m(\u001b[0m\u001b[0mself\u001b[0m\u001b[0;34m)\u001b[0m\u001b[0;34m:\u001b[0m\u001b[0;34m\u001b[0m\u001b[0;34m\u001b[0m\u001b[0m\n",
      "\u001b[0;32m~/Drone/grid_based_model/gym_minigrid/envs/search.py\u001b[0m in \u001b[0;36mstate\u001b[0;34m(self)\u001b[0m\n\u001b[1;32m     51\u001b[0m             \u001b[0;34m\"agent_view\"\u001b[0m\u001b[0;34m:\u001b[0m \u001b[0mself\u001b[0m\u001b[0;34m.\u001b[0m\u001b[0m_get_view\u001b[0m\u001b[0;34m(\u001b[0m\u001b[0;34m)\u001b[0m\u001b[0;34m,\u001b[0m\u001b[0;34m\u001b[0m\u001b[0;34m\u001b[0m\u001b[0m\n\u001b[1;32m     52\u001b[0m             \u001b[0;34m\"battery\"\u001b[0m\u001b[0;34m:\u001b[0m \u001b[0mself\u001b[0m\u001b[0;34m.\u001b[0m\u001b[0mbattery\u001b[0m \u001b[0;34m/\u001b[0m \u001b[0mself\u001b[0m\u001b[0;34m.\u001b[0m\u001b[0mfull_battery\u001b[0m\u001b[0;34m,\u001b[0m\u001b[0;34m\u001b[0m\u001b[0;34m\u001b[0m\u001b[0m\n\u001b[0;32m---> 53\u001b[0;31m             \u001b[0;34m\"reward\"\u001b[0m\u001b[0;34m:\u001b[0m \u001b[0mself\u001b[0m\u001b[0;34m.\u001b[0m\u001b[0m_reward\u001b[0m\u001b[0;34m(\u001b[0m\u001b[0;34m)\u001b[0m\u001b[0;34m,\u001b[0m\u001b[0;34m\u001b[0m\u001b[0;34m\u001b[0m\u001b[0m\n\u001b[0m\u001b[1;32m     54\u001b[0m             \u001b[0;34m\"history\"\u001b[0m\u001b[0;34m:\u001b[0m \u001b[0mself\u001b[0m\u001b[0;34m.\u001b[0m\u001b[0m_get_history\u001b[0m\u001b[0;34m(\u001b[0m\u001b[0;34m)\u001b[0m\u001b[0;34m,\u001b[0m\u001b[0;34m\u001b[0m\u001b[0;34m\u001b[0m\u001b[0m\n\u001b[1;32m     55\u001b[0m             \u001b[0;34m\"finish\"\u001b[0m\u001b[0;34m:\u001b[0m \u001b[0mfinish\u001b[0m\u001b[0;34m\u001b[0m\u001b[0;34m\u001b[0m\u001b[0m\n",
      "\u001b[0;32m~/Drone/grid_based_model/gym_minigrid/envs/simple2D.py\u001b[0m in \u001b[0;36m_reward\u001b[0;34m(self)\u001b[0m\n\u001b[1;32m     60\u001b[0m \u001b[0;34m\u001b[0m\u001b[0m\n\u001b[1;32m     61\u001b[0m     \u001b[0;32mdef\u001b[0m \u001b[0m_reward\u001b[0m\u001b[0;34m(\u001b[0m\u001b[0mself\u001b[0m\u001b[0;34m)\u001b[0m\u001b[0;34m:\u001b[0m\u001b[0;34m\u001b[0m\u001b[0;34m\u001b[0m\u001b[0m\n\u001b[0;32m---> 62\u001b[0;31m         \u001b[0;32mreturn\u001b[0m \u001b[0mself\u001b[0m\u001b[0;34m.\u001b[0m\u001b[0m_build_rewards\u001b[0m\u001b[0;34m(\u001b[0m\u001b[0;34m)\u001b[0m\u001b[0;34m[\u001b[0m\u001b[0mself\u001b[0m\u001b[0;34m.\u001b[0m\u001b[0magent_pos\u001b[0m\u001b[0;34m[\u001b[0m\u001b[0;36m0\u001b[0m\u001b[0;34m]\u001b[0m\u001b[0;34m]\u001b[0m\u001b[0;34m[\u001b[0m\u001b[0mself\u001b[0m\u001b[0;34m.\u001b[0m\u001b[0magent_pos\u001b[0m\u001b[0;34m[\u001b[0m\u001b[0;36m1\u001b[0m\u001b[0;34m]\u001b[0m\u001b[0;34m]\u001b[0m\u001b[0;34m\u001b[0m\u001b[0;34m\u001b[0m\u001b[0m\n\u001b[0m\u001b[1;32m     63\u001b[0m \u001b[0;34m\u001b[0m\u001b[0m\n\u001b[1;32m     64\u001b[0m     \u001b[0;32mdef\u001b[0m \u001b[0m_check_finish\u001b[0m\u001b[0;34m(\u001b[0m\u001b[0mself\u001b[0m\u001b[0;34m)\u001b[0m\u001b[0;34m:\u001b[0m\u001b[0;34m\u001b[0m\u001b[0;34m\u001b[0m\u001b[0m\n",
      "\u001b[0;32m~/Drone/grid_based_model/gym_minigrid/envs/simple2D.py\u001b[0m in \u001b[0;36m_build_rewards\u001b[0;34m(self)\u001b[0m\n\u001b[1;32m     87\u001b[0m         \u001b[0mrewards\u001b[0m \u001b[0;34m=\u001b[0m \u001b[0mnp\u001b[0m\u001b[0;34m.\u001b[0m\u001b[0marray\u001b[0m\u001b[0;34m(\u001b[0m\u001b[0mrewards\u001b[0m\u001b[0;34m)\u001b[0m\u001b[0;34m.\u001b[0m\u001b[0mreshape\u001b[0m\u001b[0;34m(\u001b[0m\u001b[0;36m20\u001b[0m\u001b[0;34m,\u001b[0m \u001b[0;36m20\u001b[0m\u001b[0;34m)\u001b[0m\u001b[0;34m.\u001b[0m\u001b[0mT\u001b[0m\u001b[0;34m\u001b[0m\u001b[0;34m\u001b[0m\u001b[0m\n\u001b[1;32m     88\u001b[0m         \u001b[0;32mfor\u001b[0m \u001b[0mi\u001b[0m \u001b[0;32min\u001b[0m \u001b[0mlist\u001b[0m\u001b[0;34m(\u001b[0m\u001b[0mitertools\u001b[0m\u001b[0;34m.\u001b[0m\u001b[0mproduct\u001b[0m\u001b[0;34m(\u001b[0m\u001b[0;34m*\u001b[0m\u001b[0;34m[\u001b[0m\u001b[0mlist\u001b[0m\u001b[0;34m(\u001b[0m\u001b[0mrange\u001b[0m\u001b[0;34m(\u001b[0m\u001b[0mself\u001b[0m\u001b[0;34m.\u001b[0m\u001b[0mwidth\u001b[0m\u001b[0;34m)\u001b[0m\u001b[0;34m)\u001b[0m\u001b[0;34m,\u001b[0m \u001b[0mlist\u001b[0m\u001b[0;34m(\u001b[0m\u001b[0mrange\u001b[0m\u001b[0;34m(\u001b[0m\u001b[0mself\u001b[0m\u001b[0;34m.\u001b[0m\u001b[0mheight\u001b[0m\u001b[0;34m)\u001b[0m\u001b[0;34m)\u001b[0m\u001b[0;34m]\u001b[0m\u001b[0;34m)\u001b[0m\u001b[0;34m)\u001b[0m\u001b[0;34m:\u001b[0m\u001b[0;34m\u001b[0m\u001b[0;34m\u001b[0m\u001b[0m\n\u001b[0;32m---> 89\u001b[0;31m             \u001b[0mrewards\u001b[0m\u001b[0;34m[\u001b[0m\u001b[0mi\u001b[0m\u001b[0;34m[\u001b[0m\u001b[0;36m0\u001b[0m\u001b[0;34m]\u001b[0m\u001b[0;34m]\u001b[0m\u001b[0;34m[\u001b[0m\u001b[0mi\u001b[0m\u001b[0;34m[\u001b[0m\u001b[0;36m1\u001b[0m\u001b[0;34m]\u001b[0m\u001b[0;34m]\u001b[0m \u001b[0;34m=\u001b[0m \u001b[0;34m-\u001b[0m \u001b[0mmin\u001b[0m\u001b[0;34m(\u001b[0m\u001b[0;34m[\u001b[0m\u001b[0mabs\u001b[0m\u001b[0;34m(\u001b[0m\u001b[0mj\u001b[0m\u001b[0;34m[\u001b[0m\u001b[0;36m0\u001b[0m\u001b[0;34m]\u001b[0m \u001b[0;34m-\u001b[0m \u001b[0mi\u001b[0m\u001b[0;34m[\u001b[0m\u001b[0;36m0\u001b[0m\u001b[0;34m]\u001b[0m\u001b[0;34m)\u001b[0m \u001b[0;34m+\u001b[0m \u001b[0mabs\u001b[0m\u001b[0;34m(\u001b[0m\u001b[0mj\u001b[0m\u001b[0;34m[\u001b[0m\u001b[0;36m1\u001b[0m\u001b[0;34m]\u001b[0m \u001b[0;34m-\u001b[0m \u001b[0mi\u001b[0m\u001b[0;34m[\u001b[0m\u001b[0;36m1\u001b[0m\u001b[0;34m]\u001b[0m\u001b[0;34m)\u001b[0m \u001b[0;32mfor\u001b[0m \u001b[0mj\u001b[0m \u001b[0;32min\u001b[0m \u001b[0mroads\u001b[0m\u001b[0;34m]\u001b[0m\u001b[0;34m)\u001b[0m \u001b[0;34m+\u001b[0m \u001b[0mrewards\u001b[0m\u001b[0;34m[\u001b[0m\u001b[0mi\u001b[0m\u001b[0;34m[\u001b[0m\u001b[0;36m0\u001b[0m\u001b[0;34m]\u001b[0m\u001b[0;34m]\u001b[0m\u001b[0;34m[\u001b[0m\u001b[0mi\u001b[0m\u001b[0;34m[\u001b[0m\u001b[0;36m1\u001b[0m\u001b[0;34m]\u001b[0m\u001b[0;34m]\u001b[0m\u001b[0;34m\u001b[0m\u001b[0;34m\u001b[0m\u001b[0m\n\u001b[0m\u001b[1;32m     90\u001b[0m         \u001b[0;32mfor\u001b[0m \u001b[0mi\u001b[0m \u001b[0;32min\u001b[0m \u001b[0mroads\u001b[0m\u001b[0;34m:\u001b[0m\u001b[0;34m\u001b[0m\u001b[0;34m\u001b[0m\u001b[0m\n\u001b[1;32m     91\u001b[0m             \u001b[0mrewards\u001b[0m\u001b[0;34m[\u001b[0m\u001b[0mi\u001b[0m\u001b[0;34m[\u001b[0m\u001b[0;36m0\u001b[0m\u001b[0;34m]\u001b[0m\u001b[0;34m]\u001b[0m\u001b[0;34m[\u001b[0m\u001b[0mi\u001b[0m\u001b[0;34m[\u001b[0m\u001b[0;36m1\u001b[0m\u001b[0;34m]\u001b[0m\u001b[0;34m]\u001b[0m \u001b[0;34m=\u001b[0m \u001b[0;36m0\u001b[0m\u001b[0;34m\u001b[0m\u001b[0;34m\u001b[0m\u001b[0m\n",
      "\u001b[0;31mKeyboardInterrupt\u001b[0m: "
     ]
    }
   ],
   "source": [
    "for epoch in range(num_episode):\n",
    "    env.reset_env()\n",
    "    finish = 0\n",
    "    cum_clipped_dr = 0\n",
    "    if epoch == 51:\n",
    "        print(\"Model Structure: \")\n",
    "        print(offline_model)\n",
    "    if sum(env.step_count) > replay_start and _print:\n",
    "        print('annealing and learning are started')\n",
    "        print(env.sr)\n",
    "        print(env.lr)\n",
    "        _print = False\n",
    "    while not finish:\n",
    "        _all += 1\n",
    "        if sum(env.step_count) > replay_start:\n",
    "            annealing += 1\n",
    "        eps = np.maximum(1 - sum(env.step_count) / annealing_end, epsilon_min)\n",
    "        if np.random.random() < eps:\n",
    "            by = \"Random\"\n",
    "            action = np.random.randint(0, action_max)\n",
    "        else:\n",
    "            by = \"Model\"\n",
    "            data = create_input([translate_state(env.map.state())])\n",
    "            data = [nd.array(i, ctx=ctx) for i in data]\n",
    "            view, grid_data, grid_memory, battery = data\n",
    "            action = offline_model(view, grid_data, grid_memory, battery)\n",
    "            action = int(nd.argmax(action, axis=1).asnumpy()[0])\n",
    "        old, new, reward_get, finish = env.step(action)\n",
    "        memory_pool.add(old, new, action, reward_get, finish)\n",
    "        if finish and epoch > 50:\n",
    "            cum_clipped_dr += sum(env.detect_rate[-1]) / 2\n",
    "            dr_50 = float(np.mean(env.detect_rate[-50:]))\n",
    "            dr_all = float(np.mean(env.detect_rate))\n",
    "            ar_50 = float(np.mean(env.rewards[-50:]))\n",
    "            ar_all = float(np.mean(env.rewards))\n",
    "            if epoch % 50 == 0 and _print == False:\n",
    "                text = \"DR: %f(50), %f(all), AR: %f(50), %f(all) eps: %f\" % (dr_50, dr_all, ar_50, ar_all, eps)\n",
    "                print(text)\n",
    "                with open(summary, \"a\") as f:\n",
    "                    f.writelines(text + \"\\n\")\n",
    "            # save model and replace online model each update_step\n",
    "            if annealing > replay_start and annealing % update_step == 0:\n",
    "                offline_model.save_parameters(temporary_model)\n",
    "                online_model.load_parameters(temporary_model, ctx)\n",
    "                if _best < dr_all:\n",
    "                    _best = dr_all\n",
    "                    offline_model.save_parameters(temporary_model+ \".best\")\n",
    "    #  train every 4 epoch\n",
    "    if annealing > replay_start and epoch % 4 == 0:\n",
    "        _update += 1\n",
    "        # Sample random mini batch of transitions\n",
    "        if len(memory_pool.memory) > batch_size:\n",
    "            bz = batch_size\n",
    "        else:\n",
    "            bz = len(memory_pool.memory)\n",
    "        for_train = memory_pool.next_batch(bz)\n",
    "        with autograd.record(train_mode=True):\n",
    "            _state =[nd.array(i, ctx=ctx) for i in for_train[\"state\"]]\n",
    "            _state_next = [nd.array(i, ctx=ctx) for i in for_train[\"state_next\"]]\n",
    "            _finish = nd.array(for_train[\"finish\"], ctx=ctx)\n",
    "            _action = nd.array(for_train[\"action\"], ctx=ctx)\n",
    "            _reward = nd.array(for_train[\"reward\"], ctx=ctx)\n",
    "            _q_sp = nd.max(online_model(*_state_next), axis=1)\n",
    "            _q_sp = _q_sp * (nd.ones(bz, ctx=ctx) - _finish)\n",
    "            _q_s_array = offline_model(*_state)\n",
    "            _q_s = nd.pick(_q_s_array, _action, 1)\n",
    "            loss = nd.mean(loss_func(_q_s, (_reward + gamma * _q_sp)))\n",
    "        loss.backward()\n",
    "        trainer.step(bz)\n",
    "    total_reward[int(epoch) - 1] = cum_clipped_dr"
   ]
  },
  {
   "cell_type": "code",
   "execution_count": null,
   "id": "d1048631",
   "metadata": {},
   "outputs": [],
   "source": [
    "data = create_input([translate_state(env.map.state())])\n",
    "data = [nd.array(i, ctx=ctx) for i in data]\n",
    "view, grid_data, grid_memory, battery = data"
   ]
  },
  {
   "cell_type": "code",
   "execution_count": null,
   "id": "62106656",
   "metadata": {},
   "outputs": [],
   "source": [
    "battery = nd.expand_dims(battery, axis=1)\n",
    "view = offline_model.view(view)\n",
    "grid_data = offline_model.map(grid_data)\n",
    "grid_memory = offline_model.memory(grid_memory)\n",
    "embedding = nd.concat(view, grid_data, grid_memory)\n",
    "embedding = offline_model.embedding(embedding)"
   ]
  },
  {
   "cell_type": "code",
   "execution_count": null,
   "id": "e876b75b",
   "metadata": {},
   "outputs": [],
   "source": [
    "embedding = nd.concat(embedding.flatten(), battery)"
   ]
  },
  {
   "cell_type": "code",
   "execution_count": null,
   "id": "05a41d14",
   "metadata": {},
   "outputs": [],
   "source": [
    "offline_model.out(embedding)"
   ]
  },
  {
   "cell_type": "code",
   "execution_count": null,
   "id": "5fcb54e3",
   "metadata": {},
   "outputs": [],
   "source": [
    "_ = env.map.grid.copy()\n",
    "agent_obs = env.map.get_agent_obs_locations()\n",
    "_.grid = [None if i is not None and i.type == \"box\" and i.cur_pos not in agent_obs else i for i in _.grid]\n",
    "Image.fromarray(_.render(10, env.map.agent_pos, env.map.agent_dir), \"RGB\")"
   ]
  },
  {
   "cell_type": "code",
   "execution_count": null,
   "id": "b0165226",
   "metadata": {},
   "outputs": [],
   "source": [
    "allow = [\"wall\", \"key\", \"ball\", \"box\", \">\", \"<\", \"^\", \"V\"]\n",
    "allow = {k: v + 1 for v, k in enumerate(allow)}\n",
    "agent_obs = env.map.get_agent_obs_locations()\n",
    "_ = env.map.grid.copy()"
   ]
  },
  {
   "cell_type": "code",
   "execution_count": null,
   "id": "44b4c996",
   "metadata": {},
   "outputs": [],
   "source": [
    "import seaborn"
   ]
  },
  {
   "cell_type": "code",
   "execution_count": null,
   "id": "86ad9f04",
   "metadata": {},
   "outputs": [],
   "source": [
    "y = []\n",
    "for i in tqdm.tqdm(range(1, len(env.detect_rate))):\n",
    "    y.append(np.mean(env.detect_rate[:i]))\n",
    "seaborn.lineplot(x=range(len(y)), y=y)"
   ]
  },
  {
   "cell_type": "code",
   "execution_count": null,
   "id": "56925e45",
   "metadata": {},
   "outputs": [],
   "source": [
    "y = []\n",
    "for i in tqdm.tqdm(range(1, len(env.rewards))):\n",
    "    y.append(np.mean(env.rewards[:i]))\n",
    "seaborn.lineplot(x=range(len(y)), y=y)"
   ]
  },
  {
   "cell_type": "code",
   "execution_count": null,
   "id": "6b9a6baf",
   "metadata": {},
   "outputs": [],
   "source": []
  }
 ],
 "metadata": {
  "kernelspec": {
   "display_name": "Python 3",
   "language": "python",
   "name": "python3"
  },
  "language_info": {
   "codemirror_mode": {
    "name": "ipython",
    "version": 3
   },
   "file_extension": ".py",
   "mimetype": "text/x-python",
   "name": "python",
   "nbconvert_exporter": "python",
   "pygments_lexer": "ipython3",
   "version": "3.8.8"
  }
 },
 "nbformat": 4,
 "nbformat_minor": 5
}
