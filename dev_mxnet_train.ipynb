{
 "cells": [
  {
   "cell_type": "code",
   "execution_count": 1,
   "id": "c0652365",
   "metadata": {},
   "outputs": [],
   "source": [
    "import os\n",
    "import numpy as np\n",
    "import mxnet as mx\n",
    "import tqdm\n",
    "from utils import check_dir\n",
    "from memory import Memory\n",
    "from utils import create_input, translate_state\n",
    "from evaluation_mxnet import evaluate\n",
    "from mxnet import gluon, nd, autograd\n",
    "from environments.SimpleEnv import SimpleEnv"
   ]
  },
  {
   "cell_type": "code",
   "execution_count": 2,
   "id": "4436599b",
   "metadata": {
    "pycharm": {
     "name": "#%%\n"
    }
   },
   "outputs": [],
   "source": [
    "# training cases\n",
    "order = \"model_test\"\n",
    "# batch size\n",
    "batch_size = 1024\n",
    "# agent view\n",
    "agent_view = 5\n",
    "map_size = 20\n",
    "# action max\n",
    "action_max = 3\n",
    "# learning rate\n",
    "model_save = \"./model_save/\"\n",
    "lr = 0.001\n",
    "num_episode = 1000000\n",
    "# start play\n",
    "replay_start = 10000\n",
    "# update step\n",
    "update_step = 1000\n",
    "# gamma in q-loss calculation\n",
    "gamma = 0.99\n",
    "# memory pool size\n",
    "memory_length = 100000\n",
    "# file to save train log\n",
    "summary = \"./{}_Reward.csv\".format(order)\n",
    "eval_statistics = \"./{}_CSV.csv\".format(order)\n",
    "# the number of step it take to linearly anneal the epsilon to it min value\n",
    "annealing_end = 200000\n",
    "# min level of stochastically of policy (epsilon)-greedy\n",
    "epsilon_min = 0.2\n",
    "# temporary files\n",
    "temporary_model = \"./{}/{}.params\".format(model_save, order)\n",
    "temporary_pool = \"./{}/{}.pool\".format(model_save, order)"
   ]
  },
  {
   "cell_type": "code",
   "execution_count": 3,
   "id": "474a434e",
   "metadata": {},
   "outputs": [],
   "source": [
    "if os.path.exists(summary):\n",
    "    os.remove(summary)\n",
    "ctx = mx.gpu()\n",
    "for i in [\"model_save\", \"data_save\"]:\n",
    "    check_dir(i)"
   ]
  },
  {
   "cell_type": "code",
   "execution_count": 4,
   "id": "dd448d9e",
   "metadata": {},
   "outputs": [],
   "source": [
    "# build models\n",
    "from model.simple_stack import SimpleStack\n",
    "online_model = SimpleStack()\n",
    "offline_model = SimpleStack()\n",
    "online_model.collect_params().initialize(mx.init.MSRAPrelu(), ctx=ctx)\n",
    "offline_model.collect_params().initialize(mx.init.MSRAPrelu(), ctx=ctx)\n",
    "offline_model.collect_params().zero_grad()"
   ]
  },
  {
   "cell_type": "code",
   "execution_count": 5,
   "id": "8d75af3a",
   "metadata": {},
   "outputs": [],
   "source": [
    "# create env\n",
    "env = SimpleEnv(display=False, agent_view=agent_view, map_size=map_size)\n",
    "memory_pool = Memory(memory_length)\n",
    "annealing = 0\n",
    "total_reward = np.zeros(num_episode)\n",
    "loss_func = gluon.loss.L2Loss()\n",
    "trainer = gluon.Trainer(offline_model.collect_params(), 'adam', {'learning_rate': lr})"
   ]
  },
  {
   "cell_type": "code",
   "execution_count": null,
   "id": "09e9205f",
   "metadata": {
    "scrolled": false
   },
   "outputs": [
    {
     "name": "stdout",
     "output_type": "stream",
     "text": [
      "Model Structure: \n",
      "SimpleStack(\n",
      "  (view): ViewBlock(\n",
      "    (0): Conv2D(2 -> 64, kernel_size=(1, 1), stride=(1, 1), bias=False)\n",
      "    (1): Conv2D(64 -> 128, kernel_size=(2, 2), stride=(1, 1), bias=False)\n",
      "    (2): Conv2D(128 -> 128, kernel_size=(2, 2), stride=(1, 1), bias=False)\n",
      "  )\n",
      "  (map): MapBlock(\n",
      "    (0): Conv2D(1 -> 64, kernel_size=(1, 1), stride=(1, 1), bias=False)\n",
      "    (1): AvgPool2D(size=(2, 2), stride=(2, 2), padding=(0, 0), ceil_mode=False, global_pool=False, pool_type=avg, layout=NCHW)\n",
      "    (2): Conv2D(64 -> 64, kernel_size=(2, 2), stride=(1, 1), bias=False)\n",
      "    (3): Conv2D(64 -> 128, kernel_size=(2, 2), stride=(1, 1), bias=False)\n",
      "    (4): Conv2D(128 -> 128, kernel_size=(2, 2), stride=(1, 1), bias=False)\n",
      "  )\n",
      "  (memory): MemoryBlock(\n",
      "    (0): Conv2D(1 -> 64, kernel_size=(1, 1), stride=(1, 1), bias=False)\n",
      "    (1): AvgPool2D(size=(2, 2), stride=(2, 2), padding=(0, 0), ceil_mode=False, global_pool=False, pool_type=avg, layout=NCHW)\n",
      "    (2): Conv2D(64 -> 64, kernel_size=(2, 2), stride=(1, 1), bias=False)\n",
      "    (3): Conv2D(64 -> 128, kernel_size=(2, 2), stride=(1, 1), bias=False)\n",
      "    (4): Conv2D(128 -> 128, kernel_size=(2, 2), stride=(1, 1), bias=False)\n",
      "  )\n",
      "  (decision_making): Sequential(\n",
      "    (0): Dense(13697 -> 64, linear)\n",
      "    (1): Dense(64 -> 3, linear)\n",
      "    (2): LeakyReLU(0.1)\n",
      "  )\n",
      ")\n",
      "DR: 0.069581(50), 0.066017(all), AR: -0.073122(50), -0.073190(all) eps: 0.950000\n",
      "annealing and learning are started\n",
      "DR: 0.056198(50), 0.062766(all), AR: -0.073586(50), -0.073321(all) eps: 0.925000\n",
      "DR: 0.071843(50), 0.065024(all), AR: -0.070268(50), -0.072562(all) eps: 0.900000\n",
      "DR: 0.061443(50), 0.064311(all), AR: -0.068226(50), -0.071698(all) eps: 0.875000\n",
      "DR: 0.071899(50), 0.065571(all), AR: -0.069453(50), -0.071325(all) eps: 0.850000\n",
      "DR: 0.069863(50), 0.066182(all), AR: -0.071771(50), -0.071389(all) eps: 0.825000\n",
      "DR: 0.068470(50), 0.066468(all), AR: -0.077407(50), -0.072139(all) eps: 0.800000\n",
      "DR: 0.072728(50), 0.067162(all), AR: -0.072365(50), -0.072164(all) eps: 0.775000\n",
      "DR: 0.086651(50), 0.069107(all), AR: -0.070325(50), -0.071981(all) eps: 0.750000\n",
      "DR: 0.097086(50), 0.071646(all), AR: -0.068633(50), -0.071677(all) eps: 0.725000\n",
      "DR: 0.142027(50), 0.077501(all), AR: -0.062014(50), -0.070873(all) eps: 0.700000\n",
      "DR: 0.157940(50), 0.083679(all), AR: -0.052385(50), -0.069453(all) eps: 0.675000\n",
      "DR: 0.174605(50), 0.090165(all), AR: -0.061358(50), -0.068876(all) eps: 0.650000\n",
      "DR: 0.212660(50), 0.098320(all), AR: -0.061873(50), -0.068409(all) eps: 0.625000\n",
      "DR: 0.184400(50), 0.103693(all), AR: -0.059400(50), -0.067847(all) eps: 0.600000\n",
      "DR: 0.213619(50), 0.110152(all), AR: -0.060515(50), -0.067416(all) eps: 0.575060\n",
      "DR: 0.232698(50), 0.116953(all), AR: -0.064753(50), -0.067268(all) eps: 0.550085\n",
      "DR: 0.268116(50), 0.124900(all), AR: -0.051356(50), -0.066432(all) eps: 0.525580\n",
      "DR: 0.242127(50), 0.130756(all), AR: -0.066267(50), -0.066424(all) eps: 0.500580\n",
      "DR: 0.311799(50), 0.139369(all), AR: -0.053398(50), -0.065804(all) eps: 0.475580\n"
     ]
    }
   ],
   "source": [
    "_print = True\n",
    "best = 0\n",
    "_all = 0\n",
    "_update = 0\n",
    "for epoch in range(num_episode):\n",
    "    env.reset_env()\n",
    "    finish = 0\n",
    "    cum_clipped_dr = 0\n",
    "    if epoch == 51:\n",
    "        print(\"Model Structure: \")\n",
    "        print(offline_model)\n",
    "    if sum(env.step_count) > replay_start and _print:\n",
    "        print('annealing and learning are started')\n",
    "        _print = False\n",
    "    while not finish:\n",
    "        _all += 1\n",
    "        if sum(env.step_count) > replay_start:\n",
    "            annealing += 1\n",
    "        eps = np.maximum(1 - sum(env.step_count) / annealing_end, epsilon_min)\n",
    "        if np.random.random() < eps:\n",
    "            by = \"Random\"\n",
    "            action = np.random.randint(0, action_max)\n",
    "        else:\n",
    "            by = \"Model\"\n",
    "            data = create_input([translate_state(env.map.state())])\n",
    "            data = [nd.array(i, ctx=ctx) for i in data]\n",
    "            action = offline_model(data)\n",
    "            action = int(nd.argmax(action, axis=1).asnumpy()[0])\n",
    "        old, new, reward_get, finish = env.step(action)\n",
    "        memory_pool.add(old, new, action, reward_get, finish)\n",
    "        if finish and epoch > 50:\n",
    "            cum_clipped_dr += sum(env.detect_rate[-1]) / 2\n",
    "            dr_50 = float(np.mean(env.detect_rate[-50:]))\n",
    "            dr_all = float(np.mean(env.detect_rate))\n",
    "            ar_50 = float(np.mean(env.rewards[-50:]))\n",
    "            ar_all = float(np.mean(env.rewards))\n",
    "            if epoch % 50 == 0:\n",
    "                text = \"DR: %f(50), %f(all), AR: %f(50), %f(all) eps: %f\" % (dr_50, dr_all, ar_50, ar_all, eps)\n",
    "                print(text)\n",
    "                with open(summary, \"a\") as f:\n",
    "                    f.writelines(text + \"\\n\")\n",
    "            # save model and replace online model each update_step\n",
    "            if annealing > replay_start and annealing % update_step == 0:\n",
    "                offline_model.save_parameters(temporary_model)\n",
    "                online_model.load_parameters(temporary_model, ctx)\n",
    "                if best < dr_all:\n",
    "                    best = dr_all\n",
    "                    offline_model.save_parameters(temporary_model+ \".best\")\n",
    "    #  train every 2 epoch\n",
    "    if annealing > replay_start and epoch % 2 == 0:\n",
    "        _update += 1\n",
    "        # Sample random mini batch of transitions\n",
    "        if len(memory_pool.memory) > batch_size:\n",
    "            bz = batch_size\n",
    "        else:\n",
    "            bz = len(memory_pool.memory)\n",
    "        for_train = memory_pool.next_batch(bz)\n",
    "        with autograd.record(train_mode=True):\n",
    "            _state =[nd.array(i, ctx=ctx) for i in for_train[\"state\"]]\n",
    "            _state_next = [nd.array(i, ctx=ctx) for i in for_train[\"state_next\"]]\n",
    "            _finish = nd.array(for_train[\"finish\"], ctx=ctx)\n",
    "            _action = nd.array(for_train[\"action\"], ctx=ctx)\n",
    "            _reward = nd.array(for_train[\"reward\"], ctx=ctx)\n",
    "            q_sp = nd.max(online_model(_state_next), axis=1)\n",
    "            q_sp = q_sp * (nd.ones(bz, ctx=ctx) - _finish)\n",
    "            q_s_array = offline_model(_state)\n",
    "            q_s = nd.pick(q_s_array, _action, 1)\n",
    "            loss = nd.mean(loss_func(q_s, (_reward + gamma * q_sp)))\n",
    "        loss.backward()\n",
    "        trainer.step(bz)\n",
    "    total_reward[int(epoch) - 1] = cum_clipped_dr"
   ]
  },
  {
   "cell_type": "code",
   "execution_count": null,
   "id": "44b4c996",
   "metadata": {},
   "outputs": [],
   "source": [
    "import seaborn\n",
    "import pickle\n",
    "import multiprocessing"
   ]
  },
  {
   "cell_type": "code",
   "execution_count": null,
   "id": "a7452c0e",
   "metadata": {},
   "outputs": [],
   "source": [
    "def _cal_rewards(rewards_list):\n",
    "    return  np.mean([np.mean(j) for j in rewards_list])"
   ]
  },
  {
   "cell_type": "code",
   "execution_count": null,
   "id": "97528bf1",
   "metadata": {},
   "outputs": [],
   "source": [
    "chunks = [env.rewards[:i] for i in range(1, len(env.rewards))]"
   ]
  },
  {
   "cell_type": "code",
   "execution_count": null,
   "id": "eb709b15",
   "metadata": {},
   "outputs": [],
   "source": [
    "with open(\"./model_test.result\", \"wb\") as f:\n",
    "    pickle.dump(chunks, f)"
   ]
  },
  {
   "cell_type": "code",
   "execution_count": null,
   "id": "a253bf5c",
   "metadata": {},
   "outputs": [],
   "source": [
    "with multiprocessing.Pool(processes=2) as pool:\n",
    "    y = pool.starmap(_cal_rewards, chunks)"
   ]
  },
  {
   "cell_type": "code",
   "execution_count": null,
   "id": "3ea793f1",
   "metadata": {},
   "outputs": [],
   "source": [
    "seaborn.lineplot(x=range(len(y)), y=y)"
   ]
  },
  {
   "cell_type": "code",
   "execution_count": null,
   "id": "0df55f05",
   "metadata": {},
   "outputs": [],
   "source": []
  }
 ],
 "metadata": {
  "kernelspec": {
   "display_name": "Python 3",
   "language": "python",
   "name": "python3"
  },
  "language_info": {
   "codemirror_mode": {
    "name": "ipython",
    "version": 3
   },
   "file_extension": ".py",
   "mimetype": "text/x-python",
   "name": "python",
   "nbconvert_exporter": "python",
   "pygments_lexer": "ipython3",
   "version": "3.8.8"
  }
 },
 "nbformat": 4,
 "nbformat_minor": 5
}
