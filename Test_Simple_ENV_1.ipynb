{
 "cells": [
  {
   "cell_type": "code",
   "execution_count": 1,
   "metadata": {},
   "outputs": [
    {
     "name": "stderr",
     "output_type": "stream",
     "text": [
      "/home/seventheli/anaconda3/lib/python3.8/site-packages/gluoncv/__init__.py:40: UserWarning: Both `mxnet==1.8.0` and `torch==1.10.1+cu113` are installed. You might encounter increased GPU memory footprint if both framework are used at the same time.\n",
      "  warnings.warn(f'Both `mxnet=={mx.__version__}` and `torch=={torch.__version__}` are installed. '\n"
     ]
    }
   ],
   "source": [
    "import mxnet as mx\n",
    "import random\n",
    "import numpy as np\n",
    "import gym\n",
    "import time\n",
    "import logging\n",
    "import matplotlib.pyplot as plt\n",
    "from memory import Memory\n",
    "from mxnet import nd, autograd\n",
    "from IPython import display\n",
    "from collections import namedtuple\n",
    "from model.simple_stack import SimpleStack"
   ]
  },
  {
   "cell_type": "markdown",
   "metadata": {},
   "source": [
    "#### Update Network\n",
    "* Draw batches of tuples from the replay buffer: $(\\phi,r,a,\\phi')$.\n",
    "* Define the following loss\n",
    "$$\\Large(\\small Q(\\phi,a,\\theta)-r-Q(\\phi',argmax_{a'}Q(\\phi',a',\\theta),\\theta^-)\\Large)^2$$\n",
    "* Where $\\theta^-$ is the parameter of the target network.( Set $Q(\\phi',a',\\theta^-)$ to zero if $\\phi$ is the preprocessed termination state). \n",
    "* Update the $\\theta$\n",
    "* Update the $\\theta^-$ once in a while"
   ]
  },
  {
   "cell_type": "code",
   "execution_count": 2,
   "metadata": {},
   "outputs": [],
   "source": [
    "#Articheture\n",
    "batch_size = 512\n",
    "image_size = 84\n",
    "#Trickes\n",
    "# The size of replay buffer; set it to size of your memory (.5M for 50G available memory)\n",
    "replay_buffer_size = 50000\n",
    "# With Freq of 1/4 step update the Q-network\n",
    "learning_frequency = 4\n",
    "# Skip N-1 raw frames between steps\n",
    "skip_frame = 1\n",
    " # Skip N-1 raw frames between skipped frames\n",
    "internal_skip_frame = 1\n",
    "# Each state is formed as a concatination N step frames [f(t-4),f(t-3),f(t-2),f(t)]\n",
    "frame_len = 4\n",
    "# Update the target network each 10000 steps\n",
    "Target_update = 10000\n",
    "# Minimum level of stochasticity of policy (epsilon)-greedy\n",
    "epsilon_min = 0.1\n",
    "# The number of step it take to linearly anneal the epsilon to it min value\n",
    "annealing_end = 100000.\n",
    "# The discount factor\n",
    "gamma = 0.99\n",
    "# Start to backpropagated through the network, learning starts\n",
    "replay_start_size = 50000\n",
    "# Run uniform policy for first 5 times step of the beginning of the game\n",
    "no_op_max = 5 / skip_frame\n",
    "#otimization\n",
    "num_episode = 10000000  # Number episode to run the algorithm\n",
    "max_frame = 200000000\n",
    "# RMSprop learning rate\n",
    "lr = 0.00025\n",
    "# RMSprop gamma1\n",
    "gamma1 = 0.95  \n",
    "# RMSprop gamma2\n",
    "gamma2 = 0.95\n",
    "rms_eps = 0.01\n",
    "# Enables gpu if available, if not, set it to mx.cpu()\n",
    "ctx = mx.gpu()  "
   ]
  },
  {
   "cell_type": "code",
   "execution_count": 3,
   "metadata": {},
   "outputs": [],
   "source": [
    "from gym_minigrid.envs.simple2Dv1 import Simple2Dv1"
   ]
  },
  {
   "cell_type": "code",
   "execution_count": 4,
   "metadata": {},
   "outputs": [],
   "source": [
    "map_size= 20\n",
    "agent_view = 5\n",
    "roads = 1\n",
    "max_step=50"
   ]
  },
  {
   "cell_type": "code",
   "execution_count": 5,
   "metadata": {},
   "outputs": [],
   "source": [
    "env_name = \"single_blue\"  # Set the desired environment\n",
    "env = Simple2Dv1(map_size, map_size, agent_view=agent_view, roads=roads, max_step=max_step)\n",
    "# env_name = \"AssaultNoFrameskip-v4\"  # Set the desired environment\n",
    "# env = gym.make(env_name)\n",
    "num_action = env.action_space.n  # Extract the number of available action from the environment setting\n",
    "manualSeed = 1  # random.randint(1, 10000) # Set the desired seed to reproduce the results\n",
    "mx.random.seed(manualSeed)\n",
    "loss_f = mx.gluon.loss.L2Loss(batch_axis=0)"
   ]
  },
  {
   "cell_type": "code",
   "execution_count": 6,
   "metadata": {},
   "outputs": [],
   "source": [
    "offline_model = SimpleStack(env.action_space.n)\n",
    "offline_model.collect_params().initialize(mx.init.Normal(0.02), ctx=ctx)"
   ]
  },
  {
   "cell_type": "code",
   "execution_count": 7,
   "metadata": {},
   "outputs": [],
   "source": [
    "online_model = SimpleStack(env.action_space.n)\n",
    "online_model.collect_params().initialize(mx.init.Normal(0.02), ctx=ctx)"
   ]
  },
  {
   "cell_type": "code",
   "execution_count": 8,
   "metadata": {},
   "outputs": [],
   "source": [
    "trainer = mx.gluon.Trainer(offline_model.collect_params(), 'RMSProp',\n",
    "                           {'learning_rate': lr, 'gamma1': gamma1, 'gamma2': gamma2, 'epsilon': rms_eps, 'centered': True})"
   ]
  },
  {
   "cell_type": "code",
   "execution_count": 9,
   "metadata": {},
   "outputs": [],
   "source": [
    "def preprocess(raw_frame, current_state=None, initial_state=False):\n",
    "    raw_frame = nd.array(raw_frame, mx.cpu())\n",
    "    raw_frame = nd.reshape(nd.mean(raw_frame, axis=2), shape=(raw_frame.shape[0], raw_frame.shape[1], 1))\n",
    "    raw_frame = mx.image.imresize(raw_frame, image_size, image_size)\n",
    "    raw_frame = nd.transpose(raw_frame, (2, 0, 1))\n",
    "    raw_frame = raw_frame.astype(np.float32) / 255.\n",
    "    if initial_state:\n",
    "        state = raw_frame\n",
    "        for _ in range(frame_len - 1):\n",
    "            state = nd.concat(state, raw_frame, dim=0)\n",
    "    else:\n",
    "        state = mx.nd.concat(current_state[1:, :, :], raw_frame, dim=0)\n",
    "    return state\n",
    "\n",
    "\n",
    "def rew_clipper(rew):\n",
    "    if rew > 0.:\n",
    "        return 1.\n",
    "    elif rew < 0.:\n",
    "        return -1.\n",
    "    else:\n",
    "        return 0\n",
    "\n",
    "\n",
    "def renderimage(next_frame):\n",
    "    if render_image:\n",
    "        plt.imshow(next_frame)\n",
    "        plt.show()\n",
    "        display.clear_output(wait=True)\n",
    "        time.sleep(.1)"
   ]
  },
  {
   "cell_type": "markdown",
   "metadata": {},
   "source": [
    "### Initialize arrays"
   ]
  },
  {
   "cell_type": "code",
   "execution_count": 10,
   "metadata": {},
   "outputs": [],
   "source": [
    "frame_counter = 0.  # Counts the number of steps so far\n",
    "annealing_count = 0.  # Counts the number of annealing steps\n",
    "epis_count = 0.  # Counts the number episodes so far\n",
    "replay_memory = Memory(replay_buffer_size)  # Initialize the replay buffer\n",
    "tot_clipped_reward = []\n",
    "tot_reward = []\n",
    "frame_count_record = []\n",
    "average_clipped = 0.\n",
    "average = 0."
   ]
  },
  {
   "cell_type": "code",
   "execution_count": 12,
   "metadata": {},
   "outputs": [],
   "source": [
    "render_image = False  # Whether to render Frames and show the game"
   ]
  },
  {
   "cell_type": "markdown",
   "metadata": {},
   "source": [
    "### Train the model"
   ]
  },
  {
   "cell_type": "code",
   "execution_count": null,
   "metadata": {
    "scrolled": false
   },
   "outputs": [
    {
     "name": "stdout",
     "output_type": "stream",
     "text": [
      "epis[0],eps[1.000000],durat[50],fnum=50, cum_cl_rew = -30.000000, cum_rew = -0.109000,tot_cl = 0.000000 , tot = 0.000000\n",
      "epis[100],eps[1.000000],durat[50],fnum=5050, cum_cl_rew = -36.000000, cum_rew = -0.106000,tot_cl = 0.000000 , tot = 0.000000\n",
      "epis[200],eps[1.000000],durat[50],fnum=10050, cum_cl_rew = -39.000000, cum_rew = -0.254824,tot_cl = -34.360000 , tot = -0.089553\n",
      "epis[300],eps[1.000000],durat[50],fnum=15050, cum_cl_rew = -32.000000, cum_rew = -0.280000,tot_cl = -34.050000 , tot = -0.088516\n",
      "epis[400],eps[1.000000],durat[50],fnum=20050, cum_cl_rew = -37.000000, cum_rew = 0.024846,tot_cl = -33.730000 , tot = -0.070043\n",
      "epis[500],eps[1.000000],durat[50],fnum=25050, cum_cl_rew = -30.000000, cum_rew = 0.115222,tot_cl = -33.430000 , tot = -0.069553\n",
      "epis[600],eps[1.000000],durat[50],fnum=30050, cum_cl_rew = -32.000000, cum_rew = 0.320588,tot_cl = -33.770000 , tot = -0.071396\n",
      "epis[700],eps[1.000000],durat[50],fnum=35050, cum_cl_rew = -27.000000, cum_rew = 0.060857,tot_cl = -33.830000 , tot = -0.078882\n",
      "epis[800],eps[1.000000],durat[50],fnum=40050, cum_cl_rew = -38.000000, cum_rew = -0.178000,tot_cl = -34.170000 , tot = -0.084715\n",
      "epis[900],eps[1.000000],durat[50],fnum=45050, cum_cl_rew = -32.000000, cum_rew = -0.076000,tot_cl = -33.990000 , tot = -0.081780\n",
      "annealing and laerning are started \n",
      "epis[1000],eps[0.999510],durat[50],fnum=50050, cum_cl_rew = -40.000000, cum_rew = -0.327429,tot_cl = -33.850000 , tot = -0.075835\n",
      "epis[1100],eps[0.949510],durat[50],fnum=55050, cum_cl_rew = -23.000000, cum_rew = 0.179244,tot_cl = -33.550000 , tot = -0.073121\n",
      "epis[1200],eps[0.899510],durat[50],fnum=60050, cum_cl_rew = -33.000000, cum_rew = -0.307769,tot_cl = -33.890000 , tot = -0.091297\n",
      "epis[1300],eps[0.849510],durat[50],fnum=65050, cum_cl_rew = -32.000000, cum_rew = -0.403333,tot_cl = -34.370000 , tot = -0.086348\n",
      "epis[1400],eps[0.799510],durat[50],fnum=70050, cum_cl_rew = -37.000000, cum_rew = -0.142000,tot_cl = -33.250000 , tot = -0.057530\n",
      "epis[1500],eps[0.749510],durat[50],fnum=75050, cum_cl_rew = -34.000000, cum_rew = -0.097000,tot_cl = -34.480000 , tot = -0.090049\n",
      "epis[1600],eps[0.699510],durat[50],fnum=80050, cum_cl_rew = -39.000000, cum_rew = -0.232923,tot_cl = -34.450000 , tot = -0.100125\n",
      "epis[1700],eps[0.649510],durat[50],fnum=85050, cum_cl_rew = -40.000000, cum_rew = -0.336846,tot_cl = -34.340000 , tot = -0.090868\n",
      "epis[1800],eps[0.599510],durat[50],fnum=90050, cum_cl_rew = -38.000000, cum_rew = -0.113000,tot_cl = -34.910000 , tot = -0.116009\n",
      "epis[1900],eps[0.549510],durat[50],fnum=95050, cum_cl_rew = -34.000000, cum_rew = -0.064556,tot_cl = -35.020000 , tot = -0.113077\n",
      "epis[2000],eps[0.499510],durat[50],fnum=100050, cum_cl_rew = -34.000000, cum_rew = -0.099000,tot_cl = -37.250000 , tot = -0.152604\n",
      "epis[2100],eps[0.449510],durat[50],fnum=105050, cum_cl_rew = -37.000000, cum_rew = -0.489111,tot_cl = -36.490000 , tot = -0.166260\n",
      "epis[2200],eps[0.399510],durat[50],fnum=110050, cum_cl_rew = -26.000000, cum_rew = 0.273000,tot_cl = -35.410000 , tot = -0.155825\n",
      "epis[2300],eps[0.349510],durat[50],fnum=115050, cum_cl_rew = -29.000000, cum_rew = -0.097000,tot_cl = -36.750000 , tot = -0.200160\n",
      "epis[2400],eps[0.299510],durat[50],fnum=120050, cum_cl_rew = -32.000000, cum_rew = -0.098000,tot_cl = -38.530000 , tot = -0.264788\n",
      "epis[2500],eps[0.249510],durat[50],fnum=125050, cum_cl_rew = -47.000000, cum_rew = -0.914000,tot_cl = -37.960000 , tot = -0.285264\n",
      "epis[2600],eps[0.199510],durat[50],fnum=130050, cum_cl_rew = -45.000000, cum_rew = -0.879571,tot_cl = -37.980000 , tot = -0.304125\n",
      "epis[2700],eps[0.149510],durat[50],fnum=135050, cum_cl_rew = -31.000000, cum_rew = 0.019647,tot_cl = -37.240000 , tot = -0.318952\n",
      "epis[2800],eps[0.100000],durat[50],fnum=140050, cum_cl_rew = -46.000000, cum_rew = -0.952000,tot_cl = -38.070000 , tot = -0.425803\n",
      "epis[2900],eps[0.100000],durat[50],fnum=145050, cum_cl_rew = -48.000000, cum_rew = -1.176000,tot_cl = -40.590000 , tot = -0.523949\n",
      "epis[3000],eps[0.100000],durat[50],fnum=150050, cum_cl_rew = -12.000000, cum_rew = -0.016000,tot_cl = -41.590000 , tot = -0.559275\n",
      "epis[3100],eps[0.100000],durat[50],fnum=155050, cum_cl_rew = -43.000000, cum_rew = -0.391000,tot_cl = -41.190000 , tot = -0.558184\n",
      "epis[3200],eps[0.100000],durat[50],fnum=160050, cum_cl_rew = -47.000000, cum_rew = -0.426000,tot_cl = -40.740000 , tot = -0.571511\n",
      "epis[3300],eps[0.100000],durat[50],fnum=165050, cum_cl_rew = -48.000000, cum_rew = -0.997000,tot_cl = -41.060000 , tot = -0.544219\n",
      "epis[3400],eps[0.100000],durat[50],fnum=170050, cum_cl_rew = -49.000000, cum_rew = -0.735000,tot_cl = -40.170000 , tot = -0.538077\n",
      "epis[3500],eps[0.100000],durat[50],fnum=175050, cum_cl_rew = -45.000000, cum_rew = -0.492500,tot_cl = -41.120000 , tot = -0.574755\n",
      "epis[3600],eps[0.100000],durat[50],fnum=180050, cum_cl_rew = -48.000000, cum_rew = -0.957000,tot_cl = -40.610000 , tot = -0.531971\n",
      "epis[3700],eps[0.100000],durat[50],fnum=185050, cum_cl_rew = -47.000000, cum_rew = -0.587000,tot_cl = -41.640000 , tot = -0.529213\n"
     ]
    }
   ],
   "source": [
    "while frame_counter < max_frame:\n",
    "    cum_clipped_reward = 0\n",
    "    cum_reward = 0\n",
    "    next_frame = env.reset()\n",
    "    state = preprocess(next_frame, initial_state=True)\n",
    "    t = 0.\n",
    "    done = False\n",
    "    while not done:\n",
    "        previous_state = state\n",
    "        # show the frame\n",
    "        renderimage(next_frame)\n",
    "        sample = random.random()\n",
    "        if frame_counter > replay_start_size:\n",
    "            annealing_count += 1\n",
    "        if frame_counter == replay_start_size:\n",
    "            print('annealing and laerning are started ')\n",
    "        eps = np.maximum(1. - annealing_count / annealing_end, epsilon_min)\n",
    "        effective_eps = eps\n",
    "        if t < no_op_max:\n",
    "            effective_eps = 1.\n",
    "\n",
    "        # epsilon greedy policy\n",
    "        if sample < effective_eps:\n",
    "            action = random.randint(0, num_action - 1)\n",
    "        else:\n",
    "            data = [nd.array(state.reshape([1, frame_len, image_size, image_size]), ctx), nd.array([env.battery], ctx)]\n",
    "            action = int(nd.argmax(offline_model(data), axis=1).as_in_context(mx.cpu()).asscalar())\n",
    "        next_frame_new, rew, done, extra = env.step(action)\n",
    "        renderimage(next_frame)\n",
    "        cum_clipped_reward += rew_clipper(rew)\n",
    "        cum_reward += rew\n",
    "\n",
    "        # Reward clipping\n",
    "        # reward = rew_clipper(rew)\n",
    "        reward = rew\n",
    "        next_frame = np.maximum(next_frame_new, next_frame)\n",
    "        state = preprocess(next_frame, state)\n",
    "        replay_memory.push((previous_state * 255.).astype('uint8'), action, (state * 255.).astype('uint8'), reward,done, extra)\n",
    "        # Train\n",
    "        if frame_counter > replay_start_size:\n",
    "            if frame_counter % learning_frequency == 0:\n",
    "                batch = replay_memory.sample(batch_size, ctx)\n",
    "                batch_state = batch.state.astype('float32') / 255.\n",
    "                batch_state_next = batch.next_state.astype('float32') / 255.\n",
    "                batch_reward = batch.reward\n",
    "                batch_action = batch.action\n",
    "                batch_done = batch.done\n",
    "                batch_battery = batch.battery\n",
    "                with autograd.record():\n",
    "                    argmax_Q = nd.argmax(offline_model([batch_state_next, batch_battery]), axis=1).astype('uint8')\n",
    "                    Q_sp = nd.pick(online_model([batch_state_next, batch_battery]), argmax_Q, 1)\n",
    "                    Q_sp = Q_sp * (nd.ones(batch_size, ctx=ctx) - batch_done)\n",
    "                    Q_s_array = offline_model([batch_state, batch_battery])\n",
    "                    Q_s = nd.pick(Q_s_array, batch_action, 1)\n",
    "                    loss = nd.mean(loss_f(Q_s, (batch_reward + gamma * Q_sp)))\n",
    "                loss.backward()\n",
    "                trainer.step(batch_size)\n",
    "        t += 1\n",
    "        frame_counter += 1\n",
    "        # Save the model and update Target model\n",
    "        if frame_counter > replay_start_size:\n",
    "            if frame_counter % Target_update == 0:\n",
    "                check_point = frame_counter / (Target_update * 100)\n",
    "                fdqn = './data/model_%s_%d' % (env_name, int(check_point))\n",
    "                offline_model.save_parameters(fdqn)\n",
    "                online_model.load_parameters(fdqn, ctx)\n",
    "                fnam = './data/clippted_rew_DDQN_%s' % (env_name)\n",
    "                np.save(fnam, tot_clipped_reward)\n",
    "                fnam = './data/tot_rew_DDQN_%s' % (env_name)\n",
    "                np.save(fnam, tot_reward)\n",
    "                fnam = './data/frame_count_DDQN_%s' % (env_name)\n",
    "                np.save(fnam, frame_count_record)\n",
    "\n",
    "        if done:\n",
    "            if epis_count % 100 == 0.:\n",
    "                print('epis[%d],eps[%f],durat[%d],fnum=%d, cum_cl_rew = %f, cum_rew = %f,tot_cl = %f , tot = %f'\n",
    "                      % (epis_count, eps, t, frame_counter, cum_clipped_reward, cum_reward, average_clipped,average))\n",
    "    epis_count += 1\n",
    "    tot_clipped_reward = np.append(tot_clipped_reward, cum_clipped_reward)\n",
    "    tot_reward = np.append(tot_reward, cum_reward)\n",
    "    frame_count_record = np.append(frame_count_record, frame_counter)\n",
    "    if epis_count > 100.:\n",
    "        average_clipped = np.mean(tot_clipped_reward[int(epis_count) - 1 - 100:int(epis_count) - 1])\n",
    "        average = np.mean(tot_reward[int(epis_count) - 1 - 100:int(epis_count) - 1])\n",
    "from tempfile import TemporaryFile\n",
    "\n",
    "outfile = TemporaryFile()\n",
    "outfile_clip = TemporaryFile()\n",
    "np.save(outfile, moving_average)\n",
    "np.save(outfile_clip, average_clipped)"
   ]
  },
  {
   "cell_type": "markdown",
   "metadata": {},
   "source": [
    "### Plot the overall performace"
   ]
  },
  {
   "cell_type": "code",
   "execution_count": null,
   "metadata": {},
   "outputs": [],
   "source": [
    "num_epis_count = epis_count - 0\n",
    "bandwidth = 1000  # Moving average bandwidth \n",
    "total_clipped = np.zeros(int(num_epis_count) - bandwidth)\n",
    "total_rew = np.zeros(int(num_epis_count) - bandwidth)\n",
    "for i in range(int(num_epis_count) - bandwidth):\n",
    "    total_clipped[i] = np.sum(tot_clipped_reward[i:i + bandwidth]) / bandwidth\n",
    "    total_rew[i] = np.sum(tot_reward[i:i + bandwidth]) / bandwidth\n",
    "t = np.arange(int(num_epis_count) - bandwidth)\n",
    "fig = plt.figure()\n",
    "belplt = plt.plot(t, total_rew[0:int(num_epis_count) - bandwidth], \"r\", label=\"Return\")\n",
    "plt.legend()  #handles[likplt,belplt])\n",
    "print('Running after %d number of episodes' % epis_count)\n",
    "plt.xlabel(\"Number of episode\")\n",
    "plt.ylabel(\"Average Reward per episode\")\n",
    "plt.show()\n",
    "fig.savefig('Assualt_DDQN.png')\n",
    "fig = plt.figure()\n",
    "likplt = plt.plot(t, total_clipped[0:num_episode - bandwidth], \"b\", label=\"Clipped Return\")\n",
    "plt.legend()  #handles[likplt,belplt])\n",
    "plt.xlabel(\"Number of episode\")\n",
    "plt.ylabel(\"Average clipped Reward per episode\")\n",
    "plt.show()\n",
    "fig.savefig('Assualt_DDQN_Clipped.png')"
   ]
  },
  {
   "cell_type": "code",
   "execution_count": null,
   "metadata": {},
   "outputs": [],
   "source": []
  }
 ],
 "metadata": {
  "kernelspec": {
   "display_name": "Python 3",
   "language": "python",
   "name": "python3"
  },
  "language_info": {
   "codemirror_mode": {
    "name": "ipython",
    "version": 3
   },
   "file_extension": ".py",
   "mimetype": "text/x-python",
   "name": "python",
   "nbconvert_exporter": "python",
   "pygments_lexer": "ipython3",
   "version": "3.8.8"
  }
 },
 "nbformat": 4,
 "nbformat_minor": 2
}
