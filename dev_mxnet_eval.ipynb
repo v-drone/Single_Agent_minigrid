{
 "cells": [
  {
   "cell_type": "code",
   "execution_count": 1,
   "id": "e004e7ef",
   "metadata": {},
   "outputs": [],
   "source": [
    "import os\n",
    "import numpy as np\n",
    "import mxnet as mx\n",
    "from utils import check_dir\n",
    "from memory import Memory\n",
    "from utils import create_input, translate_state\n",
    "from evaluation_mxnet import evaluate\n",
    "from mxnet import gluon, nd, autograd\n",
    "from environments.SimpleEnv import SimpleEnv\n",
    "from model.simple_stack import SimpleStack\n",
    "from PIL import Image"
   ]
  },
  {
   "cell_type": "code",
   "execution_count": 2,
   "id": "b9be0b1f",
   "metadata": {},
   "outputs": [],
   "source": [
    "agent_view = 5\n",
    "map_size = 20\n",
    "rounds = 5\n",
    "ctx = mx.cpu()\n",
    "env = SimpleEnv(display=False, agent_view=agent_view, map_size=map_size)\n",
    "model = SimpleStack()\n",
    "model.load_parameters(\"./model_save/model_test.params.best\", ctx)\n",
    "save = \"./data_save/\"\n",
    "print_action=False"
   ]
  },
  {
   "cell_type": "code",
   "execution_count": 3,
   "id": "95ab8beb",
   "metadata": {},
   "outputs": [],
   "source": [
    "for epoch in range(rounds):\n",
    "    env.reset_env()\n",
    "    done = 0\n",
    "    step = 0\n",
    "    while not done:\n",
    "        step += 1\n",
    "        data = create_input([translate_state(env.map.state())])\n",
    "        data = [nd.array(i, ctx=ctx) for i in data]\n",
    "        pred = model(data)\n",
    "        action = int(nd.argmax(pred, axis=1).asnumpy()[0])\n",
    "        old, new, reward, done = env.step(action)\n",
    "        if print_action:\n",
    "            print(pred, reward, env.map.battery)\n",
    "        if save is not None:\n",
    "            img = Image.fromarray(env.map.grid.render(10,env.map.agent_pos,env.map.agent_dir), 'RGB')\n",
    "            pred = [str(x)[0:5] for x in pred.asnumpy().tolist()[0]]\n",
    "            filename = str(epoch) + \"-\" + str(step) + \"-\" + str(reward) + \"-\" + \"_\".join(pred) + \".jpg\"\n",
    "            img.save(save + \"/\" + filename)"
   ]
  },
  {
   "cell_type": "code",
   "execution_count": null,
   "id": "06663336",
   "metadata": {},
   "outputs": [],
   "source": []
  },
  {
   "cell_type": "code",
   "execution_count": null,
   "id": "27618582",
   "metadata": {},
   "outputs": [],
   "source": []
  }
 ],
 "metadata": {
  "kernelspec": {
   "display_name": "Python 3",
   "language": "python",
   "name": "python3"
  },
  "language_info": {
   "codemirror_mode": {
    "name": "ipython",
    "version": 3
   },
   "file_extension": ".py",
   "mimetype": "text/x-python",
   "name": "python",
   "nbconvert_exporter": "python",
   "pygments_lexer": "ipython3",
   "version": "3.8.8"
  }
 },
 "nbformat": 4,
 "nbformat_minor": 5
}
