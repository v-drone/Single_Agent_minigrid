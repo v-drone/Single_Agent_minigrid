{
 "cells": [
  {
   "cell_type": "code",
   "execution_count": 1,
   "id": "e004e7ef",
   "metadata": {},
   "outputs": [],
   "source": [
    "import os\n",
    "import numpy as np\n",
    "import mxnet as mx\n",
    "from utils import check_dir\n",
    "from memory import Memory\n",
    "from utils import create_input, translate_state\n",
    "from evaluation_mxnet import evaluate\n",
    "from mxnet import gluon, nd, autograd\n",
    "from environments.SimpleEnv import SimpleEnv\n",
    "from model.simple_stack import SimpleStack\n",
    "from PIL import Image"
   ]
  },
  {
   "cell_type": "code",
   "execution_count": 2,
   "id": "b9be0b1f",
   "metadata": {},
   "outputs": [],
   "source": [
    "agent_view = 5\n",
    "map_size = 20\n",
    "rounds = 100\n",
    "ctx = mx.gpu()\n",
    "env = SimpleEnv(display=False, agent_view=agent_view, map_size=map_size)\n",
    "model = SimpleStack()\n",
    "model.load_parameters(\"./model_save/model_test.params.best\", ctx)\n",
    "save = \"./data_save/\"\n",
    "print_action=False"
   ]
  },
  {
   "cell_type": "code",
   "execution_count": 3,
   "id": "800770b1",
   "metadata": {},
   "outputs": [],
   "source": [
    "avg_extrinsic_reward = []\n",
    "avg_reward_rate = []"
   ]
  },
  {
   "cell_type": "code",
   "execution_count": 4,
   "id": "95ab8beb",
   "metadata": {},
   "outputs": [],
   "source": [
    "for epoch in range(rounds):\n",
    "    env.reset_env()\n",
    "    done = 0\n",
    "    step = 0\n",
    "    while not done:\n",
    "        step += 1\n",
    "        data = create_input([translate_state(env.map.state())])\n",
    "        data = [nd.array(i, ctx=ctx) for i in data]\n",
    "        pred = model(data)\n",
    "        action = int(nd.argmax(pred, axis=1).asnumpy()[0])\n",
    "        old, new, reward, done = env.step(action)\n",
    "        if print_action:\n",
    "            print(pred, reward, env.map.battery)\n",
    "        if save is not None:\n",
    "            img = Image.fromarray(env.map.grid.render(10,env.map.agent_pos,env.map.agent_dir), 'RGB')\n",
    "            pred = [str(x)[0:5] for x in pred.asnumpy().tolist()[0]]\n",
    "            filename = str(epoch) + \"-\" + str(step) + \"-\" + str(reward) + \"-\" + \"_\".join(pred) + \".jpg\"\n",
    "            img.save(save + \"/\" + filename)\n",
    "    avg_reward_rate.append(env._rewards[-1] / sum([abs(i) for i in env._rewards]))\n",
    "    avg_extrinsic_reward.append(env.map.extrinsic_reward())"
   ]
  },
  {
   "cell_type": "code",
   "execution_count": 5,
   "id": "4bbd1ae7",
   "metadata": {},
   "outputs": [
    {
     "data": {
      "text/plain": [
       "(0.05411165876607052, 0.012547900814675635)"
      ]
     },
     "execution_count": 5,
     "metadata": {},
     "output_type": "execute_result"
    }
   ],
   "source": [
    "np.mean(avg_extrinsic_reward), np.mean(avg_reward_rate)"
   ]
  },
  {
   "cell_type": "code",
   "execution_count": 11,
   "id": "5b6f1360",
   "metadata": {},
   "outputs": [
    {
     "name": "stdout",
     "output_type": "stream",
     "text": [
      "(1, 128, 7, 7) (1, 128, 7, 7)\n"
     ]
    }
   ],
   "source": [
    "_view, _map, battery = data\n",
    "_map = nd.transpose(_map, [1, 0, 2, 3])\n",
    "_map, _memory = _map\n",
    "_map = nd.expand_dims(_map, axis=1)\n",
    "_memory = nd.expand_dims(_memory, axis=1)\n",
    "_memory = model.memory(_memory)\n",
    "_map = model.map(_map)\n",
    "print(_map.shape, _memory.shape)"
   ]
  },
  {
   "cell_type": "code",
   "execution_count": 12,
   "id": "1052b8c0",
   "metadata": {},
   "outputs": [],
   "source": [
    "import seaborn\n",
    "import tqdm"
   ]
  },
  {
   "cell_type": "code",
   "execution_count": 13,
   "id": "47d331d5",
   "metadata": {},
   "outputs": [
    {
     "name": "stderr",
     "output_type": "stream",
     "text": [
      "100%|██████████| 99/99 [00:00<00:00, 8183.44it/s]\n"
     ]
    },
    {
     "data": {
      "text/plain": [
       "<AxesSubplot:>"
      ]
     },
     "execution_count": 13,
     "metadata": {},
     "output_type": "execute_result"
    },
    {
     "data": {
      "image/png": "[encoded data removed]",
      "text/plain": [
       "<Figure size 432x288 with 1 Axes>"
      ]
     },
     "metadata": {
      "needs_background": "light"
     },
     "output_type": "display_data"
    }
   ],
   "source": [
    "y = []\n",
    "for i in tqdm.tqdm(range(1, len(env.detect_rate))):\n",
    "    y.append(np.mean(env.detect_rate[:i]))\n",
    "seaborn.lineplot(x=range(len(y)), y=y)"
   ]
  },
  {
   "cell_type": "code",
   "execution_count": 14,
   "id": "300506da",
   "metadata": {},
   "outputs": [
    {
     "name": "stderr",
     "output_type": "stream",
     "text": [
      "100%|██████████| 99/99 [00:00<00:00, 37385.08it/s]\n"
     ]
    },
    {
     "data": {
      "text/plain": [
       "<AxesSubplot:>"
      ]
     },
     "execution_count": 14,
     "metadata": {},
     "output_type": "execute_result"
    },
    {
     "data": {
      "image/png": "[encoded data removed]",
      "text/plain": [
       "<Figure size 432x288 with 1 Axes>"
      ]
     },
     "metadata": {
      "needs_background": "light"
     },
     "output_type": "display_data"
    }
   ],
   "source": [
    "y = []\n",
    "for i in tqdm.tqdm(range(1, len(env.rewards))):\n",
    "    y.append(np.mean(env.rewards[:i]))\n",
    "seaborn.lineplot(x=range(len(y)), y=y)"
   ]
  },
  {
   "cell_type": "code",
   "execution_count": 10,
   "id": "76c2f954",
   "metadata": {},
   "outputs": [
    {
     "data": {
      "text/plain": [
       "[-0.004,\n",
       " -0.005,\n",
       " -0.006,\n",
       " -0.007,\n",
       " -0.008,\n",
       " -0.009000000000000001,\n",
       " -0.01,\n",
       " -0.011,\n",
       " -0.012,\n",
       " -0.013,\n",
       " -0.014,\n",
       " -0.015,\n",
       " -0.016,\n",
       " -0.017,\n",
       " -0.018000000000000002,\n",
       " -0.019,\n",
       " -0.02,\n",
       " -0.021,\n",
       " -0.022,\n",
       " -0.023,\n",
       " -0.004,\n",
       " -0.005,\n",
       " -0.003,\n",
       " -0.004,\n",
       " -0.005,\n",
       " -0.006,\n",
       " -0.007,\n",
       " -0.008,\n",
       " -0.009000000000000001,\n",
       " -0.01,\n",
       " -0.003,\n",
       " -0.003,\n",
       " -0.004,\n",
       " -0.005,\n",
       " -0.003,\n",
       " -0.004,\n",
       " -0.005,\n",
       " -0.006,\n",
       " -0.007,\n",
       " -0.008,\n",
       " -0.009000000000000001,\n",
       " -0.01,\n",
       " -0.011,\n",
       " -0.012,\n",
       " -0.013000000000000001,\n",
       " -0.013999999999999999,\n",
       " -0.015,\n",
       " -0.016,\n",
       " -0.017,\n",
       " -0.018,\n",
       " -0.019,\n",
       " -0.02,\n",
       " -0.020999999999999998,\n",
       " -0.022,\n",
       " -0.023,\n",
       " -0.024,\n",
       " -0.024999999999999998,\n",
       " -0.026,\n",
       " -0.027,\n",
       " -0.028,\n",
       " -0.028999999999999998,\n",
       " -0.03,\n",
       " -0.031,\n",
       " -0.032,\n",
       " -0.033,\n",
       " -0.034,\n",
       " -0.035,\n",
       " -0.036000000000000004,\n",
       " -0.037000000000000005,\n",
       " -0.038000000000000006,\n",
       " -0.039,\n",
       " -0.04,\n",
       " -0.041,\n",
       " -0.042,\n",
       " -0.043000000000000003,\n",
       " -0.044000000000000004,\n",
       " -0.045000000000000005,\n",
       " -0.046,\n",
       " -0.047,\n",
       " -0.048,\n",
       " -0.049,\n",
       " -0.05,\n",
       " -0.051000000000000004,\n",
       " -0.052000000000000005,\n",
       " -0.053000000000000005,\n",
       " -0.054,\n",
       " -0.055,\n",
       " -0.056,\n",
       " -0.057,\n",
       " -0.058,\n",
       " -0.059000000000000004,\n",
       " -0.060000000000000005,\n",
       " -0.061000000000000006,\n",
       " -0.062,\n",
       " -0.063,\n",
       " -0.003,\n",
       " -0.004,\n",
       " -0.005,\n",
       " -0.006,\n",
       " -0.007]"
      ]
     },
     "execution_count": 10,
     "metadata": {},
     "output_type": "execute_result"
    }
   ],
   "source": [
    "env._rewards"
   ]
  },
  {
   "cell_type": "code",
   "execution_count": null,
   "id": "e84381c9",
   "metadata": {},
   "outputs": [],
   "source": []
  }
 ],
 "metadata": {
  "kernelspec": {
   "display_name": "Python 3",
   "language": "python",
   "name": "python3"
  },
  "language_info": {
   "codemirror_mode": {
    "name": "ipython",
    "version": 3
   },
   "file_extension": ".py",
   "mimetype": "text/x-python",
   "name": "python",
   "nbconvert_exporter": "python",
   "pygments_lexer": "ipython3",
   "version": "3.8.8"
  }
 },
 "nbformat": 4,
 "nbformat_minor": 5
}
