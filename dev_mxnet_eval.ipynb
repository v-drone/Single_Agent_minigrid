{
 "cells": [
  {
   "cell_type": "code",
   "execution_count": 1,
   "id": "e004e7ef",
   "metadata": {},
   "outputs": [],
   "source": [
    "import os\n",
    "import numpy as np\n",
    "import mxnet as mx\n",
    "from utils import check_dir\n",
    "from memory import Memory\n",
    "from utils import create_input, translate_state\n",
    "from evaluation_mxnet import evaluate\n",
    "from mxnet import gluon, nd, autograd\n",
    "from environments.SimpleEnv import SimpleEnv\n",
    "from model.simple_stack import SimpleStack\n",
    "from PIL import Image"
   ]
  },
  {
   "cell_type": "code",
   "execution_count": 2,
   "id": "b9be0b1f",
   "metadata": {},
   "outputs": [],
   "source": [
    "agent_view = 5\n",
    "map_size = 20\n",
    "rounds = 5\n",
    "ctx = mx.cpu()\n",
    "env = SimpleEnv(display=False, agent_view=agent_view, map_size=map_size)\n",
    "model = SimpleStack()\n",
    "model.load_parameters(\"./model_save/model_test.params.best\", ctx)\n",
    "save = \"./data_save/\"\n",
    "print_action=False"
   ]
  },
  {
   "cell_type": "code",
   "execution_count": 7,
   "id": "d15154d5",
   "metadata": {},
   "outputs": [],
   "source": [
    "for i in os.listdir(save):\n",
    "    os.remove(save + i) "
   ]
  },
  {
   "cell_type": "code",
   "execution_count": 8,
   "id": "800770b1",
   "metadata": {},
   "outputs": [],
   "source": [
    "avg_extrinsic_reward = []\n",
    "avg_reward_rate = []"
   ]
  },
  {
   "cell_type": "code",
   "execution_count": 9,
   "id": "95ab8beb",
   "metadata": {},
   "outputs": [],
   "source": [
    "for epoch in range(rounds):\n",
    "    env.reset_env()\n",
    "    done = 0\n",
    "    step = 0\n",
    "    hidden = model.begin_state()\n",
    "    hidden_history = [hidden]\n",
    "    while not done:\n",
    "        step += 1\n",
    "        data = create_input([translate_state(env.map.state())])\n",
    "        data = [nd.array(i, ctx=ctx) for i in data]\n",
    "        hidden = [i.as_in_context(ctx) for i in hidden]\n",
    "        pred, hidden = model(data, hidden)\n",
    "        action = int(nd.argmax(pred, axis=1).asnumpy()[0])\n",
    "        hidden_history.append(hidden)\n",
    "        action = int(nd.argmax(pred, axis=1).asnumpy()[0])\n",
    "        old, new, reward, done = env.step(action)\n",
    "        if print_action:\n",
    "            print(pred, reward, env.map.battery)\n",
    "        if save is not None:\n",
    "            img = Image.fromarray(env.map.grid.render(10,env.map.agent_pos,env.map.agent_dir), 'RGB')\n",
    "            pred = [str(x)[0:5] for x in pred.asnumpy().tolist()[0]]\n",
    "            filename = str(epoch) + \"-\" + str(step) + \"-\" + str(reward) + \"-\" + \"_\".join(pred) + \".jpg\"\n",
    "            img.save(save + \"/\" + filename)\n",
    "    avg_reward_rate.append(env._rewards[-1] / sum([abs(i) for i in env._rewards]))\n",
    "    avg_extrinsic_reward.append(env.map._extrinsic_reward())"
   ]
  },
  {
   "cell_type": "code",
   "execution_count": 5,
   "id": "4bbd1ae7",
   "metadata": {},
   "outputs": [
    {
     "data": {
      "text/plain": [
       "(0.0, -0.0198019801980198)"
      ]
     },
     "execution_count": 5,
     "metadata": {},
     "output_type": "execute_result"
    }
   ],
   "source": [
    "np.mean(avg_extrinsic_reward), np.mean(avg_reward_rate)"
   ]
  },
  {
   "cell_type": "code",
   "execution_count": 6,
   "id": "1052b8c0",
   "metadata": {},
   "outputs": [],
   "source": [
    "import seaborn\n",
    "import tqdm"
   ]
  },
  {
   "cell_type": "code",
   "execution_count": 7,
   "id": "47d331d5",
   "metadata": {},
   "outputs": [
    {
     "name": "stderr",
     "output_type": "stream",
     "text": [
      "100%|██████████| 4/4 [00:00<00:00, 14550.92it/s]\n"
     ]
    },
    {
     "data": {
      "text/plain": [
       "<AxesSubplot:>"
      ]
     },
     "execution_count": 7,
     "metadata": {},
     "output_type": "execute_result"
    },
    {
     "data": {
      "image/png": "[encoded data removed]",
      "text/plain": [
       "<Figure size 432x288 with 1 Axes>"
      ]
     },
     "metadata": {
      "needs_background": "light"
     },
     "output_type": "display_data"
    }
   ],
   "source": [
    "y = []\n",
    "for i in tqdm.tqdm(range(1, len(env.detect_rate))):\n",
    "    y.append(np.mean(env.detect_rate[:i]))\n",
    "seaborn.lineplot(x=range(len(y)), y=y)"
   ]
  },
  {
   "cell_type": "code",
   "execution_count": 8,
   "id": "300506da",
   "metadata": {},
   "outputs": [
    {
     "name": "stderr",
     "output_type": "stream",
     "text": [
      "100%|██████████| 4/4 [00:00<00:00, 20092.47it/s]\n"
     ]
    },
    {
     "data": {
      "text/plain": [
       "<AxesSubplot:>"
      ]
     },
     "execution_count": 8,
     "metadata": {},
     "output_type": "execute_result"
    },
    {
     "data": {
      "image/png": "[encoded data removed]",
      "text/plain": [
       "<Figure size 432x288 with 1 Axes>"
      ]
     },
     "metadata": {
      "needs_background": "light"
     },
     "output_type": "display_data"
    }
   ],
   "source": [
    "y = []\n",
    "for i in tqdm.tqdm(range(1, len(env.rewards))):\n",
    "    y.append(np.mean(env.rewards[:i]))\n",
    "seaborn.lineplot(x=range(len(y)), y=y)"
   ]
  },
  {
   "cell_type": "code",
   "execution_count": 9,
   "id": "76c2f954",
   "metadata": {},
   "outputs": [
    {
     "data": {
      "text/plain": [
       "[-0.002,\n",
       " -0.004,\n",
       " -0.006,\n",
       " -0.008,\n",
       " -0.01,\n",
       " -0.012,\n",
       " -0.014,\n",
       " -0.016,\n",
       " -0.018,\n",
       " -0.02,\n",
       " -0.022,\n",
       " -0.024,\n",
       " -0.026,\n",
       " -0.028,\n",
       " -0.03,\n",
       " -0.032,\n",
       " -0.034,\n",
       " -0.036,\n",
       " -0.038,\n",
       " -0.04,\n",
       " -0.042,\n",
       " -0.044,\n",
       " -0.046,\n",
       " -0.048,\n",
       " -0.05,\n",
       " -0.052,\n",
       " -0.054,\n",
       " -0.056,\n",
       " -0.058,\n",
       " -0.06,\n",
       " -0.062,\n",
       " -0.064,\n",
       " -0.066,\n",
       " -0.068,\n",
       " -0.07,\n",
       " -0.072,\n",
       " -0.074,\n",
       " -0.076,\n",
       " -0.078,\n",
       " -0.08,\n",
       " -0.082,\n",
       " -0.084,\n",
       " -0.086,\n",
       " -0.088,\n",
       " -0.09,\n",
       " -0.092,\n",
       " -0.094,\n",
       " -0.096,\n",
       " -0.098,\n",
       " -0.1,\n",
       " -0.102,\n",
       " -0.104,\n",
       " -0.106,\n",
       " -0.108,\n",
       " -0.11,\n",
       " -0.112,\n",
       " -0.114,\n",
       " -0.116,\n",
       " -0.118,\n",
       " -0.12,\n",
       " -0.122,\n",
       " -0.124,\n",
       " -0.126,\n",
       " -0.128,\n",
       " -0.13,\n",
       " -0.132,\n",
       " -0.134,\n",
       " -0.136,\n",
       " -0.138,\n",
       " -0.14,\n",
       " -0.142,\n",
       " -0.144,\n",
       " -0.146,\n",
       " -0.148,\n",
       " -0.15,\n",
       " -0.152,\n",
       " -0.154,\n",
       " -0.156,\n",
       " -0.158,\n",
       " -0.16,\n",
       " -0.162,\n",
       " -0.164,\n",
       " -0.166,\n",
       " -0.168,\n",
       " -0.17,\n",
       " -0.172,\n",
       " -0.174,\n",
       " -0.176,\n",
       " -0.178,\n",
       " -0.18,\n",
       " -0.182,\n",
       " -0.184,\n",
       " -0.186,\n",
       " -0.188,\n",
       " -0.19,\n",
       " -0.192,\n",
       " -0.194,\n",
       " -0.196,\n",
       " -0.198,\n",
       " -0.2]"
      ]
     },
     "execution_count": 9,
     "metadata": {},
     "output_type": "execute_result"
    }
   ],
   "source": [
    "env._rewards"
   ]
  },
  {
   "cell_type": "code",
   "execution_count": null,
   "id": "e84381c9",
   "metadata": {},
   "outputs": [],
   "source": []
  }
 ],
 "metadata": {
  "kernelspec": {
   "display_name": "Python 3",
   "language": "python",
   "name": "python3"
  },
  "language_info": {
   "codemirror_mode": {
    "name": "ipython",
    "version": 3
   },
   "file_extension": ".py",
   "mimetype": "text/x-python",
   "name": "python",
   "nbconvert_exporter": "python",
   "pygments_lexer": "ipython3",
   "version": "3.8.8"
  }
 },
 "nbformat": 4,
 "nbformat_minor": 5
}
