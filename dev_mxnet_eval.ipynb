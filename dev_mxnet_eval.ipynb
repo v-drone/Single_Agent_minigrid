{
 "cells": [
  {
   "cell_type": "code",
   "execution_count": 1,
   "id": "e004e7ef",
   "metadata": {},
   "outputs": [],
   "source": [
    "import os\n",
    "import numpy as np\n",
    "import mxnet as mx\n",
    "from utils import check_dir\n",
    "from memory import Memory\n",
    "from utils import create_input, translate_state\n",
    "from evaluation_mxnet import evaluate\n",
    "from mxnet import gluon, nd, autograd\n",
    "from environments.SimpleEnv import SimpleEnv\n",
    "from model.simple_stack import SimpleStack\n",
    "from PIL import Image"
   ]
  },
  {
   "cell_type": "code",
   "execution_count": 2,
   "id": "b9be0b1f",
   "metadata": {},
   "outputs": [],
   "source": [
    "agent_view = 5\n",
    "map_size = 20\n",
    "rounds = 5\n",
    "ctx = mx.gpu()\n",
    "env = SimpleEnv(display=False, agent_view=agent_view, map_size=map_size)\n",
    "model = SimpleStack()\n",
    "model.load_parameters(\"./model_save/model_test.params.best\", ctx)\n",
    "save = \"./data_save/\"\n",
    "print_action=False"
   ]
  },
  {
   "cell_type": "code",
   "execution_count": 3,
   "id": "800770b1",
   "metadata": {},
   "outputs": [],
   "source": [
    "avg_extrinsic_reward = []\n",
    "avg_reward_rate = []"
   ]
  },
  {
   "cell_type": "code",
   "execution_count": 4,
   "id": "95ab8beb",
   "metadata": {},
   "outputs": [],
   "source": [
    "for epoch in range(rounds):\n",
    "    env.reset_env()\n",
    "    done = 0\n",
    "    step = 0\n",
    "    while not done:\n",
    "        step += 1\n",
    "        data = create_input([translate_state(env.map.state())])\n",
    "        data = [nd.array(i, ctx=ctx) for i in data]\n",
    "        pred = model(data)\n",
    "        action = int(nd.argmax(pred, axis=1).asnumpy()[0])\n",
    "        old, new, reward, done = env.step(action)\n",
    "        if print_action:\n",
    "            print(pred, reward, env.map.battery)\n",
    "        if save is not None:\n",
    "            img = Image.fromarray(env.map.grid.render(10,env.map.agent_pos,env.map.agent_dir), 'RGB')\n",
    "            pred = [str(x)[0:5] for x in pred.asnumpy().tolist()[0]]\n",
    "            filename = str(epoch) + \"-\" + str(step) + \"-\" + str(reward) + \"-\" + \"_\".join(pred) + \".jpg\"\n",
    "            img.save(save + \"/\" + filename)\n",
    "    avg_reward_rate.append(env._rewards[-1] / sum([abs(i) for i in env._rewards]))\n",
    "    avg_extrinsic_reward.append(env.map._extrinsic_reward())"
   ]
  },
  {
   "cell_type": "code",
   "execution_count": 23,
   "id": "05f7fab6",
   "metadata": {},
   "outputs": [],
   "source": [
    "_ = env.map.grid.copy()"
   ]
  },
  {
   "cell_type": "code",
   "execution_count": 36,
   "id": "5914e73d",
   "metadata": {},
   "outputs": [],
   "source": [
    "x = env.map.gen_obs_grid()[0].grid[15]"
   ]
  },
  {
   "cell_type": "code",
   "execution_count": 52,
   "id": "d4e9d32d",
   "metadata": {},
   "outputs": [
    {
     "data": {
      "text/plain": [
       "(400,)"
      ]
     },
     "execution_count": 52,
     "metadata": {},
     "output_type": "execute_result"
    }
   ],
   "source": [
    "np.array(_.grid).reshape(20,)"
   ]
  },
  {
   "cell_type": "code",
   "execution_count": null,
   "id": "458222d2",
   "metadata": {},
   "outputs": [],
   "source": [
    "_.grid = [None if i is not None and i.type == \"box\" else i for i in _.grid]"
   ]
  },
  {
   "cell_type": "code",
   "execution_count": null,
   "id": "0ae718d9",
   "metadata": {},
   "outputs": [],
   "source": []
  },
  {
   "cell_type": "code",
   "execution_count": null,
   "id": "608adea1",
   "metadata": {},
   "outputs": [],
   "source": []
  },
  {
   "cell_type": "code",
   "execution_count": 16,
   "id": "88ff9471",
   "metadata": {},
   "outputs": [],
   "source": [
    "data = create_input([translate_state(env.map.state())])\n",
    "data = [nd.array(i, ctx=ctx) for i in data]"
   ]
  },
  {
   "cell_type": "code",
   "execution_count": 19,
   "id": "f87025de",
   "metadata": {},
   "outputs": [],
   "source": [
    "_view, _map, _battery = data\n",
    "_battery = nd.expand_dims(_battery, axis=1)\n",
    "_view = model.view(_view)\n",
    "_map = nd.transpose(_map, [1, 0, 2, 3])\n",
    "_map, _memory = _map\n",
    "_map = nd.one_hot(_map, 7).transpose([0, 3, 1, 2])\n",
    "# _map = nd.expand_dims(_map, axis=1)\n",
    "_memory = nd.expand_dims(_memory, axis=1)"
   ]
  },
  {
   "cell_type": "code",
   "execution_count": 21,
   "id": "b3e569a2",
   "metadata": {},
   "outputs": [],
   "source": [
    "_map = model.map(_map)\n",
    "_memory = model.memory(_memory)"
   ]
  },
  {
   "cell_type": "code",
   "execution_count": 22,
   "id": "73c0bc27",
   "metadata": {},
   "outputs": [
    {
     "data": {
      "text/plain": [
       "\n",
       "[[-1.         -1.         -1.          1.         -1.          1.\n",
       "   1.          1.         -1.          1.         -1.         -1.\n",
       "   1.          1.          1.         -1.          1.         -1.\n",
       "   1.         -1.          1.          1.          1.         -1.\n",
       "  -1.          1.         -1.          1.         -1.          1.\n",
       "   1.          1.         -1.          1.         -0.99996895  1.\n",
       "   1.          1.         -1.         -1.          1.         -1.\n",
       "   1.         -1.          1.          1.         -1.         -1.\n",
       "  -1.         -1.         -1.         -1.         -1.         -1.\n",
       "   1.         -1.         -1.         -1.          1.          1.\n",
       "  -1.          1.          1.         -0.9999793  -1.         -1.\n",
       "  -1.          1.          1.          1.          1.          1.\n",
       "   1.          1.         -1.         -1.          1.         -1.\n",
       "   1.         -1.         -1.         -1.          1.          1.\n",
       "   1.          1.         -1.         -0.6785034  -1.         -1.\n",
       "   1.         -1.          1.          1.         -1.         -1.\n",
       "   1.         -1.          1.          1.          1.          1.\n",
       "   1.          1.          1.         -1.          1.         -1.\n",
       "  -1.          1.          1.         -1.          1.         -1.\n",
       "   0.99998415 -1.          1.         -1.          1.         -1.\n",
       "  -1.          1.          1.         -1.          1.          1.\n",
       "  -1.          1.        ]]\n",
       "<NDArray 1x128 @gpu(0)>"
      ]
     },
     "execution_count": 22,
     "metadata": {},
     "output_type": "execute_result"
    }
   ],
   "source": [
    "_map"
   ]
  },
  {
   "cell_type": "code",
   "execution_count": null,
   "id": "bcbbce39",
   "metadata": {},
   "outputs": [],
   "source": []
  },
  {
   "cell_type": "code",
   "execution_count": null,
   "id": "11af89f8",
   "metadata": {},
   "outputs": [],
   "source": []
  },
  {
   "cell_type": "code",
   "execution_count": 5,
   "id": "4bbd1ae7",
   "metadata": {},
   "outputs": [
    {
     "data": {
      "text/plain": [
       "(0.0125, -0.020255866793326388)"
      ]
     },
     "execution_count": 5,
     "metadata": {},
     "output_type": "execute_result"
    }
   ],
   "source": [
    "np.mean(avg_extrinsic_reward), np.mean(avg_reward_rate)"
   ]
  },
  {
   "cell_type": "code",
   "execution_count": 6,
   "id": "1052b8c0",
   "metadata": {},
   "outputs": [],
   "source": [
    "import seaborn\n",
    "import tqdm"
   ]
  },
  {
   "cell_type": "code",
   "execution_count": 7,
   "id": "47d331d5",
   "metadata": {},
   "outputs": [
    {
     "name": "stderr",
     "output_type": "stream",
     "text": [
      "100%|██████████| 4/4 [00:00<00:00, 8621.39it/s]\n"
     ]
    },
    {
     "data": {
      "text/plain": [
       "<AxesSubplot:>"
      ]
     },
     "execution_count": 7,
     "metadata": {},
     "output_type": "execute_result"
    },
    {
     "data": {
      "image/png": "[encoded data removed]",
      "text/plain": [
       "<Figure size 432x288 with 1 Axes>"
      ]
     },
     "metadata": {
      "needs_background": "light"
     },
     "output_type": "display_data"
    }
   ],
   "source": [
    "y = []\n",
    "for i in tqdm.tqdm(range(1, len(env.detect_rate))):\n",
    "    y.append(np.mean(env.detect_rate[:i]))\n",
    "seaborn.lineplot(x=range(len(y)), y=y)"
   ]
  },
  {
   "cell_type": "code",
   "execution_count": 8,
   "id": "300506da",
   "metadata": {},
   "outputs": [
    {
     "name": "stderr",
     "output_type": "stream",
     "text": [
      "100%|██████████| 4/4 [00:00<00:00, 8599.29it/s]\n"
     ]
    },
    {
     "data": {
      "text/plain": [
       "<AxesSubplot:>"
      ]
     },
     "execution_count": 8,
     "metadata": {},
     "output_type": "execute_result"
    },
    {
     "data": {
      "image/png": "[encoded data removed]",
      "text/plain": [
       "<Figure size 432x288 with 1 Axes>"
      ]
     },
     "metadata": {
      "needs_background": "light"
     },
     "output_type": "display_data"
    }
   ],
   "source": [
    "y = []\n",
    "for i in tqdm.tqdm(range(1, len(env.rewards))):\n",
    "    y.append(np.mean(env.rewards[:i]))\n",
    "seaborn.lineplot(x=range(len(y)), y=y)"
   ]
  },
  {
   "cell_type": "code",
   "execution_count": 9,
   "id": "76c2f954",
   "metadata": {},
   "outputs": [
    {
     "data": {
      "text/plain": [
       "[-0.05,\n",
       " -0.05,\n",
       " -0.05,\n",
       " -0.04,\n",
       " -0.03,\n",
       " -0.02,\n",
       " -0.02,\n",
       " -0.02,\n",
       " -0.03,\n",
       " -0.04,\n",
       " -0.05,\n",
       " -0.05,\n",
       " -0.060000000000000005,\n",
       " -0.07,\n",
       " -0.08,\n",
       " -0.09,\n",
       " -0.1,\n",
       " -0.11,\n",
       " -0.12000000000000001,\n",
       " -0.13,\n",
       " -0.14,\n",
       " -0.15000000000000002,\n",
       " -0.16,\n",
       " -0.16999999999999998,\n",
       " -0.18,\n",
       " -0.19,\n",
       " -0.2,\n",
       " -0.21000000000000002,\n",
       " -0.22000000000000003,\n",
       " -0.22999999999999998,\n",
       " -0.24,\n",
       " -0.25,\n",
       " -0.26,\n",
       " -0.27,\n",
       " -0.28,\n",
       " -0.29,\n",
       " -0.3,\n",
       " -0.31,\n",
       " -0.32,\n",
       " -0.33,\n",
       " -0.33999999999999997,\n",
       " -0.35,\n",
       " -0.36,\n",
       " -0.37,\n",
       " -0.38,\n",
       " -0.39,\n",
       " -0.39999999999999997,\n",
       " -0.41,\n",
       " -0.42,\n",
       " -0.43,\n",
       " -0.44,\n",
       " -0.45,\n",
       " -0.45999999999999996,\n",
       " -0.47,\n",
       " -0.48,\n",
       " -0.49,\n",
       " -0.5,\n",
       " -0.51,\n",
       " -0.52,\n",
       " -0.53,\n",
       " -0.54,\n",
       " -0.55,\n",
       " -0.56,\n",
       " -0.5700000000000001,\n",
       " -0.5800000000000001,\n",
       " -0.5900000000000001,\n",
       " -0.6000000000000001,\n",
       " -0.6100000000000001,\n",
       " -0.62,\n",
       " -0.63,\n",
       " -0.64,\n",
       " -0.65,\n",
       " -0.66,\n",
       " -0.67,\n",
       " -0.68,\n",
       " -0.6900000000000001,\n",
       " -0.7000000000000001,\n",
       " -0.7100000000000001,\n",
       " -0.7200000000000001,\n",
       " -0.7300000000000001,\n",
       " -0.74,\n",
       " -0.75,\n",
       " -0.76,\n",
       " -0.77,\n",
       " -0.78,\n",
       " -0.79,\n",
       " -0.8,\n",
       " -0.81,\n",
       " -0.8200000000000001,\n",
       " -0.8300000000000001,\n",
       " -0.8400000000000001,\n",
       " -0.8500000000000001,\n",
       " -0.8600000000000001,\n",
       " -0.87,\n",
       " -0.88,\n",
       " -0.89,\n",
       " -0.9,\n",
       " -0.91,\n",
       " -0.92,\n",
       " -0.89875]"
      ]
     },
     "execution_count": 9,
     "metadata": {},
     "output_type": "execute_result"
    }
   ],
   "source": [
    "env._rewards"
   ]
  },
  {
   "cell_type": "code",
   "execution_count": null,
   "id": "e84381c9",
   "metadata": {},
   "outputs": [],
   "source": []
  }
 ],
 "metadata": {
  "kernelspec": {
   "display_name": "Python 3",
   "language": "python",
   "name": "python3"
  },
  "language_info": {
   "codemirror_mode": {
    "name": "ipython",
    "version": 3
   },
   "file_extension": ".py",
   "mimetype": "text/x-python",
   "name": "python",
   "nbconvert_exporter": "python",
   "pygments_lexer": "ipython3",
   "version": "3.8.8"
  }
 },
 "nbformat": 4,
 "nbformat_minor": 5
}
