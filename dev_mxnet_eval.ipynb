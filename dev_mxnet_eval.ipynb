{
 "cells": [
  {
   "cell_type": "code",
   "execution_count": 1,
   "id": "e004e7ef",
   "metadata": {},
   "outputs": [
    {
     "name": "stderr",
     "output_type": "stream",
     "text": [
      "/home/seventheli/.local/lib/python3.8/site-packages/gluoncv/__init__.py:40: UserWarning: Both `mxnet==1.9.0` and `torch==1.10.0+cu113` are installed. You might encounter increased GPU memory footprint if both framework are used at the same time.\n",
      "  warnings.warn(f'Both `mxnet=={mx.__version__}` and `torch=={torch.__version__}` are installed. '\n"
     ]
    }
   ],
   "source": [
    "import os\n",
    "import pandas as pd\n",
    "import numpy as np\n",
    "import mxnet as mx\n",
    "from utils import check_dir\n",
    "from memory import Memory\n",
    "from utils import create_input, translate_state\n",
    "from evaluation_mxnet import evaluate\n",
    "from mxnet import gluon, nd, autograd\n",
    "from environments.SimpleEnv import SimpleEnv\n",
    "from model.simple_stack import SimpleStack\n",
    "from PIL import Image"
   ]
  },
  {
   "cell_type": "code",
   "execution_count": 2,
   "id": "b9be0b1f",
   "metadata": {},
   "outputs": [],
   "source": [
    "agent_view = 5\n",
    "map_size = 20\n",
    "rounds = 5\n",
    "ctx = mx.cpu()\n",
    "env = SimpleEnv(display=False, agent_view=agent_view, map_size=map_size)\n",
    "model = SimpleStack()\n",
    "model.load_parameters(\"./model_save/model_test.params\", ctx)\n",
    "save = \"./data_save/\"\n",
    "print_action=False"
   ]
  },
  {
   "cell_type": "code",
   "execution_count": 3,
   "id": "d15154d5",
   "metadata": {},
   "outputs": [],
   "source": [
    "for i in os.listdir(save):\n",
    "    os.remove(save + i) "
   ]
  },
  {
   "cell_type": "code",
   "execution_count": 4,
   "id": "800770b1",
   "metadata": {},
   "outputs": [],
   "source": [
    "avg_extrinsic_reward = []\n",
    "avg_reward_rate = []\n",
    "all_actons = []"
   ]
  },
  {
   "cell_type": "code",
   "execution_count": 5,
   "id": "95ab8beb",
   "metadata": {},
   "outputs": [],
   "source": [
    "for epoch in range(rounds):\n",
    "    env.reset_env()\n",
    "    done = 0\n",
    "    step = 0\n",
    "    while not done:\n",
    "        step += 1\n",
    "        data = create_input([translate_state(env.map.state())])\n",
    "        data = [nd.array(i, ctx=ctx) for i in data]\n",
    "        pred = model(data)\n",
    "        action = int(nd.argmax(pred, axis=1).asnumpy()[0])\n",
    "        action = int(nd.argmax(pred, axis=1).asnumpy()[0])\n",
    "        all_actons.append(action)\n",
    "        old, new, reward, done = env.step(action)\n",
    "        if print_action:\n",
    "            print(pred, reward, env.map.battery)\n",
    "        if save is not None:\n",
    "            img = Image.fromarray(env.map.grid.render(10,env.map.agent_pos,env.map.agent_dir), 'RGB')\n",
    "            pred = [str(x)[0:5] for x in pred.asnumpy().tolist()[0]]\n",
    "            filename = str(epoch) + \"-\" + str(step) + \"-\" + str(reward) + \"-\" + \"_\".join(pred) + \".jpg\"\n",
    "            img.save(save + \"/\" + filename)\n",
    "    avg_reward_rate.append(env._rewards[-1] / sum([abs(i) for i in env._rewards]))\n",
    "    avg_extrinsic_reward.append(env.map._extrinsic_reward())"
   ]
  },
  {
   "cell_type": "code",
   "execution_count": 6,
   "id": "26ba8650",
   "metadata": {},
   "outputs": [
    {
     "data": {
      "text/plain": [
       "1    459\n",
       "0     41\n",
       "Name: 0, dtype: int64"
      ]
     },
     "execution_count": 6,
     "metadata": {},
     "output_type": "execute_result"
    }
   ],
   "source": [
    "pd.DataFrame(all_actons)[0].value_counts()"
   ]
  },
  {
   "cell_type": "code",
   "execution_count": 7,
   "id": "4bbd1ae7",
   "metadata": {},
   "outputs": [
    {
     "data": {
      "text/plain": [
       "(0.015384615384615385, -0.01899774787165276)"
      ]
     },
     "execution_count": 7,
     "metadata": {},
     "output_type": "execute_result"
    }
   ],
   "source": [
    "np.mean(avg_extrinsic_reward), np.mean(avg_reward_rate)"
   ]
  },
  {
   "cell_type": "code",
   "execution_count": 8,
   "id": "1052b8c0",
   "metadata": {},
   "outputs": [],
   "source": [
    "import seaborn\n",
    "import tqdm"
   ]
  },
  {
   "cell_type": "code",
   "execution_count": 9,
   "id": "47d331d5",
   "metadata": {},
   "outputs": [
    {
     "name": "stderr",
     "output_type": "stream",
     "text": [
      "100%|██████████| 4/4 [00:00<00:00, 10936.91it/s]\n"
     ]
    },
    {
     "data": {
      "text/plain": [
       "<AxesSubplot:>"
      ]
     },
     "execution_count": 9,
     "metadata": {},
     "output_type": "execute_result"
    },
    {
     "data": {
      "image/png": "[encoded data removed]",
      "text/plain": [
       "<Figure size 432x288 with 1 Axes>"
      ]
     },
     "metadata": {
      "needs_background": "light"
     },
     "output_type": "display_data"
    }
   ],
   "source": [
    "y = []\n",
    "for i in tqdm.tqdm(range(1, len(env.detect_rate))):\n",
    "    y.append(np.mean(env.detect_rate[:i]))\n",
    "seaborn.lineplot(x=range(len(y)), y=y)"
   ]
  },
  {
   "cell_type": "code",
   "execution_count": 10,
   "id": "300506da",
   "metadata": {},
   "outputs": [
    {
     "name": "stderr",
     "output_type": "stream",
     "text": [
      "100%|██████████| 4/4 [00:00<00:00, 15477.14it/s]\n"
     ]
    },
    {
     "data": {
      "text/plain": [
       "<AxesSubplot:>"
      ]
     },
     "execution_count": 10,
     "metadata": {},
     "output_type": "execute_result"
    },
    {
     "data": {
      "image/png": "[encoded data removed]",
      "text/plain": [
       "<Figure size 432x288 with 1 Axes>"
      ]
     },
     "metadata": {
      "needs_background": "light"
     },
     "output_type": "display_data"
    }
   ],
   "source": [
    "y = []\n",
    "for i in tqdm.tqdm(range(1, len(env.rewards))):\n",
    "    y.append(np.mean(env.rewards[:i]))\n",
    "seaborn.lineplot(x=range(len(y)), y=y)"
   ]
  },
  {
   "cell_type": "code",
   "execution_count": 11,
   "id": "76c2f954",
   "metadata": {},
   "outputs": [
    {
     "data": {
      "text/plain": [
       "[-0.001,\n",
       " -0.001,\n",
       " -0.001,\n",
       " -0.001,\n",
       " -0.001,\n",
       " -0.001,\n",
       " -0.001,\n",
       " -0.001,\n",
       " -0.001,\n",
       " -0.001,\n",
       " -0.001,\n",
       " -0.001,\n",
       " -0.001,\n",
       " -0.001,\n",
       " -0.001,\n",
       " -0.001,\n",
       " -0.001,\n",
       " -0.003,\n",
       " -0.005,\n",
       " -0.007,\n",
       " -0.009000000000000001,\n",
       " -0.011,\n",
       " -0.013000000000000001,\n",
       " -0.015,\n",
       " -0.017,\n",
       " -0.019,\n",
       " -0.021,\n",
       " -0.023,\n",
       " -0.025,\n",
       " -0.027,\n",
       " -0.029,\n",
       " -0.031,\n",
       " -0.033,\n",
       " -0.035,\n",
       " -0.037,\n",
       " -0.039,\n",
       " -0.041,\n",
       " -0.043000000000000003,\n",
       " -0.045,\n",
       " -0.047,\n",
       " -0.049,\n",
       " -0.051000000000000004,\n",
       " -0.053,\n",
       " -0.055,\n",
       " -0.057,\n",
       " -0.059000000000000004,\n",
       " -0.061,\n",
       " -0.063,\n",
       " -0.065,\n",
       " -0.067,\n",
       " -0.069,\n",
       " -0.07100000000000001,\n",
       " -0.073,\n",
       " -0.075,\n",
       " -0.077,\n",
       " -0.079,\n",
       " -0.081,\n",
       " -0.083,\n",
       " -0.085,\n",
       " -0.087,\n",
       " -0.089,\n",
       " -0.091,\n",
       " -0.093,\n",
       " -0.095,\n",
       " -0.097,\n",
       " -0.099,\n",
       " -0.101,\n",
       " -0.103,\n",
       " -0.105,\n",
       " -0.107,\n",
       " -0.109,\n",
       " -0.111,\n",
       " -0.113,\n",
       " -0.115,\n",
       " -0.117,\n",
       " -0.119,\n",
       " -0.121,\n",
       " -0.123,\n",
       " -0.125,\n",
       " -0.127,\n",
       " -0.129,\n",
       " -0.131,\n",
       " -0.133,\n",
       " -0.135,\n",
       " -0.137,\n",
       " -0.139,\n",
       " -0.14100000000000001,\n",
       " -0.143,\n",
       " -0.145,\n",
       " -0.147,\n",
       " -0.149,\n",
       " -0.151,\n",
       " -0.153,\n",
       " -0.155,\n",
       " -0.157,\n",
       " -0.159,\n",
       " -0.161,\n",
       " -0.163,\n",
       " -0.165,\n",
       " -0.167]"
      ]
     },
     "execution_count": 11,
     "metadata": {},
     "output_type": "execute_result"
    }
   ],
   "source": [
    "env._rewards"
   ]
  },
  {
   "cell_type": "code",
   "execution_count": null,
   "id": "e84381c9",
   "metadata": {},
   "outputs": [],
   "source": []
  }
 ],
 "metadata": {
  "kernelspec": {
   "display_name": "Python 3",
   "language": "python",
   "name": "python3"
  },
  "language_info": {
   "codemirror_mode": {
    "name": "ipython",
    "version": 3
   },
   "file_extension": ".py",
   "mimetype": "text/x-python",
   "name": "python",
   "nbconvert_exporter": "python",
   "pygments_lexer": "ipython3",
   "version": "3.8.8"
  }
 },
 "nbformat": 4,
 "nbformat_minor": 5
}
