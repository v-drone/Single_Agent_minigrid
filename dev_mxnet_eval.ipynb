{
 "cells": [
  {
   "cell_type": "code",
   "execution_count": 1,
   "id": "e004e7ef",
   "metadata": {},
   "outputs": [
    {
     "name": "stderr",
     "output_type": "stream",
     "text": [
      "/home/seventheli/.local/lib/python3.8/site-packages/gluoncv/__init__.py:40: UserWarning: Both `mxnet==1.9.0` and `torch==1.10.0+cu113` are installed. You might encounter increased GPU memory footprint if both framework are used at the same time.\n",
      "  warnings.warn(f'Both `mxnet=={mx.__version__}` and `torch=={torch.__version__}` are installed. '\n"
     ]
    }
   ],
   "source": [
    "import os\n",
    "import pandas as pd\n",
    "import numpy as np\n",
    "import mxnet as mx\n",
    "from utils import check_dir\n",
    "from memory import Memory\n",
    "from utils import create_input, translate_state\n",
    "from evaluation_mxnet import evaluate\n",
    "from mxnet import gluon, nd, autograd\n",
    "from environments.SimpleEnv import SimpleEnv\n",
    "from model.simple_stack import SimpleStack\n",
    "from PIL import Image"
   ]
  },
  {
   "cell_type": "code",
   "execution_count": 2,
   "id": "b9be0b1f",
   "metadata": {},
   "outputs": [],
   "source": [
    "agent_view = 5\n",
    "map_size = 20\n",
    "rounds = 5\n",
    "ctx = mx.cpu()\n",
    "env = SimpleEnv(display=False, agent_view=agent_view, map_size=map_size)\n",
    "model = SimpleStack()\n",
    "model.load_parameters(\"./model_save/model_test.params.best\", ctx)\n",
    "save = \"./data_save/\"\n",
    "print_action=False"
   ]
  },
  {
   "cell_type": "code",
   "execution_count": 3,
   "id": "d15154d5",
   "metadata": {},
   "outputs": [],
   "source": [
    "for i in os.listdir(save):\n",
    "    os.remove(save + i) "
   ]
  },
  {
   "cell_type": "code",
   "execution_count": 4,
   "id": "800770b1",
   "metadata": {},
   "outputs": [],
   "source": [
    "avg_extrinsic_reward = []\n",
    "avg_reward_rate = []\n",
    "all_actons = []"
   ]
  },
  {
   "cell_type": "code",
   "execution_count": 5,
   "id": "95ab8beb",
   "metadata": {},
   "outputs": [],
   "source": [
    "for epoch in range(rounds):\n",
    "    env.reset_env()\n",
    "    done = 0\n",
    "    step = 0\n",
    "    while not done:\n",
    "        step += 1\n",
    "        data = create_input([translate_state(env.map.state())])\n",
    "        data = [nd.array(i, ctx=ctx) for i in data]\n",
    "        hidden = model.random_state(1, ctx)\n",
    "        pred, hidden = model(data, hidden)\n",
    "        action = int(nd.argmax(pred, axis=1).asnumpy()[0])\n",
    "        action = int(nd.argmax(pred, axis=1).asnumpy()[0])\n",
    "        all_actons.append(action)\n",
    "        old, new, reward, done = env.step(action)\n",
    "        if print_action:\n",
    "            print(pred, reward, env.map.battery)\n",
    "        if save is not None:\n",
    "            img = Image.fromarray(env.map.grid.render(10,env.map.agent_pos,env.map.agent_dir), 'RGB')\n",
    "            pred = [str(x)[0:5] for x in pred.asnumpy().tolist()[0]]\n",
    "            filename = str(epoch) + \"-\" + str(step) + \"-\" + str(reward) + \"-\" + \"_\".join(pred) + \".jpg\"\n",
    "            img.save(save + \"/\" + filename)\n",
    "    avg_reward_rate.append(env._rewards[-1] / sum([abs(i) for i in env._rewards]))\n",
    "    avg_extrinsic_reward.append(env.map._extrinsic_reward())"
   ]
  },
  {
   "cell_type": "code",
   "execution_count": 6,
   "id": "26ba8650",
   "metadata": {},
   "outputs": [
    {
     "data": {
      "text/plain": [
       "1    211\n",
       "0    162\n",
       "2    127\n",
       "Name: 0, dtype: int64"
      ]
     },
     "execution_count": 6,
     "metadata": {},
     "output_type": "execute_result"
    }
   ],
   "source": [
    "pd.DataFrame(all_actons)[0].value_counts()"
   ]
  },
  {
   "cell_type": "code",
   "execution_count": 7,
   "id": "4bbd1ae7",
   "metadata": {},
   "outputs": [
    {
     "data": {
      "text/plain": [
       "(0.2239819004524887, 0.2297646998165821)"
      ]
     },
     "execution_count": 7,
     "metadata": {},
     "output_type": "execute_result"
    }
   ],
   "source": [
    "np.mean(avg_extrinsic_reward), np.mean(avg_reward_rate)"
   ]
  },
  {
   "cell_type": "code",
   "execution_count": 8,
   "id": "1052b8c0",
   "metadata": {},
   "outputs": [],
   "source": [
    "import seaborn\n",
    "import tqdm"
   ]
  },
  {
   "cell_type": "code",
   "execution_count": 9,
   "id": "47d331d5",
   "metadata": {},
   "outputs": [
    {
     "name": "stderr",
     "output_type": "stream",
     "text": [
      "100%|██████████| 4/4 [00:00<00:00, 4017.53it/s]\n"
     ]
    },
    {
     "data": {
      "text/plain": [
       "<AxesSubplot:>"
      ]
     },
     "execution_count": 9,
     "metadata": {},
     "output_type": "execute_result"
    },
    {
     "data": {
      "image/png": "[encoded data removed]",
      "text/plain": [
       "<Figure size 432x288 with 1 Axes>"
      ]
     },
     "metadata": {
      "needs_background": "light"
     },
     "output_type": "display_data"
    }
   ],
   "source": [
    "y = []\n",
    "for i in tqdm.tqdm(range(1, len(env.detect_rate))):\n",
    "    y.append(np.mean(env.detect_rate[:i]))\n",
    "seaborn.lineplot(x=range(len(y)), y=y)"
   ]
  },
  {
   "cell_type": "code",
   "execution_count": 10,
   "id": "300506da",
   "metadata": {},
   "outputs": [
    {
     "name": "stderr",
     "output_type": "stream",
     "text": [
      "100%|██████████| 4/4 [00:00<00:00, 9805.50it/s]\n"
     ]
    },
    {
     "data": {
      "text/plain": [
       "<AxesSubplot:>"
      ]
     },
     "execution_count": 10,
     "metadata": {},
     "output_type": "execute_result"
    },
    {
     "data": {
      "image/png": "[encoded data removed]",
      "text/plain": [
       "<Figure size 432x288 with 1 Axes>"
      ]
     },
     "metadata": {
      "needs_background": "light"
     },
     "output_type": "display_data"
    }
   ],
   "source": [
    "y = []\n",
    "for i in tqdm.tqdm(range(1, len(env.rewards))):\n",
    "    y.append(np.mean(env.rewards[:i]))\n",
    "seaborn.lineplot(x=range(len(y)), y=y)"
   ]
  },
  {
   "cell_type": "code",
   "execution_count": 11,
   "id": "76c2f954",
   "metadata": {},
   "outputs": [
    {
     "data": {
      "text/plain": [
       "[-0.003,\n",
       " -0.005,\n",
       " -0.007,\n",
       " -0.009000000000000001,\n",
       " -0.001,\n",
       " -0.003,\n",
       " -0.001,\n",
       " -0.003,\n",
       " -0.005,\n",
       " -0.007,\n",
       " -0.001,\n",
       " -0.003,\n",
       " -0.005,\n",
       " -0.001,\n",
       " -0.003,\n",
       " -0.001,\n",
       " -0.003,\n",
       " -0.001,\n",
       " -0.003,\n",
       " -0.001,\n",
       " -0.003,\n",
       " -0.005,\n",
       " -0.007,\n",
       " -0.009000000000000001,\n",
       " -0.011,\n",
       " -0.001,\n",
       " -0.003,\n",
       " -0.005,\n",
       " -0.001,\n",
       " -0.003,\n",
       " -0.001,\n",
       " -0.001,\n",
       " -0.003,\n",
       " -0.001,\n",
       " -0.003,\n",
       " -0.005,\n",
       " -0.001,\n",
       " -0.003,\n",
       " -0.001,\n",
       " -0.003,\n",
       " -0.005,\n",
       " -0.001,\n",
       " -0.001,\n",
       " -0.003,\n",
       " -0.005,\n",
       " -0.001,\n",
       " -0.003,\n",
       " -0.005,\n",
       " -0.001,\n",
       " -0.003,\n",
       " -0.005,\n",
       " -0.007,\n",
       " -0.009000000000000001,\n",
       " -0.001,\n",
       " -0.001,\n",
       " -0.003,\n",
       " -0.005,\n",
       " -0.007,\n",
       " -0.009000000000000001,\n",
       " -0.011,\n",
       " -0.013000000000000001,\n",
       " -0.015,\n",
       " -0.017,\n",
       " -0.019,\n",
       " -0.001,\n",
       " -0.003,\n",
       " -0.001,\n",
       " -0.001,\n",
       " -0.003,\n",
       " -0.005,\n",
       " -0.007,\n",
       " -0.009000000000000001,\n",
       " -0.011,\n",
       " -0.013000000000000001,\n",
       " -0.015,\n",
       " -0.001,\n",
       " -0.003,\n",
       " -0.005,\n",
       " -0.007,\n",
       " -0.009000000000000001,\n",
       " -0.011,\n",
       " -0.013000000000000001,\n",
       " -0.015,\n",
       " -0.017,\n",
       " -0.001,\n",
       " -0.001,\n",
       " -0.003,\n",
       " -0.005,\n",
       " -0.007,\n",
       " -0.001,\n",
       " -0.001,\n",
       " -0.003,\n",
       " -0.005,\n",
       " -0.007,\n",
       " -0.009000000000000001,\n",
       " -0.011,\n",
       " -0.001,\n",
       " -0.003,\n",
       " -0.005,\n",
       " -0.007]"
      ]
     },
     "execution_count": 11,
     "metadata": {},
     "output_type": "execute_result"
    }
   ],
   "source": [
    "env._rewards"
   ]
  },
  {
   "cell_type": "code",
   "execution_count": null,
   "id": "e84381c9",
   "metadata": {},
   "outputs": [],
   "source": []
  }
 ],
 "metadata": {
  "kernelspec": {
   "display_name": "Python 3",
   "language": "python",
   "name": "python3"
  },
  "language_info": {
   "codemirror_mode": {
    "name": "ipython",
    "version": 3
   },
   "file_extension": ".py",
   "mimetype": "text/x-python",
   "name": "python",
   "nbconvert_exporter": "python",
   "pygments_lexer": "ipython3",
   "version": "3.8.8"
  }
 },
 "nbformat": 4,
 "nbformat_minor": 5
}
